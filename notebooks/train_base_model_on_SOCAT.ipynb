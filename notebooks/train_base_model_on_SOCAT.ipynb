{
 "cells": [
  {
   "cell_type": "markdown",
   "id": "c61fc216-3068-4b66-8db9-bf4ecdaf1a47",
   "metadata": {},
   "source": [
    "#### Load necessary packages"
   ]
  },
  {
   "cell_type": "code",
   "execution_count": 1,
   "id": "f4602702-c7e7-4113-b66a-05bb086276d6",
   "metadata": {},
   "outputs": [],
   "source": [
    "import os\n",
    "import sys\n",
    "sys.path.insert(0,'../../mocsy')"
   ]
  },
  {
   "cell_type": "code",
   "execution_count": 2,
   "id": "98506a5e-a778-479d-a929-11b5ee8348dd",
   "metadata": {},
   "outputs": [],
   "source": [
    "import numpy as np\n",
    "import xarray as xr\n",
    "import pandas as pd\n",
    "from tqdm import tqdm\n",
    "import pickle \n",
    "import random\n",
    "import matplotlib.pyplot as plt\n",
    "from scipy import stats\n",
    "\n",
    "import mocsy\n",
    "from mocsy import mvars\n",
    "from mocsy import mrhoinsitu\n",
    "from mocsy import mrho"
   ]
  },
  {
   "cell_type": "code",
   "execution_count": 3,
   "id": "7040edad-9ecb-4263-b4aa-6c8d7092e5dc",
   "metadata": {},
   "outputs": [],
   "source": [
    "import torch\n",
    "import torch.nn as nn\n",
    "import torch.optim as optim\n",
    "import torch.nn.functional as F"
   ]
  },
  {
   "cell_type": "markdown",
   "id": "821d1bdd-e438-434d-90cf-f5ac0c5526c9",
   "metadata": {},
   "source": [
    "# Training data"
   ]
  },
  {
   "cell_type": "markdown",
   "id": "15f3727c-8384-4dd4-b17c-1f53ace14d4a",
   "metadata": {},
   "source": [
    "#### Read in the observational data"
   ]
  },
  {
   "cell_type": "code",
   "execution_count": 4,
   "id": "8cce78a4-688c-4833-868f-3f3bfa6ca3df",
   "metadata": {},
   "outputs": [
    {
     "name": "stdout",
     "output_type": "stream",
     "text": [
      "for tos, use the ESA CCI and C3S product until October 2022, then Armor3D for November and December\n",
      "for siconc, use the ESA CCI and C3S product until October 2022, then METOFFICE Ostia for November and December\n",
      "for chlos, use the climatological mean value before September 1997\n",
      "for co2, use a global representative value, given by the annual average measurement from Manua Loa, Hawaii\n"
     ]
    }
   ],
   "source": [
    "print(\"for tos, use the ESA CCI and C3S product until October 2022, then Armor3D for November and December\")\n",
    "print(\"for siconc, use the ESA CCI and C3S product until October 2022, then METOFFICE Ostia for November and December\")\n",
    "print(\"for chlos, use the climatological mean value before September 1997\")\n",
    "print(\"for co2, use a global representative value, given by the annual average measurement from Manua Loa, Hawaii\")\n",
    "ds_cci = xr.open_dataset(\"../data/ESACCI_and_C3S-GLO-SST-L4-REP-OBS-SST_multi-vars_1x1grid_1982-01-01-2022-10-31_monmean.nc\"\n",
    "                    ).sel(time=slice('1993-01-01', '2022-10-31'))\n",
    "ds_ostia = xr.open_dataset(\"../data/METOFFICE-GLO-SST-L4-NRT-OBS-SST-V2_multi-vars_1x1grid_2022-11-01-2022-12-31_monmean.nc\")\n",
    "ds_armor = xr.open_dataset(\"../data/dataset-armor-3d-rep-monthly_multi-vars_1x1grid_coarsened_0.00m_1993-01-01-2022-12-01.nc\")\n",
    "ds_ssh = xr.open_dataset(\n",
    "     \"../data/cmems_obs-sl_glo_phy-ssh_my_allsat-l4-duacs-0.25deg_P1D_adt_1x1grid_coarsened_1993-01-01-2022-12-31_monmean.nc\")\n",
    "ds_globcol = xr.open_dataset(\"../data/cmems_obs-oc_glo_bgc-plankton_my_l4-multi-4km_P1M_multi-vars_1x1grid_1997-09-01-2022-12-01.nc\")\n",
    "ds_globcol_clim = xr.open_dataset(\n",
    "    \"../data/cmems_obs-oc_glo_bgc-plankton_my_l4-multi-4km_P1M_multi-vars_1x1grid_1997-09-01-2022-12-01_ymonmean.nc\")\n",
    "\n",
    "df_co2 = pd.read_csv(\"../data/monthly_in_situ_co2_mlo_no_header.csv\")\n",
    "ds_era5 = xr.open_dataset(\"../data/era5_winds_1993_2022_1x1grid.nc\")\n",
    "ds_socat = xr.open_dataset(\"../data/SOCATv2023_tracks_gridded_monthly.nc\").sel(tmnth=slice('1993-01-01', '2022-12-31'))\n",
    "\n",
    "seamask = xr.open_dataset(\"../data/RECCAP2_region_masks_all_v20221025.nc\").seamask\n",
    "seamask_rolled = np.repeat(np.roll(seamask.values, shift=-180, axis=1)[np.newaxis, :, :], 360, axis=0)"
   ]
  },
  {
   "cell_type": "code",
   "execution_count": 5,
   "id": "011af99c-93a0-4590-84e1-1c4c57fee0ff",
   "metadata": {},
   "outputs": [],
   "source": [
    "data = {}\n",
    "\n",
    "data[\"tos\"] = np.concatenate([ds_cci.analysed_sst.values - 273.15, # ESA CCI and C3S is in Kelvin units\n",
    "                      ds_armor.to.squeeze().values[-2:, :, :]], axis=0)\n",
    "\n",
    "data[\"tos\"][seamask_rolled == 0] = np.nan\n",
    "\n",
    "data[\"siconc\"] = np.concatenate([ds_cci.sea_ice_fraction.values,\n",
    "                         ds_ostia.sea_ice_fraction.values], axis=0) * 100\n",
    "# to have concentration in range 0 100, as in models\n",
    "data[\"siconc\"][seamask_rolled == 0] = np.nan\n",
    "\n",
    "\n",
    "data[\"sos\"] = ds_armor.so.squeeze().values\n",
    "#Remove samples with sos < 10, since these were also removed during training of CMIP6 base model\"\n",
    "data[\"sos\"][data[\"sos\"] < 10] = np.nan\n",
    "data[\"sos\"][seamask_rolled == 0] = np.nan\n",
    "\n",
    "data[\"mlotst\"] = ds_armor.mlotst.squeeze().values\n",
    "data[\"mlotst\"][seamask_rolled == 0] = np.nan\n",
    "\n",
    "data[\"zos\"] = ds_ssh.adt.squeeze().values\n",
    "data[\"zos\"][seamask_rolled == 0] = np.nan\n",
    "\n",
    "data[\"chlos\"] = np.concatenate([np.concatenate([ds_globcol_clim.CHL.values for i in range(5)],\n",
    "                                                  axis=0)[:-4, :, :], ds_globcol.CHL.values], axis=0) * 1e-6\n",
    "# to go from mg m-3 to kg m-3 \n",
    "#data[\"chlos\"][np.logical_and(np.isnan(data[\"chlos\"]), np.isfinite(data[\"tos\"]))] = 0\n",
    "data[\"chlos\"][seamask_rolled == 0] = np.nan\n",
    "\n",
    "df_co2_yearmean = df_co2[['  Yr', '     CO2']].groupby('  Yr').mean()\n",
    "co2_scalar = df_co2_yearmean.loc[1993:2022]['     CO2'].values\n",
    "data[\"co2\"] = np.concatenate([co2_year * np.ones((12, 180, 360)) for co2_year in co2_scalar], axis=0)\n",
    "\n",
    "data[\"uas\"] = ds_era5.u10.values\n",
    "data[\"vas\"] = ds_era5.v10.values\n",
    "\n",
    "data[\"fco2\"] = ds_socat.fco2_ave_weighted.values"
   ]
  },
  {
   "cell_type": "code",
   "execution_count": 6,
   "id": "673c4e47-392c-430b-8ef5-752fb3c899fc",
   "metadata": {},
   "outputs": [],
   "source": [
    "data[\"lat\"] = np.repeat(np.repeat(np.arange(-89.5, 90)[np.newaxis, :],\n",
    "                         360, axis=0)[:, :, np.newaxis], 360, axis=2)\n",
    "\n",
    "data[\"lon\"] = np.repeat(np.repeat(np.arange(-179.5, 180)[np.newaxis, :],\n",
    "                         180, axis=0)[np.newaxis, :, :], 360, axis=0)\n",
    "data[\"mon\"] = np.repeat(np.repeat(np.array([i % 12 for i in range(360)])[:, np.newaxis],\n",
    "                          180, axis=1)[:, :, np.newaxis], 360, axis=2)"
   ]
  },
  {
   "cell_type": "code",
   "execution_count": 7,
   "id": "901e758a-89b1-48cd-ad44-79aff34902fa",
   "metadata": {},
   "outputs": [
    {
     "name": "stdout",
     "output_type": "stream",
     "text": [
      "Number of non-nan grid cells for tos: 15058446\n",
      "Number of non-nan grid cells for siconc: 15058440\n",
      "Number of non-nan grid cells for sos: 15053204\n",
      "Number of non-nan grid cells for mlotst: 14983581\n",
      "Number of non-nan grid cells for zos: 13209876\n",
      "Number of non-nan grid cells for chlos: 12450247\n",
      "Number of non-nan grid cells for co2: 23328000\n",
      "Number of non-nan grid cells for uas: 23328000\n",
      "Number of non-nan grid cells for vas: 23328000\n",
      "Number of non-nan grid cells for lat: 23328000\n",
      "Number of non-nan grid cells for lon: 23328000\n",
      "Number of non-nan grid cells for mon: 23328000\n"
     ]
    }
   ],
   "source": [
    "predictors = [\"tos\", \"siconc\", \"sos\", \"mlotst\", \"zos\", \"chlos\", \"co2\",\n",
    "              \"uas\", \"vas\", \"lat\", \"lon\", \"mon\"]\n",
    "for predictor in predictors:\n",
    "    print(\"Number of non-nan grid cells for {}: {}\". format(\n",
    "        predictor, np.sum(np.isfinite(data[predictor]))\n",
    "    ))"
   ]
  },
  {
   "cell_type": "code",
   "execution_count": 8,
   "id": "35d44b4e-96dd-481a-9b68-2330f5d1bbea",
   "metadata": {},
   "outputs": [
    {
     "name": "stdout",
     "output_type": "stream",
     "text": [
      "Minimum and maximum for tos: -2.11e+00, 3.31e+01\n",
      "Minimum and maximum for siconc: 0.00e+00, 1.00e+02\n",
      "Minimum and maximum for sos: 1.00e+01, 3.98e+01\n",
      "Minimum and maximum for mlotst: 1.01e+01, 2.14e+03\n",
      "Minimum and maximum for zos: -1.57e+00, 2.20e+00\n",
      "Minimum and maximum for chlos: 1.06e-08, 4.94e-05\n",
      "Minimum and maximum for co2: 3.57e+02, 4.18e+02\n",
      "Minimum and maximum for uas: -1.75e+01, 1.42e+01\n",
      "Minimum and maximum for vas: -1.58e+01, 2.01e+01\n",
      "Minimum and maximum for lat: -8.95e+01, 8.95e+01\n",
      "Minimum and maximum for lon: -1.80e+02, 1.80e+02\n",
      "Minimum and maximum for mon: 0.00e+00, 1.10e+01\n"
     ]
    }
   ],
   "source": [
    "for predictor in predictors:\n",
    "    print(\"Minimum and maximum for {}: {:.2e}, {:.2e}\". format(\n",
    "        predictor, np.nanmin(data[predictor]), np.nanmax(data[predictor])\n",
    "    ))"
   ]
  },
  {
   "cell_type": "code",
   "execution_count": 9,
   "id": "8f2037db-b302-4c26-a2cd-511412075adc",
   "metadata": {},
   "outputs": [
    {
     "name": "stdout",
     "output_type": "stream",
     "text": [
      "Number of non-nan grid cells for fCO2: 341467\n"
     ]
    }
   ],
   "source": [
    "print(\"Number of non-nan grid cells for fCO2: {}\". format(\n",
    "    np.sum(np.isfinite(data[\"fco2\"]))\n",
    "    ))"
   ]
  },
  {
   "cell_type": "code",
   "execution_count": 10,
   "id": "f8cce77a-bc1c-4971-a2de-2d67dc56cb41",
   "metadata": {},
   "outputs": [
    {
     "name": "stdout",
     "output_type": "stream",
     "text": [
      "Minimum and maximum for fCO2: 4.45e+01, 4.31e+03\n"
     ]
    }
   ],
   "source": [
    "print(\"Minimum and maximum for fCO2: {:.2e}, {:.2e}\". format(\n",
    "    np.nanmin(data[\"fco2\"]), np.nanmax(data[\"fco2\"])\n",
    "))"
   ]
  },
  {
   "cell_type": "markdown",
   "id": "855f0137-bd68-4a77-9e74-bac8c9d719fc",
   "metadata": {},
   "source": [
    "#### Creation of training data"
   ]
  },
  {
   "cell_type": "code",
   "execution_count": 11,
   "id": "136cdc35-6605-46d8-9567-e2ecb015f798",
   "metadata": {},
   "outputs": [
    {
     "name": "stdout",
     "output_type": "stream",
     "text": [
      "Number of SOCAT samples: 341467\n",
      "Number of SOCAT samples where all predictors available: 311440 (91.2 %)\n"
     ]
    }
   ],
   "source": [
    "print(\"Number of SOCAT samples: {}\".format(np.sum(np.isfinite(data[\"fco2\"]))))\n",
    "# check how many grid cells have non-nan values in socat fco2 and all predictor fields\n",
    "# (some predictors left out because they have no missing values)\n",
    "is_socat_training_sample = np.isfinite(data[\"fco2\"] * data[\"siconc\"] * data[\"tos\"] * data[\"sos\"]\n",
    "                                       * data[\"mlotst\"] * data[\"zos\"] * data[\"chlos\"])\n",
    "print(\"Number of SOCAT samples where all predictors available: {} ({:.1f} %)\".format(\n",
    "    np.sum(is_socat_training_sample),\n",
    "    100 * np.sum(is_socat_training_sample) / np.sum(np.isfinite(data[\"fco2\"]))))\n",
    "\n",
    "data_socat = {}\n",
    "for key in [\"fco2\"] + predictors:\n",
    "    data_socat[key] = data[key][is_socat_training_sample]"
   ]
  },
  {
   "cell_type": "markdown",
   "id": "9149fe10-7370-48cd-8bf5-0d970456a711",
   "metadata": {},
   "source": [
    "# Preprocessing of data for training"
   ]
  },
  {
   "cell_type": "markdown",
   "id": "849bf759-7f40-40aa-9782-a2d142cdec8a",
   "metadata": {},
   "source": [
    "#### Transform mon to mon_sin and mon_cos"
   ]
  },
  {
   "cell_type": "code",
   "execution_count": 12,
   "id": "e8612e5f-08c8-4f26-9cfc-34ebe569d791",
   "metadata": {},
   "outputs": [],
   "source": [
    "data_socat[\"mon_sin\"] = np.sin(data_socat[\"mon\"] / 12 * 2 * np.pi)\n",
    "data_socat[\"mon_cos\"] = np.cos(data_socat[\"mon\"] / 12 * 2 * np.pi)\n",
    "del data_socat[\"mon\"]"
   ]
  },
  {
   "cell_type": "markdown",
   "id": "6679ae25-8c34-4ed8-a861-94c2728658a1",
   "metadata": {},
   "source": [
    "#### Transform lat and lon\n",
    "\n",
    "Following Gade et al., 2010: A Non-singular Horizontal Position Representation"
   ]
  },
  {
   "cell_type": "code",
   "execution_count": 13,
   "id": "4152dfc1-e8ba-4975-b0d8-70dd07eef621",
   "metadata": {},
   "outputs": [],
   "source": [
    "data_socat[\"nvector1\"] = np.sin(data_socat[\"lat\"] / 360 * 2 * np.pi)\n",
    "data_socat[\"nvector2\"] = np.sin(data_socat[\"lon\"] / 360 * 2 * np.pi)\\\n",
    "    * np.cos(data_socat[\"lat\"] / 360 * 2 * np.pi)\n",
    "data_socat[\"nvector3\"] = - np.cos(data_socat[\"lon\"] / 360 * 2 * np.pi)\\\n",
    "    * np.cos(data_socat[\"lat\"] / 360 * 2 * np.pi)\n",
    "del data_socat[\"lon\"]\n",
    "del data_socat[\"lat\"]"
   ]
  },
  {
   "cell_type": "markdown",
   "id": "0ee75728-16ca-4d66-a593-20bce2359edb",
   "metadata": {},
   "source": [
    "#### Log-transform mlotst and chlos"
   ]
  },
  {
   "cell_type": "code",
   "execution_count": 14,
   "id": "aecad3f6-b287-4b37-8296-7b1f9379cd57",
   "metadata": {},
   "outputs": [],
   "source": [
    "def normalize(array):\n",
    "    return (array - np.mean(array)) / np.std(array)"
   ]
  },
  {
   "cell_type": "code",
   "execution_count": 15,
   "id": "5088a280-8c9a-46a2-90d6-afe260aba9c5",
   "metadata": {},
   "outputs": [
    {
     "name": "stdout",
     "output_type": "stream",
     "text": [
      "mlotst statistic:  0.23653021181947087\n",
      "mlotst statistic with log transform:  0.05216682639068482\n"
     ]
    }
   ],
   "source": [
    "print(\"mlotst statistic: \",\n",
    "      stats.kstest(normalize(data_socat[\"mlotst\"]), stats.norm.cdf)[0])\n",
    "print(\"mlotst statistic with log transform: \",\n",
    "      stats.kstest(normalize(np.log(data_socat[\"mlotst\"])), stats.norm.cdf)[0])"
   ]
  },
  {
   "cell_type": "code",
   "execution_count": 16,
   "id": "243f6802-b52a-429c-960b-5b70f44e3ae9",
   "metadata": {},
   "outputs": [
    {
     "name": "stdout",
     "output_type": "stream",
     "text": [
      "mlotst statistic:  0.28406905399619975\n",
      "mlotst statistic with log transform:  0.04376417813484801\n"
     ]
    }
   ],
   "source": [
    "print(\"mlotst statistic: \",\n",
    "      stats.kstest(normalize(data_socat[\"chlos\"]), stats.norm.cdf)[0])\n",
    "print(\"mlotst statistic with log transform: \",\n",
    "      stats.kstest(normalize(np.log(data_socat[\"chlos\"])), stats.norm.cdf)[0])"
   ]
  },
  {
   "cell_type": "code",
   "execution_count": 17,
   "id": "4130fd92-345d-4703-b769-64592c5cf5e8",
   "metadata": {},
   "outputs": [
    {
     "data": {
      "text/plain": [
       "Text(0.5, 1.0, 'mlotst')"
      ]
     },
     "execution_count": 17,
     "metadata": {},
     "output_type": "execute_result"
    },
    {
     "data": {
      "image/png": "[encoded data removed]",
      "text/plain": [
       "<Figure size 640x480 with 1 Axes>"
      ]
     },
     "metadata": {},
     "output_type": "display_data"
    }
   ],
   "source": [
    "plt.hist(normalize(data_socat[\"mlotst\"]), 100, density=True, facecolor='blue', alpha=0.5);\n",
    "plt.hist(normalize(np.log(data_socat[\"mlotst\"])), 100, density=True, facecolor='green', alpha=0.5);\n",
    "plt.title(\"mlotst\")"
   ]
  },
  {
   "cell_type": "code",
   "execution_count": 18,
   "id": "c90fa223-25af-4061-802a-ac8848fd0a9b",
   "metadata": {},
   "outputs": [
    {
     "data": {
      "text/plain": [
       "Text(0.5, 1.0, 'chlos')"
      ]
     },
     "execution_count": 18,
     "metadata": {},
     "output_type": "execute_result"
    },
    {
     "data": {
      "image/png": "[encoded data removed]",
      "text/plain": [
       "<Figure size 640x480 with 1 Axes>"
      ]
     },
     "metadata": {},
     "output_type": "display_data"
    }
   ],
   "source": [
    "plt.hist(normalize(data_socat[\"chlos\"]), 100, density=True, facecolor='blue', alpha=0.5);\n",
    "plt.hist(normalize(np.log(data_socat[\"chlos\"])), 100, density=True, facecolor='green', alpha=0.5);\n",
    "plt.title(\"chlos\")"
   ]
  },
  {
   "cell_type": "code",
   "execution_count": 19,
   "id": "d4d20e19-714d-47e8-adaf-8137a3a546fa",
   "metadata": {},
   "outputs": [],
   "source": [
    "data_socat[\"mlotst\"] = np.log(data_socat[\"mlotst\"])\n",
    "data_socat[\"chlos\"] = np.log(data_socat[\"chlos\"])"
   ]
  },
  {
   "cell_type": "markdown",
   "id": "8bb280ce-9408-41a1-af44-5d6d355240f5",
   "metadata": {},
   "source": [
    "####  Split into training and validation sets"
   ]
  },
  {
   "cell_type": "code",
   "execution_count": 20,
   "id": "46f723c0-6b32-4691-97b5-ac59f6d060e4",
   "metadata": {},
   "outputs": [],
   "source": [
    "np.random.seed(0)\n",
    "random.seed(0)\n",
    "train_valid_split = 0.833 \n",
    "# As before, have 5/6 as training and 1/6 as validation data\n",
    "random_indices = np.arange(len(data_socat[\"tos\"]), dtype=int)\n",
    "\n",
    "random.shuffle(random_indices)\n",
    "\n",
    "ntrain_socat = int(len(data_socat[\"tos\"]) * train_valid_split)\n",
    "train_socat = {key: data_socat[key][random_indices][:ntrain_socat]\n",
    "               for key in data_socat}\n",
    "valid_socat = {key: data_socat[key][random_indices][ntrain_socat:]\n",
    "               for key in data_socat}"
   ]
  },
  {
   "cell_type": "markdown",
   "id": "ad29a6f7-dc31-47fb-8a84-0c0df423b7f0",
   "metadata": {},
   "source": [
    "#### normalize data and convert into feature and label arrays"
   ]
  },
  {
   "cell_type": "code",
   "execution_count": 21,
   "id": "4e12d1f1-7feb-4ad8-90aa-b184f0cd72d1",
   "metadata": {},
   "outputs": [],
   "source": [
    "feature_keys = [\"tos\", \"sos\", \"mlotst\", \"zos\", \"chlos\", \"siconc\", \"uas\", \"vas\",\n",
    "                \"co2\", \"mon_sin\", \"mon_cos\", \"nvector1\", \"nvector2\", \"nvector3\"]\n",
    "\n",
    "with open('../data/cmip6_base_model_train_feature_means.pkl', 'rb') as f:\n",
    "    train_feature_means = pickle.load(f)\n",
    "\n",
    "with open('../data/cmip6_base_model_train_feature_stds.pkl', 'rb') as f:\n",
    "    train_feature_stds = pickle.load(f)\n",
    "\n",
    "# Processing the socat data\n",
    "train_features = np.concatenate([(\n",
    "    train_socat[key][:, np.newaxis] - train_feature_means[key]\n",
    ") / train_feature_stds[key] for key in feature_keys], axis=1)\n",
    "\n",
    "valid_features = np.concatenate([(\n",
    "    valid_socat[key][:, np.newaxis] - train_feature_means[key]\n",
    ") / train_feature_stds[key] for key in feature_keys], axis=1)\n",
    "\n",
    "train_labels = train_socat[\"fco2\"] # maybe add [:, np.newaxis]\n",
    "\n",
    "valid_labels = valid_socat[\"fco2\"] # maybe add [:, np.newaxis]"
   ]
  },
  {
   "cell_type": "code",
   "execution_count": 22,
   "id": "02edc950-fa56-43c8-a31c-2814a15b83c4",
   "metadata": {},
   "outputs": [],
   "source": [
    "# add additional dictionaries train_TS and valid_TS that only contain T and S normalized\n",
    "# for fCO2 surrogate model\n",
    "# original feature means and stds used to train the fCO2 surrogate model:\n",
    "alk_range = [1000e-6, 3000e-6]\n",
    "dic_range = [1000e-6, 3000e-6]\n",
    "tem_range = [-2, 35]\n",
    "sal_range = [10, 50]\n",
    "sil_range = [0, 134e-6]\n",
    "phos_range = [0, 4e-6]\n",
    "\n",
    "sample_means = {\"talkos\":(alk_range[0] + alk_range[1]) / 2,\n",
    "                 \"dissicos\":dic_range[0] + (dic_range[1] - dic_range[0]) / 4,\n",
    "                 \"tos\":(tem_range[0] + tem_range[1]) / 2,\n",
    "                 \"sos\":(sal_range[0] + sal_range[1]) / 2,\n",
    "                 \"sios\":(sil_range[0] + sil_range[1]) / 2,\n",
    "                 \"po4os\":(phos_range[0] + phos_range[1]) / 2}\n",
    "\n",
    "sample_stds = {\"talkos\":(alk_range[1] - alk_range[0]) / np.sqrt(12),\n",
    "                 \"dissicos\":(dic_range[1] - dic_range[0]) * np.sqrt(7 / 144),\n",
    "                 \"tos\":(tem_range[1] - tem_range[0]) / np.sqrt(12),\n",
    "                 \"sos\":(sal_range[1] - sal_range[0]) / np.sqrt(12),\n",
    "                 \"sios\":(sil_range[1] - sil_range[0]) / np.sqrt(12),\n",
    "                 \"po4os\":(phos_range[1] - phos_range[0]) / np.sqrt(12)}\n",
    "\n",
    "train_TS = np.concatenate([\n",
    "    (train_socat[key][:, np.newaxis] - sample_means[key]) / sample_stds[key]\n",
    "    for key in [\"tos\", \"sos\"]\n",
    "], axis=1)\n",
    "\n",
    "valid_TS = np.concatenate([\n",
    "    (valid_socat[key][:, np.newaxis] - sample_means[key]) / sample_stds[key]\n",
    "    for key in [\"tos\", \"sos\"]\n",
    "], axis=1)"
   ]
  },
  {
   "cell_type": "code",
   "execution_count": 23,
   "id": "44f00b53-1464-47ba-9dba-1d54ad8581ca",
   "metadata": {},
   "outputs": [
    {
     "name": "stdout",
     "output_type": "stream",
     "text": [
      "0.11519687\n",
      "0.88625634\n",
      "0.393595\n",
      "0.14267851\n"
     ]
    }
   ],
   "source": [
    "print(np.mean(train_TS[:, 0]))\n",
    "print(np.std(train_TS[:, 0]))\n",
    "print(np.mean(train_TS[:, 1]))\n",
    "print(np.std(train_TS[:, 1]))"
   ]
  },
  {
   "cell_type": "code",
   "execution_count": 24,
   "id": "bb175517-c93e-4b25-887a-a8135e215058",
   "metadata": {},
   "outputs": [
    {
     "data": {
      "text/plain": [
       "(259429, 2)"
      ]
     },
     "execution_count": 24,
     "metadata": {},
     "output_type": "execute_result"
    }
   ],
   "source": [
    "train_TS.shape"
   ]
  },
  {
   "cell_type": "code",
   "execution_count": 25,
   "id": "5947b215-d3d9-48ea-a4a5-612ff3be86e1",
   "metadata": {},
   "outputs": [
    {
     "name": "stdout",
     "output_type": "stream",
     "text": [
      "Check shapes of matrices.\n",
      "(259429, 14)\n",
      "(52011, 14)\n",
      "(259429,)\n",
      "(52011,)\n"
     ]
    }
   ],
   "source": [
    "print(\"Check shapes of matrices.\")\n",
    "print(train_features.shape)\n",
    "print(valid_features.shape)\n",
    "print(train_labels.shape)\n",
    "print(valid_labels.shape)"
   ]
  },
  {
   "cell_type": "code",
   "execution_count": 26,
   "id": "c1556919-ecd3-447e-bfc3-6e339472a5e7",
   "metadata": {},
   "outputs": [
    {
     "name": "stdout",
     "output_type": "stream",
     "text": [
      "Check normalization of features.\n",
      "[ 3.40560855e-01  3.48531556e-01 -9.46184650e-02  6.30598974e-01\n",
      "  1.87071998e-01 -3.94728129e-01 -1.15504249e-01 -4.51280958e-02\n",
      "  3.17606148e-01 -1.95872158e-03 -1.86036128e-04  4.23308728e-01\n",
      " -1.44181142e-01  1.55766360e-01]\n",
      "[0.83185128 0.92694102 0.68830814 0.82069753 0.60662202 0.21201642\n",
      " 0.71008068 0.75068412 0.87296172 0.99579639 1.0041817  0.84029448\n",
      " 0.95653175 1.10424399]\n",
      "[ 0.3425848   0.34866217 -0.09621113  0.62925169  0.18461686 -0.39475969\n",
      " -0.11843128 -0.05036622  0.31401465 -0.01106068  0.00364473  0.42440164\n",
      " -0.14668035  0.1534404 ]\n",
      "[0.83524292 0.91849444 0.68686597 0.82155402 0.60588765 0.21119669\n",
      " 0.71201155 0.74725421 0.87381942 0.99546276 1.00444983 0.83857895\n",
      " 0.95900556 1.10387754]\n"
     ]
    }
   ],
   "source": [
    "print(\"Check normalization of features.\")\n",
    "print(np.mean(train_features, axis=0))\n",
    "print(np.std(train_features, axis=0))\n",
    "print(np.mean(valid_features, axis=0))\n",
    "print(np.std(valid_features, axis=0))"
   ]
  },
  {
   "cell_type": "markdown",
   "id": "c9bfe9b4-65c5-474f-985b-6224097f65ef",
   "metadata": {},
   "source": [
    "# Define neural network and training procedure"
   ]
  },
  {
   "cell_type": "code",
   "execution_count": 27,
   "id": "52d5715f-e800-456f-a86c-70d7eeff033b",
   "metadata": {},
   "outputs": [],
   "source": [
    "class flexible_MLP(nn.Module):\n",
    "    def __init__(self, input_size, hidden_size_part1, inner_output_size, hidden_size_part2):\n",
    "        super().__init__()\n",
    "        self.device = torch.device(\"cuda\")\n",
    "        self.linear1 = nn.Linear(input_size, hidden_size_part1, device=self.device)\n",
    "        self.linear2 = nn.Linear(hidden_size_part1, hidden_size_part1, device=self.device)\n",
    "        self.linear3 = nn.Linear(hidden_size_part1, hidden_size_part1, device=self.device)\n",
    "        self.linear4 = nn.Linear(hidden_size_part1, inner_output_size, device=self.device)\n",
    "        \n",
    "        self.linear1_socat = nn.Linear(inner_output_size + 2, hidden_size_part2, device=self.device)\n",
    "        self.linear2_socat = nn.Linear(hidden_size_part2, hidden_size_part2, device=self.device)\n",
    "        self.linear3_socat = nn.Linear(hidden_size_part2, hidden_size_part2, device=self.device)\n",
    "        self.linear4_socat = nn.Linear(hidden_size_part2, 1, device=self.device)\n",
    "    \n",
    "    def forward(self, x, TS_data=None, mode=None):\n",
    "        \"\"\"\n",
    "        mode can be socat or None\n",
    "        (for None, only the first part of the network is used)\n",
    "        TS_data only needs to be provided if mode is socat\n",
    "        \"\"\"\n",
    "        x = x.to(self.device)\n",
    "        x = F.elu(self.linear1(x))\n",
    "        x = F.elu(self.linear2(x))\n",
    "        x = F.elu(self.linear3(x))\n",
    "        x = self.linear4(x)\n",
    "        if mode == \"socat\":\n",
    "            x_p1 = x[:, :2]\n",
    "            x_p2 = x[:, 2:]\n",
    "            x = torch.cat((x_p1, TS_data, x_p2), dim=-1)\n",
    "            x = F.elu(self.linear1_socat(x))\n",
    "            x = F.elu(self.linear2_socat(x))\n",
    "            x = F.elu(self.linear3_socat(x))\n",
    "            x = F.elu(self.linear4_socat(x))\n",
    "        return x\n",
    "\n",
    "    def save(self, file_name='model.pth'):\n",
    "        model_folder_path = '../models'\n",
    "        if not os.path.exists(model_folder_path):\n",
    "            os.makedirs(model_folder_path)\n",
    "\n",
    "        file_name = os.path.join(model_folder_path, file_name)\n",
    "        torch.save(self.state_dict(), file_name)"
   ]
  },
  {
   "cell_type": "code",
   "execution_count": 28,
   "id": "e7c24dab-0df0-48e5-a247-814a54f80502",
   "metadata": {},
   "outputs": [
    {
     "name": "stdout",
     "output_type": "stream",
     "text": [
      "flexible_MLP(\n",
      "  (linear1): Linear(in_features=14, out_features=160, bias=True)\n",
      "  (linear2): Linear(in_features=160, out_features=160, bias=True)\n",
      "  (linear3): Linear(in_features=160, out_features=160, bias=True)\n",
      "  (linear4): Linear(in_features=160, out_features=4, bias=True)\n",
      "  (linear1_socat): Linear(in_features=6, out_features=160, bias=True)\n",
      "  (linear2_socat): Linear(in_features=160, out_features=160, bias=True)\n",
      "  (linear3_socat): Linear(in_features=160, out_features=160, bias=True)\n",
      "  (linear4_socat): Linear(in_features=160, out_features=1, bias=True)\n",
      ")\n",
      "Update the base and socat subnets and freeze these layers\n",
      "Number of trainable parameters in the model: 54564\n"
     ]
    }
   ],
   "source": [
    "model = flexible_MLP(14, 160, 4, 160)\n",
    "print(model)\n",
    "\n",
    "print(\"Update the base and socat subnets and freeze these layers\")\n",
    "base_state_dict = torch.load(\"../models/CMIP6_base_model_160x3_elu_10000epo.pth\")\n",
    "socat_state_dict = torch.load(\"../models/fCO2_model_160x3_elu_10000epo.pth\")\n",
    "\n",
    "with torch.no_grad(): # not sure whether interfers with autograd\n",
    "    model.linear1.weight.copy_(base_state_dict[\"linear1.weight\"])\n",
    "    model.linear1.bias.copy_(base_state_dict[\"linear1.bias\"])\n",
    "    model.linear2.weight.copy_(base_state_dict[\"linear2.weight\"])\n",
    "    model.linear2.bias.copy_(base_state_dict[\"linear2.bias\"])\n",
    "    model.linear3.weight.copy_(base_state_dict[\"linear3.weight\"])\n",
    "    model.linear3.bias.copy_(base_state_dict[\"linear3.bias\"])\n",
    "    model.linear4.weight.copy_(base_state_dict[\"linear4.weight\"])\n",
    "    model.linear4.bias.copy_(base_state_dict[\"linear4.bias\"])\n",
    "    \n",
    "    model.linear1_socat.weight.copy_(socat_state_dict[\"linear1.weight\"])\n",
    "    model.linear1_socat.bias.copy_(socat_state_dict[\"linear1.bias\"])\n",
    "    model.linear2_socat.weight.copy_(socat_state_dict[\"linear2.weight\"])\n",
    "    model.linear2_socat.bias.copy_(socat_state_dict[\"linear2.bias\"])\n",
    "    model.linear3_socat.weight.copy_(socat_state_dict[\"linear3.weight\"])\n",
    "    model.linear3_socat.bias.copy_(socat_state_dict[\"linear3.bias\"])\n",
    "    model.linear4_socat.weight.copy_(socat_state_dict[\"linear4.weight\"])\n",
    "    model.linear4_socat.bias.copy_(socat_state_dict[\"linear4.bias\"])\n",
    "\n",
    "model.linear1_socat.weight.requires_grad = False\n",
    "model.linear1_socat.bias.requires_grad = False\n",
    "model.linear2_socat.weight.requires_grad = False\n",
    "model.linear2_socat.bias.requires_grad = False\n",
    "model.linear3_socat.weight.requires_grad = False\n",
    "model.linear3_socat.bias.requires_grad = False\n",
    "model.linear4_socat.weight.requires_grad = False\n",
    "model.linear4_socat.bias.requires_grad = False\n",
    "\n",
    "pytorch_total_params = sum(p.numel() for p in model.parameters() if p.requires_grad)\n",
    "print(\"Number of trainable parameters in the model:\", pytorch_total_params)"
   ]
  },
  {
   "cell_type": "code",
   "execution_count": 29,
   "id": "337e2d00-bbd4-40ec-aafc-8b962e9d26dc",
   "metadata": {},
   "outputs": [],
   "source": [
    "def training_dataloader(features, labels, batch_size, TS=None):\n",
    "    ntrain = len(labels)\n",
    "    nbatch = ntrain // batch_size\n",
    "    indices = np.arange(ntrain, dtype=int)\n",
    "    random.shuffle(indices)\n",
    "    batch_indices = np.split(indices[:nbatch * batch_size], nbatch)\n",
    "    if TS is None:\n",
    "        batch_data = [(torch.from_numpy(np.take(features, ind, axis=0).astype(\"float32\")).to(torch.device(\"cuda\")),\n",
    "                       torch.from_numpy(np.take(labels, ind, axis=0).astype(\"float32\")).to(torch.device(\"cuda\")))\n",
    "                      for ind in batch_indices]\n",
    "    elif TS is not None:\n",
    "        batch_data = [(torch.from_numpy(np.take(features, ind, axis=0).astype(\"float32\")).to(torch.device(\"cuda\")),\n",
    "                       torch.from_numpy(np.take(labels, ind, axis=0).astype(\"float32\")).to(torch.device(\"cuda\")),\n",
    "                       torch.from_numpy(np.take(TS, ind, axis=0).astype(\"float32\")).to(torch.device(\"cuda\")))\n",
    "                      for ind in batch_indices]\n",
    "    return batch_data"
   ]
  },
  {
   "cell_type": "code",
   "execution_count": 30,
   "id": "ddfb7855-a4a3-4292-9b34-5d9b14586be3",
   "metadata": {},
   "outputs": [],
   "source": [
    "loss_function = nn.MSELoss()"
   ]
  },
  {
   "cell_type": "code",
   "execution_count": 31,
   "id": "fdc82445-36c3-49f0-b1a3-98ea797ab048",
   "metadata": {},
   "outputs": [],
   "source": [
    "def train_one_epoch(optimizer):\n",
    "    running_loss = 0. # running loss over all batches in the epoch\n",
    "\n",
    "    training_data = training_dataloader(train_features,\n",
    "                                        train_labels,\n",
    "                                        batch_size, train_TS)\n",
    "    \n",
    "    for batch in training_data:\n",
    "        features, labels, TS = batch\n",
    "        optimizer.zero_grad()\n",
    "        outputs = torch.squeeze(model(features, TS, 'socat'))\n",
    "        loss = loss_function(outputs, labels)\n",
    "        loss.backward()\n",
    "        optimizer.step()\n",
    "        \n",
    "        running_loss += loss.detach().cpu().item()\n",
    "\n",
    "    ntrain = len(train_labels)\n",
    "    nbatch = ntrain // batch_size\n",
    "\n",
    "    return running_loss / nbatch"
   ]
  },
  {
   "cell_type": "code",
   "execution_count": 32,
   "id": "f72c7ec4-24cb-44ae-89a3-a2161e533902",
   "metadata": {},
   "outputs": [],
   "source": [
    "def calc_gammar(reduction_factor, nepochs):                                                                                                                                                                       \n",
    "    return reduction_factor**(1 / nepochs)\n",
    "\n",
    "def train(batch_size, n_epochs, optimizer, scheduler):\n",
    "    train_stats = {\"train_loss\":[], \"valid_loss\":[], \"learn_rate\":[]}\n",
    "\n",
    "    pbar = tqdm(range(n_epochs), postfix=f'epoch 0/{n_epochs}')\n",
    "    \n",
    "    for epoch in pbar:\n",
    "\n",
    "        model.train()\n",
    "\n",
    "        train_loss_epoch = train_one_epoch(optimizer)\n",
    "\n",
    "        model.eval()\n",
    "        with torch.no_grad():\n",
    "            valid_outputs = torch.squeeze(model(\n",
    "                torch.from_numpy(valid_features.astype(\"float32\")).to(torch.device(\"cuda\")),\n",
    "                torch.from_numpy(valid_TS.astype(\"float32\")).to(torch.device(\"cuda\")),\n",
    "                \"socat\"))\n",
    "            valid_loss_epoch = loss_function(\n",
    "                valid_outputs, torch.from_numpy(valid_labels).to(torch.device(\"cuda\"))\n",
    "                                        ).detach().cpu().item()\n",
    "                \n",
    "        train_stats[\"train_loss\"].append(train_loss_epoch)\n",
    "        train_stats[\"valid_loss\"].append(valid_loss_epoch)\n",
    "        \n",
    "        lr = scheduler.get_last_lr()[0]\n",
    "        train_stats[\"learn_rate\"].append(lr)\n",
    "\n",
    "        scheduler.step()\n",
    "\n",
    "        pbar.set_postfix({'epoch': f'{epoch+1}/{n_epochs}',\n",
    "                          'train_loss': f'{train_loss_epoch:.3e}',\n",
    "                          'valid_loss': f'{valid_loss_epoch:.3e}',\n",
    "                          'learn_rate': f'{lr:.3e}'}\n",
    "                        )\n",
    "\n",
    "    return train_stats"
   ]
  },
  {
   "cell_type": "markdown",
   "id": "28fa4eb1-4ba1-42d2-9c36-4493d67bee00",
   "metadata": {},
   "source": [
    "# Test zero-shot inference with pretrained base model"
   ]
  },
  {
   "cell_type": "markdown",
   "id": "d7f0e408-8e30-4f52-a23a-d9ff844e15d4",
   "metadata": {},
   "source": [
    "Mostly to test whether the order of magnitude of the output fits.\n",
    "\n",
    "**On socat validation data**"
   ]
  },
  {
   "cell_type": "code",
   "execution_count": 33,
   "id": "5dacad96-9a82-4cdb-afba-665151e5c7e7",
   "metadata": {},
   "outputs": [],
   "source": [
    "def MSE(x, y):\n",
    "    return np.sum((x - y)**2, axis=0) / len(x)"
   ]
  },
  {
   "cell_type": "code",
   "execution_count": 34,
   "id": "327ce1b1-1158-4b41-8d24-633e1a1b066f",
   "metadata": {},
   "outputs": [],
   "source": [
    "model.eval()\n",
    "with torch.no_grad():\n",
    "    model_output_zero_shot = model(\n",
    "        torch.from_numpy(valid_features.astype(\"float32\")).to(torch.device(\"cuda\")),\n",
    "        torch.from_numpy(valid_TS.astype(\"float32\")).to(torch.device(\"cuda\")),\n",
    "        'socat').detach().cpu().numpy().squeeze()"
   ]
  },
  {
   "cell_type": "code",
   "execution_count": 35,
   "id": "1537cdaa-4494-4be4-903e-eaf5cff05d80",
   "metadata": {},
   "outputs": [
    {
     "name": "stdout",
     "output_type": "stream",
     "text": [
      "RMSE:  35.323779998594304\n",
      "Maximum absolute deviation:  703.66895\n",
      "99.9th percentile of absolute deviation (1000 val's larger):  212.00233032226717\n",
      "99.99th percentile of absolute deviation (100 val's larger):  335.67839294428074\n",
      "99.999th percentile of absolute deviation (10 val's larger):  611.1845372922052\n",
      "Fraction of variance unexplained:  0.7287234934778457\n"
     ]
    }
   ],
   "source": [
    "print(\"RMSE: \", np.sqrt(MSE(valid_labels, model_output_zero_shot)))\n",
    "print(\"Maximum absolute deviation: \", np.max(np.abs(model_output_zero_shot-valid_labels)))\n",
    "print(\"99.9th percentile of absolute deviation (1000 val's larger): \",\n",
    "      np.percentile(np.abs(model_output_zero_shot-valid_labels), q=99.9))\n",
    "print(\"99.99th percentile of absolute deviation (100 val's larger): \",\n",
    "      np.percentile(np.abs(model_output_zero_shot-valid_labels), q=99.99))\n",
    "print(\"99.999th percentile of absolute deviation (10 val's larger): \",\n",
    "      np.percentile(np.abs(model_output_zero_shot-valid_labels), q=99.999))\n",
    "print(\"Fraction of variance unexplained: \", MSE(valid_labels, model_output_zero_shot) / np.var(valid_labels))"
   ]
  },
  {
   "cell_type": "code",
   "execution_count": 36,
   "id": "de2c40d5-be88-495a-8016-e29f5b2766bb",
   "metadata": {},
   "outputs": [
    {
     "name": "stdout",
     "output_type": "stream",
     "text": [
      "A sample to get an idea about how bad the prediction is: \n",
      "[379.54492 423.44247 424.6518  338.3021  484.44296 370.76282 385.3887\n",
      " 441.07864 403.83005 331.71848]\n",
      "[341.0479  418.3272  413.92365 323.39258 461.78156 345.88348 357.98672\n",
      " 417.60822 386.63385 323.4706 ]\n"
     ]
    }
   ],
   "source": [
    "print(\"A sample to get an idea about how bad the prediction is: \")\n",
    "print(model_output_zero_shot[:10])\n",
    "print(valid_labels[:10])"
   ]
  },
  {
   "cell_type": "markdown",
   "id": "8efab4db-ae79-40d9-9506-9f5619bc4c94",
   "metadata": {},
   "source": [
    "# Training"
   ]
  },
  {
   "cell_type": "markdown",
   "id": "16a4eebe-d207-4685-b486-d67f5faaebb8",
   "metadata": {},
   "source": [
    "#### Freeze all layers of the base model despite the last linear projection layer and train it"
   ]
  },
  {
   "cell_type": "code",
   "execution_count": 37,
   "id": "3982952b-f773-465c-9c25-b66016c06506",
   "metadata": {},
   "outputs": [
    {
     "name": "stdout",
     "output_type": "stream",
     "text": [
      "Number of trainable parameters in the model: 644\n"
     ]
    }
   ],
   "source": [
    "model.linear1.weight.requires_grad = False\n",
    "model.linear1.bias.requires_grad = False\n",
    "model.linear2.weight.requires_grad = False\n",
    "model.linear2.bias.requires_grad = False\n",
    "model.linear3.weight.requires_grad = False\n",
    "model.linear3.bias.requires_grad = False\n",
    "\n",
    "pytorch_total_params = sum(p.numel() for p in model.parameters() if p.requires_grad)\n",
    "print(\"Number of trainable parameters in the model:\", pytorch_total_params)"
   ]
  },
  {
   "cell_type": "code",
   "execution_count": 38,
   "id": "e5cb241a-52b1-4cb3-a506-52ecd9c4712c",
   "metadata": {},
   "outputs": [
    {
     "name": "stderr",
     "output_type": "stream",
     "text": [
      "100%|██████████████████████████████████████████████████████████████████████████████████████| 2000/2000 [09:46<00:00,  3.41it/s, epoch=2000/2000, train_loss=7.118e+02, valid_loss=6.596e+02, learn_rate=1.001e-04]\n"
     ]
    }
   ],
   "source": [
    "batch_size = 1000\n",
    "n_epochs = 2_000\n",
    "\n",
    "base_learning_rate = 1e-3\n",
    "gamma = calc_gammar(0.1, 2000)\n",
    "\n",
    "#optimizer = optim.Adam(model.parameters(), lr=base_learning_rate)\n",
    "optimizer = optim.Adam(filter(lambda p: p.requires_grad, model.parameters()),\n",
    "                       lr=base_learning_rate)\n",
    "scheduler = optim.lr_scheduler.ExponentialLR(optimizer,\n",
    "                                             gamma=gamma)\n",
    "\n",
    "train_stats = train(batch_size, n_epochs, optimizer, scheduler)"
   ]
  },
  {
   "cell_type": "markdown",
   "id": "c78c5fd1-7050-4f20-8bbd-8f81f8267505",
   "metadata": {},
   "source": [
    "#### Also unfreeze the second-last layer and retrain also that on a small learning rate"
   ]
  },
  {
   "cell_type": "code",
   "execution_count": 39,
   "id": "3ccc0b5b-a264-4a68-a0a0-d8b2cde8dd35",
   "metadata": {},
   "outputs": [
    {
     "name": "stdout",
     "output_type": "stream",
     "text": [
      "Number of trainable parameters in the model: 26404\n"
     ]
    }
   ],
   "source": [
    "model.linear3.weight.requires_grad = True\n",
    "model.linear3.bias.requires_grad = True\n",
    "\n",
    "pytorch_total_params = sum(p.numel() for p in model.parameters() if p.requires_grad)\n",
    "print(\"Number of trainable parameters in the model:\", pytorch_total_params)"
   ]
  },
  {
   "cell_type": "code",
   "execution_count": 40,
   "id": "d91bebfc-86b4-4077-849e-f194f80a9360",
   "metadata": {
    "scrolled": true
   },
   "outputs": [
    {
     "name": "stderr",
     "output_type": "stream",
     "text": [
      "100%|██████████████████████████████████████████████████████████████████████████████████████| 4000/4000 [21:13<00:00,  3.14it/s, epoch=4000/4000, train_loss=2.237e+02, valid_loss=3.501e+02, learn_rate=1.001e-05]\n"
     ]
    }
   ],
   "source": [
    "batch_size = 1000\n",
    "n_epochs = 4_000\n",
    "\n",
    "base_learning_rate = 1e-4\n",
    "gamma = calc_gammar(0.1, 4000) # 1 for no learning rate decay\n",
    "\n",
    "#optimizer = optim.Adam(model.parameters(), lr=base_learning_rate)\n",
    "optimizer = optim.Adam(filter(lambda p: p.requires_grad, model.parameters()),\n",
    "                       lr=base_learning_rate)\n",
    "scheduler = optim.lr_scheduler.ExponentialLR(optimizer,\n",
    "                                             gamma=gamma)\n",
    "\n",
    "train_stats = train(batch_size, n_epochs, optimizer, scheduler)"
   ]
  },
  {
   "cell_type": "code",
   "execution_count": 41,
   "id": "b5f846b6-b8c1-45bc-b36d-7a5f8cbd0675",
   "metadata": {},
   "outputs": [
    {
     "data": {
      "text/plain": [
       "329.22381591796875"
      ]
     },
     "execution_count": 41,
     "metadata": {},
     "output_type": "execute_result"
    }
   ],
   "source": [
    "np.min(train_stats[\"valid_loss\"])"
   ]
  },
  {
   "cell_type": "markdown",
   "id": "42f32abb-cffc-4667-8947-e7ca9ecc4b67",
   "metadata": {},
   "source": [
    "#### Test with unfreezing the remaining model and retrain with an even smaller learning rate"
   ]
  },
  {
   "cell_type": "code",
   "execution_count": 42,
   "id": "d5cd650d-890a-491d-8f10-504af32da339",
   "metadata": {},
   "outputs": [
    {
     "name": "stdout",
     "output_type": "stream",
     "text": [
      "Number of trainable parameters in the model: 54564\n"
     ]
    }
   ],
   "source": [
    "model.linear1.weight.requires_grad = True\n",
    "model.linear1.bias.requires_grad = True\n",
    "model.linear2.weight.requires_grad = True\n",
    "model.linear2.bias.requires_grad = True\n",
    "\n",
    "pytorch_total_params = sum(p.numel() for p in model.parameters() if p.requires_grad)\n",
    "print(\"Number of trainable parameters in the model:\", pytorch_total_params)"
   ]
  },
  {
   "cell_type": "code",
   "execution_count": 43,
   "id": "036f236d-a483-456e-96a9-5ec53febccd0",
   "metadata": {},
   "outputs": [
    {
     "name": "stderr",
     "output_type": "stream",
     "text": [
      "100%|██████████████████████████████████████████████████████████████████████████████████████| 8000/8000 [46:26<00:00,  2.87it/s, epoch=8000/8000, train_loss=1.353e+02, valid_loss=3.360e+02, learn_rate=1.000e-05]\n"
     ]
    }
   ],
   "source": [
    "batch_size = 1000\n",
    "n_epochs = 8_000\n",
    "\n",
    "base_learning_rate = 1e-4\n",
    "gamma = calc_gammar(0.1, 8000)\n",
    "\n",
    "#optimizer = optim.Adam(model.parameters(), lr=base_learning_rate)\n",
    "optimizer = optim.Adam(filter(lambda p: p.requires_grad, model.parameters()),\n",
    "                       lr=base_learning_rate)\n",
    "scheduler = optim.lr_scheduler.ExponentialLR(optimizer,\n",
    "                                             gamma=gamma)\n",
    "\n",
    "train_stats = train(batch_size, n_epochs, optimizer, scheduler)"
   ]
  },
  {
   "cell_type": "markdown",
   "id": "bd43f35b-ee33-4082-bca5-3a58ab5097ab",
   "metadata": {},
   "source": [
    "#### Other option: fully retrain the base network (no transfer learning case)"
   ]
  },
  {
   "cell_type": "code",
   "execution_count": 44,
   "id": "18d262bd-dadc-4828-afd7-1aca8914bca0",
   "metadata": {},
   "outputs": [
    {
     "name": "stdout",
     "output_type": "stream",
     "text": [
      "flexible_MLP(\n",
      "  (linear1): Linear(in_features=14, out_features=160, bias=True)\n",
      "  (linear2): Linear(in_features=160, out_features=160, bias=True)\n",
      "  (linear3): Linear(in_features=160, out_features=160, bias=True)\n",
      "  (linear4): Linear(in_features=160, out_features=4, bias=True)\n",
      "  (linear1_socat): Linear(in_features=6, out_features=160, bias=True)\n",
      "  (linear2_socat): Linear(in_features=160, out_features=160, bias=True)\n",
      "  (linear3_socat): Linear(in_features=160, out_features=160, bias=True)\n",
      "  (linear4_socat): Linear(in_features=160, out_features=1, bias=True)\n",
      ")\n"
     ]
    }
   ],
   "source": [
    "model = flexible_MLP(14, 160, 4, 160)\n",
    "print(model)\n",
    "\n",
    "with torch.no_grad(): # not sure whether interfers with autograd\n",
    "    model.linear1_socat.weight.copy_(socat_state_dict[\"linear1.weight\"])\n",
    "    model.linear1_socat.bias.copy_(socat_state_dict[\"linear1.bias\"])\n",
    "    model.linear2_socat.weight.copy_(socat_state_dict[\"linear2.weight\"])\n",
    "    model.linear2_socat.bias.copy_(socat_state_dict[\"linear2.bias\"])\n",
    "    model.linear3_socat.weight.copy_(socat_state_dict[\"linear3.weight\"])\n",
    "    model.linear3_socat.bias.copy_(socat_state_dict[\"linear3.bias\"])\n",
    "    model.linear4_socat.weight.copy_(socat_state_dict[\"linear4.weight\"])\n",
    "    model.linear4_socat.bias.copy_(socat_state_dict[\"linear4.bias\"])\n",
    "\n",
    "model.linear1_socat.weight.requires_grad = False\n",
    "model.linear1_socat.bias.requires_grad = False\n",
    "model.linear2_socat.weight.requires_grad = False\n",
    "model.linear2_socat.bias.requires_grad = False\n",
    "model.linear3_socat.weight.requires_grad = False\n",
    "model.linear3_socat.bias.requires_grad = False\n",
    "model.linear4_socat.weight.requires_grad = False\n",
    "model.linear4_socat.bias.requires_grad = False"
   ]
  },
  {
   "cell_type": "code",
   "execution_count": 45,
   "id": "db266be0-9bdc-42d8-8367-e97dff5838a9",
   "metadata": {},
   "outputs": [
    {
     "name": "stderr",
     "output_type": "stream",
     "text": [
      "100%|██████████████████████████████████████████████████████████████████████████████████| 10000/10000 [56:49<00:00,  2.93it/s, epoch=10000/10000, train_loss=8.476e+01, valid_loss=3.064e+02, learn_rate=1.000e-05]\n"
     ]
    }
   ],
   "source": [
    "batch_size = 1000\n",
    "n_epochs = 10_000\n",
    "\n",
    "base_learning_rate = 1e-3\n",
    "gamma = calc_gammar(0.1, 5000)\n",
    "\n",
    "#optimizer = optim.Adam(model.parameters(), lr=base_learning_rate)\n",
    "optimizer = optim.Adam(filter(lambda p: p.requires_grad, model.parameters()),\n",
    "                       lr=base_learning_rate)\n",
    "scheduler = optim.lr_scheduler.ExponentialLR(optimizer,\n",
    "                                                 gamma=gamma)\n",
    "\n",
    "train_stats_full_retrain = train(batch_size, n_epochs, optimizer, scheduler)"
   ]
  },
  {
   "cell_type": "code",
   "execution_count": 48,
   "id": "64311566-2c6c-41cc-9a54-2ba990d1894f",
   "metadata": {},
   "outputs": [
    {
     "data": {
      "text/plain": [
       "271.70098876953125"
      ]
     },
     "execution_count": 48,
     "metadata": {},
     "output_type": "execute_result"
    }
   ],
   "source": [
    "np.min(train_stats_full_retrain[\"valid_loss\"])"
   ]
  },
  {
   "cell_type": "code",
   "execution_count": 46,
   "id": "94a0e1ad-fbb4-4029-8e20-7e4b5f2bd35a",
   "metadata": {},
   "outputs": [
    {
     "data": {
      "text/plain": [
       "(array([1751]),)"
      ]
     },
     "execution_count": 46,
     "metadata": {},
     "output_type": "execute_result"
    }
   ],
   "source": [
    "np.where(train_stats_full_retrain[\"valid_loss\"] == np.min(train_stats_full_retrain[\"valid_loss\"]))"
   ]
  },
  {
   "cell_type": "code",
   "execution_count": 47,
   "id": "433e7c92-305e-464f-bb5e-da2f0a41e46a",
   "metadata": {},
   "outputs": [
    {
     "data": {
      "text/plain": [
       "Text(0, 0.5, 'Mean squared error')"
      ]
     },
     "execution_count": 47,
     "metadata": {},
     "output_type": "execute_result"
    },
    {
     "data": {
      "image/png": "[encoded data removed]",
      "text/plain": [
       "<Figure size 640x480 with 1 Axes>"
      ]
     },
     "metadata": {},
     "output_type": "display_data"
    }
   ],
   "source": [
    "plt.plot(train_stats_full_retrain[\"train_loss\"], label=\"training loss\", alpha=0.75)\n",
    "plt.plot(train_stats_full_retrain[\"valid_loss\"], label=\"validation loss\", alpha=0.75)\n",
    "plt.legend()\n",
    "plt.ylim([0, train_stats[\"train_loss\"][-1] * 5])\n",
    "plt.xlabel(\"Epoch\")\n",
    "plt.ylabel(\"Mean squared error\")"
   ]
  }
 ],
 "metadata": {
  "kernelspec": {
   "display_name": "Python 3 (ipykernel)",
   "language": "python",
   "name": "python3"
  },
  "language_info": {
   "codemirror_mode": {
    "name": "ipython",
    "version": 3
   },
   "file_extension": ".py",
   "mimetype": "text/x-python",
   "name": "python",
   "nbconvert_exporter": "python",
   "pygments_lexer": "ipython3",
   "version": "3.11.7"
  }
 },
 "nbformat": 4,
 "nbformat_minor": 5
}
