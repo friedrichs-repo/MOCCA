{
 "cells": [
  {
   "cell_type": "markdown",
   "id": "99f1e5dd-99a2-4065-ae58-8b28bdaa523a",
   "metadata": {},
   "source": [
    "#### Load necessary packages"
   ]
  },
  {
   "cell_type": "code",
   "execution_count": 1,
   "id": "27b1bb0a-93ee-43fe-a22a-26fe0c830211",
   "metadata": {},
   "outputs": [],
   "source": [
    "import os\n",
    "import sys\n",
    "sys.path.insert(0,'../../mocsy')"
   ]
  },
  {
   "cell_type": "code",
   "execution_count": 2,
   "id": "f974531b-e417-49ff-9c59-d45f4e31a591",
   "metadata": {},
   "outputs": [],
   "source": [
    "import mocsy\n",
    "from mocsy import mvars\n",
    "import numpy as np\n",
    "import random\n",
    "from tqdm import tqdm\n",
    "import matplotlib.pyplot as plt"
   ]
  },
  {
   "cell_type": "code",
   "execution_count": 3,
   "id": "c27fdcfc-6816-4aa0-88f6-75e5a80d8a97",
   "metadata": {},
   "outputs": [],
   "source": [
    "import torch\n",
    "import torch.nn as nn\n",
    "import torch.optim as optim\n",
    "import torch.nn.functional as F"
   ]
  },
  {
   "cell_type": "markdown",
   "id": "2696a537-4cc5-4088-83da-e853a259c478",
   "metadata": {},
   "source": [
    "#### Create fCO2 training data with mocsy routine "
   ]
  },
  {
   "cell_type": "code",
   "execution_count": 4,
   "id": "ce5c4036-fa74-4a51-9ed4-c0f8fde59940",
   "metadata": {},
   "outputs": [],
   "source": [
    "def extend(number, template):\n",
    "    \"\"\"\n",
    "    helper function allowing calc_fco2 to work on floats and arrays.\n",
    "    \"\"\"\n",
    "    template_type = \"array\" if isinstance(template, np.ndarray) else \"float\"\n",
    "    if template_type == \"array\":\n",
    "        return number * np.ones(template.shape)\n",
    "    elif template_type == \"float\":\n",
    "        return number\n",
    "\n",
    "def calc_fCO2(alk, dic, tem, sal, sil, phos):\n",
    "    \"\"\"\n",
    "    input units\n",
    "    alk in mol / kg\n",
    "    dic in mol / kg\n",
    "    tem in °C\n",
    "    sal in PSU\n",
    "    sil in mol / kg\n",
    "    phos in mol / kg\n",
    "    \"\"\"\n",
    "    return mvars(alk=alk,\n",
    "                     dic=dic,\n",
    "                     temp=tem,\n",
    "                     sal=sal,\n",
    "                     sil=sil,\n",
    "                     phos=phos,\n",
    "                     patm=extend(1, alk),\n",
    "                     depth=extend(5, alk),\n",
    "                     lat=extend(np.nan, alk),\n",
    "                     optcon='mol/kg',\n",
    "                     optt='Tpot',\n",
    "                     optp='db',\n",
    "                     optk1k2='l',\n",
    "                     optb='u74',\n",
    "                     optkf='pf',\n",
    "                     opts='Sprc')[2]"
   ]
  },
  {
   "cell_type": "code",
   "execution_count": 5,
   "id": "329f9dc6-8f17-41dc-9ba0-29cbcdd5c82c",
   "metadata": {},
   "outputs": [],
   "source": [
    "np.random.seed(0)\n",
    "samples = {\"alk\":[], \"dic\":[], \"tem\":[], \"sal\":[],\n",
    "           \"sil\":[], \"phos\":[]}\n",
    "sample_size = 6000_000\n",
    "\n",
    "alk_range = [1000e-6, 3000e-6]\n",
    "dic_range = [1000e-6, 3000e-6]\n",
    "tem_range = [-2, 35]\n",
    "sal_range = [10, 50]\n",
    "sil_range = [0, 134e-6]\n",
    "phos_range = [0, 4e-6]\n",
    "\n",
    "for i in range(sample_size):\n",
    "    samples[\"alk\"].append(np.random.uniform(low=alk_range[0], high=alk_range[1]))\n",
    "    samples[\"dic\"].append(np.random.uniform(low=dic_range[0],\n",
    "                                            high=samples[\"alk\"][-1]))\n",
    "    samples[\"tem\"].append(np.random.uniform(low=tem_range[0], high=tem_range[1]))\n",
    "    samples[\"sal\"].append(np.random.uniform(low=sal_range[0], high=sal_range[1]))\n",
    "    samples[\"sil\"].append(np.random.uniform(low=sil_range[0], high=sil_range[1]))\n",
    "    samples[\"phos\"].append(np.random.uniform(low=phos_range[0], high=phos_range[1]))\n",
    "\n",
    "for key in samples.keys():\n",
    "    samples[key] = np.array(samples[key])"
   ]
  },
  {
   "cell_type": "code",
   "execution_count": 6,
   "id": "33a458ef-b191-4adf-908f-71409075faa5",
   "metadata": {},
   "outputs": [],
   "source": [
    "sample_fco2 = calc_fCO2(samples[\"alk\"], samples[\"dic\"], samples[\"tem\"],\n",
    "                        samples[\"sal\"], samples[\"sil\"], samples[\"phos\"])"
   ]
  },
  {
   "cell_type": "code",
   "execution_count": 7,
   "id": "6553912d-693c-4564-9742-0f30e6497c1b",
   "metadata": {},
   "outputs": [
    {
     "name": "stdout",
     "output_type": "stream",
     "text": [
      "Median of fCO2 across sample:  110.10698960012918\n",
      "Mean of fCO2 across sample:  292.30803983912267\n",
      "Minimum of fCO2 across sample:  0.0013202652735688056\n",
      "Maximum of fCO2 across sample:  5107.970091268323\n"
     ]
    }
   ],
   "source": [
    "print(\"Median of fCO2 across sample: \", np.median(sample_fco2))\n",
    "print(\"Mean of fCO2 across sample: \", np.mean(sample_fco2))\n",
    "print(\"Minimum of fCO2 across sample: \", np.min(sample_fco2))\n",
    "print(\"Maximum of fCO2 across sample: \", np.max(sample_fco2))"
   ]
  },
  {
   "cell_type": "code",
   "execution_count": 8,
   "id": "d62cadd1-7d5b-44f9-b67b-7314ba3e783e",
   "metadata": {},
   "outputs": [],
   "source": [
    "ntrain = 5000_000\n",
    "\n",
    "train_fco2, valid_fco2 = np.split(sample_fco2, [ntrain])\n",
    "train_samples = {key: samples[key][:ntrain] for key in samples}\n",
    "valid_samples = {key: samples[key][ntrain:] for key in samples}"
   ]
  },
  {
   "cell_type": "code",
   "execution_count": 9,
   "id": "f9723b9f-5778-4b50-9fab-92bce16129a3",
   "metadata": {},
   "outputs": [
    {
     "name": "stdout",
     "output_type": "stream",
     "text": [
      "Some statistics:\n",
      "Mean for alk samples: 2.000055e-03, expected: 2.000000e-03\n",
      "Std for alk samples: 5.773906e-04, expected: 5.773503e-04\n",
      "-----\n",
      "Mean for dic samples: 1.500187e-03, expected: 1.500000e-03\n",
      "Std for dic samples: 4.410831e-04, expected: 4.409586e-04\n",
      "-----\n",
      "Mean for tem samples: 1.649846e+01, expected: 1.650000e+01\n",
      "Std for tem samples: 1.068605e+01, expected: 1.068098e+01\n",
      "-----\n",
      "Mean for sal samples: 2.999500e+01, expected: 3.000000e+01\n",
      "Std for sal samples: 1.154547e+01, expected: 1.154701e+01\n",
      "-----\n",
      "Mean for sil samples: 6.697189e-05, expected: 6.700000e-05\n",
      "Std for sil samples: 3.870030e-05, expected: 3.868247e-05\n",
      "-----\n",
      "Mean for phos samples: 1.999234e-06, expected: 2.000000e-06\n",
      "Std for phos samples: 1.154432e-06, expected: 1.154701e-06\n",
      "-----\n"
     ]
    }
   ],
   "source": [
    "sample_means = {\"alk\":(alk_range[0] + alk_range[1]) / 2,\n",
    "                 \"dic\":dic_range[0] + (dic_range[1] - dic_range[0]) / 4,\n",
    "                 \"tem\":(tem_range[0] + tem_range[1]) / 2,\n",
    "                 \"sal\":(sal_range[0] + sal_range[1]) / 2,\n",
    "                 \"sil\":(sil_range[0] + sil_range[1]) / 2,\n",
    "                 \"phos\":(phos_range[0] + phos_range[1]) / 2}\n",
    "\n",
    "sample_stds = {\"alk\":(alk_range[1] - alk_range[0]) / np.sqrt(12),\n",
    "                 \"dic\":(dic_range[1] - dic_range[0]) * np.sqrt(7 / 144),\n",
    "                 \"tem\":(tem_range[1] - tem_range[0]) / np.sqrt(12),\n",
    "                 \"sal\":(sal_range[1] - sal_range[0]) / np.sqrt(12),\n",
    "                 \"sil\":(sil_range[1] - sil_range[0]) / np.sqrt(12),\n",
    "                 \"phos\":(phos_range[1] - phos_range[0]) / np.sqrt(12)}\n",
    "\n",
    "\n",
    "print(\"Some statistics:\")\n",
    "for key in train_samples.keys():\n",
    "    print(\"Mean for {} samples: {:.6e}, expected: {:.6e}\".format(\n",
    "    key, np.mean(train_samples[key]), sample_means[key]))\n",
    "    print(\"Std for {} samples: {:.6e}, expected: {:.6e}\".format(\n",
    "    key, np.std(train_samples[key]), sample_stds[key]))\n",
    "    print(\"-----\")"
   ]
  },
  {
   "cell_type": "markdown",
   "id": "7aaf96fd-d71d-4724-89e3-f50269240345",
   "metadata": {},
   "source": [
    "#### Normalize samples"
   ]
  },
  {
   "cell_type": "code",
   "execution_count": 10,
   "id": "ed0d400c-fb81-4cb2-9453-057fc3f5268c",
   "metadata": {},
   "outputs": [
    {
     "name": "stdout",
     "output_type": "stream",
     "text": [
      "(5000000, 6)\n"
     ]
    }
   ],
   "source": [
    "train_features_normalized = np.concatenate([(train_samples[key][:, np.newaxis]\n",
    "                                             - sample_means[key]) / sample_stds[key]\n",
    "                                 for key in [\"alk\", \"dic\", \"tem\", \"sal\", \"sil\", \"phos\"]],\n",
    "                                          axis=1)\n",
    "\n",
    "valid_features_normalized = np.concatenate([(valid_samples[key][:, np.newaxis]\n",
    "                                             - sample_means[key]) / sample_stds[key]\n",
    "                                 for key in [\"alk\", \"dic\", \"tem\", \"sal\", \"sil\", \"phos\"]],\n",
    "                                          axis=1)\n",
    "    \n",
    "print(train_features_normalized.shape)"
   ]
  },
  {
   "cell_type": "code",
   "execution_count": 11,
   "id": "f36cf192-52e5-4370-beeb-dc28e51c08e8",
   "metadata": {},
   "outputs": [
    {
     "name": "stdout",
     "output_type": "stream",
     "text": [
      "Verify that data is normalized.\n",
      "[ 9.47580989e-05  4.23186847e-04 -1.44276512e-04 -4.32910793e-04\n",
      " -7.26599596e-04 -6.63078680e-04]\n",
      "[1.00006983 1.00028241 1.00047477 0.99986704 1.00046103 0.99976755]\n"
     ]
    }
   ],
   "source": [
    "print(\"Verify that data is normalized.\")\n",
    "print(np.mean(train_features_normalized, axis=0))\n",
    "print(np.std(train_features_normalized, axis=0))"
   ]
  },
  {
   "cell_type": "markdown",
   "id": "29e94c53-4b7f-4f0b-a014-e979f2508c9e",
   "metadata": {},
   "source": [
    "#### Define neural network and training procedure"
   ]
  },
  {
   "cell_type": "code",
   "execution_count": 12,
   "id": "933cfa31-3848-4efe-a686-e90a1bceca70",
   "metadata": {},
   "outputs": [],
   "source": [
    "class MLP(nn.Module):\n",
    "    def __init__(self, input_size, hidden_size_1, hidden_size_2, hidden_size_3, output_size):\n",
    "        super().__init__()\n",
    "        self.device = torch.device(\"cuda\")\n",
    "        self.linear1 = nn.Linear(input_size, hidden_size_1, device=self.device)\n",
    "        self.linear2 = nn.Linear(hidden_size_1, hidden_size_2, device=self.device)\n",
    "        self.linear3 = nn.Linear(hidden_size_2, hidden_size_3, device=self.device)\n",
    "        self.linear4 = nn.Linear(hidden_size_3, output_size, device=self.device)\n",
    "\n",
    "    def forward(self, x):\n",
    "        x = x.to(self.device)\n",
    "        x = F.elu(self.linear1(x))\n",
    "        x = F.elu(self.linear2(x))\n",
    "        x = F.elu(self.linear3(x))\n",
    "        x = F.elu(self.linear4(x))\n",
    "        return x\n",
    "\n",
    "    def save(self, file_name='model.pth'):\n",
    "        model_folder_path = '../models'\n",
    "        if not os.path.exists(model_folder_path):\n",
    "            os.makedirs(model_folder_path)\n",
    "\n",
    "        file_name = os.path.join(model_folder_path, file_name)\n",
    "        torch.save(self.state_dict(), file_name)\n",
    "\n",
    "loss_function = nn.MSELoss()"
   ]
  },
  {
   "cell_type": "code",
   "execution_count": 13,
   "id": "9edbbbae-1c19-42ed-86b4-a55bea37fcd8",
   "metadata": {},
   "outputs": [
    {
     "name": "stdout",
     "output_type": "stream",
     "text": [
      "MLP(\n",
      "  (linear1): Linear(in_features=6, out_features=160, bias=True)\n",
      "  (linear2): Linear(in_features=160, out_features=160, bias=True)\n",
      "  (linear3): Linear(in_features=160, out_features=160, bias=True)\n",
      "  (linear4): Linear(in_features=160, out_features=1, bias=True)\n",
      ")\n",
      "Number of trainable parameters in the model: 52801\n"
     ]
    }
   ],
   "source": [
    "model = MLP(6, 160, 160, 160, 1)\n",
    "print(model)\n",
    "pytorch_total_params = sum(p.numel() for p in model.parameters() if p.requires_grad)\n",
    "print(\"Number of trainable parameters in the model:\", pytorch_total_params)"
   ]
  },
  {
   "cell_type": "code",
   "execution_count": 14,
   "id": "4d143e2a-376d-4563-927c-a280ede841f1",
   "metadata": {},
   "outputs": [],
   "source": [
    "def training_dataloader(features, labels, batch_size):\n",
    "    ntrain = len(labels)\n",
    "    nbatch = ntrain // batch_size\n",
    "    indices = np.arange(ntrain, dtype=int)\n",
    "    random.shuffle(indices)\n",
    "    batch_indices = np.split(indices[:nbatch * batch_size], nbatch)\n",
    "    batch_data = [(torch.from_numpy(np.take(features, ind, axis=0).astype(\"float32\")),\n",
    "                   torch.from_numpy(np.take(labels, ind).astype(\"float32\"))) for ind in batch_indices]\n",
    "    return batch_data"
   ]
  },
  {
   "cell_type": "code",
   "execution_count": 15,
   "id": "166b8204-6654-4bae-8be9-18e25f949319",
   "metadata": {},
   "outputs": [],
   "source": [
    "def train_one_epoch(optimizer):\n",
    "    running_loss = 0. # running loss over all batches in the epoch\n",
    "    \n",
    "    training_data = training_dataloader(train_features_normalized,\n",
    "                                        train_fco2, batch_size)\n",
    "    \n",
    "    for batch in training_data:\n",
    "        features, labels = batch\n",
    "        optimizer.zero_grad()\n",
    "        outputs = torch.squeeze(model(features))\n",
    "        loss = loss_function(outputs, labels.to(torch.device(\"cuda\")))\n",
    "        loss.backward()\n",
    "        optimizer.step()\n",
    "        \n",
    "        running_loss += loss.detach().cpu().item()\n",
    "\n",
    "    ntrain = len(train_fco2)\n",
    "    nbatch = ntrain // batch_size\n",
    "\n",
    "    return running_loss / nbatch"
   ]
  },
  {
   "cell_type": "code",
   "execution_count": 20,
   "id": "3be416df-7901-4648-8875-1bb7ca52fa09",
   "metadata": {},
   "outputs": [],
   "source": [
    "def calc_gammar(reduction_factor, nepochs):                                                                                                                                                                       \n",
    "    return reduction_factor**(1 / nepochs)\n",
    "\n",
    "def train(batch_size, base_learning_rate, gamma, n_epochs):\n",
    "    train_stats = {\"train_loss\":[], \"valid_loss\":[], \"learn_rate\":[]}\n",
    "\n",
    "    optimizer = optim.Adam(model.parameters(), lr=base_learning_rate)\n",
    "    scheduler = optim.lr_scheduler.ExponentialLR(optimizer,\n",
    "                                                 gamma=gamma)\n",
    "\n",
    "    pbar = tqdm(range(n_epochs), postfix=f'epoch 0/{n_epochs}')\n",
    "    for epoch in pbar:\n",
    "\n",
    "        model.train()\n",
    "        train_loss_epoch = train_one_epoch(optimizer)\n",
    "\n",
    "        model.eval()\n",
    "        with torch.no_grad():\n",
    "            valid_outputs = torch.squeeze(model(\n",
    "                torch.from_numpy(valid_features_normalized.astype(\"float32\"))))\n",
    "            valid_loss_epoch = loss_function(valid_outputs, \n",
    "                                             torch.from_numpy(valid_fco2).to(torch.device(\"cuda\"))\n",
    "                                            ).detach().cpu().item()\n",
    "        \n",
    "        train_stats[\"train_loss\"].append(train_loss_epoch)\n",
    "        train_stats[\"valid_loss\"].append(valid_loss_epoch)\n",
    "        lr = scheduler.get_last_lr()[0]\n",
    "        train_stats[\"learn_rate\"].append(lr)\n",
    "\n",
    "        scheduler.step()\n",
    "\n",
    "        pbar.set_postfix({'epoch': f'{epoch+1}/{n_epochs}',\n",
    "                          'train_loss':f'{train_loss_epoch:.4e}',\n",
    "                          'valid_loss':f'{valid_loss_epoch:.4e}',\n",
    "                          'learn_rate':f'{lr:.4e}'})\n",
    "\n",
    "    return train_stats"
   ]
  },
  {
   "cell_type": "markdown",
   "id": "0751829c-e310-470b-ab51-c2b4ce9445ba",
   "metadata": {},
   "source": [
    "#### Train neural network with pytorch"
   ]
  },
  {
   "cell_type": "code",
   "execution_count": 21,
   "id": "192d809b-dcf5-4eb2-b24a-a8244de6a4e5",
   "metadata": {},
   "outputs": [
    {
     "name": "stderr",
     "output_type": "stream",
     "text": [
      "100%|████████████████████████████████████████████████████████████████████████████| 10000/10000 [14:13:08<00:00,  5.12s/it, epoch=10000/10000, train_loss=7.3382e-04, valid_loss=6.6325e-04, learn_rate=1.0005e-05]\n"
     ]
    }
   ],
   "source": [
    "batch_size = 1000\n",
    "base_learning_rate = 1e-3\n",
    "gamma = calc_gammar(0.1, 5000)\n",
    "n_epochs = 10000\n",
    "train_stats = train(batch_size, base_learning_rate, gamma, n_epochs)"
   ]
  },
  {
   "cell_type": "code",
   "execution_count": 22,
   "id": "30a78c67-fe00-43cb-83ca-49c20140fc89",
   "metadata": {},
   "outputs": [],
   "source": [
    "model.save(\"fCO2_model_160x3_elu_10000epo.pth\")"
   ]
  },
  {
   "cell_type": "code",
   "execution_count": 23,
   "id": "bc695536-6ec2-4bfa-b68d-daa5f086b69b",
   "metadata": {},
   "outputs": [
    {
     "data": {
      "text/plain": [
       "Text(0, 0.5, 'Mean squared error')"
      ]
     },
     "execution_count": 23,
     "metadata": {},
     "output_type": "execute_result"
    },
    {
     "data": {
      "image/png": "[encoded data removed]",
      "text/plain": [
       "<Figure size 640x480 with 1 Axes>"
      ]
     },
     "metadata": {},
     "output_type": "display_data"
    }
   ],
   "source": [
    "plt.plot(train_stats[\"train_loss\"], label=\"training loss\", alpha=0.75)\n",
    "plt.plot(train_stats[\"valid_loss\"], label=\"validation loss\", alpha=0.75)\n",
    "plt.legend()\n",
    "plt.ylim([0, train_stats[\"train_loss\"][-1] * 10])\n",
    "plt.xlabel(\"Epoch\")\n",
    "plt.ylabel(\"Mean squared error\")"
   ]
  },
  {
   "cell_type": "code",
   "execution_count": 24,
   "id": "266af035-331f-4298-9df1-6a945273024c",
   "metadata": {},
   "outputs": [
    {
     "name": "stdout",
     "output_type": "stream",
     "text": [
      "Some tests of model performance\n",
      "Index:  2486469\n",
      "1.5238513381461891\n",
      "tensor([1.5320], device='cuda:0')\n",
      "-----\n",
      "Index:  889830\n",
      "324.2682943927702\n",
      "tensor([324.2732], device='cuda:0')\n",
      "-----\n",
      "Index:  1523244\n",
      "93.61794762446169\n",
      "tensor([93.6104], device='cuda:0')\n",
      "-----\n",
      "Index:  4919512\n",
      "364.4489801264373\n",
      "tensor([364.4019], device='cuda:0')\n",
      "-----\n",
      "Index:  772012\n",
      "36.9046795981006\n",
      "tensor([36.8948], device='cuda:0')\n",
      "-----\n",
      "Index:  42812\n",
      "994.1137228918248\n",
      "tensor([994.1043], device='cuda:0')\n",
      "-----\n",
      "Index:  4554809\n",
      "112.83200117779633\n",
      "tensor([112.8176], device='cuda:0')\n",
      "-----\n",
      "Index:  4297866\n",
      "781.8785392852421\n",
      "tensor([781.8563], device='cuda:0')\n",
      "-----\n",
      "Index:  1591483\n",
      "0.4073065739027675\n",
      "tensor([0.3949], device='cuda:0')\n",
      "-----\n",
      "Index:  3986147\n",
      "435.811833286222\n",
      "tensor([435.8284], device='cuda:0')\n",
      "-----\n"
     ]
    }
   ],
   "source": [
    "print(\"Some tests of model performance\")\n",
    "random_indices = np.random.randint(ntrain, size=10, dtype=int)\n",
    "\n",
    "model.eval()\n",
    "with torch.no_grad():\n",
    "    for ind in random_indices:\n",
    "        print(\"Index: \", ind)\n",
    "        print(train_fco2[ind])\n",
    "        print(model(torch.from_numpy(train_features_normalized[ind, :].astype(\"float32\"))))\n",
    "        print(\"-----\")"
   ]
  },
  {
   "cell_type": "code",
   "execution_count": 25,
   "id": "44e8ac07-c9fd-4db6-a995-afb41fc702a0",
   "metadata": {},
   "outputs": [],
   "source": [
    "def MSE(x, y): # define MSE for offline calculations on numpy arrays\n",
    "    return np.sum((x-y)**2)/len(x)"
   ]
  },
  {
   "cell_type": "code",
   "execution_count": 26,
   "id": "1d6fb27d-b958-4d69-90a2-f04edc638037",
   "metadata": {},
   "outputs": [],
   "source": [
    "model.eval()\n",
    "with torch.no_grad():\n",
    "    model_output_after_training = model(torch.from_numpy(\n",
    "        valid_features_normalized.astype(\"float32\"))).detach().cpu().numpy().squeeze()"
   ]
  },
  {
   "cell_type": "code",
   "execution_count": 27,
   "id": "2fa4cc0c-bdcf-4702-bb6d-a354635e505c",
   "metadata": {},
   "outputs": [
    {
     "name": "stdout",
     "output_type": "stream",
     "text": [
      "MSE (for consistency check):  0.0006632455188773402\n",
      "RMSE:  0.025753553519414368\n",
      "Maximum absolute deviation:  1.0776486752747587\n",
      "99.9th percentile of absolute deviation (1000 val's larger):  0.16812823077017486\n",
      "99.99th percentile of absolute deviation (100 val's larger):  0.27720996562240724\n",
      "99.999th percentile of absolute deviation (10 val's larger):  0.4864646814460207\n"
     ]
    }
   ],
   "source": [
    "print(\"MSE (for consistency check): \", MSE(valid_fco2, model_output_after_training))\n",
    "print(\"RMSE: \", np.sqrt(MSE(valid_fco2, model_output_after_training)))\n",
    "print(\"Maximum absolute deviation: \", np.max(np.abs(model_output_after_training-valid_fco2)))\n",
    "print(\"99.9th percentile of absolute deviation (1000 val's larger): \",\n",
    "      np.percentile(np.abs(model_output_after_training-valid_fco2), q=99.9))\n",
    "print(\"99.99th percentile of absolute deviation (100 val's larger): \",\n",
    "      np.percentile(np.abs(model_output_after_training-valid_fco2), q=99.99))\n",
    "print(\"99.999th percentile of absolute deviation (10 val's larger): \",\n",
    "      np.percentile(np.abs(model_output_after_training-valid_fco2), q=99.999))"
   ]
  },
  {
   "cell_type": "code",
   "execution_count": null,
   "id": "2360f227-14cc-4332-903d-5a0ea43fb31d",
   "metadata": {},
   "outputs": [],
   "source": []
  }
 ],
 "metadata": {
  "kernelspec": {
   "display_name": "Python 3 (ipykernel)",
   "language": "python",
   "name": "python3"
  },
  "language_info": {
   "codemirror_mode": {
    "name": "ipython",
    "version": 3
   },
   "file_extension": ".py",
   "mimetype": "text/x-python",
   "name": "python",
   "nbconvert_exporter": "python",
   "pygments_lexer": "ipython3",
   "version": "3.11.7"
  }
 },
 "nbformat": 4,
 "nbformat_minor": 5
}
