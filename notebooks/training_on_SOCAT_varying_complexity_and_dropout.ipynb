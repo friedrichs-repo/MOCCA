{
 "cells": [
  {
   "cell_type": "markdown",
   "id": "c61fc216-3068-4b66-8db9-bf4ecdaf1a47",
   "metadata": {},
   "source": [
    "#### Load necessary packages"
   ]
  },
  {
   "cell_type": "code",
   "execution_count": 1,
   "id": "f4602702-c7e7-4113-b66a-05bb086276d6",
   "metadata": {},
   "outputs": [],
   "source": [
    "import os\n",
    "import sys\n",
    "sys.path.insert(0,'../../mocsy')"
   ]
  },
  {
   "cell_type": "code",
   "execution_count": 2,
   "id": "98506a5e-a778-479d-a929-11b5ee8348dd",
   "metadata": {},
   "outputs": [],
   "source": [
    "import numpy as np\n",
    "import xarray as xr\n",
    "import pandas as pd\n",
    "from tqdm import tqdm\n",
    "import pickle \n",
    "import random\n",
    "import matplotlib.pyplot as plt\n",
    "from scipy import stats\n",
    "\n",
    "import mocsy\n",
    "from mocsy import mvars\n",
    "from mocsy import mrhoinsitu\n",
    "from mocsy import mrho"
   ]
  },
  {
   "cell_type": "code",
   "execution_count": 3,
   "id": "7040edad-9ecb-4263-b4aa-6c8d7092e5dc",
   "metadata": {},
   "outputs": [],
   "source": [
    "import torch\n",
    "import torch.nn as nn\n",
    "import torch.optim as optim\n",
    "import torch.nn.functional as F"
   ]
  },
  {
   "cell_type": "markdown",
   "id": "821d1bdd-e438-434d-90cf-f5ac0c5526c9",
   "metadata": {},
   "source": [
    "# Training data"
   ]
  },
  {
   "cell_type": "markdown",
   "id": "15f3727c-8384-4dd4-b17c-1f53ace14d4a",
   "metadata": {},
   "source": [
    "#### Read in the observational data"
   ]
  },
  {
   "cell_type": "code",
   "execution_count": 4,
   "id": "8cce78a4-688c-4833-868f-3f3bfa6ca3df",
   "metadata": {},
   "outputs": [
    {
     "name": "stdout",
     "output_type": "stream",
     "text": [
      "for tos, use the ESA CCI and C3S product until October 2022, then Armor3D for November and December\n",
      "for siconc, use the ESA CCI and C3S product until October 2022, then METOFFICE Ostia for November and December\n",
      "for chlos, use the climatological mean value before September 1997\n",
      "for co2, use a global representative value, given by the annual average measurement from Manua Loa, Hawaii\n"
     ]
    }
   ],
   "source": [
    "print(\"for tos, use the ESA CCI and C3S product until October 2022, then Armor3D for November and December\")\n",
    "print(\"for siconc, use the ESA CCI and C3S product until October 2022, then METOFFICE Ostia for November and December\")\n",
    "print(\"for chlos, use the climatological mean value before September 1997\")\n",
    "print(\"for co2, use a global representative value, given by the annual average measurement from Manua Loa, Hawaii\")\n",
    "ds_cci = xr.open_dataset(\"../data/ESACCI_and_C3S-GLO-SST-L4-REP-OBS-SST_multi-vars_1x1grid_1982-01-01-2022-10-31_monmean.nc\"\n",
    "                    ).sel(time=slice('1993-01-01', '2022-10-31'))\n",
    "ds_ostia = xr.open_dataset(\"../data/METOFFICE-GLO-SST-L4-NRT-OBS-SST-V2_multi-vars_1x1grid_2022-11-01-2022-12-31_monmean.nc\")\n",
    "ds_armor = xr.open_dataset(\"../data/dataset-armor-3d-rep-monthly_multi-vars_1x1grid_coarsened_0.00m_1993-01-01-2022-12-01.nc\")\n",
    "ds_ssh = xr.open_dataset(\n",
    "     \"../data/cmems_obs-sl_glo_phy-ssh_my_allsat-l4-duacs-0.25deg_P1D_adt_1x1grid_coarsened_1993-01-01-2022-12-31_monmean.nc\")\n",
    "ds_globcol = xr.open_dataset(\"../data/cmems_obs-oc_glo_bgc-plankton_my_l4-multi-4km_P1M_multi-vars_1x1grid_1997-09-01-2022-12-01.nc\")\n",
    "ds_globcol_clim = xr.open_dataset(\n",
    "    \"../data/cmems_obs-oc_glo_bgc-plankton_my_l4-multi-4km_P1M_multi-vars_1x1grid_1997-09-01-2022-12-01_ymonmean.nc\")\n",
    "\n",
    "df_co2 = pd.read_csv(\"../data/monthly_in_situ_co2_mlo_no_header.csv\")\n",
    "ds_era5 = xr.open_dataset(\"../data/era5_winds_1993_2022_1x1grid.nc\")\n",
    "ds_socat = xr.open_dataset(\"../data/SOCATv2023_tracks_gridded_monthly.nc\").sel(tmnth=slice('1993-01-01', '2022-12-31'))\n",
    "\n",
    "seamask = xr.open_dataset(\"../data/RECCAP2_region_masks_all_v20221025.nc\").seamask\n",
    "seamask_rolled = np.repeat(np.roll(seamask.values, shift=-180, axis=1)[np.newaxis, :, :], 360, axis=0)"
   ]
  },
  {
   "cell_type": "code",
   "execution_count": 5,
   "id": "011af99c-93a0-4590-84e1-1c4c57fee0ff",
   "metadata": {},
   "outputs": [],
   "source": [
    "data = {}\n",
    "\n",
    "data[\"tos\"] = np.concatenate([ds_cci.analysed_sst.values - 273.15, # ESA CCI and C3S is in Kelvin units\n",
    "                      ds_armor.to.squeeze().values[-2:, :, :]], axis=0)\n",
    "\n",
    "data[\"tos\"][seamask_rolled == 0] = np.nan\n",
    "\n",
    "data[\"siconc\"] = np.concatenate([ds_cci.sea_ice_fraction.values,\n",
    "                         ds_ostia.sea_ice_fraction.values], axis=0) * 100\n",
    "# to have concentration in range 0 100, as in models\n",
    "data[\"siconc\"][seamask_rolled == 0] = np.nan\n",
    "\n",
    "\n",
    "data[\"sos\"] = ds_armor.so.squeeze().values\n",
    "#Remove samples with sos < 10, since these were also removed during training of CMIP6 base model\"\n",
    "data[\"sos\"][data[\"sos\"] < 10] = np.nan\n",
    "data[\"sos\"][seamask_rolled == 0] = np.nan\n",
    "\n",
    "data[\"mlotst\"] = ds_armor.mlotst.squeeze().values\n",
    "data[\"mlotst\"][seamask_rolled == 0] = np.nan\n",
    "\n",
    "data[\"zos\"] = ds_ssh.adt.squeeze().values\n",
    "data[\"zos\"][seamask_rolled == 0] = np.nan\n",
    "\n",
    "data[\"chlos\"] = np.concatenate([np.concatenate([ds_globcol_clim.CHL.values for i in range(5)],\n",
    "                                                  axis=0)[:-4, :, :], ds_globcol.CHL.values], axis=0) * 1e-6\n",
    "# to go from mg m-3 to kg m-3 \n",
    "#data[\"chlos\"][np.logical_and(np.isnan(data[\"chlos\"]), np.isfinite(data[\"tos\"]))] = 0\n",
    "data[\"chlos\"][seamask_rolled == 0] = np.nan\n",
    "\n",
    "df_co2_yearmean = df_co2[['  Yr', '     CO2']].groupby('  Yr').mean()\n",
    "co2_scalar = df_co2_yearmean.loc[1993:2022]['     CO2'].values\n",
    "data[\"co2\"] = np.concatenate([co2_year * np.ones((12, 180, 360)) for co2_year in co2_scalar], axis=0)\n",
    "\n",
    "data[\"uas\"] = ds_era5.u10.values\n",
    "data[\"vas\"] = ds_era5.v10.values\n",
    "\n",
    "data[\"fco2\"] = ds_socat.fco2_ave_weighted.values"
   ]
  },
  {
   "cell_type": "code",
   "execution_count": 6,
   "id": "673c4e47-392c-430b-8ef5-752fb3c899fc",
   "metadata": {},
   "outputs": [],
   "source": [
    "data[\"lat\"] = np.repeat(np.repeat(np.arange(-89.5, 90)[np.newaxis, :],\n",
    "                         360, axis=0)[:, :, np.newaxis], 360, axis=2)\n",
    "\n",
    "data[\"lon\"] = np.repeat(np.repeat(np.arange(-179.5, 180)[np.newaxis, :],\n",
    "                         180, axis=0)[np.newaxis, :, :], 360, axis=0)\n",
    "data[\"mon\"] = np.repeat(np.repeat(np.array([i % 12 for i in range(360)])[:, np.newaxis],\n",
    "                          180, axis=1)[:, :, np.newaxis], 360, axis=2)"
   ]
  },
  {
   "cell_type": "code",
   "execution_count": 7,
   "id": "901e758a-89b1-48cd-ad44-79aff34902fa",
   "metadata": {},
   "outputs": [
    {
     "name": "stdout",
     "output_type": "stream",
     "text": [
      "Number of non-nan grid cells for tos: 15058446\n",
      "Number of non-nan grid cells for siconc: 15058440\n",
      "Number of non-nan grid cells for sos: 15053204\n",
      "Number of non-nan grid cells for mlotst: 14983581\n",
      "Number of non-nan grid cells for zos: 13209876\n",
      "Number of non-nan grid cells for chlos: 12450247\n",
      "Number of non-nan grid cells for co2: 23328000\n",
      "Number of non-nan grid cells for uas: 23328000\n",
      "Number of non-nan grid cells for vas: 23328000\n",
      "Number of non-nan grid cells for lat: 23328000\n",
      "Number of non-nan grid cells for lon: 23328000\n",
      "Number of non-nan grid cells for mon: 23328000\n"
     ]
    }
   ],
   "source": [
    "predictors = [\"tos\", \"siconc\", \"sos\", \"mlotst\", \"zos\", \"chlos\", \"co2\",\n",
    "              \"uas\", \"vas\", \"lat\", \"lon\", \"mon\"]\n",
    "for predictor in predictors:\n",
    "    print(\"Number of non-nan grid cells for {}: {}\". format(\n",
    "        predictor, np.sum(np.isfinite(data[predictor]))\n",
    "    ))"
   ]
  },
  {
   "cell_type": "code",
   "execution_count": 8,
   "id": "35d44b4e-96dd-481a-9b68-2330f5d1bbea",
   "metadata": {},
   "outputs": [
    {
     "name": "stdout",
     "output_type": "stream",
     "text": [
      "Minimum and maximum for tos: -2.11e+00, 3.31e+01\n",
      "Minimum and maximum for siconc: 0.00e+00, 1.00e+02\n",
      "Minimum and maximum for sos: 1.00e+01, 3.98e+01\n",
      "Minimum and maximum for mlotst: 1.01e+01, 2.14e+03\n",
      "Minimum and maximum for zos: -1.57e+00, 2.20e+00\n",
      "Minimum and maximum for chlos: 1.06e-08, 4.94e-05\n",
      "Minimum and maximum for co2: 3.57e+02, 4.18e+02\n",
      "Minimum and maximum for uas: -1.75e+01, 1.42e+01\n",
      "Minimum and maximum for vas: -1.58e+01, 2.01e+01\n",
      "Minimum and maximum for lat: -8.95e+01, 8.95e+01\n",
      "Minimum and maximum for lon: -1.80e+02, 1.80e+02\n",
      "Minimum and maximum for mon: 0.00e+00, 1.10e+01\n"
     ]
    }
   ],
   "source": [
    "for predictor in predictors:\n",
    "    print(\"Minimum and maximum for {}: {:.2e}, {:.2e}\". format(\n",
    "        predictor, np.nanmin(data[predictor]), np.nanmax(data[predictor])\n",
    "    ))"
   ]
  },
  {
   "cell_type": "code",
   "execution_count": 9,
   "id": "8f2037db-b302-4c26-a2cd-511412075adc",
   "metadata": {},
   "outputs": [
    {
     "name": "stdout",
     "output_type": "stream",
     "text": [
      "Number of non-nan grid cells for fCO2: 341467\n"
     ]
    }
   ],
   "source": [
    "print(\"Number of non-nan grid cells for fCO2: {}\". format(\n",
    "    np.sum(np.isfinite(data[\"fco2\"]))\n",
    "    ))"
   ]
  },
  {
   "cell_type": "code",
   "execution_count": 10,
   "id": "f8cce77a-bc1c-4971-a2de-2d67dc56cb41",
   "metadata": {},
   "outputs": [
    {
     "name": "stdout",
     "output_type": "stream",
     "text": [
      "Minimum and maximum for fCO2: 4.45e+01, 4.31e+03\n"
     ]
    }
   ],
   "source": [
    "print(\"Minimum and maximum for fCO2: {:.2e}, {:.2e}\". format(\n",
    "    np.nanmin(data[\"fco2\"]), np.nanmax(data[\"fco2\"])\n",
    "))"
   ]
  },
  {
   "cell_type": "markdown",
   "id": "855f0137-bd68-4a77-9e74-bac8c9d719fc",
   "metadata": {},
   "source": [
    "#### Creation of training data"
   ]
  },
  {
   "cell_type": "code",
   "execution_count": 11,
   "id": "136cdc35-6605-46d8-9567-e2ecb015f798",
   "metadata": {},
   "outputs": [
    {
     "name": "stdout",
     "output_type": "stream",
     "text": [
      "Number of SOCAT samples: 341467\n",
      "Number of SOCAT samples where all predictors available: 311440 (91.2 %)\n"
     ]
    }
   ],
   "source": [
    "print(\"Number of SOCAT samples: {}\".format(np.sum(np.isfinite(data[\"fco2\"]))))\n",
    "# check how many grid cells have non-nan values in socat fco2 and all predictor fields\n",
    "# (some predictors left out because they have no missing values)\n",
    "is_socat_training_sample = np.isfinite(data[\"fco2\"] * data[\"siconc\"] * data[\"tos\"] * data[\"sos\"]\n",
    "                                       * data[\"mlotst\"] * data[\"zos\"] * data[\"chlos\"])\n",
    "print(\"Number of SOCAT samples where all predictors available: {} ({:.1f} %)\".format(\n",
    "    np.sum(is_socat_training_sample),\n",
    "    100 * np.sum(is_socat_training_sample) / np.sum(np.isfinite(data[\"fco2\"]))))\n",
    "\n",
    "data_socat = {}\n",
    "for key in [\"fco2\"] + predictors:\n",
    "    data_socat[key] = data[key][is_socat_training_sample]"
   ]
  },
  {
   "cell_type": "markdown",
   "id": "9149fe10-7370-48cd-8bf5-0d970456a711",
   "metadata": {},
   "source": [
    "# Preprocessing of data for training"
   ]
  },
  {
   "cell_type": "markdown",
   "id": "849bf759-7f40-40aa-9782-a2d142cdec8a",
   "metadata": {},
   "source": [
    "#### Transform mon to mon_sin and mon_cos"
   ]
  },
  {
   "cell_type": "code",
   "execution_count": 12,
   "id": "e8612e5f-08c8-4f26-9cfc-34ebe569d791",
   "metadata": {},
   "outputs": [],
   "source": [
    "data_socat[\"mon_sin\"] = np.sin(data_socat[\"mon\"] / 12 * 2 * np.pi)\n",
    "data_socat[\"mon_cos\"] = np.cos(data_socat[\"mon\"] / 12 * 2 * np.pi)\n",
    "del data_socat[\"mon\"]"
   ]
  },
  {
   "cell_type": "markdown",
   "id": "6679ae25-8c34-4ed8-a861-94c2728658a1",
   "metadata": {},
   "source": [
    "#### Transform lat and lon\n",
    "\n",
    "Following Gade et al., 2010: A Non-singular Horizontal Position Representation"
   ]
  },
  {
   "cell_type": "code",
   "execution_count": 13,
   "id": "4152dfc1-e8ba-4975-b0d8-70dd07eef621",
   "metadata": {},
   "outputs": [],
   "source": [
    "data_socat[\"nvector1\"] = np.sin(data_socat[\"lat\"] / 360 * 2 * np.pi)\n",
    "data_socat[\"nvector2\"] = np.sin(data_socat[\"lon\"] / 360 * 2 * np.pi)\\\n",
    "    * np.cos(data_socat[\"lat\"] / 360 * 2 * np.pi)\n",
    "data_socat[\"nvector3\"] = - np.cos(data_socat[\"lon\"] / 360 * 2 * np.pi)\\\n",
    "    * np.cos(data_socat[\"lat\"] / 360 * 2 * np.pi)\n",
    "del data_socat[\"lon\"]\n",
    "del data_socat[\"lat\"]"
   ]
  },
  {
   "cell_type": "markdown",
   "id": "0ee75728-16ca-4d66-a593-20bce2359edb",
   "metadata": {},
   "source": [
    "#### Log-transform mlotst and chlos"
   ]
  },
  {
   "cell_type": "code",
   "execution_count": 14,
   "id": "aecad3f6-b287-4b37-8296-7b1f9379cd57",
   "metadata": {},
   "outputs": [],
   "source": [
    "def normalize(array):\n",
    "    return (array - np.mean(array)) / np.std(array)"
   ]
  },
  {
   "cell_type": "code",
   "execution_count": 15,
   "id": "5088a280-8c9a-46a2-90d6-afe260aba9c5",
   "metadata": {},
   "outputs": [
    {
     "name": "stdout",
     "output_type": "stream",
     "text": [
      "mlotst statistic:  0.23653021181947087\n",
      "mlotst statistic with log transform:  0.05216682639068482\n"
     ]
    }
   ],
   "source": [
    "print(\"mlotst statistic: \",\n",
    "      stats.kstest(normalize(data_socat[\"mlotst\"]), stats.norm.cdf)[0])\n",
    "print(\"mlotst statistic with log transform: \",\n",
    "      stats.kstest(normalize(np.log(data_socat[\"mlotst\"])), stats.norm.cdf)[0])"
   ]
  },
  {
   "cell_type": "code",
   "execution_count": 16,
   "id": "243f6802-b52a-429c-960b-5b70f44e3ae9",
   "metadata": {},
   "outputs": [
    {
     "name": "stdout",
     "output_type": "stream",
     "text": [
      "mlotst statistic:  0.28406905399619975\n",
      "mlotst statistic with log transform:  0.04376417813484801\n"
     ]
    }
   ],
   "source": [
    "print(\"mlotst statistic: \",\n",
    "      stats.kstest(normalize(data_socat[\"chlos\"]), stats.norm.cdf)[0])\n",
    "print(\"mlotst statistic with log transform: \",\n",
    "      stats.kstest(normalize(np.log(data_socat[\"chlos\"])), stats.norm.cdf)[0])"
   ]
  },
  {
   "cell_type": "code",
   "execution_count": 17,
   "id": "4130fd92-345d-4703-b769-64592c5cf5e8",
   "metadata": {},
   "outputs": [
    {
     "data": {
      "text/plain": [
       "Text(0.5, 1.0, 'mlotst')"
      ]
     },
     "execution_count": 17,
     "metadata": {},
     "output_type": "execute_result"
    },
    {
     "data": {
      "image/png": "[encoded data removed]",
      "text/plain": [
       "<Figure size 640x480 with 1 Axes>"
      ]
     },
     "metadata": {},
     "output_type": "display_data"
    }
   ],
   "source": [
    "plt.hist(normalize(data_socat[\"mlotst\"]), 100, density=True, facecolor='blue', alpha=0.5);\n",
    "plt.hist(normalize(np.log(data_socat[\"mlotst\"])), 100, density=True, facecolor='green', alpha=0.5);\n",
    "plt.title(\"mlotst\")"
   ]
  },
  {
   "cell_type": "code",
   "execution_count": 18,
   "id": "c90fa223-25af-4061-802a-ac8848fd0a9b",
   "metadata": {},
   "outputs": [
    {
     "data": {
      "text/plain": [
       "Text(0.5, 1.0, 'chlos')"
      ]
     },
     "execution_count": 18,
     "metadata": {},
     "output_type": "execute_result"
    },
    {
     "data": {
      "image/png": "[encoded data removed]",
      "text/plain": [
       "<Figure size 640x480 with 1 Axes>"
      ]
     },
     "metadata": {},
     "output_type": "display_data"
    }
   ],
   "source": [
    "plt.hist(normalize(data_socat[\"chlos\"]), 100, density=True, facecolor='blue', alpha=0.5);\n",
    "plt.hist(normalize(np.log(data_socat[\"chlos\"])), 100, density=True, facecolor='green', alpha=0.5);\n",
    "plt.title(\"chlos\")"
   ]
  },
  {
   "cell_type": "code",
   "execution_count": 19,
   "id": "d4d20e19-714d-47e8-adaf-8137a3a546fa",
   "metadata": {},
   "outputs": [],
   "source": [
    "data_socat[\"mlotst\"] = np.log(data_socat[\"mlotst\"])\n",
    "data_socat[\"chlos\"] = np.log(data_socat[\"chlos\"])"
   ]
  },
  {
   "cell_type": "markdown",
   "id": "8bb280ce-9408-41a1-af44-5d6d355240f5",
   "metadata": {},
   "source": [
    "####  Split into training and validation sets"
   ]
  },
  {
   "cell_type": "code",
   "execution_count": 20,
   "id": "46f723c0-6b32-4691-97b5-ac59f6d060e4",
   "metadata": {},
   "outputs": [],
   "source": [
    "np.random.seed(0)\n",
    "random.seed(0)\n",
    "train_valid_split = 0.833 \n",
    "# As before, have 5/6 as training and 1/6 as validation data\n",
    "random_indices = np.arange(len(data_socat[\"tos\"]), dtype=int)\n",
    "\n",
    "random.shuffle(random_indices)\n",
    "\n",
    "ntrain_socat = int(len(data_socat[\"tos\"]) * train_valid_split)\n",
    "train_socat = {key: data_socat[key][random_indices][:ntrain_socat]\n",
    "               for key in data_socat}\n",
    "valid_socat = {key: data_socat[key][random_indices][ntrain_socat:]\n",
    "               for key in data_socat}"
   ]
  },
  {
   "cell_type": "markdown",
   "id": "ad29a6f7-dc31-47fb-8a84-0c0df423b7f0",
   "metadata": {},
   "source": [
    "#### normalize data and convert into feature and label arrays"
   ]
  },
  {
   "cell_type": "code",
   "execution_count": 21,
   "id": "4e12d1f1-7feb-4ad8-90aa-b184f0cd72d1",
   "metadata": {},
   "outputs": [],
   "source": [
    "feature_keys = [\"tos\", \"sos\", \"mlotst\", \"zos\", \"chlos\", \"siconc\", \"uas\", \"vas\",\n",
    "                \"co2\", \"mon_sin\", \"mon_cos\", \"nvector1\", \"nvector2\", \"nvector3\"]\n",
    "\n",
    "# Processing the socat data\n",
    "train_features = np.concatenate([(\n",
    "    train_socat[key][:, np.newaxis] - np.mean(train_socat[key], keepdims=True)\n",
    ") / np.std(train_socat[key], keepdims=True) for key in feature_keys], axis=1)\n",
    "\n",
    "valid_features = np.concatenate([(\n",
    "    valid_socat[key][:, np.newaxis] - np.mean(train_socat[key], keepdims=True)\n",
    ") / np.std(train_socat[key], keepdims=True) for key in feature_keys], axis=1)\n",
    "\n",
    "train_labels = train_socat[\"fco2\"] # maybe add [:, np.newaxis]\n",
    "\n",
    "valid_labels = valid_socat[\"fco2\"] # maybe add [:, np.newaxis]"
   ]
  },
  {
   "cell_type": "code",
   "execution_count": 22,
   "id": "5947b215-d3d9-48ea-a4a5-612ff3be86e1",
   "metadata": {},
   "outputs": [
    {
     "name": "stdout",
     "output_type": "stream",
     "text": [
      "Check shapes of matrices.\n",
      "(259429, 14)\n",
      "(52011, 14)\n",
      "(259429,)\n",
      "(52011,)\n"
     ]
    }
   ],
   "source": [
    "print(\"Check shapes of matrices.\")\n",
    "print(train_features.shape)\n",
    "print(valid_features.shape)\n",
    "print(train_labels.shape)\n",
    "print(valid_labels.shape)"
   ]
  },
  {
   "cell_type": "code",
   "execution_count": 23,
   "id": "c1556919-ecd3-447e-bfc3-6e339472a5e7",
   "metadata": {},
   "outputs": [
    {
     "name": "stdout",
     "output_type": "stream",
     "text": [
      "Check normalization of features.\n",
      "[-1.98091549e-07 -1.18313885e-06 -2.34415517e-07 -8.34093408e-17\n",
      " -1.71039162e-07  3.77543214e-09  1.61390935e-10  5.67887181e-09\n",
      " -2.50701440e-15  1.39513491e-15  8.55629498e-16  1.06597741e-17\n",
      " -1.62730916e-16 -3.55865018e-17]\n",
      "[1.00000007 0.99999996 1.00000001 1.         1.00000012 0.99999994\n",
      " 0.99999993 0.99999989 1.         1.         1.         1.\n",
      " 1.         1.        ]\n",
      "[ 0.00243286  0.00013972 -0.00231412 -0.00164163 -0.0040474  -0.00014885\n",
      " -0.00412211 -0.0069778  -0.00411415 -0.00914038  0.00381481  0.00130063\n",
      " -0.00261278 -0.00210639]\n",
      "[1.00407728 0.99088764 0.99790476 1.00104361 0.99878954 0.9961336\n",
      " 1.00271917 0.99543085 1.00098252 0.99966496 1.00026701 0.99795842\n",
      " 1.00258622 0.99966814]\n"
     ]
    }
   ],
   "source": [
    "print(\"Check normalization of features.\")\n",
    "print(np.mean(train_features, axis=0))\n",
    "print(np.std(train_features, axis=0))\n",
    "print(np.mean(valid_features, axis=0))\n",
    "print(np.std(valid_features, axis=0))"
   ]
  },
  {
   "cell_type": "markdown",
   "id": "c9bfe9b4-65c5-474f-985b-6224097f65ef",
   "metadata": {},
   "source": [
    "# Define neural network and training procedure"
   ]
  },
  {
   "cell_type": "code",
   "execution_count": 24,
   "id": "52d5715f-e800-456f-a86c-70d7eeff033b",
   "metadata": {},
   "outputs": [],
   "source": [
    "class simple_MLP(nn.Module):\n",
    "    def __init__(self, input_size, hidden_size):\n",
    "        super().__init__()\n",
    "        self.device = torch.device(\"cuda\")\n",
    "        self.linear1 = nn.Linear(input_size, hidden_size, device=self.device)\n",
    "        self.linear2 = nn.Linear(hidden_size, hidden_size, device=self.device)\n",
    "        self.linear3 = nn.Linear(hidden_size, hidden_size, device=self.device)\n",
    "        self.linear4 = nn.Linear(hidden_size, 1, device=self.device)\n",
    "    \n",
    "    def forward(self, x):\n",
    "        x = x.to(self.device)\n",
    "        x = F.elu(self.linear1(x))\n",
    "        x = F.elu(self.linear2(x))\n",
    "        x = F.elu(self.linear3(x))\n",
    "        x = F.elu(self.linear4(x))\n",
    "        \n",
    "        return x\n",
    "\n",
    "    def save(self, file_name='model.pth'):\n",
    "        model_folder_path = '../models'\n",
    "        if not os.path.exists(model_folder_path):\n",
    "            os.makedirs(model_folder_path)\n",
    "\n",
    "        file_name = os.path.join(model_folder_path, file_name)\n",
    "        torch.save(self.state_dict(), file_name)"
   ]
  },
  {
   "cell_type": "code",
   "execution_count": 25,
   "id": "337e2d00-bbd4-40ec-aafc-8b962e9d26dc",
   "metadata": {},
   "outputs": [],
   "source": [
    "def training_dataloader(features, labels, batch_size):\n",
    "    ntrain = len(labels)\n",
    "    nbatch = ntrain // batch_size\n",
    "    indices = np.arange(ntrain, dtype=int)\n",
    "    random.shuffle(indices)\n",
    "    batch_indices = np.split(indices[:nbatch * batch_size], nbatch)\n",
    "    batch_data = [(torch.from_numpy(np.take(features, ind, axis=0).astype(\"float32\")).to(torch.device(\"cuda\")),\n",
    "                   torch.from_numpy(np.take(labels, ind, axis=0).astype(\"float32\")).to(torch.device(\"cuda\")))\n",
    "                   for ind in batch_indices]\n",
    "    return batch_data"
   ]
  },
  {
   "cell_type": "code",
   "execution_count": 26,
   "id": "ddfb7855-a4a3-4292-9b34-5d9b14586be3",
   "metadata": {},
   "outputs": [],
   "source": [
    "loss_function = nn.MSELoss()"
   ]
  },
  {
   "cell_type": "code",
   "execution_count": 27,
   "id": "fdc82445-36c3-49f0-b1a3-98ea797ab048",
   "metadata": {},
   "outputs": [],
   "source": [
    "def train_one_epoch(optimizer):\n",
    "    running_loss = 0. # running loss over all batches in the epoch\n",
    "\n",
    "    training_data = training_dataloader(train_features,\n",
    "                                        train_labels,\n",
    "                                        batch_size)\n",
    "    \n",
    "    for batch in training_data:\n",
    "        features, labels = batch\n",
    "        optimizer.zero_grad()\n",
    "        outputs = torch.squeeze(model(features))\n",
    "        loss = loss_function(outputs, labels)\n",
    "        loss.backward()\n",
    "        optimizer.step()\n",
    "        \n",
    "        running_loss += loss.detach().cpu().item()\n",
    "\n",
    "    ntrain = len(train_labels)\n",
    "    nbatch = ntrain // batch_size\n",
    "\n",
    "    return running_loss / nbatch"
   ]
  },
  {
   "cell_type": "code",
   "execution_count": 28,
   "id": "f72c7ec4-24cb-44ae-89a3-a2161e533902",
   "metadata": {},
   "outputs": [],
   "source": [
    "def calc_gammar(reduction_factor, nepochs):                                                                                                                                                                       \n",
    "    return reduction_factor**(1 / nepochs)\n",
    "\n",
    "def train(batch_size, n_epochs, optimizer, scheduler):\n",
    "    train_stats = {\"train_loss\":[], \"valid_loss\":[], \"learn_rate\":[]}\n",
    "\n",
    "    pbar = tqdm(range(n_epochs), postfix=f'epoch 0/{n_epochs}')\n",
    "    \n",
    "    for epoch in pbar:\n",
    "\n",
    "        model.train()\n",
    "\n",
    "        train_loss_epoch = train_one_epoch(optimizer)\n",
    "\n",
    "        model.eval()\n",
    "        with torch.no_grad():\n",
    "            valid_outputs = torch.squeeze(model(\n",
    "                torch.from_numpy(valid_features.astype(\"float32\")).to(torch.device(\"cuda\"))))\n",
    "            valid_loss_epoch = loss_function(\n",
    "                valid_outputs, torch.from_numpy(valid_labels).to(torch.device(\"cuda\"))\n",
    "                                        ).detach().cpu().item()\n",
    "                \n",
    "        train_stats[\"train_loss\"].append(train_loss_epoch)\n",
    "        train_stats[\"valid_loss\"].append(valid_loss_epoch)\n",
    "        \n",
    "        lr = scheduler.get_last_lr()[0]\n",
    "        train_stats[\"learn_rate\"].append(lr)\n",
    "\n",
    "        scheduler.step()\n",
    "\n",
    "        pbar.set_postfix({'epoch': f'{epoch+1}/{n_epochs}',\n",
    "                          'train_loss': f'{train_loss_epoch:.3e}',\n",
    "                          'valid_loss': f'{valid_loss_epoch:.3e}',\n",
    "                          'learn_rate': f'{lr:.3e}'}\n",
    "                        )\n",
    "\n",
    "    return train_stats"
   ]
  },
  {
   "cell_type": "markdown",
   "id": "8efab4db-ae79-40d9-9506-9f5619bc4c94",
   "metadata": {},
   "source": [
    "# Training"
   ]
  },
  {
   "cell_type": "code",
   "execution_count": 29,
   "id": "53cd9879-d25f-4101-8829-036a883f7bcc",
   "metadata": {},
   "outputs": [
    {
     "name": "stdout",
     "output_type": "stream",
     "text": [
      "Variance in the SOCAT validation set: 1712.27 muatm2\n"
     ]
    }
   ],
   "source": [
    "print(\"Variance in the SOCAT validation set: {:.2f} muatm2\".format(np.var(valid_labels)))"
   ]
  },
  {
   "cell_type": "markdown",
   "id": "154c3876-1d32-4a1b-8a05-2dc0f5b6a28d",
   "metadata": {},
   "source": [
    "#### Training a tiny model (hidden layer size: 16)"
   ]
  },
  {
   "cell_type": "code",
   "execution_count": 30,
   "id": "e7c24dab-0df0-48e5-a247-814a54f80502",
   "metadata": {},
   "outputs": [
    {
     "name": "stdout",
     "output_type": "stream",
     "text": [
      "simple_MLP(\n",
      "  (linear1): Linear(in_features=14, out_features=16, bias=True)\n",
      "  (linear2): Linear(in_features=16, out_features=16, bias=True)\n",
      "  (linear3): Linear(in_features=16, out_features=16, bias=True)\n",
      "  (linear4): Linear(in_features=16, out_features=1, bias=True)\n",
      ")\n",
      "Number of trainable parameters in the model: 801\n"
     ]
    }
   ],
   "source": [
    "model = simple_MLP(14, 16)\n",
    "print(model)\n",
    "\n",
    "pytorch_total_params = sum(p.numel() for p in model.parameters() if p.requires_grad)\n",
    "print(\"Number of trainable parameters in the model:\", pytorch_total_params)"
   ]
  },
  {
   "cell_type": "code",
   "execution_count": 31,
   "id": "e5cb241a-52b1-4cb3-a506-52ecd9c4712c",
   "metadata": {},
   "outputs": [
    {
     "name": "stderr",
     "output_type": "stream",
     "text": [
      "100%|██████████████████████████████████████████████████████████████████████████████████████| 5000/5000 [22:13<00:00,  3.75it/s, epoch=5000/5000, train_loss=5.376e+02, valid_loss=4.629e+02, learn_rate=1.001e-05]\n"
     ]
    }
   ],
   "source": [
    "batch_size = 1000\n",
    "n_epochs = 5_000\n",
    "\n",
    "base_learning_rate = 1e-3\n",
    "gamma = calc_gammar(0.1, 2500)\n",
    "\n",
    "optimizer = optim.Adam(model.parameters(), lr=base_learning_rate)\n",
    "scheduler = optim.lr_scheduler.ExponentialLR(optimizer,\n",
    "                                             gamma=gamma)\n",
    "\n",
    "train_stats_16 = train(batch_size, n_epochs, optimizer, scheduler)"
   ]
  },
  {
   "cell_type": "code",
   "execution_count": 32,
   "id": "717a63a8-da7a-4a04-9ea4-673747f7707a",
   "metadata": {},
   "outputs": [
    {
     "data": {
      "text/plain": [
       "Text(0.5, 1.0, 'Training of tiny model')"
      ]
     },
     "execution_count": 32,
     "metadata": {},
     "output_type": "execute_result"
    },
    {
     "data": {
      "image/png": "[encoded data removed]",
      "text/plain": [
       "<Figure size 640x480 with 1 Axes>"
      ]
     },
     "metadata": {},
     "output_type": "display_data"
    }
   ],
   "source": [
    "plt.plot(train_stats_16[\"train_loss\"], label=\"training loss\", alpha=0.75)\n",
    "plt.plot(train_stats_16[\"valid_loss\"], label=\"validation loss\", alpha=0.75)\n",
    "plt.legend()\n",
    "plt.ylim([train_stats_16[\"train_loss\"][-1] * 0.8,\n",
    "          train_stats_16[\"train_loss\"][-1] * 2])\n",
    "plt.xlabel(\"Epoch\")\n",
    "plt.ylabel(\"Mean squared error\")\n",
    "plt.title(\"Training of tiny model\")"
   ]
  },
  {
   "cell_type": "markdown",
   "id": "f135169e-516a-4418-96f9-2d6c5cfc5aaf",
   "metadata": {},
   "source": [
    "#### Training a small model (hidden layer size: 36)"
   ]
  },
  {
   "cell_type": "code",
   "execution_count": 33,
   "id": "9baf9cee-5eb5-44f7-a20e-ceb60f081de9",
   "metadata": {},
   "outputs": [
    {
     "name": "stdout",
     "output_type": "stream",
     "text": [
      "simple_MLP(\n",
      "  (linear1): Linear(in_features=14, out_features=36, bias=True)\n",
      "  (linear2): Linear(in_features=36, out_features=36, bias=True)\n",
      "  (linear3): Linear(in_features=36, out_features=36, bias=True)\n",
      "  (linear4): Linear(in_features=36, out_features=1, bias=True)\n",
      ")\n",
      "Number of trainable parameters in the model: 3241\n"
     ]
    }
   ],
   "source": [
    "model = simple_MLP(14, 36)\n",
    "print(model)\n",
    "\n",
    "pytorch_total_params = sum(p.numel() for p in model.parameters() if p.requires_grad)\n",
    "print(\"Number of trainable parameters in the model:\", pytorch_total_params)"
   ]
  },
  {
   "cell_type": "code",
   "execution_count": 34,
   "id": "8233b3ee-e56e-46fb-8d29-c30b433eff05",
   "metadata": {},
   "outputs": [
    {
     "name": "stderr",
     "output_type": "stream",
     "text": [
      "100%|██████████████████████████████████████████████████████████████████████████████████████| 5000/5000 [21:30<00:00,  3.87it/s, epoch=5000/5000, train_loss=4.551e+02, valid_loss=3.968e+02, learn_rate=1.001e-05]\n"
     ]
    }
   ],
   "source": [
    "batch_size = 1000\n",
    "n_epochs = 5_000\n",
    "\n",
    "base_learning_rate = 1e-3\n",
    "gamma = calc_gammar(0.1, 2500)\n",
    "\n",
    "optimizer = optim.Adam(model.parameters(), lr=base_learning_rate)\n",
    "scheduler = optim.lr_scheduler.ExponentialLR(optimizer,\n",
    "                                             gamma=gamma)\n",
    "\n",
    "train_stats_36 = train(batch_size, n_epochs, optimizer, scheduler)"
   ]
  },
  {
   "cell_type": "code",
   "execution_count": 35,
   "id": "ce30fa9a-ee4b-49be-a3d5-74cfd352f668",
   "metadata": {},
   "outputs": [
    {
     "data": {
      "text/plain": [
       "Text(0.5, 1.0, 'Training of small model')"
      ]
     },
     "execution_count": 35,
     "metadata": {},
     "output_type": "execute_result"
    },
    {
     "data": {
      "image/png": "[encoded data removed]",
      "text/plain": [
       "<Figure size 640x480 with 1 Axes>"
      ]
     },
     "metadata": {},
     "output_type": "display_data"
    }
   ],
   "source": [
    "plt.plot(train_stats_36[\"train_loss\"], label=\"training loss\", alpha=0.75)\n",
    "plt.plot(train_stats_36[\"valid_loss\"], label=\"validation loss\", alpha=0.75)\n",
    "plt.legend()\n",
    "plt.ylim([train_stats_36[\"train_loss\"][-1] * 0.8,\n",
    "          train_stats_36[\"train_loss\"][-1] * 2])\n",
    "plt.xlabel(\"Epoch\")\n",
    "plt.ylabel(\"Mean squared error\")\n",
    "plt.title(\"Training of small model\")"
   ]
  },
  {
   "cell_type": "markdown",
   "id": "8e2b1de6-eacf-44cc-bb9b-34ef48deac34",
   "metadata": {},
   "source": [
    "#### Training a medium-sized model (hidden layer size: 76)"
   ]
  },
  {
   "cell_type": "code",
   "execution_count": 36,
   "id": "de2c1649-0462-4c7a-a1a7-bf9172f3460c",
   "metadata": {},
   "outputs": [
    {
     "name": "stdout",
     "output_type": "stream",
     "text": [
      "simple_MLP(\n",
      "  (linear1): Linear(in_features=14, out_features=76, bias=True)\n",
      "  (linear2): Linear(in_features=76, out_features=76, bias=True)\n",
      "  (linear3): Linear(in_features=76, out_features=76, bias=True)\n",
      "  (linear4): Linear(in_features=76, out_features=1, bias=True)\n",
      ")\n",
      "Number of trainable parameters in the model: 12921\n"
     ]
    }
   ],
   "source": [
    "model = simple_MLP(14, 76)\n",
    "print(model)\n",
    "\n",
    "pytorch_total_params = sum(p.numel() for p in model.parameters() if p.requires_grad)\n",
    "print(\"Number of trainable parameters in the model:\", pytorch_total_params)"
   ]
  },
  {
   "cell_type": "code",
   "execution_count": 37,
   "id": "edf9b1fa-666d-4199-9458-e6bd48f8df50",
   "metadata": {},
   "outputs": [
    {
     "name": "stderr",
     "output_type": "stream",
     "text": [
      "100%|██████████████████████████████████████████████████████████████████████████████████████| 5000/5000 [21:45<00:00,  3.83it/s, epoch=5000/5000, train_loss=3.471e+02, valid_loss=3.380e+02, learn_rate=1.001e-05]\n"
     ]
    }
   ],
   "source": [
    "batch_size = 1000\n",
    "n_epochs = 5_000\n",
    "\n",
    "base_learning_rate = 1e-3\n",
    "gamma = calc_gammar(0.1, 2500)\n",
    "\n",
    "optimizer = optim.Adam(model.parameters(), lr=base_learning_rate)\n",
    "scheduler = optim.lr_scheduler.ExponentialLR(optimizer,\n",
    "                                             gamma=gamma)\n",
    "\n",
    "train_stats_76 = train(batch_size, n_epochs, optimizer, scheduler)"
   ]
  },
  {
   "cell_type": "code",
   "execution_count": 38,
   "id": "75a7cef8-a3d1-45b6-a555-d4fd7835c0fb",
   "metadata": {},
   "outputs": [
    {
     "data": {
      "text/plain": [
       "Text(0.5, 1.0, 'Training of medium-sized model')"
      ]
     },
     "execution_count": 38,
     "metadata": {},
     "output_type": "execute_result"
    },
    {
     "data": {
      "image/png": "[encoded data removed]",
      "text/plain": [
       "<Figure size 640x480 with 1 Axes>"
      ]
     },
     "metadata": {},
     "output_type": "display_data"
    }
   ],
   "source": [
    "plt.plot(train_stats_76[\"train_loss\"], label=\"training loss\", alpha=0.75)\n",
    "plt.plot(train_stats_76[\"valid_loss\"], label=\"validation loss\", alpha=0.75)\n",
    "plt.legend()\n",
    "plt.ylim([train_stats_76[\"train_loss\"][-1] * 0.8,\n",
    "          train_stats_76[\"train_loss\"][-1] * 2])\n",
    "plt.xlabel(\"Epoch\")\n",
    "plt.ylabel(\"Mean squared error\")\n",
    "plt.title(\"Training of medium-sized model\")"
   ]
  },
  {
   "cell_type": "markdown",
   "id": "c960ff5f-6ef4-4905-9ff9-8f5fed9a0191",
   "metadata": {},
   "source": [
    "#### Training default model without dropout"
   ]
  },
  {
   "cell_type": "code",
   "execution_count": 46,
   "id": "1bf882e3-4df5-452f-a07d-49ad140c1ddf",
   "metadata": {},
   "outputs": [
    {
     "name": "stdout",
     "output_type": "stream",
     "text": [
      "simple_MLP(\n",
      "  (linear1): Linear(in_features=14, out_features=160, bias=True)\n",
      "  (linear2): Linear(in_features=160, out_features=160, bias=True)\n",
      "  (linear3): Linear(in_features=160, out_features=160, bias=True)\n",
      "  (linear4): Linear(in_features=160, out_features=1, bias=True)\n",
      ")\n",
      "Number of trainable parameters in the model: 54081\n"
     ]
    }
   ],
   "source": [
    "model = simple_MLP(14, 160)\n",
    "print(model)\n",
    "\n",
    "pytorch_total_params = sum(p.numel() for p in model.parameters() if p.requires_grad)\n",
    "print(\"Number of trainable parameters in the model:\", pytorch_total_params)"
   ]
  },
  {
   "cell_type": "code",
   "execution_count": 47,
   "id": "25d66282-176e-4348-a7e7-34b8e411a0ae",
   "metadata": {},
   "outputs": [
    {
     "name": "stderr",
     "output_type": "stream",
     "text": [
      "100%|██████████████████████████████████████████████████████████████████████████████████| 10000/10000 [42:36<00:00,  3.91it/s, epoch=10000/10000, train_loss=1.089e+02, valid_loss=3.118e+02, learn_rate=1.000e-05]\n"
     ]
    }
   ],
   "source": [
    "batch_size = 1000\n",
    "n_epochs = 10_000\n",
    "\n",
    "base_learning_rate = 1e-3\n",
    "gamma = calc_gammar(0.1, 5000)\n",
    "\n",
    "optimizer = optim.Adam(model.parameters(), lr=base_learning_rate)\n",
    "scheduler = optim.lr_scheduler.ExponentialLR(optimizer,\n",
    "                                             gamma=gamma)\n",
    "\n",
    "train_stats_160 = train(batch_size, n_epochs, optimizer, scheduler)"
   ]
  },
  {
   "cell_type": "code",
   "execution_count": 48,
   "id": "d12ddff1-5721-4dec-a962-3598a82f783e",
   "metadata": {},
   "outputs": [
    {
     "name": "stdout",
     "output_type": "stream",
     "text": [
      "Minimum of validation loss: 292.53\n"
     ]
    }
   ],
   "source": [
    "print(\"Minimum of validation loss: {:.2f}\".format(\n",
    "    np.min(train_stats_160[\"valid_loss\"])\n",
    "))"
   ]
  },
  {
   "cell_type": "markdown",
   "id": "0eccff35-65c0-43ab-a777-55bff16f6e27",
   "metadata": {},
   "source": [
    "# Training with dropout regularization"
   ]
  },
  {
   "cell_type": "code",
   "execution_count": 39,
   "id": "96872d27-69e9-43da-a0fe-1b38c7ec7a11",
   "metadata": {},
   "outputs": [],
   "source": [
    "class regularized_MLP(nn.Module):\n",
    "    def __init__(self, input_size, hidden_size):\n",
    "        super().__init__()\n",
    "        self.device = torch.device(\"cuda\")\n",
    "        self.linear1 = nn.Linear(input_size, hidden_size, device=self.device)\n",
    "        self.linear2 = nn.Linear(hidden_size, hidden_size, device=self.device)\n",
    "        self.linear3 = nn.Linear(hidden_size, hidden_size, device=self.device)\n",
    "        self.linear4 = nn.Linear(hidden_size, 1, device=self.device)\n",
    "\n",
    "        # drops elements before passing outputs from first hidden layer\n",
    "        # to second hidden layer\n",
    "        self.dropout1 = nn.Dropout(p=0.2)\n",
    "        # drops elements before passing outputs from second hidden layer\n",
    "        # to third hidden layer\n",
    "        self.dropout2 = nn.Dropout(p=0.2)\n",
    "        \n",
    "    \n",
    "    def forward(self, x):\n",
    "        x = x.to(self.device)\n",
    "        x = F.elu(self.linear1(x))\n",
    "        x = self.dropout1(x)\n",
    "        x = F.elu(self.linear2(x))\n",
    "        x = self.dropout2(x)\n",
    "        x = F.elu(self.linear3(x))\n",
    "        x = F.elu(self.linear4(x))\n",
    "        \n",
    "        return x\n",
    "\n",
    "    def save(self, file_name='model.pth'):\n",
    "        model_folder_path = '../models'\n",
    "        if not os.path.exists(model_folder_path):\n",
    "            os.makedirs(model_folder_path)\n",
    "\n",
    "        file_name = os.path.join(model_folder_path, file_name)\n",
    "        torch.save(self.state_dict(), file_name)"
   ]
  },
  {
   "cell_type": "markdown",
   "id": "0699935e-f226-439d-bd9c-954330a6e8d0",
   "metadata": {},
   "source": [
    "#### Training default-sized model with dropout"
   ]
  },
  {
   "cell_type": "code",
   "execution_count": 40,
   "id": "84abfe50-76d4-4dd7-87c3-87b6ea9365ed",
   "metadata": {},
   "outputs": [
    {
     "name": "stdout",
     "output_type": "stream",
     "text": [
      "regularized_MLP(\n",
      "  (linear1): Linear(in_features=14, out_features=160, bias=True)\n",
      "  (linear2): Linear(in_features=160, out_features=160, bias=True)\n",
      "  (linear3): Linear(in_features=160, out_features=160, bias=True)\n",
      "  (linear4): Linear(in_features=160, out_features=1, bias=True)\n",
      "  (dropout1): Dropout(p=0.2, inplace=False)\n",
      "  (dropout2): Dropout(p=0.2, inplace=False)\n",
      ")\n",
      "Number of trainable parameters in the model: 54081\n"
     ]
    }
   ],
   "source": [
    "model = regularized_MLP(14, 160)\n",
    "print(model)\n",
    "\n",
    "pytorch_total_params = sum(p.numel() for p in model.parameters() if p.requires_grad)\n",
    "print(\"Number of trainable parameters in the model:\", pytorch_total_params)"
   ]
  },
  {
   "cell_type": "code",
   "execution_count": 41,
   "id": "83327676-b5e2-4257-96e6-5b8f009a26ea",
   "metadata": {},
   "outputs": [
    {
     "name": "stderr",
     "output_type": "stream",
     "text": [
      "100%|████████████████████████████████████████████████████████████████████████████████| 15000/15000 [1:08:24<00:00,  3.65it/s, epoch=15000/15000, train_loss=3.802e+02, valid_loss=3.402e+02, learn_rate=1.000e-05]\n"
     ]
    }
   ],
   "source": [
    "batch_size = 1000\n",
    "n_epochs = 15_000\n",
    "\n",
    "base_learning_rate = 1e-2\n",
    "gamma = calc_gammar(0.1, 5000)\n",
    "\n",
    "optimizer = optim.Adam(model.parameters(), lr=base_learning_rate)\n",
    "scheduler = optim.lr_scheduler.ExponentialLR(optimizer,\n",
    "                                             gamma=gamma)\n",
    "\n",
    "train_stats_160_dropout = train(batch_size, n_epochs, optimizer, scheduler)"
   ]
  },
  {
   "cell_type": "code",
   "execution_count": 42,
   "id": "eaa96d60-fe2e-4e06-a237-e185083795c0",
   "metadata": {},
   "outputs": [
    {
     "data": {
      "text/plain": [
       "Text(0.5, 1.0, 'Training of default-sized model with dropout')"
      ]
     },
     "execution_count": 42,
     "metadata": {},
     "output_type": "execute_result"
    },
    {
     "data": {
      "image/png": "[encoded data removed]",
      "text/plain": [
       "<Figure size 640x480 with 1 Axes>"
      ]
     },
     "metadata": {},
     "output_type": "display_data"
    }
   ],
   "source": [
    "plt.plot(train_stats_160_dropout[\"train_loss\"], label=\"training loss\", alpha=0.75)\n",
    "plt.plot(train_stats_160_dropout[\"valid_loss\"], label=\"validation loss\", alpha=0.75)\n",
    "plt.legend()\n",
    "plt.ylim([train_stats_160_dropout[\"train_loss\"][-1] * 0.8,\n",
    "          train_stats_160_dropout[\"train_loss\"][-1] * 2])\n",
    "plt.xlabel(\"Epoch\")\n",
    "plt.ylabel(\"Mean squared error\")\n",
    "plt.title(\"Training of default-sized model with dropout\")"
   ]
  },
  {
   "cell_type": "markdown",
   "id": "4b3c1935-a4ec-46f2-8d5f-1b3d35956bac",
   "metadata": {},
   "source": [
    "#### Training large model with dropout"
   ]
  },
  {
   "cell_type": "code",
   "execution_count": 43,
   "id": "af696991-864d-4700-8da9-0004a12354b8",
   "metadata": {},
   "outputs": [
    {
     "name": "stdout",
     "output_type": "stream",
     "text": [
      "regularized_MLP(\n",
      "  (linear1): Linear(in_features=14, out_features=324, bias=True)\n",
      "  (linear2): Linear(in_features=324, out_features=324, bias=True)\n",
      "  (linear3): Linear(in_features=324, out_features=324, bias=True)\n",
      "  (linear4): Linear(in_features=324, out_features=1, bias=True)\n",
      "  (dropout1): Dropout(p=0.2, inplace=False)\n",
      "  (dropout2): Dropout(p=0.2, inplace=False)\n",
      ")\n",
      "Number of trainable parameters in the model: 215785\n"
     ]
    }
   ],
   "source": [
    "model = regularized_MLP(14, 324)\n",
    "print(model)\n",
    "\n",
    "pytorch_total_params = sum(p.numel() for p in model.parameters() if p.requires_grad)\n",
    "print(\"Number of trainable parameters in the model:\", pytorch_total_params)"
   ]
  },
  {
   "cell_type": "code",
   "execution_count": 44,
   "id": "e24425c2-d812-457f-96e6-49065b1762ba",
   "metadata": {},
   "outputs": [
    {
     "name": "stderr",
     "output_type": "stream",
     "text": [
      "100%|████████████████████████████████████████████████████████████████████████████████| 15000/15000 [1:18:36<00:00,  3.18it/s, epoch=15000/15000, train_loss=2.919e+02, valid_loss=2.837e+02, learn_rate=1.000e-05]\n"
     ]
    }
   ],
   "source": [
    "batch_size = 1000\n",
    "n_epochs = 15_000\n",
    "\n",
    "base_learning_rate = 1e-2\n",
    "gamma = calc_gammar(0.1, 5000)\n",
    "\n",
    "optimizer = optim.Adam(model.parameters(), lr=base_learning_rate)\n",
    "scheduler = optim.lr_scheduler.ExponentialLR(optimizer,\n",
    "                                             gamma=gamma)\n",
    "\n",
    "train_stats_324_dropout = train(batch_size, n_epochs, optimizer, scheduler)"
   ]
  },
  {
   "cell_type": "code",
   "execution_count": 45,
   "id": "8f700e16-cb54-4e76-8b92-6b3bf0ee1568",
   "metadata": {},
   "outputs": [
    {
     "data": {
      "text/plain": [
       "Text(0.5, 1.0, 'Training of large model with dropout')"
      ]
     },
     "execution_count": 45,
     "metadata": {},
     "output_type": "execute_result"
    },
    {
     "data": {
      "image/png": "[encoded data removed]",
      "text/plain": [
       "<Figure size 640x480 with 1 Axes>"
      ]
     },
     "metadata": {},
     "output_type": "display_data"
    }
   ],
   "source": [
    "plt.plot(train_stats_324_dropout[\"train_loss\"], label=\"training loss\", alpha=0.75)\n",
    "plt.plot(train_stats_324_dropout[\"valid_loss\"], label=\"validation loss\", alpha=0.75)\n",
    "plt.legend()\n",
    "plt.ylim([train_stats_324_dropout[\"train_loss\"][-1] * 0.8,\n",
    "          train_stats_324_dropout[\"train_loss\"][-1] * 2])\n",
    "plt.xlabel(\"Epoch\")\n",
    "plt.ylabel(\"Mean squared error\")\n",
    "plt.title(\"Training of large model with dropout\")"
   ]
  }
 ],
 "metadata": {
  "kernelspec": {
   "display_name": "Python 3 (ipykernel)",
   "language": "python",
   "name": "python3"
  },
  "language_info": {
   "codemirror_mode": {
    "name": "ipython",
    "version": 3
   },
   "file_extension": ".py",
   "mimetype": "text/x-python",
   "name": "python",
   "nbconvert_exporter": "python",
   "pygments_lexer": "ipython3",
   "version": "3.11.7"
  }
 },
 "nbformat": 4,
 "nbformat_minor": 5
}
