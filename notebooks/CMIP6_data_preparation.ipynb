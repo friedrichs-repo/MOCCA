{
 "cells": [
  {
   "cell_type": "markdown",
   "id": "c61fc216-3068-4b66-8db9-bf4ecdaf1a47",
   "metadata": {},
   "source": [
    "#### Load necessary packages"
   ]
  },
  {
   "cell_type": "code",
   "execution_count": 1,
   "id": "f4602702-c7e7-4113-b66a-05bb086276d6",
   "metadata": {},
   "outputs": [],
   "source": [
    "import os\n",
    "import sys\n",
    "sys.path.insert(0,'../../mocsy')"
   ]
  },
  {
   "cell_type": "code",
   "execution_count": 2,
   "id": "98506a5e-a778-479d-a929-11b5ee8348dd",
   "metadata": {},
   "outputs": [],
   "source": [
    "import numpy as np\n",
    "import xarray as xr\n",
    "import pickle \n",
    "\n",
    "import mocsy\n",
    "from mocsy import mvars\n",
    "from mocsy import mrhoinsitu\n",
    "from mocsy import mrho"
   ]
  },
  {
   "cell_type": "code",
   "execution_count": 3,
   "id": "7040edad-9ecb-4263-b4aa-6c8d7092e5dc",
   "metadata": {},
   "outputs": [],
   "source": [
    "import torch\n",
    "import torch.nn as nn\n",
    "import torch.optim as optim\n",
    "import torch.nn.functional as F"
   ]
  },
  {
   "cell_type": "markdown",
   "id": "b2698ae5-e760-4dff-a6f5-b0a168a585c5",
   "metadata": {},
   "source": [
    "#### Check how to transform units from mol m-3 to mol kg-1"
   ]
  },
  {
   "cell_type": "code",
   "execution_count": 4,
   "id": "c11a0e38-c78b-4229-997c-a0ff8ce7a164",
   "metadata": {},
   "outputs": [
    {
     "data": {
      "text/plain": [
       "array([1025.2950932 , 1021.09931306])"
      ]
     },
     "execution_count": 4,
     "metadata": {},
     "output_type": "execute_result"
    }
   ],
   "source": [
    "mrhoinsitu(np.array([35, 32]), np.array([18, 25]), np.array([5, 5]))"
   ]
  },
  {
   "cell_type": "code",
   "execution_count": 5,
   "id": "0c96d0ff-d699-455f-a06e-faf8d83123a0",
   "metadata": {},
   "outputs": [
    {
     "data": {
      "text/plain": [
       "1025.2950931958476"
      ]
     },
     "execution_count": 5,
     "metadata": {},
     "output_type": "execute_result"
    }
   ],
   "source": [
    "mrho(35, 18, 5 / 10)"
   ]
  },
  {
   "cell_type": "markdown",
   "id": "b111a8ab-eadb-4c32-b4a7-f2d63fdb2e57",
   "metadata": {},
   "source": [
    "-> rhoinsitu calls rho after transforming from dbar to bar, but it accepts arrays and is thus preferable."
   ]
  },
  {
   "cell_type": "markdown",
   "id": "15f3727c-8384-4dd4-b17c-1f53ace14d4a",
   "metadata": {},
   "source": [
    "#### Read in CMIP6 data"
   ]
  },
  {
   "cell_type": "code",
   "execution_count": 6,
   "id": "789d60ba-cf21-45b2-97d7-14fceba0588f",
   "metadata": {},
   "outputs": [],
   "source": [
    "def concat_hist_ssp(hist_array, ssp_array):\n",
    "    return np.concatenate([hist_array[-22*12:, :], ssp_array[:8*12, :]], axis=0)\n",
    "\n",
    "def expand_co2(co2_array):\n",
    "    return np.repeat(np.repeat(co2_array, 15, axis=1)[:, :, np.newaxis], 360, axis=2)"
   ]
  },
  {
   "cell_type": "code",
   "execution_count": 7,
   "id": "fad2ebab-6369-4b6b-b0b7-245d19f9ff0d",
   "metadata": {},
   "outputs": [],
   "source": [
    "base = \"/home/friedrich/Downloads/cmip6/\"\n",
    "co2 = expand_co2(concat_hist_ssp(xr.open_dataset(base\n",
    "                          + \"mole-fraction-of-carbon-dioxide-in-air_input4MIPs_GHGConcentrations\"\n",
    "                           \"_CMIP_UoM-CMIP-1-2-0_gn-15x360deg_185001-201412.nc\",\n",
    "                           decode_times=False\n",
    "                          ).mole_fraction_of_carbon_dioxide_in_air.values,\n",
    "                      xr.open_dataset(base\n",
    "                          + \"mole-fraction-of-carbon-dioxide-in-air_input4MIPs_GHGConcentrations\"\n",
    "                          \"_ScenarioMIP_UoM-MESSAGE-GLOBIOM-ssp245-1-2-1_gn-15x360deg_201501-210012.nc\"\n",
    "                          ).mole_fraction_of_carbon_dioxide_in_air.values))"
   ]
  },
  {
   "cell_type": "code",
   "execution_count": 8,
   "id": "4e96ccf4-4936-4679-9f0f-9db4826eca29",
   "metadata": {},
   "outputs": [],
   "source": [
    "var_list = [\"talkos\", \"dissicos\", \"tos\", \"sos\", \"sios\", \"po4os\",\n",
    "            \"mlotst\", \"zos\", \"chlos\", \"siconc\", \"uas\", \"vas\", \"pr\", \"clt\"]\n",
    "\n",
    "cmip6_data = {}\n",
    "for var in var_list:\n",
    "    cmip6_data[var] = []"
   ]
  },
  {
   "cell_type": "code",
   "execution_count": 9,
   "id": "b55f24b6-c27d-42e7-a30b-02cc8ee5e281",
   "metadata": {},
   "outputs": [],
   "source": [
    "domain_list = [\"Omon\", \"Omon\", \"Omon\", \"Omon\", \"Omon\", \"Omon\",\n",
    "               \"Omon\", \"Omon\", \"Omon\", \"SImon\", \"Amon\", \"Amon\", \"Amon\", \"Amon\"]"
   ]
  },
  {
   "cell_type": "code",
   "execution_count": 10,
   "id": "bafd42cd-70d7-402b-be65-6a25567bee4b",
   "metadata": {},
   "outputs": [],
   "source": [
    "# Add CMCC-ESM2 data\n",
    "model = \"CMCC-ESM2\"\n",
    "member_id = \"r1i1p1f1\"\n",
    "\n",
    "for i, var in enumerate(var_list):\n",
    "    file_hist = base + var + \"/\" + domain_list[i] + \"/historical/\"\\\n",
    "        + model + \"/\" + member_id + \"/gn/\" + var + \"_\" + domain_list[i]\\\n",
    "        + \"_\" + model + \"_historical_\" + member_id + \"_1x1reg_185001-201412.nc\"\n",
    "    file_ssp = base + var + \"/\" + domain_list[i] + \"/ssp245/\"\\\n",
    "        + model + \"/\" + member_id + \"/gn/\" + var + \"_\" + domain_list[i]\\\n",
    "        + \"_\" + model + \"_ssp245_\" + member_id + \"_1x1reg_201501-210012.nc\"\n",
    "    cmip6_data[var].append(concat_hist_ssp(xr.open_dataset(file_hist, decode_times=False)[var].values.squeeze(),\n",
    "                                           xr.open_dataset(file_ssp)[var].values.squeeze()))"
   ]
  },
  {
   "cell_type": "code",
   "execution_count": 11,
   "id": "22fb77de-8eaa-4788-ab1f-db1832e79739",
   "metadata": {},
   "outputs": [],
   "source": [
    "# Add MPI-ESM1-2-LR data\"\n",
    "model = \"MPI-ESM1-2-LR\"\n",
    "member_id = \"r1i1p1f1\"\n",
    "\n",
    "for i, var in enumerate(var_list):\n",
    "    file_hist = base + var + \"/\" + domain_list[i] + \"/historical/\"\\\n",
    "        + model + \"/\" + member_id + \"/gn/\" + var + \"_\" + domain_list[i]\\\n",
    "        + \"_\" + model + \"_historical_\" + member_id + \"_1x1reg_185001-201412.nc\"\n",
    "    file_ssp = base + var + \"/\" + domain_list[i] + \"/ssp245/\"\\\n",
    "        + model + \"/\" + member_id + \"/gn/\" + var + \"_\" + domain_list[i]\\\n",
    "        + \"_\" + model + \"_ssp245_\" + member_id + \"_1x1reg_201501-210012.nc\"\n",
    "    cmip6_data[var].append(concat_hist_ssp(xr.open_dataset(file_hist, decode_times=False)[var].values.squeeze(),\n",
    "                                           xr.open_dataset(file_ssp)[var].values.squeeze()))"
   ]
  },
  {
   "cell_type": "code",
   "execution_count": 12,
   "id": "a694d39b-4682-4439-b6b6-0141ab281a6f",
   "metadata": {},
   "outputs": [],
   "source": [
    "# Add UKESM1-0-LL data \n",
    "model = \"UKESM1-0-LL\"\n",
    "member_id = \"r1i1p1f2\"\n",
    "\n",
    "for i, var in enumerate(var_list):\n",
    "    file_hist = base + var + \"/\" + domain_list[i] + \"/historical/\"\\\n",
    "        + model + \"/\" + member_id + \"/gn/\" + var + \"_\" + domain_list[i]\\\n",
    "        + \"_\" + model + \"_historical_\" + member_id + \"_1x1reg_185001-201412.nc\"\n",
    "    file_ssp = base + var + \"/\" + domain_list[i] + \"/ssp245/\"\\\n",
    "        + model + \"/\" + member_id + \"/gn/\" + var + \"_\" + domain_list[i]\\\n",
    "        + \"_\" + model + \"_ssp245_\" + member_id + \"_1x1reg_201501-210012.nc\"\n",
    "    cmip6_data[var].append(concat_hist_ssp(xr.open_dataset(file_hist, decode_times=False)[var].values.squeeze(),\n",
    "                                           xr.open_dataset(file_ssp)[var].values.squeeze()))"
   ]
  },
  {
   "cell_type": "code",
   "execution_count": 13,
   "id": "a65de1ad-f82e-4810-9329-246f224c6050",
   "metadata": {},
   "outputs": [
    {
     "name": "stdout",
     "output_type": "stream",
     "text": [
      "3\n",
      "(360, 180, 360)\n",
      "(360, 180, 360)\n",
      "(360, 180, 360)\n"
     ]
    }
   ],
   "source": [
    "print(len(cmip6_data[\"talkos\"]))\n",
    "print(cmip6_data[\"talkos\"][0].shape)\n",
    "print(cmip6_data[\"talkos\"][1].shape)\n",
    "print(cmip6_data[\"talkos\"][2].shape)"
   ]
  },
  {
   "cell_type": "markdown",
   "id": "61f7b9fc-3020-4907-b104-0a75b2db9e4b",
   "metadata": {},
   "source": [
    "#### Data strategy\n",
    "since all data is on the same grid:\n",
    "* load data, but only select range 1993-2022 (30y period), concat hist and ssp field\n",
    "* draw random indices for time, lat, and lon, first for first model, then second, then third to fit memory\n",
    "* check if any data for the lat-lon indix combination is NaN, if so draw new random set of indices, until 2e6 combinations.\n",
    "* Load all variables: talkos, dissicos, tos, sos, sios, po4os, chlos, mlotst, zos, uas, vas, pr, clt, siconc"
   ]
  },
  {
   "cell_type": "code",
   "execution_count": 14,
   "id": "c0b3b18f-4435-4edd-b9f9-3a703070579c",
   "metadata": {},
   "outputs": [],
   "source": [
    "np.random.seed(0)\n",
    "\n",
    "cmip6_random_samples = {}\n",
    "for var in var_list:\n",
    "    cmip6_random_samples[var] = []\n",
    "\n",
    "cmip6_random_samples[\"co2\"] = []\n",
    "cmip6_random_samples[\"mon\"] = []\n",
    "cmip6_random_samples[\"lat\"] = []\n",
    "cmip6_random_samples[\"lon\"] = []\n",
    "\n",
    "lats = np.arange(-89.5, 90)\n",
    "lons = np.arange(-179.5, 180)\n",
    "mons = np.array([i % 12 for i in range(360)])\n",
    "\n",
    "transform_list = [\"talkos\", \"dissicos\", \"sios\", \"po4os\"]\n",
    "\n",
    "obs_per_model = 2000_000\n",
    "neglected_ocean_obs = 0\n",
    "\n",
    "for model_index in range(3):\n",
    "    nobs = 0\n",
    "    while nobs < obs_per_model:\n",
    "        time_ind = np.random.randint(low=0, high=360)\n",
    "        lat_ind = np.random.randint(low=0, high=180)\n",
    "        lon_ind = np.random.randint(low=0, high=360)\n",
    "        \n",
    "        obs_is_nan = np.any(np.isnan(\n",
    "            [cmip6_data[var][model_index][\n",
    "                    time_ind, lat_ind, lon_ind] for var in var_list]))\n",
    "\n",
    "        tos = cmip6_data[\"tos\"][model_index][\n",
    "                    time_ind, lat_ind, lon_ind]\n",
    "\n",
    "        sos = cmip6_data[\"sos\"][model_index][\n",
    "                    time_ind, lat_ind, lon_ind]\n",
    "        \n",
    "        tos_out_of_range = tos > 35\n",
    "\n",
    "        sos_out_of_range = not (10 <= sos <= 50)\n",
    "\n",
    "        rho = mrhoinsitu(sos, tos, 5)[0]\n",
    "\n",
    "        talkos_dissicos_out_of_range = not (1000e-6\n",
    "                                         <= cmip6_data[\"dissicos\"][model_index][\n",
    "                    time_ind, lat_ind, lon_ind] / rho \n",
    "                                         <= cmip6_data[\"talkos\"][model_index][\n",
    "                    time_ind, lat_ind, lon_ind] / rho \n",
    "                                         <= 3000e-6)\n",
    "        \n",
    "        any_out_of_range = (tos_out_of_range or sos_out_of_range\n",
    "                            or talkos_dissicos_out_of_range)\n",
    "\n",
    "        if any_out_of_range and not obs_is_nan:\n",
    "            neglected_ocean_obs += 1\n",
    "        \n",
    "        if not obs_is_nan and not any_out_of_range:\n",
    "            for var in var_list:\n",
    "                cmip6_random_samples[var].append(cmip6_data[var][model_index][\n",
    "                    time_ind, lat_ind, lon_ind])\n",
    "                \n",
    "            cmip6_random_samples[\"co2\"].append(co2[time_ind, lat_ind, lon_ind])\n",
    "            \n",
    "            cmip6_random_samples[\"mon\"].append(mons[time_ind])\n",
    "            cmip6_random_samples[\"lat\"].append(lats[lat_ind])\n",
    "            cmip6_random_samples[\"lon\"].append(lons[lon_ind])\n",
    "\n",
    "            for var in transform_list:\n",
    "                cmip6_random_samples[var][-1] /= rho\n",
    "            \n",
    "            nobs += 1"
   ]
  },
  {
   "cell_type": "code",
   "execution_count": 15,
   "id": "41327f81-17ae-49d0-8dd9-5120f6800c1f",
   "metadata": {},
   "outputs": [
    {
     "name": "stdout",
     "output_type": "stream",
     "text": [
      "The number of neglected samples: 9900 (0.17%)\n"
     ]
    }
   ],
   "source": [
    "print(\"The number of neglected samples: {} ({:.2f}%)\".format(\n",
    "    neglected_ocean_obs, 100 * neglected_ocean_obs / 6000000))"
   ]
  },
  {
   "cell_type": "code",
   "execution_count": 16,
   "id": "1cd95b15-7d9a-4026-8ab1-59c0145543b4",
   "metadata": {},
   "outputs": [],
   "source": [
    "for var in var_list + [\"co2\", \"mon\", \"lat\", \"lon\"]:\n",
    "    cmip6_random_samples[var] = np.array(cmip6_random_samples[var])"
   ]
  },
  {
   "cell_type": "code",
   "execution_count": 17,
   "id": "a897de12-ebba-4820-9a29-4c98afc6d89f",
   "metadata": {},
   "outputs": [
    {
     "name": "stdout",
     "output_type": "stream",
     "text": [
      "Some statistics:\n",
      "Mean for talkos samples: 2.244086e-03, std: 1.116865e-04, min: 1.002897e-03, max: 2.998658e-03\n",
      "-----\n",
      "Mean for dissicos samples: 2.018905e-03, std: 9.913828e-05, min: 1.000056e-03, max: 2.840916e-03\n",
      "-----\n",
      "Mean for tos samples: 1.385280e+01, std: 1.138069e+01, min: -2.079249e+00, max: 3.499847e+01\n",
      "-----\n",
      "Mean for sos samples: 3.392466e+01, std: 1.777865e+00, min: 1.000003e+01, max: 4.427740e+01\n",
      "-----\n",
      "Mean for sios samples: 1.619789e-05, std: 2.632815e-05, min: 1.858408e-11, max: 1.125364e-04\n",
      "-----\n",
      "Mean for po4os samples: 5.207525e-07, std: 5.477110e-07, min: -6.572454e-10, max: 3.090078e-06\n",
      "-----\n",
      "Mean for mlotst samples: 5.860219e+01, std: 8.698860e+01, min: 9.611196e-01, max: 4.780963e+03\n",
      "-----\n",
      "Mean for zos samples: -5.760545e-02, std: 7.792690e-01, min: -2.078595e+00, max: 1.822147e+00\n",
      "-----\n",
      "Mean for chlos samples: 3.806836e-07, std: 8.655427e-07, min: 5.255121e-30, max: 3.077705e-05\n",
      "-----\n",
      "Mean for siconc samples: 1.371948e+01, std: 3.225763e+01, min: 0.000000e+00, max: 1.000000e+02\n",
      "-----\n",
      "Mean for uas samples: 4.296429e-01, std: 5.548208e+00, min: -1.447482e+01, max: 1.716047e+01\n",
      "-----\n",
      "Mean for vas samples: 5.252306e-02, std: 3.178381e+00, min: -1.403631e+01, max: 1.472125e+01\n",
      "-----\n",
      "Mean for pr samples: 3.384698e-05, std: 3.582883e-05, min: 0.000000e+00, max: 9.321065e-04\n",
      "-----\n",
      "Mean for clt samples: 7.239935e+01, std: 1.995684e+01, min: 0.000000e+00, max: 1.000000e+02\n",
      "-----\n",
      "Mean for co2 samples: 3.851038e+02, std: 1.885929e+01, min: 3.481805e+02, max: 4.299532e+02\n",
      "-----\n",
      "Mean for mon samples: 5.497985e+00, std: 3.453175e+00, min: 0.000000e+00, max: 1.100000e+01\n",
      "-----\n",
      "Mean for lat samples: -7.463475e-01, std: 4.800419e+01, min: -7.850000e+01, max: 8.950000e+01\n",
      "-----\n",
      "Mean for lon samples: -1.021431e+01, std: 1.099754e+02, min: -1.795000e+02, max: 1.795000e+02\n",
      "-----\n"
     ]
    }
   ],
   "source": [
    "print(\"Some statistics:\")\n",
    "for var in var_list + [\"co2\", \"mon\", \"lat\", \"lon\"]:\n",
    "    print(\"Mean for {} samples: {:.6e}, std: {:.6e}, min: {:.6e}, max: {:.6e}\".format(\n",
    "    var, np.mean(cmip6_random_samples[var]),\n",
    "    np.std(cmip6_random_samples[var]),\n",
    "    np.min(cmip6_random_samples[var]),\n",
    "    np.max(cmip6_random_samples[var])))\n",
    "    print(\"-----\")"
   ]
  },
  {
   "cell_type": "code",
   "execution_count": 18,
   "id": "e6bc22fa-96e2-4196-8d7a-2a6da8727ad7",
   "metadata": {},
   "outputs": [],
   "source": [
    "with open('../data/cmip6_random_samples.pkl', 'wb') as f:\n",
    "    pickle.dump(cmip6_random_samples, f)"
   ]
  },
  {
   "cell_type": "markdown",
   "id": "f7adf800-cc44-4638-a713-85b7a68ea770",
   "metadata": {},
   "source": [
    "### Check how well the fCO2 NN model performs on the CMIP6 samples for AT, CT, T, S, SiT, PT"
   ]
  },
  {
   "cell_type": "markdown",
   "id": "6346fa71-09c0-4651-b3c4-ac8741287fb3",
   "metadata": {},
   "source": [
    "#### Reload NN model for fCO2"
   ]
  },
  {
   "cell_type": "code",
   "execution_count": 19,
   "id": "44707ac5-cf2c-434a-bc69-4a26a06bfccf",
   "metadata": {},
   "outputs": [
    {
     "data": {
      "text/plain": [
       "<All keys matched successfully>"
      ]
     },
     "execution_count": 19,
     "metadata": {},
     "output_type": "execute_result"
    }
   ],
   "source": [
    "class MLP(nn.Module):\n",
    "    def __init__(self, input_size, hidden_size_1, hidden_size_2, hidden_size_3, output_size):\n",
    "        super().__init__()\n",
    "        self.device = torch.device(\"cuda\")\n",
    "        self.linear1 = nn.Linear(input_size, hidden_size_1, device=self.device)\n",
    "        self.linear2 = nn.Linear(hidden_size_1, hidden_size_2, device=self.device)\n",
    "        self.linear3 = nn.Linear(hidden_size_2, hidden_size_3, device=self.device)\n",
    "        self.linear4 = nn.Linear(hidden_size_3, output_size, device=self.device)\n",
    "\n",
    "    def forward(self, x):\n",
    "        x = x.to(self.device)\n",
    "        x = F.elu(self.linear1(x))\n",
    "        x = F.elu(self.linear2(x))\n",
    "        x = F.elu(self.linear3(x))\n",
    "        x = F.elu(self.linear4(x))\n",
    "        return x\n",
    "\n",
    "    def save(self, file_name='model.pth'):\n",
    "        model_folder_path = '../models'\n",
    "        if not os.path.exists(model_folder_path):\n",
    "            os.makedirs(model_folder_path)\n",
    "\n",
    "        file_name = os.path.join(model_folder_path, file_name)\n",
    "        torch.save(self.state_dict(), file_name)\n",
    "\n",
    "model = MLP(6, 160, 160, 160, 1)\n",
    "model_state_dict = torch.load(\"../models/fCO2_model_160x3_elu_10000epo.pth\")\n",
    "model.load_state_dict(model_state_dict)"
   ]
  },
  {
   "cell_type": "markdown",
   "id": "e5ece60f-0450-4351-80c7-68a539f38004",
   "metadata": {},
   "source": [
    "#### Define mocsy fCO2"
   ]
  },
  {
   "cell_type": "code",
   "execution_count": 20,
   "id": "369fcd15-eb52-40c6-a83b-5dcd5a3acc6c",
   "metadata": {},
   "outputs": [],
   "source": [
    "def extend(number, template):\n",
    "    \"\"\"\n",
    "    helper function allowing calc_fco2 to work on floats and arrays.\n",
    "    \"\"\"\n",
    "    template_type = \"array\" if isinstance(template, np.ndarray) else \"float\"\n",
    "    if template_type == \"array\":\n",
    "        return number * np.ones(template.shape)\n",
    "    elif template_type == \"float\":\n",
    "        return number\n",
    "\n",
    "def calc_fCO2(alk, dic, tem, sal, sil, phos):\n",
    "    \"\"\"\n",
    "    input units\n",
    "    alk in mol / kg\n",
    "    dic in mol / kg\n",
    "    tem in °C\n",
    "    sal in PSU\n",
    "    sil in mol / kg\n",
    "    phos in mol / kg\n",
    "    \"\"\"\n",
    "    return mvars(alk=alk,\n",
    "                     dic=dic,\n",
    "                     temp=tem,\n",
    "                     sal=sal,\n",
    "                     sil=sil,\n",
    "                     phos=phos,\n",
    "                     patm=extend(1, alk),\n",
    "                     depth=extend(5, alk),\n",
    "                     lat=extend(np.nan, alk),\n",
    "                     optcon='mol/kg',\n",
    "                     optt='Tpot',\n",
    "                     optp='db',\n",
    "                     optk1k2='l',\n",
    "                     optb='u74',\n",
    "                     optkf='pf',\n",
    "                     opts='Sprc')[2]"
   ]
  },
  {
   "cell_type": "markdown",
   "id": "0e13b5d4-5d9e-47ca-94bc-fc44e394c4ae",
   "metadata": {},
   "source": [
    "#### Assess error"
   ]
  },
  {
   "cell_type": "code",
   "execution_count": 21,
   "id": "7ff939d7-1370-47ed-bf3f-65e4b4a61ae3",
   "metadata": {},
   "outputs": [],
   "source": [
    "mocsy_fco2 = calc_fCO2(cmip6_random_samples[\"talkos\"], cmip6_random_samples[\"dissicos\"],\n",
    "                        cmip6_random_samples[\"tos\"], cmip6_random_samples[\"sos\"],\n",
    "                        cmip6_random_samples[\"sios\"], cmip6_random_samples[\"po4os\"])"
   ]
  },
  {
   "cell_type": "code",
   "execution_count": 22,
   "id": "7a3784ae-b9c6-4388-8a41-212066437ef6",
   "metadata": {},
   "outputs": [],
   "source": [
    "alk_range = [1000e-6, 3000e-6]\n",
    "dic_range = [1000e-6, 3000e-6]\n",
    "tem_range = [-2, 35]\n",
    "sal_range = [10, 50]\n",
    "sil_range = [0, 134e-6]\n",
    "phos_range = [0, 4e-6]\n",
    "\n",
    "sample_means = {\"talkos\":(alk_range[0] + alk_range[1]) / 2,\n",
    "                 \"dissicos\":dic_range[0] + (dic_range[1] - dic_range[0]) / 4,\n",
    "                 \"tos\":(tem_range[0] + tem_range[1]) / 2,\n",
    "                 \"sos\":(sal_range[0] + sal_range[1]) / 2,\n",
    "                 \"sios\":(sil_range[0] + sil_range[1]) / 2,\n",
    "                 \"po4os\":(phos_range[0] + phos_range[1]) / 2}\n",
    "\n",
    "sample_stds = {\"talkos\":(alk_range[1] - alk_range[0]) / np.sqrt(12),\n",
    "                 \"dissicos\":(dic_range[1] - dic_range[0]) * np.sqrt(7 / 144),\n",
    "                 \"tos\":(tem_range[1] - tem_range[0]) / np.sqrt(12),\n",
    "                 \"sos\":(sal_range[1] - sal_range[0]) / np.sqrt(12),\n",
    "                 \"sios\":(sil_range[1] - sil_range[0]) / np.sqrt(12),\n",
    "                 \"po4os\":(phos_range[1] - phos_range[0]) / np.sqrt(12)}\n",
    "\n",
    "cmip6_samples_normalized = np.concatenate([(cmip6_random_samples[key][:, np.newaxis]\n",
    "                                             - sample_means[key]) / sample_stds[key]\n",
    "                                 for key in [\"talkos\", \"dissicos\", \"tos\", \"sos\", \"sios\", \"po4os\"]],\n",
    "                                          axis=1)"
   ]
  },
  {
   "cell_type": "code",
   "execution_count": 23,
   "id": "65530aa0-37f5-4c7c-baea-32af8caf0161",
   "metadata": {},
   "outputs": [],
   "source": [
    "model.eval()\n",
    "with torch.no_grad():\n",
    "    nn_fco2 = model(torch.from_numpy(\n",
    "        cmip6_samples_normalized.astype(\"float32\"))).detach().cpu().numpy().squeeze()"
   ]
  },
  {
   "cell_type": "code",
   "execution_count": 24,
   "id": "e2ac03eb-2c25-440b-8b2d-fee37f9ff46f",
   "metadata": {},
   "outputs": [],
   "source": [
    "def MSE(x, y): # define MSE for offline calculations on numpy arrays\n",
    "    return np.sum((x-y)**2)/len(x)"
   ]
  },
  {
   "cell_type": "code",
   "execution_count": 25,
   "id": "e0553348-13f8-482d-9f37-af5242c4efd5",
   "metadata": {},
   "outputs": [
    {
     "name": "stdout",
     "output_type": "stream",
     "text": [
      "MSE:  0.0008695582316074656\n",
      "RMSE:  0.029488272781013566\n",
      "Maximum absolute deviation:  0.2435986346279151\n",
      "99.9th percentile of absolute deviation (1000 val's larger):  0.1089044869370121\n",
      "99.99th percentile of absolute deviation (100 val's larger):  0.11951280805522761\n",
      "99.999th percentile of absolute deviation (10 val's larger):  0.12620468803811347\n"
     ]
    }
   ],
   "source": [
    "print(\"MSE: \", MSE(mocsy_fco2, nn_fco2))\n",
    "print(\"RMSE: \", np.sqrt(MSE(mocsy_fco2, nn_fco2)))\n",
    "print(\"Maximum absolute deviation: \", np.max(np.abs(nn_fco2-mocsy_fco2)))\n",
    "print(\"99.9th percentile of absolute deviation (1000 val's larger): \",\n",
    "      np.percentile(np.abs(nn_fco2-mocsy_fco2), q=99.9))\n",
    "print(\"99.99th percentile of absolute deviation (100 val's larger): \",\n",
    "      np.percentile(np.abs(nn_fco2-mocsy_fco2), q=99.99))\n",
    "print(\"99.999th percentile of absolute deviation (10 val's larger): \",\n",
    "      np.percentile(np.abs(nn_fco2-mocsy_fco2), q=99.999))"
   ]
  },
  {
   "cell_type": "markdown",
   "id": "4a740308-90cb-465a-986a-bea6120cc892",
   "metadata": {},
   "source": [
    "### Check how well the pH NN model performs on the CMIP6 sample for AT, CT, T, S, SiT, PT"
   ]
  },
  {
   "cell_type": "markdown",
   "id": "17908f4c-0902-46a7-bc8a-4b548bcc56a2",
   "metadata": {},
   "source": [
    "#### Reload NN model for pH"
   ]
  },
  {
   "cell_type": "code",
   "execution_count": 27,
   "id": "cd2fd852-1b01-4b05-b203-18b6cc949c3e",
   "metadata": {},
   "outputs": [
    {
     "data": {
      "text/plain": [
       "<All keys matched successfully>"
      ]
     },
     "execution_count": 27,
     "metadata": {},
     "output_type": "execute_result"
    }
   ],
   "source": [
    "model_state_dict = torch.load(\"../models/pH_model_160x3_elu_10000epo.pth\")\n",
    "model.load_state_dict(model_state_dict)"
   ]
  },
  {
   "cell_type": "markdown",
   "id": "aa301b86-01d5-4dca-a922-f9e20821d4a8",
   "metadata": {},
   "source": [
    "#### Define mocsy pH"
   ]
  },
  {
   "cell_type": "code",
   "execution_count": 28,
   "id": "23c64229-7149-442b-bbeb-0374540c0683",
   "metadata": {},
   "outputs": [],
   "source": [
    "def calc_pH(alk, dic, tem, sal, sil, phos):\n",
    "    \"\"\"\n",
    "    input units\n",
    "    alk in mol / kg\n",
    "    dic in mol / kg\n",
    "    tem in °C\n",
    "    sal in PSU\n",
    "    sil in mol / kg\n",
    "    phos in mol / kg\n",
    "    \"\"\"\n",
    "    return mvars(alk=alk,\n",
    "                     dic=dic,\n",
    "                     temp=tem,\n",
    "                     sal=sal,\n",
    "                     sil=sil,\n",
    "                     phos=phos,\n",
    "                     patm=extend(1, alk),\n",
    "                     depth=extend(5, alk),\n",
    "                     lat=extend(np.nan, alk),\n",
    "                     optcon='mol/kg',\n",
    "                     optt='Tpot',\n",
    "                     optp='db',\n",
    "                     optk1k2='l',\n",
    "                     optb='u74',\n",
    "                     optkf='pf',\n",
    "                     opts='Sprc')[0]"
   ]
  },
  {
   "cell_type": "markdown",
   "id": "550834b4-cf4a-41bc-b34c-c5b660221603",
   "metadata": {},
   "source": [
    "#### Assess error"
   ]
  },
  {
   "cell_type": "code",
   "execution_count": 29,
   "id": "a61a114c-1ce4-4bb8-905e-fb40ab9971b9",
   "metadata": {},
   "outputs": [],
   "source": [
    "mocsy_ph = calc_pH(cmip6_random_samples[\"talkos\"], cmip6_random_samples[\"dissicos\"],\n",
    "                        cmip6_random_samples[\"tos\"], cmip6_random_samples[\"sos\"],\n",
    "                        cmip6_random_samples[\"sios\"], cmip6_random_samples[\"po4os\"])"
   ]
  },
  {
   "cell_type": "code",
   "execution_count": 30,
   "id": "0aed8b14-dca1-4cd8-8fce-7cc78be30a88",
   "metadata": {},
   "outputs": [],
   "source": [
    "model.eval()\n",
    "with torch.no_grad():\n",
    "    nn_ph = model(torch.from_numpy(\n",
    "        cmip6_samples_normalized.astype(\"float32\"))).detach().cpu().numpy().squeeze()"
   ]
  },
  {
   "cell_type": "code",
   "execution_count": 31,
   "id": "846174a9-c651-4dc5-9715-3df9441eac93",
   "metadata": {},
   "outputs": [
    {
     "name": "stdout",
     "output_type": "stream",
     "text": [
      "MSE:  3.9446634414756045e-09\n",
      "RMSE:  6.280655572052653e-05\n",
      "Maximum absolute deviation:  0.0005569656017598845\n",
      "99.9th percentile of absolute deviation (1000 val's larger):  0.0002824040739381581\n",
      "99.99th percentile of absolute deviation (100 val's larger):  0.00038139157592631534\n",
      "99.999th percentile of absolute deviation (10 val's larger):  0.0005012017243931727\n"
     ]
    }
   ],
   "source": [
    "print(\"MSE: \", MSE(mocsy_ph, nn_ph))\n",
    "print(\"RMSE: \", np.sqrt(MSE(mocsy_ph, nn_ph)))\n",
    "print(\"Maximum absolute deviation: \", np.max(np.abs(nn_ph-mocsy_ph)))\n",
    "print(\"99.9th percentile of absolute deviation (1000 val's larger): \",\n",
    "      np.percentile(np.abs(nn_ph-mocsy_ph), q=99.9))\n",
    "print(\"99.99th percentile of absolute deviation (100 val's larger): \",\n",
    "      np.percentile(np.abs(nn_ph-mocsy_ph), q=99.99))\n",
    "print(\"99.999th percentile of absolute deviation (10 val's larger): \",\n",
    "      np.percentile(np.abs(nn_ph-mocsy_ph), q=99.999))"
   ]
  },
  {
   "cell_type": "code",
   "execution_count": null,
   "id": "1cd0f3b6-4770-48f7-8f91-85eed68aea25",
   "metadata": {},
   "outputs": [],
   "source": []
  }
 ],
 "metadata": {
  "kernelspec": {
   "display_name": "Python 3 (ipykernel)",
   "language": "python",
   "name": "python3"
  },
  "language_info": {
   "codemirror_mode": {
    "name": "ipython",
    "version": 3
   },
   "file_extension": ".py",
   "mimetype": "text/x-python",
   "name": "python",
   "nbconvert_exporter": "python",
   "pygments_lexer": "ipython3",
   "version": "3.11.7"
  }
 },
 "nbformat": 4,
 "nbformat_minor": 5
}
