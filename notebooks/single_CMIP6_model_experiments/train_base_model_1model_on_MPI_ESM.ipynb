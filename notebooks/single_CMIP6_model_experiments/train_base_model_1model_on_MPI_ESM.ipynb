{
 "cells": [
  {
   "cell_type": "markdown",
   "id": "c61fc216-3068-4b66-8db9-bf4ecdaf1a47",
   "metadata": {},
   "source": [
    "#### Load necessary packages"
   ]
  },
  {
   "cell_type": "code",
   "execution_count": 1,
   "id": "f4602702-c7e7-4113-b66a-05bb086276d6",
   "metadata": {},
   "outputs": [],
   "source": [
    "import os\n",
    "import sys\n",
    "sys.path.insert(0,'../../../mocsy')"
   ]
  },
  {
   "cell_type": "code",
   "execution_count": 2,
   "id": "98506a5e-a778-479d-a929-11b5ee8348dd",
   "metadata": {},
   "outputs": [],
   "source": [
    "import numpy as np\n",
    "import copy\n",
    "import xarray as xr\n",
    "import pandas as pd\n",
    "from tqdm import tqdm\n",
    "import pickle \n",
    "import random\n",
    "import matplotlib.pyplot as plt\n",
    "from scipy import stats\n",
    "\n",
    "import mocsy\n",
    "from mocsy import mvars\n",
    "from mocsy import mrhoinsitu\n",
    "from mocsy import mrho\n",
    "from mocsy import mp2fco2"
   ]
  },
  {
   "cell_type": "code",
   "execution_count": 3,
   "id": "7040edad-9ecb-4263-b4aa-6c8d7092e5dc",
   "metadata": {},
   "outputs": [],
   "source": [
    "import torch\n",
    "import torch.nn as nn\n",
    "import torch.optim as optim\n",
    "import torch.nn.functional as F"
   ]
  },
  {
   "cell_type": "markdown",
   "id": "5c96e171-05ce-498c-90c4-cbc34292e852",
   "metadata": {},
   "source": [
    "#### Test transformation of pCO2 data to fCO2 data"
   ]
  },
  {
   "cell_type": "code",
   "execution_count": 65,
   "id": "2d052c4c-b559-4dc5-ba37-6ef1aaa6f5c2",
   "metadata": {},
   "outputs": [
    {
     "data": {
      "text/plain": [
       "\u001b[0;31mCall signature:\u001b[0m \u001b[0mmp2fco2\u001b[0m\u001b[0;34m(\u001b[0m\u001b[0;34m*\u001b[0m\u001b[0margs\u001b[0m\u001b[0;34m,\u001b[0m \u001b[0;34m**\u001b[0m\u001b[0mkwargs\u001b[0m\u001b[0;34m)\u001b[0m\u001b[0;34m\u001b[0m\u001b[0;34m\u001b[0m\u001b[0m\n",
       "\u001b[0;31mType:\u001b[0m           fortran\n",
       "\u001b[0;31mString form:\u001b[0m    <fortran object>\n",
       "\u001b[0;31mDocstring:\u001b[0m     \n",
       "fco2 = p2fco2(pco2,temp,patm,p)\n",
       "\n",
       "Wrapper for ``p2fco2``.\n",
       "\n",
       "Parameters\n",
       "----------\n",
       "pco2 : input rank-1 array('d') with bounds (n)\n",
       "temp : input rank-1 array('d') with bounds (n)\n",
       "patm : input rank-1 array('d') with bounds (n)\n",
       "p : input rank-1 array('d') with bounds (n)\n",
       "\n",
       "Returns\n",
       "-------\n",
       "fco2 : rank-1 array('d') with bounds (n)"
      ]
     },
     "metadata": {},
     "output_type": "display_data"
    }
   ],
   "source": [
    "mp2fco2?\n",
    "\n",
    "\n",
    "def extend(number, template):\n",
    "    \"\"\"\n",
    "    helper function allowing calc_fco2_from_pco2 to work on floats and arrays.\n",
    "    \"\"\"\n",
    "    template_type = \"array\" if isinstance(template, np.ndarray) else \"float\"\n",
    "    if template_type == \"array\":\n",
    "        return number * np.ones(template.shape)\n",
    "    elif template_type == \"float\":\n",
    "        return number\n",
    "\n",
    "def calc_fCO2_from_pCO2(pco2,tem):\n",
    "    \"\"\"\n",
    "    input units\n",
    "    pco2 inmuatm\n",
    "    tem in °C\n",
    "    \"\"\"\n",
    "    if len(pco2.shape) > 1:\n",
    "        pco2_flat = pco2.flatten(order=\"C\")\n",
    "        tem_flat = tem.flatten(order=\"C\")\n",
    "        fco2 = mp2fco2(pco2=pco2_flat, temp=tem_flat,\n",
    "                       patm=extend(1, pco2_flat), p=extend(5, pco2_flat))\n",
    "        return np.reshape(fco2, newshape=pco2.shape, order='C')\n",
    "    else:\n",
    "        return mp2fco2(pco2=pco2, temp=tem, patm=extend(1, pco2), p=extend(5, pco2))\n",
    "\n",
    "def calc_fCO2(alk, dic, tem, sal, sil, phos):\n",
    "    \"\"\"\n",
    "    input units\n",
    "    alk in mol / kg\n",
    "    dic in mol / kg\n",
    "    tem in °C\n",
    "    sal in PSU\n",
    "    sil in mol / kg\n",
    "    phos in mol / kg\n",
    "    \"\"\"\n",
    "    return mvars(alk=alk,\n",
    "                     dic=dic,\n",
    "                     temp=tem,\n",
    "                     sal=sal,\n",
    "                     sil=sil,\n",
    "                     phos=phos,\n",
    "                     patm=extend(1, alk),\n",
    "                     depth=extend(5, alk),\n",
    "                     lat=extend(np.nan, alk),\n",
    "                     optcon='mol/kg',\n",
    "                     optt='Tpot',\n",
    "                     optp='db',\n",
    "                     optk1k2='l',\n",
    "                     optb='u74',\n",
    "                     optkf='pf',\n",
    "                     opts='Sprc')[2]\n",
    "\n",
    "def calc_pCO2(alk, dic, tem, sal, sil, phos):\n",
    "    \"\"\"\n",
    "    input units\n",
    "    alk in mol / kg\n",
    "    dic in mol / kg\n",
    "    tem in °C\n",
    "    sal in PSU\n",
    "    sil in mol / kg\n",
    "    phos in mol / kg\n",
    "    \"\"\"\n",
    "    return mvars(alk=alk,\n",
    "                     dic=dic,\n",
    "                     temp=tem,\n",
    "                     sal=sal,\n",
    "                     sil=sil,\n",
    "                     phos=phos,\n",
    "                     patm=extend(1, alk),\n",
    "                     depth=extend(5, alk),\n",
    "                     lat=extend(np.nan, alk),\n",
    "                     optcon='mol/kg',\n",
    "                     optt='Tpot',\n",
    "                     optp='db',\n",
    "                     optk1k2='l',\n",
    "                     optb='u74',\n",
    "                     optkf='pf',\n",
    "                     opts='Sprc')[1]"
   ]
  },
  {
   "cell_type": "code",
   "execution_count": 5,
   "id": "2e9c1996-2547-40a2-92cc-263a72366c6d",
   "metadata": {},
   "outputs": [
    {
     "name": "stdout",
     "output_type": "stream",
     "text": [
      "fCO2: 297.26\n",
      "pCO2: 298.81\n",
      "fCO2 calculated from pCO2: 297.26\n"
     ]
    }
   ],
   "source": [
    "fco2 = calc_fCO2(alk=2300e-6, dic=2000e-6, tem=18, sal=35, sil=0, phos=0)\n",
    "print(\"fCO2: {:.2f}\".format(fco2[0]))\n",
    "pco2 = calc_pCO2(alk=2300e-6, dic=2000e-6, tem=18, sal=35, sil=0, phos=0)\n",
    "print(\"pCO2: {:.2f}\".format(pco2[0]))\n",
    "print(\"fCO2 calculated from pCO2: {:.2f}\".format(\n",
    "    calc_fCO2_from_pCO2(pco2, tem=18)[0]))"
   ]
  },
  {
   "cell_type": "markdown",
   "id": "821d1bdd-e438-434d-90cf-f5ac0c5526c9",
   "metadata": {},
   "source": [
    "# Training data"
   ]
  },
  {
   "cell_type": "markdown",
   "id": "15f3727c-8384-4dd4-b17c-1f53ace14d4a",
   "metadata": {},
   "source": [
    "#### Read in the data"
   ]
  },
  {
   "cell_type": "code",
   "execution_count": 6,
   "id": "8cce78a4-688c-4833-868f-3f3bfa6ca3df",
   "metadata": {},
   "outputs": [],
   "source": [
    "ds_socat = xr.open_dataset(\"../../data/SOCATv2023_tracks_gridded_monthly.nc\").sel(tmnth=slice('1993-01-01', '2022-12-31'))\n",
    "# load \n",
    "def concat_hist_ssp(hist_array, ssp_array):\n",
    "    return np.concatenate([hist_array[-22*12:, :], ssp_array[:8*12, :]], axis=0)\n",
    "\n",
    "def expand_co2(co2_array):\n",
    "    return np.repeat(np.repeat(co2_array, 15, axis=1)[:, :, np.newaxis], 360, axis=2)"
   ]
  },
  {
   "cell_type": "code",
   "execution_count": 7,
   "id": "cfa1f1a7-4a37-411c-b946-16fe928018dc",
   "metadata": {},
   "outputs": [],
   "source": [
    "base = \"/home/friedrich/Downloads/cmip6/\"\n",
    "co2 = expand_co2(concat_hist_ssp(xr.open_dataset(base\n",
    "                          + \"mole-fraction-of-carbon-dioxide-in-air_input4MIPs_GHGConcentrations\"\n",
    "                           \"_CMIP_UoM-CMIP-1-2-0_gn-15x360deg_185001-201412.nc\",\n",
    "                           decode_times=False\n",
    "                          ).mole_fraction_of_carbon_dioxide_in_air.values,\n",
    "                      xr.open_dataset(base\n",
    "                          + \"mole-fraction-of-carbon-dioxide-in-air_input4MIPs_GHGConcentrations\"\n",
    "                          \"_ScenarioMIP_UoM-MESSAGE-GLOBIOM-ssp245-1-2-1_gn-15x360deg_201501-210012.nc\"\n",
    "                          ).mole_fraction_of_carbon_dioxide_in_air.values))"
   ]
  },
  {
   "cell_type": "code",
   "execution_count": 8,
   "id": "254faade-b0fc-4fa3-a462-5124433617e8",
   "metadata": {},
   "outputs": [],
   "source": [
    "var_list = [\"talkos\", \"dissicos\", \"tos\", \"sos\", \"sios\", \"po4os\",\n",
    "            \"mlotst\", \"zos\", \"chlos\", \"siconc\", \"uas\", \"vas\", \"spco2\"]\n",
    "\n",
    "domain_list = [\"Omon\", \"Omon\", \"Omon\", \"Omon\", \"Omon\", \"Omon\",\n",
    "               \"Omon\", \"Omon\", \"Omon\", \"SImon\", \"Amon\", \"Amon\", \"Omon\"]"
   ]
  },
  {
   "cell_type": "code",
   "execution_count": 9,
   "id": "2979c225-4aa4-4791-969a-256fa8144a39",
   "metadata": {},
   "outputs": [],
   "source": [
    "# Add MPI-ESM1-2-LR data \n",
    "model = \"MPI-ESM1-2-LR\"\n",
    "member_id = \"r1i1p1f1\"\n",
    "\n",
    "cmip6_data = {}\n",
    "\n",
    "for i, var in enumerate(var_list):\n",
    "    file_hist = base + var + \"/\" + domain_list[i] + \"/historical/\"\\\n",
    "        + model + \"/\" + member_id + \"/gn/\" + var + \"_\" + domain_list[i]\\\n",
    "        + \"_\" + model + \"_historical_\" + member_id + \"_1x1reg_185001-201412.nc\"\n",
    "    file_ssp = base + var + \"/\" + domain_list[i] + \"/ssp245/\"\\\n",
    "        + model + \"/\" + member_id + \"/gn/\" + var + \"_\" + domain_list[i]\\\n",
    "        + \"_\" + model + \"_ssp245_\" + member_id + \"_1x1reg_201501-210012.nc\"\n",
    "    cmip6_data[var] = concat_hist_ssp(xr.open_dataset(file_hist, decode_times=False)[var].values.squeeze(),\n",
    "                                           xr.open_dataset(file_ssp)[var].values.squeeze())"
   ]
  },
  {
   "cell_type": "code",
   "execution_count": 10,
   "id": "673c4e47-392c-430b-8ef5-752fb3c899fc",
   "metadata": {},
   "outputs": [],
   "source": [
    "cmip6_data[\"co2\"] = co2\n",
    "\n",
    "cmip6_data[\"lat\"] = np.repeat(np.repeat(np.arange(-89.5, 90)[np.newaxis, :],\n",
    "                         360, axis=0)[:, :, np.newaxis], 360, axis=2)\n",
    "\n",
    "cmip6_data[\"lon\"] = np.repeat(np.repeat(np.arange(-179.5, 180)[np.newaxis, :],\n",
    "                         180, axis=0)[np.newaxis, :, :], 360, axis=0)\n",
    "cmip6_data[\"mon\"] = np.repeat(np.repeat(np.array([i % 12 for i in range(360)])[:, np.newaxis],\n",
    "                          180, axis=1)[:, :, np.newaxis], 360, axis=2)"
   ]
  },
  {
   "cell_type": "code",
   "execution_count": 11,
   "id": "3b2b8502-1e60-42c6-8ec5-f56c74db5fa6",
   "metadata": {},
   "outputs": [
    {
     "name": "stdout",
     "output_type": "stream",
     "text": [
      "(360, 180, 360)\n",
      "14529600\n",
      "14529600\n",
      "14529600\n",
      "14529600\n",
      "14529600\n",
      "14529600\n",
      "14529600\n",
      "14529600\n",
      "14529600\n",
      "14529600\n",
      "23328000\n",
      "23328000\n",
      "14529600\n",
      "Maximum number of non-nan grid cells: 23328000\n"
     ]
    }
   ],
   "source": [
    "print(cmip6_data[\"talkos\"].shape)\n",
    "for var in var_list:\n",
    "    print(np.sum(np.isfinite(cmip6_data[var])))\n",
    "\n",
    "print(\"Maximum number of non-nan grid cells:\", 180*360*360)"
   ]
  },
  {
   "cell_type": "markdown",
   "id": "855f0137-bd68-4a77-9e74-bac8c9d719fc",
   "metadata": {},
   "source": [
    "#### Creation of training data"
   ]
  },
  {
   "cell_type": "code",
   "execution_count": 12,
   "id": "540027af-8d92-41e7-bc25-567cfdf22d1a",
   "metadata": {},
   "outputs": [
    {
     "name": "stdout",
     "output_type": "stream",
     "text": [
      "305636\n",
      "341467\n",
      "amount of socat data points available: 89.51%\n"
     ]
    }
   ],
   "source": [
    "data_socat = {}\n",
    "is_socat_and_mpi_data = np.isfinite(ds_socat.fco2_ave_weighted.values) * np.isfinite(cmip6_data[\"talkos\"])\n",
    "\n",
    "for var in var_list + [\"co2\", \"lat\", \"lon\", \"mon\"]:\n",
    "    data_socat[var] = cmip6_data[var][is_socat_and_mpi_data]\n",
    "\n",
    "print(data_socat[\"talkos\"].size)\n",
    "print(np.sum(np.isfinite(ds_socat.fco2_ave_weighted.values)))\n",
    "print(\"amount of socat data points available: {:.2f}%\".format(\n",
    "    100 * data_socat[\"talkos\"].size / np.sum(np.isfinite(ds_socat.fco2_ave_weighted.values)) \n",
    "))"
   ]
  },
  {
   "cell_type": "code",
   "execution_count": 13,
   "id": "6e964e2e-a24a-4384-b86d-9c584e7a522d",
   "metadata": {},
   "outputs": [],
   "source": [
    "data_socat[\"spco2\"] *=  (1e6 / 101325) # transform from bar to muatm\n",
    "\n",
    "data_socat[\"fco2\"] = calc_fCO2_from_pCO2(pco2=data_socat[\"spco2\"],\n",
    "                                                tem=data_socat[\"tos\"])"
   ]
  },
  {
   "cell_type": "code",
   "execution_count": 14,
   "id": "f8cce77a-bc1c-4971-a2de-2d67dc56cb41",
   "metadata": {},
   "outputs": [
    {
     "name": "stdout",
     "output_type": "stream",
     "text": [
      "Minimum and maximum for fCO2: 1.42e+02, 6.37e+02\n"
     ]
    }
   ],
   "source": [
    "print(\"Minimum and maximum for fCO2: {:.2e}, {:.2e}\". format(\n",
    "    np.nanmin(data_socat[\"fco2\"]), np.nanmax(data_socat[\"fco2\"])\n",
    "))"
   ]
  },
  {
   "cell_type": "markdown",
   "id": "9149fe10-7370-48cd-8bf5-0d970456a711",
   "metadata": {},
   "source": [
    "# Preprocessing of data for training"
   ]
  },
  {
   "cell_type": "markdown",
   "id": "849bf759-7f40-40aa-9782-a2d142cdec8a",
   "metadata": {},
   "source": [
    "#### Transform mon to mon_sin and mon_cos"
   ]
  },
  {
   "cell_type": "code",
   "execution_count": 15,
   "id": "e8612e5f-08c8-4f26-9cfc-34ebe569d791",
   "metadata": {},
   "outputs": [],
   "source": [
    "data_socat[\"mon_sin\"] = np.sin(data_socat[\"mon\"] / 12 * 2 * np.pi)\n",
    "data_socat[\"mon_cos\"] = np.cos(data_socat[\"mon\"] / 12 * 2 * np.pi)\n",
    "del data_socat[\"mon\"]"
   ]
  },
  {
   "cell_type": "markdown",
   "id": "6679ae25-8c34-4ed8-a861-94c2728658a1",
   "metadata": {},
   "source": [
    "#### Transform lat and lon\n",
    "\n",
    "Following Gade et al., 2010: A Non-singular Horizontal Position Representation"
   ]
  },
  {
   "cell_type": "code",
   "execution_count": 16,
   "id": "4152dfc1-e8ba-4975-b0d8-70dd07eef621",
   "metadata": {},
   "outputs": [],
   "source": [
    "data_socat[\"nvector1\"] = np.sin(data_socat[\"lat\"] / 360 * 2 * np.pi)\n",
    "data_socat[\"nvector2\"] = np.sin(data_socat[\"lon\"] / 360 * 2 * np.pi)\\\n",
    "    * np.cos(data_socat[\"lat\"] / 360 * 2 * np.pi)\n",
    "data_socat[\"nvector3\"] = - np.cos(data_socat[\"lon\"] / 360 * 2 * np.pi)\\\n",
    "    * np.cos(data_socat[\"lat\"] / 360 * 2 * np.pi)\n",
    "del data_socat[\"lon\"]\n",
    "del data_socat[\"lat\"]"
   ]
  },
  {
   "cell_type": "markdown",
   "id": "0ee75728-16ca-4d66-a593-20bce2359edb",
   "metadata": {},
   "source": [
    "#### Log-transform mlotst and chlos"
   ]
  },
  {
   "cell_type": "code",
   "execution_count": 17,
   "id": "aecad3f6-b287-4b37-8296-7b1f9379cd57",
   "metadata": {},
   "outputs": [],
   "source": [
    "def normalize(array):\n",
    "    return (array - np.mean(array)) / np.std(array)"
   ]
  },
  {
   "cell_type": "code",
   "execution_count": 18,
   "id": "5088a280-8c9a-46a2-90d6-afe260aba9c5",
   "metadata": {},
   "outputs": [
    {
     "name": "stdout",
     "output_type": "stream",
     "text": [
      "mlotst statistic:  0.27535551751433684\n",
      "mlotst statistic with log transform:  0.04311932381552107\n"
     ]
    }
   ],
   "source": [
    "print(\"mlotst statistic: \",\n",
    "      stats.kstest(normalize(data_socat[\"mlotst\"]), stats.norm.cdf)[0])\n",
    "print(\"mlotst statistic with log transform: \",\n",
    "      stats.kstest(normalize(np.log(data_socat[\"mlotst\"])), stats.norm.cdf)[0])"
   ]
  },
  {
   "cell_type": "code",
   "execution_count": 19,
   "id": "243f6802-b52a-429c-960b-5b70f44e3ae9",
   "metadata": {},
   "outputs": [
    {
     "name": "stdout",
     "output_type": "stream",
     "text": [
      "mlotst statistic:  0.29506146278639656\n",
      "mlotst statistic with log transform:  0.1519827399334507\n"
     ]
    }
   ],
   "source": [
    "print(\"mlotst statistic: \",\n",
    "      stats.kstest(normalize(data_socat[\"chlos\"]), stats.norm.cdf)[0])\n",
    "print(\"mlotst statistic with log transform: \",\n",
    "      stats.kstest(normalize(np.log(data_socat[\"chlos\"])), stats.norm.cdf)[0])"
   ]
  },
  {
   "cell_type": "code",
   "execution_count": 20,
   "id": "4130fd92-345d-4703-b769-64592c5cf5e8",
   "metadata": {},
   "outputs": [
    {
     "data": {
      "text/plain": [
       "Text(0.5, 1.0, 'mlotst')"
      ]
     },
     "execution_count": 20,
     "metadata": {},
     "output_type": "execute_result"
    },
    {
     "data": {
      "image/png": "[encoded data removed]",
      "text/plain": [
       "<Figure size 640x480 with 1 Axes>"
      ]
     },
     "metadata": {},
     "output_type": "display_data"
    }
   ],
   "source": [
    "plt.hist(normalize(data_socat[\"mlotst\"]), 100, density=True, facecolor='blue', alpha=0.5);\n",
    "plt.hist(normalize(np.log(data_socat[\"mlotst\"])), 100, density=True, facecolor='green', alpha=0.5);\n",
    "plt.title(\"mlotst\")"
   ]
  },
  {
   "cell_type": "code",
   "execution_count": 21,
   "id": "c90fa223-25af-4061-802a-ac8848fd0a9b",
   "metadata": {},
   "outputs": [
    {
     "data": {
      "text/plain": [
       "Text(0.5, 1.0, 'chlos')"
      ]
     },
     "execution_count": 21,
     "metadata": {},
     "output_type": "execute_result"
    },
    {
     "data": {
      "image/png": "[encoded data removed]",
      "text/plain": [
       "<Figure size 640x480 with 1 Axes>"
      ]
     },
     "metadata": {},
     "output_type": "display_data"
    }
   ],
   "source": [
    "plt.hist(normalize(data_socat[\"chlos\"]), 100, density=True, facecolor='blue', alpha=0.5);\n",
    "plt.hist(normalize(np.log(data_socat[\"chlos\"])), 100, density=True, facecolor='green', alpha=0.5);\n",
    "plt.title(\"chlos\")"
   ]
  },
  {
   "cell_type": "code",
   "execution_count": 22,
   "id": "d4d20e19-714d-47e8-adaf-8137a3a546fa",
   "metadata": {},
   "outputs": [],
   "source": [
    "data_socat[\"mlotst\"] = np.log(data_socat[\"mlotst\"])\n",
    "data_socat[\"chlos\"] = np.log(data_socat[\"chlos\"])"
   ]
  },
  {
   "cell_type": "markdown",
   "id": "8bb280ce-9408-41a1-af44-5d6d355240f5",
   "metadata": {},
   "source": [
    "####  Split into training and validation sets"
   ]
  },
  {
   "cell_type": "code",
   "execution_count": 23,
   "id": "46f723c0-6b32-4691-97b5-ac59f6d060e4",
   "metadata": {},
   "outputs": [],
   "source": [
    "np.random.seed(0)\n",
    "random.seed(0)\n",
    "train_valid_split = 0.833 \n",
    "# As before, have 5/6 as training and 1/6 as validation data\n",
    "random_indices = np.arange(len(data_socat[\"tos\"]), dtype=int)\n",
    "\n",
    "random.shuffle(random_indices)\n",
    "\n",
    "ntrain_socat = int(len(data_socat[\"tos\"]) * train_valid_split)\n",
    "train_socat = {key: data_socat[key][random_indices][:ntrain_socat]\n",
    "               for key in data_socat}\n",
    "valid_socat = {key: data_socat[key][random_indices][ntrain_socat:]\n",
    "               for key in data_socat}"
   ]
  },
  {
   "cell_type": "markdown",
   "id": "ad29a6f7-dc31-47fb-8a84-0c0df423b7f0",
   "metadata": {},
   "source": [
    "#### normalize data and convert into feature and label arrays"
   ]
  },
  {
   "cell_type": "code",
   "execution_count": 24,
   "id": "4e12d1f1-7feb-4ad8-90aa-b184f0cd72d1",
   "metadata": {},
   "outputs": [],
   "source": [
    "feature_keys = [\"tos\", \"sos\", \"mlotst\", \"zos\", \"chlos\", \"siconc\", \"uas\", \"vas\",\n",
    "                \"co2\", \"mon_sin\", \"mon_cos\", \"nvector1\", \"nvector2\", \"nvector3\"]\n",
    "\n",
    "with open('../../data/cmip6_base_model_1model_train_feature_means.pkl', 'rb') as f:\n",
    "    train_feature_means = pickle.load(f)\n",
    "\n",
    "with open('../../data/cmip6_base_model_1model_train_feature_stds.pkl', 'rb') as f:\n",
    "    train_feature_stds = pickle.load(f)\n",
    "\n",
    "# Processing the socat data\n",
    "train_features = np.concatenate([(\n",
    "    train_socat[key][:, np.newaxis] - train_feature_means[key]\n",
    ") / train_feature_stds[key] for key in feature_keys], axis=1)\n",
    "\n",
    "valid_features = np.concatenate([(\n",
    "    valid_socat[key][:, np.newaxis] - train_feature_means[key]\n",
    ") / train_feature_stds[key] for key in feature_keys], axis=1)\n",
    "\n",
    "train_labels = train_socat[\"fco2\"] # maybe add [:, np.newaxis]\n",
    "\n",
    "valid_labels = valid_socat[\"fco2\"] # maybe add [:, np.newaxis]"
   ]
  },
  {
   "cell_type": "code",
   "execution_count": 25,
   "id": "02edc950-fa56-43c8-a31c-2814a15b83c4",
   "metadata": {},
   "outputs": [],
   "source": [
    "# add additional dictionaries train_TS and valid_TS that only contain T and S normalized\n",
    "# for fCO2 surrogate model\n",
    "# original feature means and stds used to train the fCO2 surrogate model:\n",
    "alk_range = [1000e-6, 3000e-6]\n",
    "dic_range = [1000e-6, 3000e-6]\n",
    "tem_range = [-2, 35]\n",
    "sal_range = [10, 50]\n",
    "sil_range = [0, 134e-6]\n",
    "phos_range = [0, 4e-6]\n",
    "\n",
    "sample_means = {\"talkos\":(alk_range[0] + alk_range[1]) / 2,\n",
    "                 \"dissicos\":dic_range[0] + (dic_range[1] - dic_range[0]) / 4,\n",
    "                 \"tos\":(tem_range[0] + tem_range[1]) / 2,\n",
    "                 \"sos\":(sal_range[0] + sal_range[1]) / 2,\n",
    "                 \"sios\":(sil_range[0] + sil_range[1]) / 2,\n",
    "                 \"po4os\":(phos_range[0] + phos_range[1]) / 2}\n",
    "\n",
    "sample_stds = {\"talkos\":(alk_range[1] - alk_range[0]) / np.sqrt(12),\n",
    "                 \"dissicos\":(dic_range[1] - dic_range[0]) * np.sqrt(7 / 144),\n",
    "                 \"tos\":(tem_range[1] - tem_range[0]) / np.sqrt(12),\n",
    "                 \"sos\":(sal_range[1] - sal_range[0]) / np.sqrt(12),\n",
    "                 \"sios\":(sil_range[1] - sil_range[0]) / np.sqrt(12),\n",
    "                 \"po4os\":(phos_range[1] - phos_range[0]) / np.sqrt(12)}\n",
    "\n",
    "train_TS = np.concatenate([\n",
    "    (train_socat[key][:, np.newaxis] - sample_means[key]) / sample_stds[key]\n",
    "    for key in [\"tos\", \"sos\"]\n",
    "], axis=1)\n",
    "\n",
    "valid_TS = np.concatenate([\n",
    "    (valid_socat[key][:, np.newaxis] - sample_means[key]) / sample_stds[key]\n",
    "    for key in [\"tos\", \"sos\"]\n",
    "], axis=1)"
   ]
  },
  {
   "cell_type": "code",
   "execution_count": 26,
   "id": "44f00b53-1464-47ba-9dba-1d54ad8581ca",
   "metadata": {},
   "outputs": [
    {
     "name": "stdout",
     "output_type": "stream",
     "text": [
      "0.03970933\n",
      "0.8650753\n",
      "0.35846293\n",
      "0.2096405\n"
     ]
    }
   ],
   "source": [
    "print(np.mean(train_TS[:, 0]))\n",
    "print(np.std(train_TS[:, 0]))\n",
    "print(np.mean(train_TS[:, 1]))\n",
    "print(np.std(train_TS[:, 1]))"
   ]
  },
  {
   "cell_type": "code",
   "execution_count": 27,
   "id": "bb175517-c93e-4b25-887a-a8135e215058",
   "metadata": {},
   "outputs": [
    {
     "data": {
      "text/plain": [
       "(254594, 2)"
      ]
     },
     "execution_count": 27,
     "metadata": {},
     "output_type": "execute_result"
    }
   ],
   "source": [
    "train_TS.shape"
   ]
  },
  {
   "cell_type": "code",
   "execution_count": 28,
   "id": "5947b215-d3d9-48ea-a4a5-612ff3be86e1",
   "metadata": {},
   "outputs": [
    {
     "name": "stdout",
     "output_type": "stream",
     "text": [
      "Check shapes of matrices.\n",
      "(254594, 14)\n",
      "(51042, 14)\n",
      "(254594,)\n",
      "(51042,)\n"
     ]
    }
   ],
   "source": [
    "print(\"Check shapes of matrices.\")\n",
    "print(train_features.shape)\n",
    "print(valid_features.shape)\n",
    "print(train_labels.shape)\n",
    "print(valid_labels.shape)"
   ]
  },
  {
   "cell_type": "code",
   "execution_count": 29,
   "id": "c1556919-ecd3-447e-bfc3-6e339472a5e7",
   "metadata": {},
   "outputs": [
    {
     "name": "stdout",
     "output_type": "stream",
     "text": [
      "Check normalization of features.\n",
      "[ 0.27735484  0.11476019 -0.16534708  0.89513512  0.59769618 -0.43598998\n",
      " -0.0445879  -0.03787942  0.31043901 -0.01253773  0.00836693  0.42957695\n",
      " -0.1573055   0.12446984]\n",
      "[0.80589847 1.34643936 0.88365261 0.9053184  0.87588169 0.2699655\n",
      " 0.94426185 1.01322014 0.908408   0.99394295 1.00589966 0.84564065\n",
      " 0.94382674 1.10535926]\n",
      "[ 0.27250657  0.10830369 -0.158685    0.89320825  0.59412615 -0.43569409\n",
      " -0.04798977 -0.04522697  0.305734   -0.01518282  0.02897768  0.42424814\n",
      " -0.15631779  0.13073439]\n",
      "[0.80837259 1.35907738 0.88415226 0.91346233 0.87818654 0.26927226\n",
      " 0.94758077 1.01132041 0.90987586 0.99540188 1.00402322 0.85011556\n",
      " 0.94197252 1.10302027]\n"
     ]
    }
   ],
   "source": [
    "print(\"Check normalization of features.\")\n",
    "print(np.mean(train_features, axis=0))\n",
    "print(np.std(train_features, axis=0))\n",
    "print(np.mean(valid_features, axis=0))\n",
    "print(np.std(valid_features, axis=0))"
   ]
  },
  {
   "cell_type": "markdown",
   "id": "c9bfe9b4-65c5-474f-985b-6224097f65ef",
   "metadata": {},
   "source": [
    "# Define neural network and training procedure"
   ]
  },
  {
   "cell_type": "code",
   "execution_count": 30,
   "id": "52d5715f-e800-456f-a86c-70d7eeff033b",
   "metadata": {},
   "outputs": [],
   "source": [
    "class flexible_MLP(nn.Module):\n",
    "    def __init__(self, input_size, hidden_size_part1, inner_output_size, hidden_size_part2):\n",
    "        super().__init__()\n",
    "        self.device = torch.device(\"cuda\")\n",
    "        self.linear1 = nn.Linear(input_size, hidden_size_part1, device=self.device)\n",
    "        self.linear2 = nn.Linear(hidden_size_part1, hidden_size_part1, device=self.device)\n",
    "        self.linear3 = nn.Linear(hidden_size_part1, hidden_size_part1, device=self.device)\n",
    "        self.linear4 = nn.Linear(hidden_size_part1, inner_output_size, device=self.device)\n",
    "        \n",
    "        self.linear1_socat = nn.Linear(inner_output_size + 2, hidden_size_part2, device=self.device)\n",
    "        self.linear2_socat = nn.Linear(hidden_size_part2, hidden_size_part2, device=self.device)\n",
    "        self.linear3_socat = nn.Linear(hidden_size_part2, hidden_size_part2, device=self.device)\n",
    "        self.linear4_socat = nn.Linear(hidden_size_part2, 1, device=self.device)\n",
    "    \n",
    "    def forward(self, x, TS_data=None, mode=None):\n",
    "        \"\"\"\n",
    "        mode can be socat or None\n",
    "        (for None, only the first part of the network is used)\n",
    "        TS_data only needs to be provided if mode is socat\n",
    "        \"\"\"\n",
    "        x = x.to(self.device)\n",
    "        x = F.elu(self.linear1(x))\n",
    "        x = F.elu(self.linear2(x))\n",
    "        x = F.elu(self.linear3(x))\n",
    "        x = self.linear4(x)\n",
    "        if mode == \"socat\":\n",
    "            x_p1 = x[:, :2]\n",
    "            x_p2 = x[:, 2:]\n",
    "            x = torch.cat((x_p1, TS_data, x_p2), dim=-1)\n",
    "            x = F.elu(self.linear1_socat(x))\n",
    "            x = F.elu(self.linear2_socat(x))\n",
    "            x = F.elu(self.linear3_socat(x))\n",
    "            x = F.elu(self.linear4_socat(x))\n",
    "        return x\n",
    "\n",
    "    def save(self, file_name='model.pth'):\n",
    "        model_folder_path = '../../models'\n",
    "        if not os.path.exists(model_folder_path):\n",
    "            os.makedirs(model_folder_path)\n",
    "\n",
    "        file_name = os.path.join(model_folder_path, file_name)\n",
    "        torch.save(self.state_dict(), file_name)"
   ]
  },
  {
   "cell_type": "code",
   "execution_count": 31,
   "id": "e7c24dab-0df0-48e5-a247-814a54f80502",
   "metadata": {},
   "outputs": [
    {
     "name": "stdout",
     "output_type": "stream",
     "text": [
      "flexible_MLP(\n",
      "  (linear1): Linear(in_features=14, out_features=160, bias=True)\n",
      "  (linear2): Linear(in_features=160, out_features=160, bias=True)\n",
      "  (linear3): Linear(in_features=160, out_features=160, bias=True)\n",
      "  (linear4): Linear(in_features=160, out_features=4, bias=True)\n",
      "  (linear1_socat): Linear(in_features=6, out_features=160, bias=True)\n",
      "  (linear2_socat): Linear(in_features=160, out_features=160, bias=True)\n",
      "  (linear3_socat): Linear(in_features=160, out_features=160, bias=True)\n",
      "  (linear4_socat): Linear(in_features=160, out_features=1, bias=True)\n",
      ")\n",
      "Update the base and socat subnets and freeze these layers\n",
      "Number of trainable parameters in the model: 54564\n"
     ]
    }
   ],
   "source": [
    "model = flexible_MLP(14, 160, 4, 160)\n",
    "print(model)\n",
    "\n",
    "print(\"Update the base and socat subnets and freeze these layers\")\n",
    "base_state_dict = torch.load(\"../../models/single_CMIP6_model_experiments/CMIP6_base_model_1model_160x3_elu_10000epo.pth\")\n",
    "socat_state_dict = torch.load(\"../../models/fCO2_model_160x3_elu_10000epo.pth\")\n",
    "\n",
    "with torch.no_grad(): # not sure whether interfers with autograd\n",
    "    model.linear1.weight.copy_(base_state_dict[\"linear1.weight\"])\n",
    "    model.linear1.bias.copy_(base_state_dict[\"linear1.bias\"])\n",
    "    model.linear2.weight.copy_(base_state_dict[\"linear2.weight\"])\n",
    "    model.linear2.bias.copy_(base_state_dict[\"linear2.bias\"])\n",
    "    model.linear3.weight.copy_(base_state_dict[\"linear3.weight\"])\n",
    "    model.linear3.bias.copy_(base_state_dict[\"linear3.bias\"])\n",
    "    model.linear4.weight.copy_(base_state_dict[\"linear4.weight\"])\n",
    "    model.linear4.bias.copy_(base_state_dict[\"linear4.bias\"])\n",
    "    \n",
    "    model.linear1_socat.weight.copy_(socat_state_dict[\"linear1.weight\"])\n",
    "    model.linear1_socat.bias.copy_(socat_state_dict[\"linear1.bias\"])\n",
    "    model.linear2_socat.weight.copy_(socat_state_dict[\"linear2.weight\"])\n",
    "    model.linear2_socat.bias.copy_(socat_state_dict[\"linear2.bias\"])\n",
    "    model.linear3_socat.weight.copy_(socat_state_dict[\"linear3.weight\"])\n",
    "    model.linear3_socat.bias.copy_(socat_state_dict[\"linear3.bias\"])\n",
    "    model.linear4_socat.weight.copy_(socat_state_dict[\"linear4.weight\"])\n",
    "    model.linear4_socat.bias.copy_(socat_state_dict[\"linear4.bias\"])\n",
    "\n",
    "model.linear1_socat.weight.requires_grad = False\n",
    "model.linear1_socat.bias.requires_grad = False\n",
    "model.linear2_socat.weight.requires_grad = False\n",
    "model.linear2_socat.bias.requires_grad = False\n",
    "model.linear3_socat.weight.requires_grad = False\n",
    "model.linear3_socat.bias.requires_grad = False\n",
    "model.linear4_socat.weight.requires_grad = False\n",
    "model.linear4_socat.bias.requires_grad = False\n",
    "\n",
    "pytorch_total_params = sum(p.numel() for p in model.parameters() if p.requires_grad)\n",
    "print(\"Number of trainable parameters in the model:\", pytorch_total_params)"
   ]
  },
  {
   "cell_type": "code",
   "execution_count": 32,
   "id": "337e2d00-bbd4-40ec-aafc-8b962e9d26dc",
   "metadata": {},
   "outputs": [],
   "source": [
    "def training_dataloader(features, labels, batch_size, TS=None):\n",
    "    ntrain = len(labels)\n",
    "    nbatch = ntrain // batch_size\n",
    "    indices = np.arange(ntrain, dtype=int)\n",
    "    random.shuffle(indices)\n",
    "    batch_indices = np.split(indices[:nbatch * batch_size], nbatch)\n",
    "    if TS is None:\n",
    "        batch_data = [(torch.from_numpy(np.take(features, ind, axis=0).astype(\"float32\")).to(torch.device(\"cuda\")),\n",
    "                       torch.from_numpy(np.take(labels, ind, axis=0).astype(\"float32\")).to(torch.device(\"cuda\")))\n",
    "                      for ind in batch_indices]\n",
    "    elif TS is not None:\n",
    "        batch_data = [(torch.from_numpy(np.take(features, ind, axis=0).astype(\"float32\")).to(torch.device(\"cuda\")),\n",
    "                       torch.from_numpy(np.take(labels, ind, axis=0).astype(\"float32\")).to(torch.device(\"cuda\")),\n",
    "                       torch.from_numpy(np.take(TS, ind, axis=0).astype(\"float32\")).to(torch.device(\"cuda\")))\n",
    "                      for ind in batch_indices]\n",
    "    return batch_data"
   ]
  },
  {
   "cell_type": "code",
   "execution_count": 33,
   "id": "ddfb7855-a4a3-4292-9b34-5d9b14586be3",
   "metadata": {},
   "outputs": [],
   "source": [
    "loss_function = nn.MSELoss()"
   ]
  },
  {
   "cell_type": "code",
   "execution_count": 34,
   "id": "fdc82445-36c3-49f0-b1a3-98ea797ab048",
   "metadata": {},
   "outputs": [],
   "source": [
    "def train_one_epoch(optimizer):\n",
    "    running_loss = 0. # running loss over all batches in the epoch\n",
    "\n",
    "    training_data = training_dataloader(train_features,\n",
    "                                        train_labels,\n",
    "                                        batch_size, train_TS)\n",
    "    \n",
    "    for batch in training_data:\n",
    "        features, labels, TS = batch\n",
    "        optimizer.zero_grad()\n",
    "        outputs = torch.squeeze(model(features, TS, 'socat'))\n",
    "        loss = loss_function(outputs, labels)\n",
    "        loss.backward()\n",
    "        optimizer.step()\n",
    "        \n",
    "        running_loss += loss.detach().cpu().item()\n",
    "\n",
    "    ntrain = len(train_labels)\n",
    "    nbatch = ntrain // batch_size\n",
    "\n",
    "    return running_loss / nbatch"
   ]
  },
  {
   "cell_type": "code",
   "execution_count": 35,
   "id": "f72c7ec4-24cb-44ae-89a3-a2161e533902",
   "metadata": {},
   "outputs": [],
   "source": [
    "def calc_gammar(reduction_factor, nepochs):                                                                                                                                                                       \n",
    "    return reduction_factor**(1 / nepochs)\n",
    "\n",
    "def train(batch_size, n_epochs, optimizer, scheduler):\n",
    "    train_stats = {\"train_loss\":[], \"valid_loss\":[], \"learn_rate\":[]}\n",
    "\n",
    "    pbar = tqdm(range(n_epochs), postfix=f'epoch 0/{n_epochs}')\n",
    "    \n",
    "    for epoch in pbar:\n",
    "\n",
    "        model.train()\n",
    "\n",
    "        train_loss_epoch = train_one_epoch(optimizer)\n",
    "\n",
    "        model.eval()\n",
    "        with torch.no_grad():\n",
    "            valid_outputs = torch.squeeze(model(\n",
    "                torch.from_numpy(valid_features.astype(\"float32\")).to(torch.device(\"cuda\")),\n",
    "                torch.from_numpy(valid_TS.astype(\"float32\")).to(torch.device(\"cuda\")),\n",
    "                \"socat\"))\n",
    "            valid_loss_epoch = loss_function(\n",
    "                valid_outputs, torch.from_numpy(valid_labels).to(torch.device(\"cuda\"))\n",
    "                                        ).detach().cpu().item()\n",
    "                \n",
    "        train_stats[\"train_loss\"].append(train_loss_epoch)\n",
    "        train_stats[\"valid_loss\"].append(valid_loss_epoch)\n",
    "        \n",
    "        lr = scheduler.get_last_lr()[0]\n",
    "        train_stats[\"learn_rate\"].append(lr)\n",
    "\n",
    "        scheduler.step()\n",
    "\n",
    "        pbar.set_postfix({'epoch': f'{epoch+1}/{n_epochs}',\n",
    "                          'train_loss': f'{train_loss_epoch:.3e}',\n",
    "                          'valid_loss': f'{valid_loss_epoch:.3e}',\n",
    "                          'learn_rate': f'{lr:.3e}'}\n",
    "                        )\n",
    "\n",
    "    return train_stats"
   ]
  },
  {
   "cell_type": "markdown",
   "id": "28fa4eb1-4ba1-42d2-9c36-4493d67bee00",
   "metadata": {},
   "source": [
    "# Test zero-shot inference with pretrained base model"
   ]
  },
  {
   "cell_type": "markdown",
   "id": "d7f0e408-8e30-4f52-a23a-d9ff844e15d4",
   "metadata": {},
   "source": [
    "Mostly to test whether the order of magnitude of the output fits.\n",
    "\n",
    "**On socat validation data**"
   ]
  },
  {
   "cell_type": "code",
   "execution_count": 56,
   "id": "5dacad96-9a82-4cdb-afba-665151e5c7e7",
   "metadata": {},
   "outputs": [],
   "source": [
    "def MSE(x, y, axis=0):\n",
    "    return np.sum((x - y)**2, axis=axis) / len(x)"
   ]
  },
  {
   "cell_type": "code",
   "execution_count": 37,
   "id": "327ce1b1-1158-4b41-8d24-633e1a1b066f",
   "metadata": {},
   "outputs": [],
   "source": [
    "model.eval()\n",
    "with torch.no_grad():\n",
    "    model_output_zero_shot = model(\n",
    "        torch.from_numpy(valid_features.astype(\"float32\")).to(torch.device(\"cuda\")),\n",
    "        torch.from_numpy(valid_TS.astype(\"float32\")).to(torch.device(\"cuda\")),\n",
    "        'socat').detach().cpu().numpy().squeeze()"
   ]
  },
  {
   "cell_type": "code",
   "execution_count": 38,
   "id": "1537cdaa-4494-4be4-903e-eaf5cff05d80",
   "metadata": {},
   "outputs": [
    {
     "name": "stdout",
     "output_type": "stream",
     "text": [
      "RMSE:  52.96460193341132\n",
      "Maximum absolute deviation:  2033.0059087425434\n",
      "99.9th percentile of absolute deviation (1000 val's larger):  234.39676746256265\n",
      "99.99th percentile of absolute deviation (100 val's larger):  1075.6206906954046\n",
      "99.999th percentile of absolute deviation (10 val's larger):  1688.8722776111322\n",
      "Fraction of variance unexplained:  1.4955705400420307\n",
      "1875.7049452751864\n"
     ]
    }
   ],
   "source": [
    "print(\"RMSE: \", np.sqrt(MSE(valid_labels, model_output_zero_shot)))\n",
    "print(\"Maximum absolute deviation: \", np.max(np.abs(model_output_zero_shot-valid_labels)))\n",
    "print(\"99.9th percentile of absolute deviation (1000 val's larger): \",\n",
    "      np.percentile(np.abs(model_output_zero_shot-valid_labels), q=99.9))\n",
    "print(\"99.99th percentile of absolute deviation (100 val's larger): \",\n",
    "      np.percentile(np.abs(model_output_zero_shot-valid_labels), q=99.99))\n",
    "print(\"99.999th percentile of absolute deviation (10 val's larger): \",\n",
    "      np.percentile(np.abs(model_output_zero_shot-valid_labels), q=99.999))\n",
    "print(\"Fraction of variance unexplained: \", MSE(valid_labels, model_output_zero_shot) / np.var(valid_labels))\n",
    "print(np.var(valid_labels))"
   ]
  },
  {
   "cell_type": "code",
   "execution_count": 39,
   "id": "de2c40d5-be88-495a-8016-e29f5b2766bb",
   "metadata": {},
   "outputs": [
    {
     "name": "stdout",
     "output_type": "stream",
     "text": [
      "A sample to get an idea about how bad the prediction is: \n",
      "[354.36935 347.37076 295.14725 294.7557  327.6502  438.1601  315.6382\n",
      " 368.96817 422.77365 374.0841 ]\n",
      "[428.03874286 346.25472006 362.58922625 353.47970849 349.4126703\n",
      " 417.48256    362.8946717  362.75771674 361.40264783 411.70325307]\n"
     ]
    }
   ],
   "source": [
    "print(\"A sample to get an idea about how bad the prediction is: \")\n",
    "print(model_output_zero_shot[:10])\n",
    "print(valid_labels[:10])"
   ]
  },
  {
   "cell_type": "markdown",
   "id": "8efab4db-ae79-40d9-9506-9f5619bc4c94",
   "metadata": {},
   "source": [
    "# Training"
   ]
  },
  {
   "cell_type": "markdown",
   "id": "16a4eebe-d207-4685-b486-d67f5faaebb8",
   "metadata": {},
   "source": [
    "#### Freeze all layers of the base model despite the last linear projection layer and train it"
   ]
  },
  {
   "cell_type": "code",
   "execution_count": 158,
   "id": "3982952b-f773-465c-9c25-b66016c06506",
   "metadata": {},
   "outputs": [
    {
     "name": "stdout",
     "output_type": "stream",
     "text": [
      "Number of trainable parameters in the model: 644\n"
     ]
    }
   ],
   "source": [
    "model.linear1.weight.requires_grad = False\n",
    "model.linear1.bias.requires_grad = False\n",
    "model.linear2.weight.requires_grad = False\n",
    "model.linear2.bias.requires_grad = False\n",
    "model.linear3.weight.requires_grad = False\n",
    "model.linear3.bias.requires_grad = False\n",
    "\n",
    "pytorch_total_params = sum(p.numel() for p in model.parameters() if p.requires_grad)\n",
    "print(\"Number of trainable parameters in the model:\", pytorch_total_params)"
   ]
  },
  {
   "cell_type": "code",
   "execution_count": 159,
   "id": "e5cb241a-52b1-4cb3-a506-52ecd9c4712c",
   "metadata": {},
   "outputs": [
    {
     "name": "stderr",
     "output_type": "stream",
     "text": [
      "100%|██████████████████████████████████████████████████████████████████████████████████████| 2000/2000 [09:42<00:00,  3.43it/s, epoch=2000/2000, train_loss=3.042e+02, valid_loss=2.975e+02, learn_rate=1.001e-04]\n"
     ]
    }
   ],
   "source": [
    "batch_size = 1000\n",
    "n_epochs = 2_000\n",
    "\n",
    "base_learning_rate = 1e-3\n",
    "gamma = calc_gammar(0.1, 2000)\n",
    "\n",
    "#optimizer = optim.Adam(model.parameters(), lr=base_learning_rate)\n",
    "optimizer = optim.Adam(filter(lambda p: p.requires_grad, model.parameters()),\n",
    "                       lr=base_learning_rate)\n",
    "scheduler = optim.lr_scheduler.ExponentialLR(optimizer,\n",
    "                                             gamma=gamma)\n",
    "\n",
    "train_stats = train(batch_size, n_epochs, optimizer, scheduler)"
   ]
  },
  {
   "cell_type": "markdown",
   "id": "c78c5fd1-7050-4f20-8bbd-8f81f8267505",
   "metadata": {},
   "source": [
    "#### Also unfreeze the second-last layer and retrain also that on a small learning rate"
   ]
  },
  {
   "cell_type": "code",
   "execution_count": 160,
   "id": "3ccc0b5b-a264-4a68-a0a0-d8b2cde8dd35",
   "metadata": {},
   "outputs": [
    {
     "name": "stdout",
     "output_type": "stream",
     "text": [
      "Number of trainable parameters in the model: 26404\n"
     ]
    }
   ],
   "source": [
    "model.linear3.weight.requires_grad = True\n",
    "model.linear3.bias.requires_grad = True\n",
    "\n",
    "pytorch_total_params = sum(p.numel() for p in model.parameters() if p.requires_grad)\n",
    "print(\"Number of trainable parameters in the model:\", pytorch_total_params)"
   ]
  },
  {
   "cell_type": "code",
   "execution_count": 161,
   "id": "d91bebfc-86b4-4077-849e-f194f80a9360",
   "metadata": {},
   "outputs": [
    {
     "name": "stderr",
     "output_type": "stream",
     "text": [
      "100%|██████████████████████████████████████████████████████████████████████████████████████| 4000/4000 [20:55<00:00,  3.19it/s, epoch=4000/4000, train_loss=2.708e+01, valid_loss=3.825e+01, learn_rate=1.001e-05]\n"
     ]
    }
   ],
   "source": [
    "batch_size = 1000\n",
    "n_epochs = 4_000\n",
    "\n",
    "base_learning_rate = 1e-4\n",
    "gamma = calc_gammar(0.1, 4000) # 1 for no learning rate decay\n",
    "\n",
    "#optimizer = optim.Adam(model.parameters(), lr=base_learning_rate)\n",
    "optimizer = optim.Adam(filter(lambda p: p.requires_grad, model.parameters()),\n",
    "                       lr=base_learning_rate)\n",
    "scheduler = optim.lr_scheduler.ExponentialLR(optimizer,\n",
    "                                             gamma=gamma)\n",
    "\n",
    "train_stats = train(batch_size, n_epochs, optimizer, scheduler)"
   ]
  },
  {
   "cell_type": "markdown",
   "id": "42f32abb-cffc-4667-8947-e7ca9ecc4b67",
   "metadata": {},
   "source": [
    "#### Unfreeze the remaining model and retrain with an even smaller learning rate"
   ]
  },
  {
   "cell_type": "code",
   "execution_count": 162,
   "id": "d5cd650d-890a-491d-8f10-504af32da339",
   "metadata": {},
   "outputs": [
    {
     "name": "stdout",
     "output_type": "stream",
     "text": [
      "Number of trainable parameters in the model: 54564\n"
     ]
    }
   ],
   "source": [
    "model.linear1.weight.requires_grad = True\n",
    "model.linear1.bias.requires_grad = True\n",
    "model.linear2.weight.requires_grad = True\n",
    "model.linear2.bias.requires_grad = True\n",
    "\n",
    "pytorch_total_params = sum(p.numel() for p in model.parameters() if p.requires_grad)\n",
    "print(\"Number of trainable parameters in the model:\", pytorch_total_params)"
   ]
  },
  {
   "cell_type": "code",
   "execution_count": 163,
   "id": "036f236d-a483-456e-96a9-5ec53febccd0",
   "metadata": {},
   "outputs": [
    {
     "name": "stderr",
     "output_type": "stream",
     "text": [
      "100%|██████████████████████████████████████████████████████████████████████████████████████| 4000/4000 [22:48<00:00,  2.92it/s, epoch=4000/4000, train_loss=2.028e+01, valid_loss=3.242e+01, learn_rate=1.000e-05]\n"
     ]
    }
   ],
   "source": [
    "batch_size = 1000\n",
    "n_epochs = 4_000\n",
    "\n",
    "base_learning_rate = 1e-5\n",
    "gamma = 1 # for no learning rate decay\n",
    "\n",
    "#optimizer = optim.Adam(model.parameters(), lr=base_learning_rate)\n",
    "optimizer = optim.Adam(filter(lambda p: p.requires_grad, model.parameters()),\n",
    "                       lr=base_learning_rate)\n",
    "scheduler = optim.lr_scheduler.ExponentialLR(optimizer,\n",
    "                                             gamma=gamma)\n",
    "\n",
    "train_stats = train(batch_size, n_epochs, optimizer, scheduler)"
   ]
  },
  {
   "cell_type": "code",
   "execution_count": 164,
   "id": "96245cf6-1233-493c-b1c0-a6bc21c21dd1",
   "metadata": {},
   "outputs": [],
   "source": [
    "model.save(\"CMIP6_base_model_1model_tuned_on_MPI-ESM.pth\")"
   ]
  },
  {
   "cell_type": "markdown",
   "id": "bd43f35b-ee33-4082-bca5-3a58ab5097ab",
   "metadata": {},
   "source": [
    "#### Other option: fully retrain the base network (no transfer learning case)"
   ]
  },
  {
   "cell_type": "code",
   "execution_count": 56,
   "id": "7acc272b-8c41-464e-8c03-db1771b28e97",
   "metadata": {},
   "outputs": [
    {
     "name": "stdout",
     "output_type": "stream",
     "text": [
      "flexible_MLP(\n",
      "  (linear1): Linear(in_features=14, out_features=160, bias=True)\n",
      "  (linear2): Linear(in_features=160, out_features=160, bias=True)\n",
      "  (linear3): Linear(in_features=160, out_features=160, bias=True)\n",
      "  (linear4): Linear(in_features=160, out_features=4, bias=True)\n",
      "  (linear1_socat): Linear(in_features=6, out_features=160, bias=True)\n",
      "  (linear2_socat): Linear(in_features=160, out_features=160, bias=True)\n",
      "  (linear3_socat): Linear(in_features=160, out_features=160, bias=True)\n",
      "  (linear4_socat): Linear(in_features=160, out_features=1, bias=True)\n",
      ")\n",
      "Number of trainable parameters in the model: 54564\n"
     ]
    }
   ],
   "source": [
    "model = flexible_MLP(14, 160, 4, 160)\n",
    "print(model)\n",
    "\n",
    "with torch.no_grad(): # not sure whether interfers with autograd\n",
    "    model.linear1_socat.weight.copy_(socat_state_dict[\"linear1.weight\"])\n",
    "    model.linear1_socat.bias.copy_(socat_state_dict[\"linear1.bias\"])\n",
    "    model.linear2_socat.weight.copy_(socat_state_dict[\"linear2.weight\"])\n",
    "    model.linear2_socat.bias.copy_(socat_state_dict[\"linear2.bias\"])\n",
    "    model.linear3_socat.weight.copy_(socat_state_dict[\"linear3.weight\"])\n",
    "    model.linear3_socat.bias.copy_(socat_state_dict[\"linear3.bias\"])\n",
    "    model.linear4_socat.weight.copy_(socat_state_dict[\"linear4.weight\"])\n",
    "    model.linear4_socat.bias.copy_(socat_state_dict[\"linear4.bias\"])\n",
    "\n",
    "model.linear1_socat.weight.requires_grad = False\n",
    "model.linear1_socat.bias.requires_grad = False\n",
    "model.linear2_socat.weight.requires_grad = False\n",
    "model.linear2_socat.bias.requires_grad = False\n",
    "model.linear3_socat.weight.requires_grad = False\n",
    "model.linear3_socat.bias.requires_grad = False\n",
    "model.linear4_socat.weight.requires_grad = False\n",
    "model.linear4_socat.bias.requires_grad = False\n",
    "\n",
    "pytorch_total_params = sum(p.numel() for p in model.parameters() if p.requires_grad)\n",
    "print(\"Number of trainable parameters in the model:\", pytorch_total_params)"
   ]
  },
  {
   "cell_type": "code",
   "execution_count": 57,
   "id": "db266be0-9bdc-42d8-8367-e97dff5838a9",
   "metadata": {},
   "outputs": [
    {
     "name": "stderr",
     "output_type": "stream",
     "text": [
      "100%|██████████████████████████████████████████████████████████████████████████████████| 10000/10000 [59:38<00:00,  2.79it/s, epoch=10000/10000, train_loss=1.153e+01, valid_loss=2.683e+01, learn_rate=1.000e-05]\n"
     ]
    }
   ],
   "source": [
    "batch_size = 1000\n",
    "n_epochs = 10_000\n",
    "\n",
    "base_learning_rate = 1e-3\n",
    "gamma = calc_gammar(0.1, 5000)\n",
    "\n",
    "#optimizer = optim.Adam(model.parameters(), lr=base_learning_rate)\n",
    "optimizer = optim.Adam(filter(lambda p: p.requires_grad, model.parameters()),\n",
    "                       lr=base_learning_rate)\n",
    "scheduler = optim.lr_scheduler.ExponentialLR(optimizer,\n",
    "                                                 gamma=gamma)\n",
    "\n",
    "train_stats_full_retrain = train(batch_size, n_epochs, optimizer, scheduler)"
   ]
  },
  {
   "cell_type": "code",
   "execution_count": 58,
   "id": "110d952c-5295-4f7f-a875-642172a3e67b",
   "metadata": {},
   "outputs": [],
   "source": [
    "model.save(\"training_MPI-ESM_on_fCO2_at_SOCAT_locations.pth\")"
   ]
  },
  {
   "cell_type": "markdown",
   "id": "ccfc0638-34dc-463e-ac5c-357455106883",
   "metadata": {},
   "source": [
    "# Test model performance for fCO2, talkos, dissicos, sios, po4os"
   ]
  },
  {
   "cell_type": "code",
   "execution_count": 40,
   "id": "4885f344-2a7b-4bb1-b2a2-9fe7fb28c502",
   "metadata": {},
   "outputs": [
    {
     "data": {
      "text/plain": [
       "<All keys matched successfully>"
      ]
     },
     "execution_count": 40,
     "metadata": {},
     "output_type": "execute_result"
    }
   ],
   "source": [
    "# Reload the finetuned model from above\n",
    "model_scratch = flexible_MLP(14, 160, 4, 160)\n",
    "model_state_dict = torch.load(\"../../models/single_CMIP6_model_experiments/training_MPI-ESM_on_fCO2_at_SOCAT_locations.pth\")\n",
    "model_scratch.load_state_dict(model_state_dict)\n",
    "\n",
    "model_finetuned = flexible_MLP(14, 160, 4, 160)\n",
    "model_state_dict = torch.load(\"../../models/single_CMIP6_model_experiments/CMIP6_base_model_1model_tuned_on_MPI-ESM.pth\")\n",
    "model_finetuned.load_state_dict(model_state_dict)"
   ]
  },
  {
   "cell_type": "markdown",
   "id": "7a8e4f09-1f26-4e1f-8c05-091bbe4c2ff3",
   "metadata": {},
   "source": [
    "#### Performance for fCO2"
   ]
  },
  {
   "cell_type": "code",
   "execution_count": 41,
   "id": "364fb0d6-ea3b-44e2-bdb0-8426dbbcbae6",
   "metadata": {},
   "outputs": [
    {
     "name": "stdout",
     "output_type": "stream",
     "text": [
      "fCO2 RMSE (model trained from scratch):  5.1796060819514205\n",
      "fCO2 RMSE (finetuned):  5.693782395568373\n"
     ]
    }
   ],
   "source": [
    "model_scratch.eval()\n",
    "with torch.no_grad():\n",
    "    model_output_scratch = model_scratch(\n",
    "        torch.from_numpy(valid_features.astype(\"float32\")).to(torch.device(\"cuda\")),\n",
    "        torch.from_numpy(valid_TS.astype(\"float32\")).to(torch.device(\"cuda\")),\n",
    "        'socat').detach().cpu().numpy().squeeze()\n",
    "print(\"fCO2 RMSE (model trained from scratch): \", np.sqrt(MSE(valid_labels, model_output_scratch)))\n",
    "\n",
    "model_finetuned.eval()\n",
    "with torch.no_grad():\n",
    "    model_output_finetuned = model_finetuned(\n",
    "        torch.from_numpy(valid_features.astype(\"float32\")).to(torch.device(\"cuda\")),\n",
    "        torch.from_numpy(valid_TS.astype(\"float32\")).to(torch.device(\"cuda\")),\n",
    "        'socat').detach().cpu().numpy().squeeze()\n",
    "print(\"fCO2 RMSE (finetuned): \", np.sqrt(MSE(valid_labels, model_output_finetuned)))"
   ]
  },
  {
   "cell_type": "markdown",
   "id": "ccfc41ea-22f2-48b0-82fc-6cbcc487624b",
   "metadata": {},
   "source": [
    "#### Performance for talkos, dissicos, sios, po4os"
   ]
  },
  {
   "cell_type": "code",
   "execution_count": 42,
   "id": "add1a72a-0fd9-4e76-a355-f32e117db77a",
   "metadata": {},
   "outputs": [],
   "source": [
    "model_scratch.eval()\n",
    "with torch.no_grad():\n",
    "    model_output_base_scratch = model_scratch(\n",
    "        torch.from_numpy(valid_features.astype(\"float32\")).to(torch.device(\"cuda\")),\n",
    "        torch.from_numpy(valid_TS.astype(\"float32\")).to(torch.device(\"cuda\"))\n",
    "    ).detach().cpu().numpy().squeeze() # columns: talkos, dissicos, sios. po4os\n",
    "\n",
    "model_finetuned.eval()\n",
    "with torch.no_grad():\n",
    "    model_output_base_finetuned = model_finetuned(\n",
    "        torch.from_numpy(valid_features.astype(\"float32\")).to(torch.device(\"cuda\")),\n",
    "        torch.from_numpy(valid_TS.astype(\"float32\")).to(torch.device(\"cuda\"))\n",
    "    ).detach().cpu().numpy().squeeze() # columns: talkos, dissicos, sios. po4os"
   ]
  },
  {
   "cell_type": "code",
   "execution_count": 43,
   "id": "b8afae41-0e7a-444f-86b6-d42f81de5691",
   "metadata": {},
   "outputs": [],
   "source": [
    "sample_means_array = np.concatenate(\n",
    "    [np.array(sample_means[key])[np.newaxis]\n",
    "     for key in ['talkos', 'dissicos', 'sios', 'po4os']], axis=0)\n",
    "sample_stds_array = np.concatenate(\n",
    "    [np.array(sample_stds[key])[np.newaxis]\n",
    "     for key in ['talkos', 'dissicos', 'sios', 'po4os']], axis=0)\n",
    "\n",
    "def denormalize(array):\n",
    "        return array * sample_stds_array + sample_means_array\n",
    "\n",
    "# transform units from mol m-3 to mol kg-1 by dividing by density\n",
    "valid_socat[\"rho\"] = mrhoinsitu(valid_socat[\"sos\"], valid_socat[\"tos\"],\n",
    "                                5 * np.ones(valid_socat[\"sos\"].shape))\n",
    "for key in [\"talkos\", \"dissicos\", \"sios\", \"po4os\"]:\n",
    "    valid_socat[key + \"_mumolkg\"] = valid_socat[key] / valid_socat[\"rho\"]"
   ]
  },
  {
   "cell_type": "code",
   "execution_count": 44,
   "id": "e50338b4-a873-4128-ad6c-264e47cd634a",
   "metadata": {},
   "outputs": [
    {
     "name": "stdout",
     "output_type": "stream",
     "text": [
      "Model trained from scratch\n",
      "talkos RMSE (model trained from scratch): 2237.17\n",
      "dissicos RMSE (model trained from scratch): 1729.81\n",
      "sios RMSE (model trained from scratch): 1781.39\n",
      "po4os RMSE (model trained from scratch): 8.5220\n",
      "==========================\n",
      "Finetuned model\n",
      "talkos RMSE (model trained from scratch): 2156.56\n",
      "dissicos RMSE (model trained from scratch): 1662.22\n",
      "sios RMSE (model trained from scratch): 2205.03\n",
      "po4os RMSE (model trained from scratch): 61.4151\n"
     ]
    }
   ],
   "source": [
    "print(\"Model trained from scratch\")\n",
    "model_output_base_denormalized = denormalize(model_output_base_scratch)\n",
    "print(\"talkos RMSE (model trained from scratch): {:.2f}\".format(\n",
    "    np.sqrt(MSE(valid_socat[\"talkos_mumolkg\"], model_output_base_denormalized[:, 0])) * 1e6))\n",
    "print(\"dissicos RMSE (model trained from scratch): {:.2f}\".format(\n",
    "    np.sqrt(MSE(valid_socat[\"dissicos_mumolkg\"], model_output_base_denormalized[:, 1])) * 1e6))\n",
    "print(\"sios RMSE (model trained from scratch): {:.2f}\".format(\n",
    "    np.sqrt(MSE(valid_socat[\"sios_mumolkg\"], model_output_base_denormalized[:, 2])) * 1e6))\n",
    "print(\"po4os RMSE (model trained from scratch): {:.4f}\".format(\n",
    "    np.sqrt(MSE(valid_socat[\"po4os_mumolkg\"], model_output_base_denormalized[:, 3])) * 1e6))\n",
    "print(\"==========================\")\n",
    "print(\"Finetuned model\")\n",
    "model_output_base_denormalized = denormalize(model_output_base_finetuned)\n",
    "print(\"talkos RMSE (model trained from scratch): {:.2f}\".format(\n",
    "    np.sqrt(MSE(valid_socat[\"talkos_mumolkg\"], model_output_base_denormalized[:, 0])) * 1e6))\n",
    "print(\"dissicos RMSE (model trained from scratch): {:.2f}\".format(\n",
    "    np.sqrt(MSE(valid_socat[\"dissicos_mumolkg\"], model_output_base_denormalized[:, 1])) * 1e6))\n",
    "print(\"sios RMSE (model trained from scratch): {:.2f}\".format(\n",
    "    np.sqrt(MSE(valid_socat[\"sios_mumolkg\"], model_output_base_denormalized[:, 2])) * 1e6))\n",
    "print(\"po4os RMSE (model trained from scratch): {:.4f}\".format(\n",
    "    np.sqrt(MSE(valid_socat[\"po4os_mumolkg\"], model_output_base_denormalized[:, 3])) * 1e6))"
   ]
  },
  {
   "cell_type": "code",
   "execution_count": 45,
   "id": "146cbf08-8446-4a4a-9e48-c405e4bce166",
   "metadata": {},
   "outputs": [
    {
     "name": "stdout",
     "output_type": "stream",
     "text": [
      "talkos RMSE (model trained from scratch): 71.27\n",
      "dissicos RMSE (model trained from scratch): 59.78\n",
      "sios RMSE (model trained from scratch): 11.20\n",
      "po4os RMSE (model trained from scratch): 0.2870\n",
      "Much worse representation of talkos, dissicos, sios, and po4os after training!\n"
     ]
    }
   ],
   "source": [
    "model_no_training = flexible_MLP(14, 160, 4, 160)\n",
    "\n",
    "with torch.no_grad(): # not sure whether interfers with autograd\n",
    "    model_no_training.linear1.weight.copy_(base_state_dict[\"linear1.weight\"])\n",
    "    model_no_training.linear1.bias.copy_(base_state_dict[\"linear1.bias\"])\n",
    "    model_no_training.linear2.weight.copy_(base_state_dict[\"linear2.weight\"])\n",
    "    model_no_training.linear2.bias.copy_(base_state_dict[\"linear2.bias\"])\n",
    "    model_no_training.linear3.weight.copy_(base_state_dict[\"linear3.weight\"])\n",
    "    model_no_training.linear3.bias.copy_(base_state_dict[\"linear3.bias\"])\n",
    "    model_no_training.linear4.weight.copy_(base_state_dict[\"linear4.weight\"])\n",
    "    model_no_training.linear4.bias.copy_(base_state_dict[\"linear4.bias\"])\n",
    "\n",
    "    model_no_training.linear1_socat.weight.copy_(socat_state_dict[\"linear1.weight\"])\n",
    "    model_no_training.linear1_socat.bias.copy_(socat_state_dict[\"linear1.bias\"])\n",
    "    model_no_training.linear2_socat.weight.copy_(socat_state_dict[\"linear2.weight\"])\n",
    "    model_no_training.linear2_socat.bias.copy_(socat_state_dict[\"linear2.bias\"])\n",
    "    model_no_training.linear3_socat.weight.copy_(socat_state_dict[\"linear3.weight\"])\n",
    "    model_no_training.linear3_socat.bias.copy_(socat_state_dict[\"linear3.bias\"])\n",
    "    model_no_training.linear4_socat.weight.copy_(socat_state_dict[\"linear4.weight\"])\n",
    "    model_no_training.linear4_socat.bias.copy_(socat_state_dict[\"linear4.bias\"])\n",
    "\n",
    "\n",
    "\n",
    "model_no_training.eval()\n",
    "with torch.no_grad():\n",
    "    model_output_base_no_training = model_no_training(\n",
    "        torch.from_numpy(valid_features.astype(\"float32\")).to(torch.device(\"cuda\")),\n",
    "        torch.from_numpy(valid_TS.astype(\"float32\")).to(torch.device(\"cuda\"))\n",
    "    ).detach().cpu().numpy().squeeze() # columns: talkos, dissicos, sios. po4os\n",
    "\n",
    "model_output_base_denormalized = denormalize(model_output_base_no_training)\n",
    "print(\"talkos RMSE (model trained from scratch): {:.2f}\".format(\n",
    "    np.sqrt(MSE(valid_socat[\"talkos_mumolkg\"], model_output_base_denormalized[:, 0])) * 1e6))\n",
    "print(\"dissicos RMSE (model trained from scratch): {:.2f}\".format(\n",
    "    np.sqrt(MSE(valid_socat[\"dissicos_mumolkg\"], model_output_base_denormalized[:, 1])) * 1e6))\n",
    "print(\"sios RMSE (model trained from scratch): {:.2f}\".format(\n",
    "    np.sqrt(MSE(valid_socat[\"sios_mumolkg\"], model_output_base_denormalized[:, 2])) * 1e6))\n",
    "print(\"po4os RMSE (model trained from scratch): {:.4f}\".format(\n",
    "    np.sqrt(MSE(valid_socat[\"po4os_mumolkg\"], model_output_base_denormalized[:, 3])) * 1e6))\n",
    "\n",
    "print(\"Much worse representation of talkos, dissicos, sios, and po4os after training!\")"
   ]
  },
  {
   "cell_type": "markdown",
   "id": "10def426-2b3e-4490-a045-a3a14910dc4d",
   "metadata": {},
   "source": [
    "#### For the fine-tuned model, show how talkos, etc are predicted relative to actual values"
   ]
  },
  {
   "cell_type": "code",
   "execution_count": 46,
   "id": "c5f8462d-9a26-431d-b82b-426032dc2f38",
   "metadata": {},
   "outputs": [
    {
     "name": "stdout",
     "output_type": "stream",
     "text": [
      "Load fCO2 surrogate model\n"
     ]
    },
    {
     "data": {
      "text/plain": [
       "<All keys matched successfully>"
      ]
     },
     "execution_count": 46,
     "metadata": {},
     "output_type": "execute_result"
    }
   ],
   "source": [
    "print(\"Load fCO2 surrogate model\")\n",
    "\n",
    "class MLP(nn.Module):\n",
    "    def __init__(self, input_size, hidden_size_1, hidden_size_2, hidden_size_3, output_size):\n",
    "        super().__init__()\n",
    "        self.device = torch.device(\"cuda\")\n",
    "        self.linear1 = nn.Linear(input_size, hidden_size_1, device=self.device)\n",
    "        self.linear2 = nn.Linear(hidden_size_1, hidden_size_2, device=self.device)\n",
    "        self.linear3 = nn.Linear(hidden_size_2, hidden_size_3, device=self.device)\n",
    "        self.linear4 = nn.Linear(hidden_size_3, output_size, device=self.device)\n",
    "\n",
    "    def forward(self, x):\n",
    "        x = x.to(self.device)\n",
    "        x = F.elu(self.linear1(x))\n",
    "        x = F.elu(self.linear2(x))\n",
    "        x = F.elu(self.linear3(x))\n",
    "        x = F.elu(self.linear4(x))\n",
    "        return x\n",
    "\n",
    "model_fco2 = MLP(6, 160, 160, 160, 1)\n",
    "model_state_dict = torch.load(\"../../models/fCO2_model_160x3_elu_10000epo.pth\")\n",
    "model_fco2.load_state_dict(model_state_dict)"
   ]
  },
  {
   "cell_type": "code",
   "execution_count": 47,
   "id": "a841d6f1-5b2f-4a8d-b003-d061ff82d5c8",
   "metadata": {},
   "outputs": [
    {
     "name": "stdout",
     "output_type": "stream",
     "text": [
      "(51042, 6)\n"
     ]
    }
   ],
   "source": [
    "valid_ACSP = np.concatenate([\n",
    "    ((valid_socat[key] / valid_socat[\"rho\"])[:, np.newaxis]\n",
    "     - sample_means[key]) / sample_stds[key]\n",
    "    for key in [\"talkos\", \"dissicos\", \"sios\", \"po4os\"]\n",
    "], axis=1)\n",
    "\n",
    "valid_ACTSSP = np.concatenate([valid_ACSP[:, :2], valid_TS, valid_ACSP[:, -2:]], axis=1)\n",
    "print(valid_ACTSSP.shape)"
   ]
  },
  {
   "cell_type": "code",
   "execution_count": 48,
   "id": "15da30bc-87e7-474c-80ae-4cdd05268878",
   "metadata": {},
   "outputs": [
    {
     "name": "stdout",
     "output_type": "stream",
     "text": [
      "Actual fCO2 (a single cell):\n",
      "428.03874285756245\n",
      "fCO2 calculated from the true drivers data\n",
      "421.23165320066016\n",
      "421.18143\n",
      "fCO2 calculated from the drivers predicted by the finetuned network:\n",
      "talkos and dissicos given by 4761.66 and 3824.96 mumol kg-1.\n",
      "427.0067283615978\n",
      "437.95703\n",
      "==> The surrogate fCO2 model is doing a good job also outside its training range\n"
     ]
    }
   ],
   "source": [
    "print(\"Actual fCO2 (a single cell):\")\n",
    "print(valid_socat[\"fco2\"][0])\n",
    "print(\"fCO2 calculated from the true drivers data\")\n",
    "print(calc_fCO2(valid_socat[\"talkos_mumolkg\"],\n",
    "          valid_socat[\"dissicos_mumolkg\"],\n",
    "          valid_socat[\"tos\"],\n",
    "          valid_socat[\"sos\"],\n",
    "          valid_socat[\"sios_mumolkg\"],\n",
    "          valid_socat[\"po4os_mumolkg\"])[0])\n",
    "\n",
    "model_fco2.eval()\n",
    "with torch.no_grad():\n",
    "    out = model_fco2(\n",
    "        torch.from_numpy(valid_ACTSSP.astype(\"float32\")).to(torch.device(\"cuda\"))\n",
    "    ).detach().cpu().numpy().squeeze()\n",
    "print(out[0])\n",
    "print(\"fCO2 calculated from the drivers predicted by the finetuned network:\")\n",
    "model_output_base_denormalized = denormalize(model_output_base_finetuned)\n",
    "finetuned_ACTSSP = np.concatenate(\n",
    "    [model_output_base_denormalized[:, :2], valid_socat[\"tos\"][:, np.newaxis],\n",
    "     valid_socat[\"sos\"][:, np.newaxis], model_output_base_denormalized[:, -2:]], axis=1)\n",
    "print(\"talkos and dissicos given by {:.2f} and {:.2f} mumol kg-1.\".format(\n",
    "    *list(finetuned_ACTSSP[0, :2] * 1e6)))\n",
    "print(calc_fCO2(*list(finetuned_ACTSSP[0, :]))[0])\n",
    "\n",
    "finetuned_ACTSSP_norm = np.concatenate(\n",
    "    [model_output_base_finetuned[:, :2], valid_TS, model_output_base_finetuned[:, -2:]], axis=1)\n",
    "model_fco2.eval()\n",
    "with torch.no_grad():\n",
    "    out = model_fco2(\n",
    "        torch.from_numpy(finetuned_ACTSSP_norm.astype(\"float32\")).to(torch.device(\"cuda\"))\n",
    "    ).detach().cpu().numpy().squeeze()\n",
    "print(out[0])\n",
    "print(\"==> The surrogate fCO2 model is doing a good job also outside its training range\")"
   ]
  },
  {
   "cell_type": "markdown",
   "id": "40adf501-2b75-4278-a87e-d54ddfd3ca8e",
   "metadata": {},
   "source": [
    "# Analyse finetuned and from_scratch models across the globe\n",
    "(not just in the training and validation data)"
   ]
  },
  {
   "cell_type": "code",
   "execution_count": 49,
   "id": "4c0b6f0d-2b9a-4a36-8de3-819de8bfeef5",
   "metadata": {},
   "outputs": [],
   "source": [
    "global_TS = np.concatenate([\n",
    "    ((cmip6_data[key] - sample_means[key]) / sample_stds[key]).flatten(order='C')[:, np.newaxis]\n",
    "    for key in [\"tos\", \"sos\"]\n",
    "], axis=1)"
   ]
  },
  {
   "cell_type": "code",
   "execution_count": 66,
   "id": "32f59a3f-fb9a-4547-abfe-09208f7e7868",
   "metadata": {},
   "outputs": [],
   "source": [
    "global_data = copy.deepcopy(cmip6_data)\n",
    "global_data[\"mon_sin\"] = np.sin(global_data[\"mon\"] / 12 * 2 * np.pi)\n",
    "global_data[\"mon_cos\"] = np.cos(global_data[\"mon\"] / 12 * 2 * np.pi)\n",
    "\n",
    "global_data[\"nvector1\"] = np.sin(global_data[\"lat\"] / 360 * 2 * np.pi)\n",
    "global_data[\"nvector2\"] = np.sin(global_data[\"lon\"] / 360 * 2 * np.pi)\\\n",
    "    * np.cos(global_data[\"lat\"] / 360 * 2 * np.pi)\n",
    "global_data[\"nvector3\"] = - np.cos(global_data[\"lon\"] / 360 * 2 * np.pi)\\\n",
    "    * np.cos(global_data[\"lat\"] / 360 * 2 * np.pi)\n",
    "\n",
    "global_data[\"mlotst\"] = np.log(global_data[\"mlotst\"])\n",
    "global_data[\"chlos\"] = np.log(global_data[\"chlos\"])\n",
    "\n",
    "global_data[\"spco2\"] *=  (1e6 / 101325) # transform from bar to muatm\n",
    "global_data[\"fco2\"] = calc_fCO2_from_pCO2(pco2=global_data[\"spco2\"],\n",
    "                                                tem=global_data[\"tos\"])\n",
    "\n",
    "# Processing the socat data\n",
    "global_features = np.concatenate([((\n",
    "    global_data[key] - train_feature_means[key]\n",
    ") / train_feature_stds[key]).flatten(order='C')[:, np.newaxis] for key in feature_keys], axis=1)"
   ]
  },
  {
   "cell_type": "code",
   "execution_count": 51,
   "id": "04ddc6eb-382f-4397-a9ba-fd2d234bd231",
   "metadata": {},
   "outputs": [
    {
     "name": "stdout",
     "output_type": "stream",
     "text": [
      "(23328000, 2)\n",
      "(23328000, 14)\n"
     ]
    }
   ],
   "source": [
    "print(global_TS.shape)\n",
    "print(global_features.shape)"
   ]
  },
  {
   "cell_type": "code",
   "execution_count": 52,
   "id": "503812bd-a9f8-4a11-9364-021a1c79c031",
   "metadata": {},
   "outputs": [],
   "source": [
    "def predict_fCO2_globally(model, features, TS_array, nchunks=10):\n",
    "    \"\"\"\n",
    "    apply the neural network to the data in chunks\n",
    "    - needed to not exceed GPU memory.\n",
    "    \"\"\"\n",
    "    features_split = np.split(features, nchunks, axis=0)\n",
    "    TS_array_split = np.split(TS_array, nchunks, axis=0)\n",
    "    model_out_split = []\n",
    "    for i in range(len(features_split)):\n",
    "        model.eval()\n",
    "        with torch.no_grad():\n",
    "            model_out_split.append(\n",
    "                model(\n",
    "                    torch.from_numpy(features_split[i].astype(\"float32\")).to(torch.device(\"cuda\")),\n",
    "                    torch.from_numpy(TS_array_split[i].astype(\"float32\")).to(torch.device(\"cuda\")),\n",
    "                    'socat').detach().cpu().numpy().squeeze()\n",
    "                )\n",
    "\n",
    "    model_out = np.concatenate(model_out_split, axis=0)\n",
    "    return model_out\n"
   ]
  },
  {
   "cell_type": "code",
   "execution_count": 53,
   "id": "4c7f6311-ee36-4ab1-978c-2b41e410d8a3",
   "metadata": {},
   "outputs": [],
   "source": [
    "global_finetuned = predict_fCO2_globally(model_finetuned, global_features, global_TS)"
   ]
  },
  {
   "cell_type": "code",
   "execution_count": 83,
   "id": "5066df0f-4705-4a2b-a977-1455abd2d6cd",
   "metadata": {},
   "outputs": [],
   "source": [
    "global_from_scratch = predict_fCO2_globally(model_scratch, global_features, global_TS)"
   ]
  },
  {
   "cell_type": "code",
   "execution_count": 92,
   "id": "fb73bae9-7b60-4908-a5d8-067c6a144ead",
   "metadata": {},
   "outputs": [
    {
     "name": "stderr",
     "output_type": "stream",
     "text": [
      "/tmp/ipykernel_7536/1750034802.py:3: RuntimeWarning: Mean of empty slice\n",
      "  global_finetuned_rmse_zonal_mean = np.nanmean(global_finetuned_rmse, axis=1)\n",
      "/tmp/ipykernel_7536/1750034802.py:7: RuntimeWarning: Mean of empty slice\n",
      "  global_from_scratch_rmse_zonal_mean = np.nanmean(global_from_scratch_rmse, axis=1)\n",
      "/tmp/ipykernel_7536/1750034802.py:9: RuntimeWarning: Mean of empty slice\n",
      "  fco2_std_zonal_mean = np.nanmean(np.std(global_data[\"fco2\"], axis=0), axis=1)\n"
     ]
    }
   ],
   "source": [
    "global_finetuned_reshaped = np.reshape(global_finetuned, newshape=(360, 180, 360), order='C')\n",
    "global_finetuned_rmse = np.sqrt(MSE(global_finetuned_reshaped, global_data[\"fco2\"]))\n",
    "global_finetuned_rmse_zonal_mean = np.nanmean(global_finetuned_rmse, axis=1) \n",
    "\n",
    "global_from_scratch_reshaped = np.reshape(global_from_scratch, newshape=(360, 180, 360), order='C')\n",
    "global_from_scratch_rmse = np.sqrt(MSE(global_from_scratch_reshaped, global_data[\"fco2\"]))\n",
    "global_from_scratch_rmse_zonal_mean = np.nanmean(global_from_scratch_rmse, axis=1)\n",
    "\n",
    "fco2_std_zonal_mean = np.nanmean(np.std(global_data[\"fco2\"], axis=0), axis=1)"
   ]
  },
  {
   "cell_type": "code",
   "execution_count": 99,
   "id": "32f310c2-7921-4a4a-9019-4a04f23c4293",
   "metadata": {},
   "outputs": [
    {
     "data": {
      "image/png": "[encoded data removed]",
      "text/plain": [
       "<Figure size 640x480 with 1 Axes>"
      ]
     },
     "metadata": {},
     "output_type": "display_data"
    }
   ],
   "source": [
    "plt.plot(np.arange(-89.5, 90), fco2_std_zonal_mean, label=\"fCO2 standard deviation\",\n",
    "        color=\"grey\")\n",
    "plt.axhline(y=5.7, color=\"k\", linestyle=\"--\", label=\"RMSE on validation set (similar for both)\")\n",
    "plt.plot(np.arange(-89.5, 90), global_finetuned_rmse_zonal_mean, label=\"finetuned model\")\n",
    "plt.plot(np.arange(-89.5, 90), global_from_scratch_rmse_zonal_mean, label=\"model from scratch\")\n",
    "plt.xlabel(\"Latitude (°N)\")\n",
    "plt.ylabel(\"RMSE of fCO2 prediction ($\\mu$atm)\")\n",
    "plt.ylim([0, 180])\n",
    "plt.legend()\n",
    "plt.savefig(\"../../report/source_files/figures/MPI-ESM_global_model_rmse.pdf\")"
   ]
  },
  {
   "cell_type": "code",
   "execution_count": null,
   "id": "1d06688a-d044-44d3-8247-fd043f58c304",
   "metadata": {},
   "outputs": [],
   "source": []
  }
 ],
 "metadata": {
  "kernelspec": {
   "display_name": "Python 3 (ipykernel)",
   "language": "python",
   "name": "python3"
  },
  "language_info": {
   "codemirror_mode": {
    "name": "ipython",
    "version": 3
   },
   "file_extension": ".py",
   "mimetype": "text/x-python",
   "name": "python",
   "nbconvert_exporter": "python",
   "pygments_lexer": "ipython3",
   "version": "3.11.7"
  }
 },
 "nbformat": 4,
 "nbformat_minor": 5
}
