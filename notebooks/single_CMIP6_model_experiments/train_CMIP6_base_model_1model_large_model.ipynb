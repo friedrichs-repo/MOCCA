{
 "cells": [
  {
   "cell_type": "markdown",
   "id": "24ee2d0e-edc6-4a41-aa2b-13ea927862d7",
   "metadata": {},
   "source": [
    "#### Load necessary packages"
   ]
  },
  {
   "cell_type": "code",
   "execution_count": 4,
   "id": "e0851a5c-050f-4697-83e2-b5fe476e25f3",
   "metadata": {},
   "outputs": [],
   "source": [
    "import numpy as np\n",
    "import os\n",
    "import random\n",
    "from tqdm import tqdm\n",
    "import matplotlib.pyplot as plt\n",
    "import pickle\n",
    "import pandas as pd\n",
    "from scipy import stats\n",
    "\n",
    "import torch\n",
    "import torch.nn as nn\n",
    "import torch.optim as optim\n",
    "import torch.nn.functional as F"
   ]
  },
  {
   "cell_type": "markdown",
   "id": "e37b93b8-9c50-4970-b508-88f27dee536c",
   "metadata": {},
   "source": [
    "#### Load CMIP6 training data"
   ]
  },
  {
   "cell_type": "code",
   "execution_count": 6,
   "id": "ff8f4e6d-155e-47d4-8e38-ab462a6c1440",
   "metadata": {},
   "outputs": [],
   "source": [
    "with open('../../data/cmip6_random_samples_1model.pkl', 'rb') as f:\n",
    "    cmip6_random_samples = pickle.load(f)"
   ]
  },
  {
   "cell_type": "markdown",
   "id": "4b3c3a30-b1fd-45c3-baa4-a3a995656cab",
   "metadata": {},
   "source": [
    "#### Transform mon to mon_sin and mon_cos"
   ]
  },
  {
   "cell_type": "code",
   "execution_count": 7,
   "id": "9902a02d-070e-491b-94a9-e63d0e0e6abd",
   "metadata": {},
   "outputs": [],
   "source": [
    "cmip6_random_samples[\"mon_sin\"] = np.sin(cmip6_random_samples[\"mon\"] / 12 * 2 * np.pi)\n",
    "cmip6_random_samples[\"mon_cos\"] = np.cos(cmip6_random_samples[\"mon\"] / 12 * 2 * np.pi)\n",
    "del cmip6_random_samples[\"mon\"]"
   ]
  },
  {
   "cell_type": "markdown",
   "id": "4e61ce11-1e3d-4dab-867b-c73bcb96ea58",
   "metadata": {},
   "source": [
    "#### Transform lat and lon\n",
    "\n",
    "Following Gade et al., 2010: A Non-singular Horizontal Position Representation"
   ]
  },
  {
   "cell_type": "code",
   "execution_count": 8,
   "id": "e01d79f0-d477-4c61-8231-b65ac6c02fdc",
   "metadata": {},
   "outputs": [],
   "source": [
    "cmip6_random_samples[\"nvector1\"] = np.sin(cmip6_random_samples[\"lat\"] / 360 * 2 * np.pi)\n",
    "cmip6_random_samples[\"nvector2\"] = np.sin(cmip6_random_samples[\"lon\"] / 360 * 2 * np.pi)\\\n",
    "* np.cos(cmip6_random_samples[\"lat\"] / 360 * 2 * np.pi)\n",
    "cmip6_random_samples[\"nvector3\"] = - np.cos(cmip6_random_samples[\"lon\"] / 360 * 2 * np.pi)\\\n",
    "* np.cos(cmip6_random_samples[\"lat\"] / 360 * 2 * np.pi)\n",
    "del cmip6_random_samples[\"lon\"]\n",
    "del cmip6_random_samples[\"lat\"]"
   ]
  },
  {
   "cell_type": "code",
   "execution_count": 9,
   "id": "4fec7301-ddfd-4b8b-b08d-25051b1943a1",
   "metadata": {},
   "outputs": [
    {
     "name": "stdout",
     "output_type": "stream",
     "text": [
      "           talkos  dissicos        tos        sos          sios         po4os  \\\n",
      "0        0.002259  0.002066  13.430518  33.710453  1.365169e-05  9.494972e-07   \n",
      "1        0.002295  0.001975  26.932789  35.130524  5.028480e-07  1.513130e-09   \n",
      "2        0.002252  0.001927  27.095110  34.155983  2.484561e-07  3.389893e-07   \n",
      "3        0.002278  0.002020  25.504847  34.511757  4.547769e-07  6.646967e-07   \n",
      "4        0.002260  0.002078   9.499652  33.850956  1.495864e-05  1.046781e-06   \n",
      "...           ...       ...        ...        ...           ...           ...   \n",
      "5999995  0.002302  0.002165   0.531720  33.965618  6.796108e-05  1.738854e-06   \n",
      "5999996  0.002364  0.002081  16.035589  35.961594  8.325159e-07  2.949833e-09   \n",
      "5999997  0.002200  0.002021  -1.687133  34.027962  1.970031e-06  1.125231e-07   \n",
      "5999998  0.002318  0.001978  28.862049  35.246490  2.017127e-07  5.071446e-07   \n",
      "5999999  0.002211  0.001946  25.991693  33.398170  2.716349e-07  8.887262e-07   \n",
      "\n",
      "             mlotst       zos         chlos     siconc       uas       vas  \\\n",
      "0         71.544159  0.117772  9.150735e-07   0.000000  3.388835 -1.729167   \n",
      "1         12.821835  0.579865  1.196664e-08   0.000000 -6.542676 -1.736165   \n",
      "2         26.119621  0.559278  1.127509e-07   0.000000 -7.788763 -1.816790   \n",
      "3          5.814655  0.198634  3.840356e-07   0.000000 -3.756738 -0.458984   \n",
      "4         63.187233 -0.165721  5.494818e-07   0.000000  8.310416  0.021810   \n",
      "...             ...       ...           ...        ...       ...       ...   \n",
      "5999995  121.657349 -1.509379  3.358212e-07   0.000000  3.006771 -1.434062   \n",
      "5999996   22.115755 -0.527189  8.565925e-08   0.000000 -1.411107 -1.221191   \n",
      "5999997   11.393515 -0.901465  1.617369e-06  92.571709 -1.470332 -3.427070   \n",
      "5999998   13.049724  0.737722  3.641926e-08   0.000000 -3.998730 -2.389095   \n",
      "5999999   21.451471  0.216346  2.383946e-07   0.000000 -6.023210 -2.658040   \n",
      "\n",
      "               pr        clt         co2   mon_sin       mon_cos  nvector1  \\\n",
      "0        0.000006  67.512512  380.151154  0.866025 -5.000000e-01 -0.675590   \n",
      "1        0.000074  70.499474  384.191711  0.000000  1.000000e+00 -0.382683   \n",
      "2        0.000046  66.155190  388.489227  1.000000  6.123234e-17  0.233445   \n",
      "3        0.000010  52.598877  404.408295  0.866025 -5.000000e-01 -0.043619   \n",
      "4        0.000036  85.027161  383.124359  0.500000  8.660254e-01 -0.771625   \n",
      "...           ...        ...         ...       ...           ...       ...   \n",
      "5999995  0.000051  96.812805  360.629608 -0.500000 -8.660254e-01 -0.870356   \n",
      "5999996  0.000005  47.392029  385.452148  0.866025  5.000000e-01  0.594823   \n",
      "5999997  0.000008  87.298218  410.241119  0.500000 -8.660254e-01  0.979925   \n",
      "5999998  0.000073  65.858459  375.051636  0.500000  8.660254e-01 -0.333807   \n",
      "5999999  0.000022  37.910969  375.488647  0.000000  1.000000e+00  0.147809   \n",
      "\n",
      "         nvector2  nvector3  \n",
      "0       -0.653973 -0.340437  \n",
      "1        0.876137 -0.293151  \n",
      "2       -0.160487  0.959034  \n",
      "3       -0.941744  0.333489  \n",
      "4       -0.635473  0.027745  \n",
      "...           ...       ...  \n",
      "5999995  0.313220  0.379966  \n",
      "5999996 -0.007015 -0.803826  \n",
      "5999997  0.104169 -0.169989  \n",
      "5999998 -0.506481  0.795016  \n",
      "5999999 -0.965572  0.214062  \n",
      "\n",
      "[6000000 rows x 20 columns]\n"
     ]
    }
   ],
   "source": [
    "df = pd.DataFrame(cmip6_random_samples)\n",
    "print(df)"
   ]
  },
  {
   "cell_type": "markdown",
   "id": "230badf6-863f-4b3e-93ce-3c8d8d65e6b4",
   "metadata": {},
   "source": [
    "#### Normalize talkos, dissicos, tos, sos, sios, and po4os"
   ]
  },
  {
   "cell_type": "code",
   "execution_count": 10,
   "id": "509c0f7a-abb1-4b35-b451-7a77014223d2",
   "metadata": {},
   "outputs": [],
   "source": [
    "alk_range = [1000e-6, 3000e-6]\n",
    "dic_range = [1000e-6, 3000e-6]\n",
    "tem_range = [-2, 35]\n",
    "sal_range = [10, 50]\n",
    "sil_range = [0, 134e-6]\n",
    "phos_range = [0, 4e-6]\n",
    "\n",
    "sample_means = {\"talkos\":(alk_range[0] + alk_range[1]) / 2,\n",
    "                 \"dissicos\":dic_range[0] + (dic_range[1] - dic_range[0]) / 4,\n",
    "                 \"tos\":(tem_range[0] + tem_range[1]) / 2,\n",
    "                 \"sos\":(sal_range[0] + sal_range[1]) / 2,\n",
    "                 \"sios\":(sil_range[0] + sil_range[1]) / 2,\n",
    "                 \"po4os\":(phos_range[0] + phos_range[1]) / 2}\n",
    "\n",
    "sample_stds = {\"talkos\":(alk_range[1] - alk_range[0]) / np.sqrt(12),\n",
    "                 \"dissicos\":(dic_range[1] - dic_range[0]) * np.sqrt(7 / 144),\n",
    "                 \"tos\":(tem_range[1] - tem_range[0]) / np.sqrt(12),\n",
    "                 \"sos\":(sal_range[1] - sal_range[0]) / np.sqrt(12),\n",
    "                 \"sios\":(sil_range[1] - sil_range[0]) / np.sqrt(12),\n",
    "                 \"po4os\":(phos_range[1] - phos_range[0]) / np.sqrt(12)}\n",
    "\n",
    "label_keys = [\"talkos\", \"dissicos\", \"sios\", \"po4os\"]\n",
    "for key in label_keys:\n",
    "    cmip6_random_samples[key] = (\n",
    "        cmip6_random_samples[key] - sample_means[key]) / sample_stds[key]"
   ]
  },
  {
   "cell_type": "markdown",
   "id": "0626b9da-5165-4e4d-be1e-2befa8783301",
   "metadata": {},
   "source": [
    "#### Do KS test to see which variables should be log-transformed"
   ]
  },
  {
   "cell_type": "code",
   "execution_count": 11,
   "id": "456a4b74-ed7f-47a4-a176-faed373047a3",
   "metadata": {},
   "outputs": [],
   "source": [
    "feature_keys = [\"tos\", \"sos\", \"mlotst\", \"zos\", \"chlos\", \"siconc\", \"uas\", \"vas\",\n",
    "                \"co2\", \"mon_sin\", \"mon_cos\", \"nvector1\", \"nvector2\", \"nvector3\"]"
   ]
  },
  {
   "cell_type": "code",
   "execution_count": 12,
   "id": "af53e3f3-2b12-4e8c-a7be-6cd2e5a47ad8",
   "metadata": {},
   "outputs": [],
   "source": [
    "def normalize(array):\n",
    "    return (array - np.mean(array)) / np.std(array)"
   ]
  },
  {
   "cell_type": "code",
   "execution_count": 13,
   "id": "9f3a9056-e7df-4748-a3b0-ee9cac97be34",
   "metadata": {},
   "outputs": [
    {
     "name": "stdout",
     "output_type": "stream",
     "text": [
      "mlotst statistic:  0.27334856991666057\n",
      "mlotst statistic with log transform:  0.01640727655422558\n"
     ]
    }
   ],
   "source": [
    "print(\"mlotst statistic: \",\n",
    "      stats.kstest(normalize(cmip6_random_samples[\"mlotst\"]), stats.norm.cdf)[0])\n",
    "print(\"mlotst statistic with log transform: \",\n",
    "      stats.kstest(normalize(np.log(cmip6_random_samples[\"mlotst\"])), stats.norm.cdf)[0])"
   ]
  },
  {
   "cell_type": "code",
   "execution_count": 14,
   "id": "c5dfe135-02a6-4ce0-b3ed-83bbbc945e36",
   "metadata": {},
   "outputs": [
    {
     "name": "stdout",
     "output_type": "stream",
     "text": [
      "chlos statistic:  0.19231513253191637\n",
      "chlos statistic with log transform:  0.10097412412437312\n"
     ]
    }
   ],
   "source": [
    "print(\"chlos statistic: \",\n",
    "      stats.kstest(normalize(cmip6_random_samples[\"chlos\"]), stats.norm.cdf)[0])\n",
    "print(\"chlos statistic with log transform: \",\n",
    "      stats.kstest(normalize(np.log(cmip6_random_samples[\"chlos\"])), stats.norm.cdf)[0])"
   ]
  },
  {
   "cell_type": "code",
   "execution_count": 15,
   "id": "cccdd877-7b3c-4ae4-8bd8-cfaa7fb35592",
   "metadata": {},
   "outputs": [
    {
     "data": {
      "text/plain": [
       "Text(0.5, 1.0, 'mlotst')"
      ]
     },
     "execution_count": 15,
     "metadata": {},
     "output_type": "execute_result"
    },
    {
     "data": {
      "image/png": "[encoded data removed]",
      "text/plain": [
       "<Figure size 640x480 with 1 Axes>"
      ]
     },
     "metadata": {},
     "output_type": "display_data"
    }
   ],
   "source": [
    "plt.hist(normalize(cmip6_random_samples[\"mlotst\"]), 100, density=True, facecolor='blue', alpha=0.5);\n",
    "plt.hist(normalize(np.log(cmip6_random_samples[\"mlotst\"])), 100, density=True, facecolor='green', alpha=0.5);\n",
    "plt.title(\"mlotst\")"
   ]
  },
  {
   "cell_type": "code",
   "execution_count": 16,
   "id": "7fef21a1-2aa3-453e-85b0-6ad9bf010646",
   "metadata": {},
   "outputs": [
    {
     "data": {
      "text/plain": [
       "Text(0.5, 1.0, 'chlos')"
      ]
     },
     "execution_count": 16,
     "metadata": {},
     "output_type": "execute_result"
    },
    {
     "data": {
      "image/png": "[encoded data removed]",
      "text/plain": [
       "<Figure size 640x480 with 1 Axes>"
      ]
     },
     "metadata": {},
     "output_type": "display_data"
    }
   ],
   "source": [
    "plt.hist(normalize(cmip6_random_samples[\"chlos\"]), 100, density=True, facecolor='blue', alpha=0.5);\n",
    "plt.hist(normalize(np.log(cmip6_random_samples[\"chlos\"])), 100, density=True, facecolor='green', alpha=0.5);\n",
    "plt.title(\"chlos\")"
   ]
  },
  {
   "cell_type": "code",
   "execution_count": 17,
   "id": "5c60618c-c457-4e6a-be05-b352a4fdeceb",
   "metadata": {},
   "outputs": [],
   "source": [
    "log_transform_keys = [\"mlotst\", \"chlos\"]\n",
    "for key in log_transform_keys:\n",
    "    cmip6_random_samples[key] = np.log(cmip6_random_samples[key])"
   ]
  },
  {
   "cell_type": "markdown",
   "id": "13ff01ba-b383-45ce-991f-81ee49796ff1",
   "metadata": {},
   "source": [
    "####  Split into training and validation sets,\n",
    "#### normalize data and convert into feature and label arrays"
   ]
  },
  {
   "cell_type": "code",
   "execution_count": 18,
   "id": "55c33a54-a848-4761-a993-1509f7dca9a0",
   "metadata": {},
   "outputs": [],
   "source": [
    "np.random.seed(0)\n",
    "nsamples = 6000_000\n",
    "ntrain = 5000_000\n",
    "\n",
    "random_indices = np.arange(nsamples, dtype=int)\n",
    "random.shuffle(random_indices)\n",
    "\n",
    "train_samples = {key: cmip6_random_samples[key][random_indices][:ntrain]\n",
    "                 for key in cmip6_random_samples}\n",
    "valid_samples = {key: cmip6_random_samples[key][random_indices][ntrain:]\n",
    "                 for key in cmip6_random_samples}"
   ]
  },
  {
   "cell_type": "code",
   "execution_count": 19,
   "id": "f90ba100-95b7-4944-9b30-6e48fbb76192",
   "metadata": {},
   "outputs": [],
   "source": [
    "train_feature_means = {key: np.mean(train_samples[key]) for key in feature_keys}\n",
    "train_feature_stds = {key: np.std(train_samples[key]) for key in feature_keys}\n",
    "\n",
    "train_features = np.concatenate([(\n",
    "    train_samples[key][:, np.newaxis] - train_feature_means[key]\n",
    ") / train_feature_stds[key] for key in feature_keys], axis=1)\n",
    "\n",
    "valid_features = np.concatenate([(\n",
    "    valid_samples[key][:, np.newaxis] - train_feature_means[key]\n",
    ") / train_feature_stds[key] for key in feature_keys], axis=1)\n",
    "\n",
    "train_labels = np.concatenate([train_samples[key][:, np.newaxis]\n",
    "                                 for key in label_keys],\n",
    "                                          axis=1)\n",
    "\n",
    "valid_labels = np.concatenate([valid_samples[key][:, np.newaxis]\n",
    "                                 for key in label_keys],\n",
    "                                          axis=1)"
   ]
  },
  {
   "cell_type": "code",
   "execution_count": 20,
   "id": "0b0c8b21-2d44-4bb4-aadd-1278ab9b36d5",
   "metadata": {},
   "outputs": [
    {
     "name": "stdout",
     "output_type": "stream",
     "text": [
      "(5000000, 14)\n",
      "(1000000, 14)\n",
      "(5000000, 4)\n",
      "(1000000, 4)\n"
     ]
    }
   ],
   "source": [
    "print(train_features.shape)\n",
    "print(valid_features.shape)\n",
    "print(train_labels.shape)\n",
    "print(valid_labels.shape)"
   ]
  },
  {
   "cell_type": "code",
   "execution_count": 21,
   "id": "578eed0f-213a-4668-a50a-939f2c51476c",
   "metadata": {},
   "outputs": [
    {
     "name": "stdout",
     "output_type": "stream",
     "text": [
      "Verify that features are normalized.\n",
      "[ 3.96328071e-07  3.11480689e-06 -2.81103839e-08  3.16610991e-07\n",
      "  1.28795524e-06  7.91589580e-08  9.54005482e-10 -1.29514722e-08\n",
      " -2.93749795e-06 -2.39572875e-15 -5.05091902e-15  8.17592660e-16\n",
      " -7.96271105e-17 -3.53267349e-16]\n",
      "[1.00000014 0.99999979 0.99999968 1.0000003  0.99999966 1.00000002\n",
      " 0.99999981 1.00000003 1.00000017 1.         1.         1.\n",
      " 1.         1.        ]\n",
      "[-5.30252541e-06 -1.73543692e-04  6.34732032e-04 -1.02808531e-03\n",
      " -9.09514377e-04 -6.43128139e-04 -3.52609486e-04 -1.72208094e-03\n",
      "  4.12349050e-04 -4.11502184e-04 -9.64250167e-04  3.78926205e-05\n",
      "  7.63855897e-04 -1.36500463e-03]\n",
      "[0.99991598 1.00627791 1.00072013 1.00028839 0.99964694 0.99935725\n",
      " 0.99861127 1.0002134  1.00011934 0.99997724 1.00002333 1.00015019\n",
      " 0.99988495 1.00011677]\n"
     ]
    }
   ],
   "source": [
    "print(\"Verify that features are normalized.\")\n",
    "print(np.mean(train_features, axis=0))\n",
    "print(np.std(train_features, axis=0))\n",
    "print(np.mean(valid_features, axis=0))\n",
    "print(np.std(valid_features, axis=0))"
   ]
  },
  {
   "cell_type": "markdown",
   "id": "c7cbb8b1-d67d-4dd3-910b-8fe0b8ee289b",
   "metadata": {},
   "source": [
    "#### Define neural network and training procedure"
   ]
  },
  {
   "cell_type": "code",
   "execution_count": 22,
   "id": "0aac6611-d287-471a-aa53-1c19db2bd77e",
   "metadata": {},
   "outputs": [],
   "source": [
    "class MLP(nn.Module):\n",
    "    def __init__(self, input_size, hidden_size_1, hidden_size_2, hidden_size_3, output_size):\n",
    "        super().__init__()\n",
    "        self.device = torch.device(\"cuda\")\n",
    "        self.linear1 = nn.Linear(input_size, hidden_size_1, device=self.device)\n",
    "        self.linear2 = nn.Linear(hidden_size_1, hidden_size_2, device=self.device)\n",
    "        self.linear3 = nn.Linear(hidden_size_2, hidden_size_3, device=self.device)\n",
    "        self.linear4 = nn.Linear(hidden_size_3, output_size, device=self.device)\n",
    "\n",
    "    def forward(self, x):\n",
    "        x = x.to(self.device)\n",
    "        x = F.elu(self.linear1(x))\n",
    "        x = F.elu(self.linear2(x))\n",
    "        x = F.elu(self.linear3(x))\n",
    "        x = self.linear4(x)\n",
    "        return x\n",
    "\n",
    "    def save(self, file_name='model.pth'):\n",
    "        model_folder_path = '../models'\n",
    "        if not os.path.exists(model_folder_path):\n",
    "            os.makedirs(model_folder_path)\n",
    "\n",
    "        file_name = os.path.join(model_folder_path, file_name)\n",
    "        torch.save(self.state_dict(), file_name)"
   ]
  },
  {
   "cell_type": "code",
   "execution_count": 23,
   "id": "4edbec6e-011e-4c5c-81ae-a6bea9bc5355",
   "metadata": {},
   "outputs": [
    {
     "name": "stdout",
     "output_type": "stream",
     "text": [
      "MLP(\n",
      "  (linear1): Linear(in_features=14, out_features=256, bias=True)\n",
      "  (linear2): Linear(in_features=256, out_features=256, bias=True)\n",
      "  (linear3): Linear(in_features=256, out_features=256, bias=True)\n",
      "  (linear4): Linear(in_features=256, out_features=4, bias=True)\n",
      ")\n",
      "Number of trainable parameters in the model: 136452\n"
     ]
    }
   ],
   "source": [
    "model = MLP(14, 256, 256, 256, 4)\n",
    "print(model)\n",
    "pytorch_total_params = sum(p.numel() for p in model.parameters() if p.requires_grad)\n",
    "print(\"Number of trainable parameters in the model:\", pytorch_total_params)"
   ]
  },
  {
   "cell_type": "code",
   "execution_count": 24,
   "id": "2f542869-d2e7-41bf-9f33-7207a3c55875",
   "metadata": {},
   "outputs": [],
   "source": [
    "def training_dataloader(features, labels, batch_size):\n",
    "    ntrain = len(labels)\n",
    "    nbatch = ntrain // batch_size\n",
    "    indices = np.arange(ntrain, dtype=int)\n",
    "    random.shuffle(indices)\n",
    "    batch_indices = np.split(indices[:nbatch * batch_size], nbatch)\n",
    "    batch_data = [(torch.from_numpy(np.take(features, ind, axis=0).astype(\"float32\")),\n",
    "                   torch.from_numpy(np.take(labels, ind, axis=0).astype(\"float32\")))\n",
    "                  for ind in batch_indices]\n",
    "    return batch_data"
   ]
  },
  {
   "cell_type": "code",
   "execution_count": 25,
   "id": "0976b7f4-7db9-4381-854a-6c69533318d8",
   "metadata": {},
   "outputs": [],
   "source": [
    "loss_function = nn.MSELoss()"
   ]
  },
  {
   "cell_type": "code",
   "execution_count": 26,
   "id": "c1ed2a5e-2638-4ab4-828f-1151b72b083c",
   "metadata": {},
   "outputs": [],
   "source": [
    "def train_one_epoch(optimizer):\n",
    "    running_loss = 0. # running loss over all batches in the epoch\n",
    "    \n",
    "    training_data = training_dataloader(train_features,\n",
    "                                        train_labels, batch_size)\n",
    "    \n",
    "    for batch in training_data:\n",
    "        features, labels = batch\n",
    "        optimizer.zero_grad()\n",
    "        outputs = torch.squeeze(model(features))\n",
    "        loss = loss_function(outputs, labels.to(torch.device(\"cuda\")))\n",
    "        loss.backward()\n",
    "        optimizer.step()\n",
    "        \n",
    "        running_loss += loss.detach().cpu().item()\n",
    "\n",
    "    ntrain = len(train_labels)\n",
    "    nbatch = ntrain // batch_size\n",
    "\n",
    "    return running_loss / nbatch"
   ]
  },
  {
   "cell_type": "code",
   "execution_count": 27,
   "id": "c607ad94-f80c-42e4-8e16-cff8511aac40",
   "metadata": {},
   "outputs": [],
   "source": [
    "def calc_gammar(reduction_factor, nepochs):                                                                                                                                                                       \n",
    "    return reduction_factor**(1 / nepochs)\n",
    "\n",
    "def train(batch_size, n_epochs, optimizer, scheduler):\n",
    "    train_stats = {\"train_loss\":[], \"valid_loss\":[], \"learn_rate\":[]}\n",
    "\n",
    "    pbar = tqdm(range(n_epochs), postfix=f'epoch 0/{n_epochs}')\n",
    "    for epoch in pbar:\n",
    "\n",
    "        model.train()\n",
    "\n",
    "        train_loss_epoch = train_one_epoch(optimizer)\n",
    "\n",
    "        model.eval()\n",
    "        with torch.no_grad():\n",
    "            valid_outputs = torch.squeeze(model(\n",
    "                torch.from_numpy(valid_features.astype(\"float32\"))))\n",
    "            valid_loss_epoch = loss_function(\n",
    "                valid_outputs, torch.from_numpy(valid_labels).to(torch.device(\"cuda\"))\n",
    "                                            ).detach().cpu().item()\n",
    "        \n",
    "        train_stats[\"train_loss\"].append(train_loss_epoch)\n",
    "        train_stats[\"valid_loss\"].append(valid_loss_epoch)\n",
    "        \n",
    "        lr = scheduler.get_last_lr()[0]\n",
    "        train_stats[\"learn_rate\"].append(lr)\n",
    "\n",
    "        scheduler.step()\n",
    "\n",
    "        pbar.set_postfix({'epoch': f'{epoch+1}/{n_epochs}',\n",
    "                          'train_loss':f'{train_loss_epoch:.3e}',\n",
    "                          'valid_loss':f'{valid_loss_epoch:.3e}',\n",
    "                          'learn_rate':f'{lr:.3e}'})\n",
    "\n",
    "    return train_stats"
   ]
  },
  {
   "cell_type": "markdown",
   "id": "6a4babaa-ec0a-4ffc-be43-6703e38c6a0a",
   "metadata": {},
   "source": [
    "#### Train neural network with pytorch"
   ]
  },
  {
   "cell_type": "code",
   "execution_count": 28,
   "id": "3de30af6-401f-4f18-a9a5-3112ed15216c",
   "metadata": {},
   "outputs": [
    {
     "name": "stderr",
     "output_type": "stream",
     "text": [
      "100%|███████████████████████████████████████████████████████████████████████████████| 10000/10000 [15:04:08<00:00,  5.42s/it, epoch=10000/10000, train_loss=9.201e-05, valid_loss=1.843e-04, learn_rate=1.000e-05]\n"
     ]
    }
   ],
   "source": [
    "batch_size = 1000\n",
    "n_epochs = 10_000\n",
    "\n",
    "base_learning_rate = 1e-3\n",
    "gamma = calc_gammar(0.1, 5000)\n",
    "\n",
    "optimizer = optim.Adam(model.parameters(), lr=base_learning_rate)\n",
    "scheduler = optim.lr_scheduler.ExponentialLR(optimizer,\n",
    "                                                 gamma=gamma)\n",
    "\n",
    "train_stats = train(batch_size, n_epochs, optimizer, scheduler)"
   ]
  },
  {
   "cell_type": "code",
   "execution_count": 30,
   "id": "7be183bb-4189-4c51-b296-34ec94d28029",
   "metadata": {},
   "outputs": [],
   "source": [
    "model.save(\"CMIP6_base_model_1model_256x3_elu_10000epo.pth\")"
   ]
  },
  {
   "cell_type": "code",
   "execution_count": 39,
   "id": "eef376c2-4703-4441-be66-c3a014900825",
   "metadata": {},
   "outputs": [
    {
     "name": "stdout",
     "output_type": "stream",
     "text": [
      "Valid loss at end of training close to overall minimum: 1.1281e-04\n",
      "At index:  (array([4964]),)\n"
     ]
    }
   ],
   "source": [
    "print(\"Valid loss at end of training close to overall minimum: {:.4e}\".format(\n",
    "    np.min(train_stats[\"valid_loss\"])\n",
    "))\n",
    "print(\"At index: \", np.where(train_stats[\"valid_loss\"] == np.min(train_stats[\"valid_loss\"])))"
   ]
  },
  {
   "cell_type": "code",
   "execution_count": 40,
   "id": "a41d67f6-9557-4b2d-8bb3-915d134b6f50",
   "metadata": {},
   "outputs": [
    {
     "data": {
      "text/plain": [
       "Text(0, 0.5, 'Mean squared error')"
      ]
     },
     "execution_count": 40,
     "metadata": {},
     "output_type": "execute_result"
    },
    {
     "data": {
      "image/png": "[encoded data removed]",
      "text/plain": [
       "<Figure size 640x480 with 1 Axes>"
      ]
     },
     "metadata": {},
     "output_type": "display_data"
    }
   ],
   "source": [
    "plt.plot(train_stats[\"train_loss\"], label=\"training loss\", alpha=0.75)\n",
    "plt.plot(train_stats[\"valid_loss\"], label=\"validation loss\", alpha=0.75)\n",
    "plt.legend()\n",
    "plt.ylim([0, train_stats[\"train_loss\"][-1] * 5])\n",
    "plt.xlabel(\"Epoch\")\n",
    "plt.ylabel(\"Mean squared error\")"
   ]
  },
  {
   "cell_type": "code",
   "execution_count": 32,
   "id": "8249d817-e66e-4d8f-a8d5-2d1a1fbfd6ac",
   "metadata": {},
   "outputs": [],
   "source": [
    "sample_means_array = np.concatenate([np.array(sample_means[key])[np.newaxis]\n",
    "                                     for key in label_keys], axis=0)\n",
    "sample_stds_array = np.concatenate([np.array(sample_stds[key])[np.newaxis]\n",
    "                                    for key in label_keys], axis=0)\n",
    "\n",
    "def denormalize(array):\n",
    "    return array * sample_stds_array + sample_means_array"
   ]
  },
  {
   "cell_type": "code",
   "execution_count": 33,
   "id": "48f2692c-ca92-4be6-acba-826417c2e9c3",
   "metadata": {},
   "outputs": [
    {
     "name": "stdout",
     "output_type": "stream",
     "text": [
      "Some tests of model performance\n",
      "Order: talkos dissicos sios po4os\n",
      "Index:  985772\n",
      "[2.20363198e-03 2.03868856e-03 3.21782877e-06 3.76411175e-07]\n",
      "[2.21864497e-03 2.05110362e-03 3.62790748e-06 4.06663027e-07]\n",
      "-----\n",
      "Index:  305711\n",
      "[2.22116720e-03 1.87718012e-03 1.99406575e-07 2.14942753e-09]\n",
      "[ 2.22327303e-03  1.88086898e-03  1.78168369e-07 -1.48304149e-11]\n",
      "-----\n",
      "Index:  435829\n",
      "[2.26045103e-03 2.03769236e-03 2.40816962e-06 3.04958162e-07]\n",
      "[2.26245557e-03 2.03743269e-03 2.67923199e-06 3.17726008e-07]\n",
      "-----\n",
      "Index:  117952\n",
      "[2.32239672e-03 1.99696220e-03 4.23347184e-07 1.29052520e-08]\n",
      "[2.33086975e-03 2.00471155e-03 4.28341134e-07 1.73933448e-08]\n",
      "-----\n",
      "Index:  963395\n",
      "[2.08152633e-03 1.91892608e-03 2.54131834e-06 3.98046334e-07]\n",
      "[2.07932178e-03 1.91653265e-03 2.71496964e-06 3.88576920e-07]\n",
      "-----\n",
      "Index:  152315\n",
      "[2.30720681e-03 2.17651079e-03 7.08924067e-05 1.69262395e-06]\n",
      "[2.30720338e-03 2.17702775e-03 7.05253784e-05 1.70460853e-06]\n",
      "-----\n",
      "Index:  882371\n",
      "[2.28980711e-03 2.05960112e-03 9.49043321e-07 1.04308216e-07]\n",
      "[2.28826858e-03 2.05961354e-03 1.06875980e-06 1.21255452e-07]\n",
      "-----\n",
      "Index:  359783\n",
      "[2.29765224e-03 2.01464100e-03 7.68516810e-07 6.67419480e-07]\n",
      "[2.29745772e-03 2.01540565e-03 6.41033175e-07 6.76093171e-07]\n",
      "-----\n",
      "Index:  304137\n",
      "[2.26352202e-03 1.99349244e-03 6.50591765e-07 6.23624460e-07]\n",
      "[2.26456384e-03 1.99427808e-03 5.26663476e-07 6.28183454e-07]\n",
      "-----\n",
      "Index:  122579\n",
      "[2.28972218e-03 2.16212174e-03 6.13508730e-05 1.61673150e-06]\n",
      "[2.28578329e-03 2.15790973e-03 5.94947029e-05 1.61680851e-06]\n",
      "-----\n"
     ]
    }
   ],
   "source": [
    "print(\"Some tests of model performance\")\n",
    "print(\"Order:\", \"talkos\", \"dissicos\", \"sios\", \"po4os\")\n",
    "random_indices = np.random.randint(1000_000, size=10, dtype=int)\n",
    "\n",
    "model.eval()\n",
    "with torch.no_grad():\n",
    "    for ind in random_indices:\n",
    "        print(\"Index: \", ind)\n",
    "        print(denormalize(valid_labels[ind]))\n",
    "        print(denormalize(\n",
    "            model(torch.from_numpy(valid_features[ind, :].astype(\"float32\")\n",
    "                                  )).detach().cpu().numpy()))\n",
    "        print(\"-----\")"
   ]
  },
  {
   "cell_type": "code",
   "execution_count": 34,
   "id": "1b319db0-ec21-4270-9e65-cb4c3ea4f1cb",
   "metadata": {},
   "outputs": [],
   "source": [
    "def MSE(x, y):\n",
    "    return np.sum((x - y)**2, axis=0) / len(x)"
   ]
  },
  {
   "cell_type": "code",
   "execution_count": 35,
   "id": "b1d89903-e0d0-49d4-912e-b5c12c902b19",
   "metadata": {},
   "outputs": [],
   "source": [
    "model.eval()\n",
    "with torch.no_grad():\n",
    "    model_output_denormalized = denormalize(model(torch.from_numpy(\n",
    "        valid_features.astype(\"float32\"))).detach().cpu().numpy().squeeze())\n",
    "\n",
    "valid_labels_denormalized = denormalize(valid_labels)"
   ]
  },
  {
   "cell_type": "code",
   "execution_count": 36,
   "id": "281b48ea-e960-4628-8fce-45c39247c090",
   "metadata": {},
   "outputs": [
    {
     "name": "stdout",
     "output_type": "stream",
     "text": [
      "RMSE: talkos: 4.18e-06, dissicos: 5.77e-06, sios: 5.95e-07, po4os: 1.92e-08\n"
     ]
    }
   ],
   "source": [
    "print(\"RMSE: talkos: {:.2e}, dissicos: {:.2e}, sios: {:.2e}, po4os: {:.2e}\".format(\n",
    "    *np.sqrt(MSE(model_output_denormalized, valid_labels_denormalized))))"
   ]
  },
  {
   "cell_type": "code",
   "execution_count": 37,
   "id": "bc95ef15-4ca8-4305-b343-0f3063673792",
   "metadata": {},
   "outputs": [
    {
     "name": "stdout",
     "output_type": "stream",
     "text": [
      "Max deviation: talkos: 1.72e-03, dissicos: 3.84e-03, sios: 4.25e-04, po4os: 8.30e-06\n"
     ]
    }
   ],
   "source": [
    "print(\"Max deviation: talkos: {:.2e}, dissicos: {:.2e}, sios: {:.2e}, po4os: {:.2e}\".format(\n",
    "    *np.max(np.abs(model_output_denormalized - valid_labels_denormalized), axis=0)))"
   ]
  },
  {
   "cell_type": "code",
   "execution_count": 38,
   "id": "f71132d4-3895-42a8-9c79-0a033fcc4d65",
   "metadata": {},
   "outputs": [
    {
     "name": "stdout",
     "output_type": "stream",
     "text": [
      "99.9th percentile of absolute deviation (1000 val's larger): \n",
      " talkos: 2.90e-05, dissicos: 2.79e-05, sios: 2.57e-06, po4os: 1.21e-07\n"
     ]
    }
   ],
   "source": [
    "print(\"99.9th percentile of absolute deviation (1000 val's larger): \\n\",\n",
    "      \"talkos: {:.2e}, dissicos: {:.2e}, sios: {:.2e}, po4os: {:.2e}\".format(\n",
    "          *np.percentile(np.abs(\n",
    "              model_output_denormalized-valid_labels_denormalized\n",
    "          ), q=99.9, axis=0)))"
   ]
  }
 ],
 "metadata": {
  "kernelspec": {
   "display_name": "Python 3 (ipykernel)",
   "language": "python",
   "name": "python3"
  },
  "language_info": {
   "codemirror_mode": {
    "name": "ipython",
    "version": 3
   },
   "file_extension": ".py",
   "mimetype": "text/x-python",
   "name": "python",
   "nbconvert_exporter": "python",
   "pygments_lexer": "ipython3",
   "version": "3.11.7"
  }
 },
 "nbformat": 4,
 "nbformat_minor": 5
}
