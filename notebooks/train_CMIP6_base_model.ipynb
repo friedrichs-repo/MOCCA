{
 "cells": [
  {
   "cell_type": "markdown",
   "id": "24ee2d0e-edc6-4a41-aa2b-13ea927862d7",
   "metadata": {},
   "source": [
    "#### Load necessary packages"
   ]
  },
  {
   "cell_type": "code",
   "execution_count": 22,
   "id": "e0851a5c-050f-4697-83e2-b5fe476e25f3",
   "metadata": {},
   "outputs": [],
   "source": [
    "import numpy as np\n",
    "import os\n",
    "import random\n",
    "from tqdm import tqdm\n",
    "import matplotlib.pyplot as plt\n",
    "import pickle\n",
    "import pandas as pd\n",
    "\n",
    "import torch\n",
    "import torch.nn as nn\n",
    "import torch.optim as optim\n",
    "import torch.nn.functional as F"
   ]
  },
  {
   "cell_type": "markdown",
   "id": "e37b93b8-9c50-4970-b508-88f27dee536c",
   "metadata": {},
   "source": [
    "#### Load CMIP6 training data"
   ]
  },
  {
   "cell_type": "code",
   "execution_count": 2,
   "id": "ff8f4e6d-155e-47d4-8e38-ab462a6c1440",
   "metadata": {},
   "outputs": [],
   "source": [
    "with open('../data/cmip6_random_samples.pkl', 'rb') as f:\n",
    "    cmip6_random_samples = pickle.load(f)"
   ]
  },
  {
   "cell_type": "markdown",
   "id": "4b3c3a30-b1fd-45c3-baa4-a3a995656cab",
   "metadata": {},
   "source": [
    "#### Transform mon to mon_sin and mon_cos"
   ]
  },
  {
   "cell_type": "code",
   "execution_count": 3,
   "id": "9d099f13-f5b1-496d-914f-96f8698c4685",
   "metadata": {},
   "outputs": [],
   "source": [
    "def sinus(month_index):\n",
    "    return np.sin( month_index / 12 * 2 * np.pi)\n",
    "\n",
    "def cosinus(month_index):\n",
    "    return np.cos( month_index / 12 * 2 * np.pi)"
   ]
  },
  {
   "cell_type": "code",
   "execution_count": 4,
   "id": "9902a02d-070e-491b-94a9-e63d0e0e6abd",
   "metadata": {},
   "outputs": [],
   "source": [
    "cmip6_random_samples[\"mon_sin\"] = sinus(cmip6_random_samples[\"mon\"])\n",
    "cmip6_random_samples[\"mon_cos\"] = cosinus(cmip6_random_samples[\"mon\"])\n",
    "del cmip6_random_samples[\"mon\"]"
   ]
  },
  {
   "cell_type": "markdown",
   "id": "4e61ce11-1e3d-4dab-867b-c73bcb96ea58",
   "metadata": {},
   "source": [
    "#### Transform lat and lon\n",
    "\n",
    "Following Gade et al., 2010: A Non-singular Horizontal Position Representation"
   ]
  },
  {
   "cell_type": "code",
   "execution_count": 5,
   "id": "e01d79f0-d477-4c61-8231-b65ac6c02fdc",
   "metadata": {},
   "outputs": [],
   "source": [
    "cmip6_random_samples[\"nvector1\"] = np.sin(cmip6_random_samples[\"lat\"])\n",
    "cmip6_random_samples[\"nvector2\"] = np.sin(cmip6_random_samples[\"lon\"])\\\n",
    "* np.cos(cmip6_random_samples[\"lat\"])\n",
    "cmip6_random_samples[\"nvector3\"] = - np.cos(cmip6_random_samples[\"lon\"])\\\n",
    "* np.cos(cmip6_random_samples[\"lat\"])\n",
    "del cmip6_random_samples[\"lon\"]\n",
    "del cmip6_random_samples[\"lat\"]"
   ]
  },
  {
   "cell_type": "code",
   "execution_count": 6,
   "id": "4fec7301-ddfd-4b8b-b08d-25051b1943a1",
   "metadata": {},
   "outputs": [
    {
     "name": "stdout",
     "output_type": "stream",
     "text": [
      "           talkos  dissicos        tos        sos          sios         po4os  \\\n",
      "0        0.002300  0.002075  14.205753  33.903896  1.275010e-05  1.933323e-08   \n",
      "1        0.002299  0.001981  26.818392  34.373871  9.919313e-09  8.624555e-09   \n",
      "2        0.002260  0.001934  27.420202  33.745064  5.357209e-08  7.909007e-08   \n",
      "3        0.002324  0.002038  29.089867  34.708054  7.142363e-06  6.850541e-07   \n",
      "4        0.002287  0.002104   8.901377  33.684261  2.263223e-05  6.110404e-07   \n",
      "...           ...       ...        ...        ...           ...           ...   \n",
      "5999995  0.002195  0.001886  28.419693  33.151085  2.099906e-07  1.963973e-07   \n",
      "5999996  0.002301  0.002002  19.004026  35.086674  6.228225e-07  2.802442e-07   \n",
      "5999997  0.002101  0.001810  28.489004  30.891163  4.541886e-07  9.149397e-10   \n",
      "5999998  0.002292  0.002150  -0.870190  33.540627  8.180652e-05  1.530746e-06   \n",
      "5999999  0.002307  0.001977  24.939692  35.061729  2.198318e-07  2.191912e-07   \n",
      "\n",
      "            mlotst       zos         chlos    siconc        uas       vas  \\\n",
      "0        71.859367  0.123804  2.180653e-07   0.00000   7.911980 -2.426293   \n",
      "1        25.072660  0.605225  2.674401e-08   0.00000  -8.756516  0.629846   \n",
      "2        44.576553  0.683432  6.746804e-08   0.00000  -8.217419 -1.353881   \n",
      "3        21.062185  0.248935  7.666767e-08   0.00000  -6.915337  2.705777   \n",
      "4        69.274551 -0.071390  2.487151e-07   0.00000  11.041113 -5.034307   \n",
      "...            ...       ...           ...       ...        ...       ...   \n",
      "5999995  25.886480  0.829255  8.480865e-08   0.00000   8.153606  3.743509   \n",
      "5999996  14.579651  0.514121  4.353737e-07   0.00000   4.050847 -1.983066   \n",
      "5999997   4.510275  0.034993  1.414935e-08   0.00000  -1.946198  0.809329   \n",
      "5999998  19.528244 -1.887277  5.618315e-07  25.19199  -0.554121  3.573398   \n",
      "5999999  47.898697  0.615753  7.514706e-08   0.00000  -6.422754 -0.740820   \n",
      "\n",
      "               pr        clt         co2   mon_sin       mon_cos  nvector1  \\\n",
      "0        0.000005  55.474339  380.151154  0.866025 -5.000000e-01  0.996087   \n",
      "1        0.000021  35.480679  384.191711  0.000000  1.000000e+00  0.487175   \n",
      "2        0.000017  37.974915  388.489227  1.000000  6.123234e-17  0.803784   \n",
      "3        0.000064  46.414597  404.408295  0.866025 -5.000000e-01 -0.598472   \n",
      "4        0.000052  80.045029  383.124359  0.500000  8.660254e-01 -0.232374   \n",
      "...           ...        ...         ...       ...           ...       ...   \n",
      "5999995  0.000239  92.008446  408.647247 -0.866025 -5.000000e-01  0.206467   \n",
      "5999996  0.000009  44.926716  369.612732 -0.866025  5.000000e-01 -0.083974   \n",
      "5999997  0.000158  69.395264  398.190277 -0.500000 -8.660254e-01  0.215120   \n",
      "5999998  0.000009  91.527138  387.266876  0.000000  1.000000e+00 -0.455956   \n",
      "5999999  0.000035  51.225891  393.364624 -0.500000  8.660254e-01 -0.487175   \n",
      "\n",
      "         nvector2  nvector3  \n",
      "0        0.028795 -0.083562  \n",
      "1       -0.599502 -0.635026  \n",
      "2       -0.448518 -0.390848  \n",
      "3        0.352607 -0.719374  \n",
      "4        0.957433  0.171241  \n",
      "...           ...       ...  \n",
      "5999995 -0.543140 -0.813861  \n",
      "5999996 -0.907906 -0.410677  \n",
      "5999997 -0.483299 -0.848614  \n",
      "5999998 -0.304809  0.836179  \n",
      "5999999 -0.127053  0.864013  \n",
      "\n",
      "[6000000 rows x 20 columns]\n"
     ]
    }
   ],
   "source": [
    "df = pd.DataFrame(cmip6_random_samples)\n",
    "print(df)"
   ]
  },
  {
   "cell_type": "markdown",
   "id": "230badf6-863f-4b3e-93ce-3c8d8d65e6b4",
   "metadata": {},
   "source": [
    "#### Normalize talkos, dissicos, tos, sos, sios, and po4os"
   ]
  },
  {
   "cell_type": "code",
   "execution_count": 7,
   "id": "509c0f7a-abb1-4b35-b451-7a77014223d2",
   "metadata": {},
   "outputs": [],
   "source": [
    "alk_range = [1000e-6, 3000e-6]\n",
    "dic_range = [1000e-6, 3000e-6]\n",
    "tem_range = [-2, 35]\n",
    "sal_range = [10, 50]\n",
    "sil_range = [0, 134e-6]\n",
    "phos_range = [0, 4e-6]\n",
    "\n",
    "sample_means = {\"talkos\":(alk_range[0] + alk_range[1]) / 2,\n",
    "                 \"dissicos\":dic_range[0] + (dic_range[1] - dic_range[0]) / 4,\n",
    "                 \"tos\":(tem_range[0] + tem_range[1]) / 2,\n",
    "                 \"sos\":(sal_range[0] + sal_range[1]) / 2,\n",
    "                 \"sios\":(sil_range[0] + sil_range[1]) / 2,\n",
    "                 \"po4os\":(phos_range[0] + phos_range[1]) / 2}\n",
    "\n",
    "sample_stds = {\"talkos\":(alk_range[1] - alk_range[0]) / np.sqrt(12),\n",
    "                 \"dissicos\":(dic_range[1] - dic_range[0]) * np.sqrt(7 / 144),\n",
    "                 \"tos\":(tem_range[1] - tem_range[0]) / np.sqrt(12),\n",
    "                 \"sos\":(sal_range[1] - sal_range[0]) / np.sqrt(12),\n",
    "                 \"sios\":(sil_range[1] - sil_range[0]) / np.sqrt(12),\n",
    "                 \"po4os\":(phos_range[1] - phos_range[0]) / np.sqrt(12)}\n",
    "\n",
    "label_keys = [\"talkos\", \"dissicos\", \"tos\", \"sos\", \"sios\", \"po4os\"]\n",
    "for key in label_keys:\n",
    "    cmip6_random_samples[key] = (\n",
    "        cmip6_random_samples[key] - sample_means[key]) / sample_stds[key]"
   ]
  },
  {
   "cell_type": "markdown",
   "id": "13ff01ba-b383-45ce-991f-81ee49796ff1",
   "metadata": {},
   "source": [
    "####  Split into training and validation sets,\n",
    "#### normalize data and convert into feature and label arrays"
   ]
  },
  {
   "cell_type": "code",
   "execution_count": 9,
   "id": "55c33a54-a848-4761-a993-1509f7dca9a0",
   "metadata": {},
   "outputs": [],
   "source": [
    "np.random.seed(0)\n",
    "nsamples = 6000_000\n",
    "ntrain = 5000_000\n",
    "\n",
    "random_indices = np.arange(nsamples, dtype=int)\n",
    "random.shuffle(random_indices)\n",
    "\n",
    "train_samples = {key: cmip6_random_samples[key][random_indices][:ntrain]\n",
    "                 for key in cmip6_random_samples}\n",
    "valid_samples = {key: cmip6_random_samples[key][random_indices][ntrain:]\n",
    "                 for key in cmip6_random_samples}"
   ]
  },
  {
   "cell_type": "code",
   "execution_count": 10,
   "id": "456a4b74-ed7f-47a4-a176-faed373047a3",
   "metadata": {},
   "outputs": [],
   "source": [
    "feature_keys = [\"tos\", \"sos\", \"mlotst\", \"zos\", \"chlos\", \"siconc\", \"uas\", \"vas\", \"pr\",\n",
    "                \"clt\", \"co2\", \"mon_sin\", \"mon_cos\", \"nvector1\", \"nvector2\", \"nvector3\"]"
   ]
  },
  {
   "cell_type": "code",
   "execution_count": 12,
   "id": "f90ba100-95b7-4944-9b30-6e48fbb76192",
   "metadata": {},
   "outputs": [],
   "source": [
    "train_feature_means = {key: np.mean(train_samples[key]) for key in feature_keys}\n",
    "train_feature_stds = {key: np.std(train_samples[key]) for key in feature_keys}\n",
    "\n",
    "train_features = np.concatenate([(\n",
    "    train_samples[key][:, np.newaxis] - train_feature_means[key]\n",
    ") / train_feature_stds[key] for key in feature_keys], axis=1)\n",
    "\n",
    "valid_features = np.concatenate([(\n",
    "    valid_samples[key][:, np.newaxis] - train_feature_means[key]\n",
    ") / train_feature_stds[key] for key in feature_keys], axis=1)\n",
    "\n",
    "train_labels = np.concatenate([train_samples[key][:, np.newaxis]\n",
    "                                 for key in label_keys],\n",
    "                                          axis=1)\n",
    "\n",
    "valid_labels = np.concatenate([valid_samples[key][:, np.newaxis]\n",
    "                                 for key in label_keys],\n",
    "                                          axis=1)"
   ]
  },
  {
   "cell_type": "code",
   "execution_count": 13,
   "id": "0b0c8b21-2d44-4bb4-aadd-1278ab9b36d5",
   "metadata": {},
   "outputs": [
    {
     "name": "stdout",
     "output_type": "stream",
     "text": [
      "(5000000, 16)\n",
      "(1000000, 16)\n",
      "(5000000, 6)\n",
      "(1000000, 6)\n"
     ]
    }
   ],
   "source": [
    "print(train_features.shape)\n",
    "print(valid_features.shape)\n",
    "print(train_labels.shape)\n",
    "print(valid_labels.shape)"
   ]
  },
  {
   "cell_type": "code",
   "execution_count": 14,
   "id": "578eed0f-213a-4668-a50a-939f2c51476c",
   "metadata": {},
   "outputs": [
    {
     "name": "stdout",
     "output_type": "stream",
     "text": [
      "Verify that features are normalized.\n",
      "[-5.51687999e-08  9.36022487e-07  8.90589523e-08  1.29300851e-08\n",
      "  1.16477028e-07 -1.53430300e-07 -1.80455975e-08  9.29011192e-09\n",
      " -1.71977156e-07 -2.40814426e-06 -1.26430477e-05 -1.13657033e-15\n",
      "  3.29076255e-15 -1.03505662e-15 -3.16306314e-17 -2.67538325e-16]\n",
      "[0.99999982 0.99999969 1.00000015 0.99999984 1.00000003 1.00000039\n",
      " 0.99999958 1.00000012 0.99999975 1.00000004 0.99999987 1.\n",
      " 1.         1.         1.         1.        ]\n",
      "[ 2.45400780e-03 -5.23601797e-04 -1.47944369e-03  2.61007513e-03\n",
      " -2.15210529e-04 -1.71278481e-03 -1.42110571e-03 -6.27443566e-04\n",
      " -1.35819769e-04 -1.08722517e-03  1.34776250e-03  4.51753677e-04\n",
      " -8.19936782e-04 -5.33935058e-05  1.73444589e-04  3.39609559e-04]\n",
      "[1.00021151 1.0018881  1.00176929 0.9990404  0.99496454 0.99811735\n",
      " 1.00004913 0.99791581 1.00007563 1.00046483 1.00049685 1.00054979\n",
      " 0.99945065 1.00026957 1.00047674 0.99898436]\n"
     ]
    }
   ],
   "source": [
    "print(\"Verify that features are normalized.\")\n",
    "print(np.mean(train_features, axis=0))\n",
    "print(np.std(train_features, axis=0))\n",
    "print(np.mean(valid_features, axis=0))\n",
    "print(np.std(valid_features, axis=0))"
   ]
  },
  {
   "cell_type": "markdown",
   "id": "c7cbb8b1-d67d-4dd3-910b-8fe0b8ee289b",
   "metadata": {},
   "source": [
    "#### Define neural network and training procedure"
   ]
  },
  {
   "cell_type": "code",
   "execution_count": 15,
   "id": "0aac6611-d287-471a-aa53-1c19db2bd77e",
   "metadata": {},
   "outputs": [],
   "source": [
    "class MLP(nn.Module):\n",
    "    def __init__(self, input_size, hidden_size_1, hidden_size_2, hidden_size_3, output_size):\n",
    "        super().__init__()\n",
    "        self.device = torch.device(\"cuda\")\n",
    "        self.linear1 = nn.Linear(input_size, hidden_size_1, device=self.device)\n",
    "        self.linear2 = nn.Linear(hidden_size_1, hidden_size_2, device=self.device)\n",
    "        self.linear3 = nn.Linear(hidden_size_2, hidden_size_3, device=self.device)\n",
    "        self.linear4 = nn.Linear(hidden_size_3, output_size, device=self.device)\n",
    "\n",
    "    def forward(self, x):\n",
    "        x = x.to(self.device)\n",
    "        x = F.elu(self.linear1(x))\n",
    "        x = F.elu(self.linear2(x))\n",
    "        x = F.elu(self.linear3(x))\n",
    "        x = self.linear4(x)\n",
    "        return x\n",
    "\n",
    "    def save(self, file_name='model.pth'):\n",
    "        model_folder_path = '../models'\n",
    "        if not os.path.exists(model_folder_path):\n",
    "            os.makedirs(model_folder_path)\n",
    "\n",
    "        file_name = os.path.join(model_folder_path, file_name)\n",
    "        torch.save(self.state_dict(), file_name)\n",
    "\n",
    "loss_function = nn.MSELoss()"
   ]
  },
  {
   "cell_type": "code",
   "execution_count": 16,
   "id": "4edbec6e-011e-4c5c-81ae-a6bea9bc5355",
   "metadata": {},
   "outputs": [
    {
     "name": "stdout",
     "output_type": "stream",
     "text": [
      "MLP(\n",
      "  (linear1): Linear(in_features=16, out_features=160, bias=True)\n",
      "  (linear2): Linear(in_features=160, out_features=160, bias=True)\n",
      "  (linear3): Linear(in_features=160, out_features=160, bias=True)\n",
      "  (linear4): Linear(in_features=160, out_features=6, bias=True)\n",
      ")\n",
      "Number of trainable parameters in the model: 55206\n"
     ]
    }
   ],
   "source": [
    "model = MLP(16, 160, 160, 160, 6)\n",
    "print(model)\n",
    "pytorch_total_params = sum(p.numel() for p in model.parameters() if p.requires_grad)\n",
    "print(\"Number of trainable parameters in the model:\", pytorch_total_params)"
   ]
  },
  {
   "cell_type": "code",
   "execution_count": 17,
   "id": "2f542869-d2e7-41bf-9f33-7207a3c55875",
   "metadata": {},
   "outputs": [],
   "source": [
    "def training_dataloader(features, labels, batch_size):\n",
    "    ntrain = len(labels)\n",
    "    nbatch = ntrain // batch_size\n",
    "    indices = np.arange(ntrain, dtype=int)\n",
    "    random.shuffle(indices)\n",
    "    batch_indices = np.split(indices[:nbatch * batch_size], nbatch)\n",
    "    batch_data = [(torch.from_numpy(np.take(features, ind, axis=0).astype(\"float32\")),\n",
    "                   torch.from_numpy(np.take(labels, ind, axis=0).astype(\"float32\")))\n",
    "                  for ind in batch_indices]\n",
    "    return batch_data"
   ]
  },
  {
   "cell_type": "code",
   "execution_count": 18,
   "id": "c1ed2a5e-2638-4ab4-828f-1151b72b083c",
   "metadata": {},
   "outputs": [],
   "source": [
    "def train_one_epoch(optimizer):\n",
    "    running_loss = 0. # running loss over all batches in the epoch\n",
    "    \n",
    "    training_data = training_dataloader(train_features,\n",
    "                                        train_labels, batch_size)\n",
    "    \n",
    "    for batch in training_data:\n",
    "        features, labels = batch\n",
    "        optimizer.zero_grad()\n",
    "        outputs = torch.squeeze(model(features))\n",
    "        loss = loss_function(outputs, labels.to(torch.device(\"cuda\")))\n",
    "        loss.backward()\n",
    "        optimizer.step()\n",
    "        \n",
    "        running_loss += loss.detach().cpu().item()\n",
    "\n",
    "    ntrain = len(train_labels)\n",
    "    nbatch = ntrain // batch_size\n",
    "\n",
    "    return running_loss / nbatch"
   ]
  },
  {
   "cell_type": "code",
   "execution_count": 19,
   "id": "c607ad94-f80c-42e4-8e16-cff8511aac40",
   "metadata": {},
   "outputs": [],
   "source": [
    "def calc_gammar(reduction_factor, nepochs):                                                                                                                                                                       \n",
    "    return reduction_factor**(1 / nepochs)\n",
    "\n",
    "def train(batch_size, base_learning_rate, gamma, n_epochs):\n",
    "    train_stats = {\"train_loss\":[], \"valid_loss\":[], \"learn_rate\":[]}\n",
    "\n",
    "    optimizer = optim.Adam(model.parameters(), lr=base_learning_rate)\n",
    "    scheduler = optim.lr_scheduler.ExponentialLR(optimizer,\n",
    "                                                 gamma=gamma)\n",
    "\n",
    "    pbar = tqdm(range(n_epochs), postfix=f'epoch 0/{n_epochs}')\n",
    "    for epoch in pbar:\n",
    "\n",
    "        model.train()\n",
    "        train_loss_epoch = train_one_epoch(optimizer)\n",
    "\n",
    "        model.eval()\n",
    "        with torch.no_grad():\n",
    "            valid_outputs = torch.squeeze(model(\n",
    "                torch.from_numpy(valid_features.astype(\"float32\"))))\n",
    "            valid_loss_epoch = loss_function(valid_outputs, \n",
    "                                             torch.from_numpy(valid_labels).to(torch.device(\"cuda\"))\n",
    "                                            ).detach().cpu().item()\n",
    "        \n",
    "        train_stats[\"train_loss\"].append(train_loss_epoch)\n",
    "        train_stats[\"valid_loss\"].append(valid_loss_epoch)\n",
    "        lr = scheduler.get_last_lr()[0]\n",
    "        train_stats[\"learn_rate\"].append(lr)\n",
    "\n",
    "        scheduler.step()\n",
    "\n",
    "        pbar.set_postfix({'epoch': f'{epoch+1}/{n_epochs}',\n",
    "                          'train_loss':f'{train_loss_epoch:.4e}',\n",
    "                          'valid_loss':f'{valid_loss_epoch:.4e}',\n",
    "                          'learn_rate':f'{lr:.4e}'})\n",
    "\n",
    "    return train_stats"
   ]
  },
  {
   "cell_type": "markdown",
   "id": "6a4babaa-ec0a-4ffc-be43-6703e38c6a0a",
   "metadata": {},
   "source": [
    "#### Train neural network with pytorch"
   ]
  },
  {
   "cell_type": "code",
   "execution_count": 20,
   "id": "3de30af6-401f-4f18-a9a5-3112ed15216c",
   "metadata": {},
   "outputs": [
    {
     "name": "stderr",
     "output_type": "stream",
     "text": [
      "100%|████████████████████████████████████████████████████████████████████████████| 10000/10000 [14:12:13<00:00,  5.11s/it, epoch=10000/10000, train_loss=7.5421e-04, valid_loss=8.5874e-04, learn_rate=1.0005e-05]\n"
     ]
    }
   ],
   "source": [
    "batch_size = 1000\n",
    "base_learning_rate = 1e-3\n",
    "gamma = calc_gammar(0.1, 5000)\n",
    "n_epochs = 10000\n",
    "train_stats = train(batch_size, base_learning_rate, gamma, n_epochs)"
   ]
  },
  {
   "cell_type": "code",
   "execution_count": 23,
   "id": "7be183bb-4189-4c51-b296-34ec94d28029",
   "metadata": {},
   "outputs": [],
   "source": [
    "model.save(\"CMIP6_base_model_160x3_elu_10000epo.pth\")"
   ]
  },
  {
   "cell_type": "code",
   "execution_count": 25,
   "id": "7d0c2a5e-c41e-4014-9ebf-9ae2611ac8ba",
   "metadata": {},
   "outputs": [
    {
     "data": {
      "text/plain": [
       "Text(0, 0.5, 'Mean squared error')"
      ]
     },
     "execution_count": 25,
     "metadata": {},
     "output_type": "execute_result"
    },
    {
     "data": {
      "image/png": "[encoded data removed]",
      "text/plain": [
       "<Figure size 640x480 with 1 Axes>"
      ]
     },
     "metadata": {},
     "output_type": "display_data"
    }
   ],
   "source": [
    "plt.plot(train_stats[\"train_loss\"], label=\"training loss\", alpha=0.75)\n",
    "plt.plot(train_stats[\"valid_loss\"], label=\"validation loss\", alpha=0.75)\n",
    "plt.legend()\n",
    "plt.ylim([0, train_stats[\"train_loss\"][-1] * 5])\n",
    "plt.xlabel(\"Epoch\")\n",
    "plt.ylabel(\"Mean squared error\")"
   ]
  },
  {
   "cell_type": "code",
   "execution_count": 31,
   "id": "eef376c2-4703-4441-be66-c3a014900825",
   "metadata": {},
   "outputs": [
    {
     "name": "stdout",
     "output_type": "stream",
     "text": [
      "Valid loss at end of training close to overall minimum: 8.5813e-04\n"
     ]
    }
   ],
   "source": [
    "print(\"Valid loss at end of training close to overall minimum: {:.4e}\".format(\n",
    "    np.min(train_stats[\"valid_loss\"])\n",
    "))\n"
   ]
  },
  {
   "cell_type": "code",
   "execution_count": 36,
   "id": "6ea48853-8d8a-4a4d-ac6c-06aefa92e1f5",
   "metadata": {},
   "outputs": [
    {
     "name": "stdout",
     "output_type": "stream",
     "text": [
      "Some tests of model performance\n",
      "Order: talkos dissicos tos sos sios po4os\n",
      "Index:  514591\n",
      "[ 0.45877597  1.21807539 -0.26870131  0.36895442 -1.68157378 -1.45488249]\n",
      "tensor([ 0.4694,  1.2257, -0.2684,  0.3703, -1.6829, -1.4413], device='cuda:0')\n",
      "-----\n",
      "Index:  836298\n",
      "[ 0.38236364  1.09177457  0.31853211  0.34501469 -1.50329423 -1.53240172]\n",
      "tensor([ 0.3765,  1.0817,  0.3201,  0.3457, -1.5160, -1.5337], device='cuda:0')\n",
      "-----\n",
      "Index:  477428\n",
      "[ 0.53569242  1.50586875 -1.3844775   0.34251451  0.14007419 -0.29894538]\n",
      "tensor([ 0.5273,  1.4909, -1.3844,  0.3411,  0.0062, -0.3116], device='cuda:0')\n",
      "-----\n",
      "Index:  909463\n",
      "[ 0.76221073  1.35260699  0.81415206  0.58116639 -1.73138363 -1.7154826 ]\n",
      "tensor([ 0.7384,  1.3444,  0.8159,  0.5823, -1.7285, -1.7217], device='cuda:0')\n",
      "-----\n",
      "Index:  649891\n",
      "[ 0.34954465  1.43475178 -1.70608342  0.25354031 -1.08619055  0.04507033]\n",
      "tensor([ 0.3487,  1.3919, -1.7067,  0.2542, -1.1445, -0.1998], device='cuda:0')\n",
      "-----\n",
      "Index:  227838\n",
      "[ 0.6197755   1.59320822 -1.4971627   0.36912853  0.73134171 -0.25341771]\n",
      "tensor([ 0.6259,  1.5892, -1.4973,  0.3716,  0.7777, -0.2394], device='cuda:0')\n",
      "-----\n",
      "Index:  273867\n",
      "[ 0.11203345  1.02550458 -1.28367496  0.1787208  -1.33334474 -0.86350256]\n",
      "tensor([ 0.1116,  1.0125, -1.2847,  0.1780, -1.3583, -0.9222], device='cuda:0')\n",
      "-----\n",
      "Index:  437106\n",
      "[ 0.49374005  1.06405776  1.00763416  0.48661929 -1.70020221 -1.67047744]\n",
      "tensor([ 0.5008,  1.0798,  1.0090,  0.4869, -1.7066, -1.6659], device='cuda:0')\n",
      "-----\n",
      "Index:  410807\n",
      "[ 0.94530431  1.51082116  0.90374458  0.70655906 -1.73192997 -1.71754569]\n",
      "tensor([ 0.9580,  1.5136,  0.9036,  0.7065, -1.7307, -1.7179], device='cuda:0')\n",
      "-----\n",
      "Index:  320290\n",
      "[ 0.59224836  1.19688266  0.52381384  0.44671348 -1.73182586 -1.72249603]\n",
      "tensor([ 0.5830,  1.1852,  0.5208,  0.4481, -1.7281, -1.7173], device='cuda:0')\n",
      "-----\n"
     ]
    }
   ],
   "source": [
    "print(\"Some tests of model performance\")\n",
    "print(\"Order:\", \"talkos\", \"dissicos\", \"tos\", \"sos\", \"sios\", \"po4os\")\n",
    "random_indices = np.random.randint(1000_000, size=10, dtype=int)\n",
    "\n",
    "model.eval()\n",
    "with torch.no_grad():\n",
    "    for ind in random_indices:\n",
    "        print(\"Index: \", ind)\n",
    "        print(valid_labels[ind])\n",
    "        print(model(torch.from_numpy(valid_features[ind, :].astype(\"float32\"))))\n",
    "        print(\"-----\")"
   ]
  },
  {
   "cell_type": "code",
   "execution_count": 92,
   "id": "8249d817-e66e-4d8f-a8d5-2d1a1fbfd6ac",
   "metadata": {},
   "outputs": [],
   "source": [
    "sample_means_array = np.concatenate([np.array(sample_means[key])[np.newaxis]\n",
    "                                     for key in label_keys], axis=0)\n",
    "sample_stds_array = np.concatenate([np.array(sample_stds[key])[np.newaxis]\n",
    "                                    for key in label_keys], axis=0)\n",
    "\n",
    "def denormalize(array):\n",
    "    return array * sample_stds_array + sample_means_array"
   ]
  },
  {
   "cell_type": "code",
   "execution_count": 46,
   "id": "48f2692c-ca92-4be6-acba-826417c2e9c3",
   "metadata": {},
   "outputs": [
    {
     "name": "stdout",
     "output_type": "stream",
     "text": [
      "Index:  514591\n",
      "[2.26487443e-03 2.03712076e-03 1.36300066e+01 3.42603187e+01\n",
      " 1.95257602e-06 3.20046403e-07]\n",
      "[2.27102535e-03 2.04049006e-03 1.36334897e+01 3.42761155e+01\n",
      " 1.90050170e-06 3.35721677e-07]\n",
      "-----\n",
      "Index:  836298\n",
      "[2.22075775e-03 1.98142733e-03 1.99022351e+01 3.39838865e+01\n",
      " 8.84886893e-06 2.30534907e-07]\n",
      "[2.21736122e-03 1.97700630e-03 1.99186046e+01 3.39922550e+01\n",
      " 8.35720197e-06 2.29061262e-07]\n",
      "-----\n",
      "Index:  477428\n",
      "[2.30928216e-03 2.16402571e-03 1.71242358e+00 3.39550169e+01\n",
      " 7.24184155e-05 1.65480761e-06]\n",
      "[2.30441054e-03 2.15741219e-03 1.71337981e+00 3.39385835e+01\n",
      " 6.72416142e-05 1.64013987e-06]\n",
      "-----\n",
      "Index:  909463\n",
      "[2.44006257e-03 2.09644362e-03 2.51959419e+01 3.67107314e+01\n",
      " 2.58078886e-08 1.91313162e-08]\n",
      "[2.42629065e-03 2.09282191e-03 2.52147475e+01 3.67234269e+01\n",
      " 1.37911637e-07 1.19196516e-08]\n",
      "-----\n",
      "Index:  649891\n",
      "[ 2.20180970e-03  2.13266607e-03 -1.72264282e+00  3.29276313e+01\n",
      "  2.49834689e-05  2.05204274e-06]\n",
      "[ 2.20131090e-03  2.11375352e-03 -1.72896462e+00  3.29349557e+01\n",
      "  2.27262500e-05  1.76926136e-06]\n",
      "-----\n",
      "Index:  227838\n",
      "[2.35782755e-03 2.20253879e-03 5.08835178e-01 3.42623291e+01\n",
      " 9.52901022e-05 1.70737844e-06]\n",
      "[2.36137697e-03 2.20077744e-03 5.07560632e-01 3.42908373e+01\n",
      " 9.70844601e-05 1.72361173e-06]\n",
      "-----\n",
      "Index:  273867\n",
      "[2.06468254e-03 1.95220502e-03 2.78909350e+00 3.20636901e+01\n",
      " 1.54229349e-05 1.00291312e-06]\n",
      "[2.06440418e-03 1.94647192e-03 2.77764042e+00 3.20554241e+01\n",
      " 1.44587853e-05 9.35128253e-07]\n",
      "-----\n",
      "Index:  437106\n",
      "[2.28506095e-03 1.96920537e-03 2.72625203e+01 3.56189956e+01\n",
      " 1.23198234e-06 7.10987992e-08]\n",
      "[2.28914160e-03 1.97616266e-03 2.72775118e+01 3.56226244e+01\n",
      " 9.85516442e-07 7.64017264e-08]\n",
      "-----\n",
      "Index:  410807\n",
      "[2.54577170e-03 2.16620951e-03 2.61528777e+01 3.81586413e+01\n",
      " 4.67432493e-09 1.67490675e-08]\n",
      "[2.55312014e-03 2.16744311e-03 2.61517725e+01 3.81580198e+01\n",
      " 5.06241586e-08 1.63320554e-08]\n",
      "-----\n",
      "Index:  320290\n",
      "[2.34193475e-03 2.02777565e-03 2.20948452e+01 3.51582029e+01\n",
      " 8.70150230e-09 1.10329043e-08]\n",
      "[2.33661851e-03 2.02261855e-03 2.20627683e+01 3.51743742e+01\n",
      " 1.53945160e-07 1.70684884e-08]\n",
      "-----\n"
     ]
    }
   ],
   "source": [
    "model.eval()\n",
    "with torch.no_grad():\n",
    "    for ind in random_indices:\n",
    "        print(\"Index: \", ind)\n",
    "        print(denormalize(valid_labels[ind]))\n",
    "        print(denormalize(\n",
    "            model(torch.from_numpy(valid_features[ind, :].astype(\"float32\")\n",
    "                                  )).detach().cpu().numpy()))\n",
    "        print(\"-----\")"
   ]
  },
  {
   "cell_type": "code",
   "execution_count": 74,
   "id": "1b319db0-ec21-4270-9e65-cb4c3ea4f1cb",
   "metadata": {},
   "outputs": [],
   "source": [
    "def MSE(x, y):\n",
    "    return np.sum((x - y)**2, axis=0) / len(x)"
   ]
  },
  {
   "cell_type": "code",
   "execution_count": 78,
   "id": "b1d89903-e0d0-49d4-912e-b5c12c902b19",
   "metadata": {},
   "outputs": [],
   "source": [
    "model.eval()\n",
    "with torch.no_grad():\n",
    "    model_output_denormalized = denormalize(model(torch.from_numpy(\n",
    "        valid_features.astype(\"float32\"))).detach().cpu().numpy().squeeze())\n",
    "\n",
    "valid_labels_denormalized = denormalize(valid_labels)"
   ]
  },
  {
   "cell_type": "code",
   "execution_count": 94,
   "id": "281b48ea-e960-4628-8fce-45c39247c090",
   "metadata": {},
   "outputs": [
    {
     "name": "stdout",
     "output_type": "stream",
     "text": [
      "RMSE: talkos: 1.07e-05, dissicos: 1.06e-05, tos: 1.62e-02,\n",
      "sos: 2.37e-02, sios: 1.59e-06, po4os: 5.81e-08\n"
     ]
    }
   ],
   "source": [
    "print(\"RMSE: talkos: {:.2e}, dissicos: {:.2e}, tos: {:.2e},\\n\"\n",
    "\"sos: {:.2e}, sios: {:.2e}, po4os: {:.2e}\".format(\n",
    "    *np.sqrt(MSE(model_output_denormalized, valid_labels_denormalized))))"
   ]
  },
  {
   "cell_type": "code",
   "execution_count": 95,
   "id": "5513c215-13eb-45f9-9114-a5dc0479e6a2",
   "metadata": {},
   "outputs": [
    {
     "name": "stdout",
     "output_type": "stream",
     "text": [
      "Normalized max deviation:\n",
      " [1.41578569 1.59240614 0.05080688 0.03322437 1.74463643 1.49312639]\n",
      "As expected: Precision for T and S much higher.\n"
     ]
    }
   ],
   "source": [
    "print(\"Normalized max deviation:\\n\", np.max(np.abs(model_output - valid_labels), axis=0))\n",
    "print(\"As expected: Precision for T and S much higher.\")"
   ]
  },
  {
   "cell_type": "code",
   "execution_count": 93,
   "id": "bc95ef15-4ca8-4305-b343-0f3063673792",
   "metadata": {},
   "outputs": [
    {
     "name": "stdout",
     "output_type": "stream",
     "text": [
      "Max deviation: talkos: 8.17e-04, dissicos: 7.02e-04, tos: 5.43e-01, \n",
      "sos: 3.84e-01, sios: 6.75e-05, po4os: 1.72e-06\n"
     ]
    }
   ],
   "source": [
    "print(\"Max deviation: talkos: {:.2e}, dissicos: {:.2e}, tos: {:.2e},\\n\"\n",
    "\"sos: {:.2e}, sios: {:.2e}, po4os: {:.2e}\".format(\n",
    "    *np.max(np.abs(model_output_denormalized - valid_labels_denormalized), axis=0)))"
   ]
  },
  {
   "cell_type": "code",
   "execution_count": null,
   "id": "f71132d4-3895-42a8-9c79-0a033fcc4d65",
   "metadata": {},
   "outputs": [],
   "source": []
  }
 ],
 "metadata": {
  "kernelspec": {
   "display_name": "Python 3 (ipykernel)",
   "language": "python",
   "name": "python3"
  },
  "language_info": {
   "codemirror_mode": {
    "name": "ipython",
    "version": 3
   },
   "file_extension": ".py",
   "mimetype": "text/x-python",
   "name": "python",
   "nbconvert_exporter": "python",
   "pygments_lexer": "ipython3",
   "version": "3.11.7"
  }
 },
 "nbformat": 4,
 "nbformat_minor": 5
}
