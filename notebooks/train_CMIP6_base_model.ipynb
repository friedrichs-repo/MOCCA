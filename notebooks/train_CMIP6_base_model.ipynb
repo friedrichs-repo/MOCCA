{
 "cells": [
  {
   "cell_type": "markdown",
   "id": "24ee2d0e-edc6-4a41-aa2b-13ea927862d7",
   "metadata": {},
   "source": [
    "#### Load necessary packages"
   ]
  },
  {
   "cell_type": "code",
   "execution_count": 25,
   "id": "e0851a5c-050f-4697-83e2-b5fe476e25f3",
   "metadata": {},
   "outputs": [],
   "source": [
    "import numpy as np\n",
    "import os\n",
    "import random\n",
    "from tqdm import tqdm\n",
    "import matplotlib.pyplot as plt\n",
    "import pickle\n",
    "import pandas as pd\n",
    "from scipy import stats\n",
    "\n",
    "import torch\n",
    "import torch.nn as nn\n",
    "import torch.optim as optim\n",
    "import torch.nn.functional as F"
   ]
  },
  {
   "cell_type": "markdown",
   "id": "e37b93b8-9c50-4970-b508-88f27dee536c",
   "metadata": {},
   "source": [
    "#### Load CMIP6 training data"
   ]
  },
  {
   "cell_type": "code",
   "execution_count": 26,
   "id": "ff8f4e6d-155e-47d4-8e38-ab462a6c1440",
   "metadata": {},
   "outputs": [],
   "source": [
    "with open('../data/cmip6_random_samples.pkl', 'rb') as f:\n",
    "    cmip6_random_samples = pickle.load(f)"
   ]
  },
  {
   "cell_type": "markdown",
   "id": "4b3c3a30-b1fd-45c3-baa4-a3a995656cab",
   "metadata": {},
   "source": [
    "#### Transform mon to mon_sin and mon_cos"
   ]
  },
  {
   "cell_type": "code",
   "execution_count": 27,
   "id": "9902a02d-070e-491b-94a9-e63d0e0e6abd",
   "metadata": {},
   "outputs": [],
   "source": [
    "cmip6_random_samples[\"mon_sin\"] = np.sin(cmip6_random_samples[\"mon\"] / 12 * 2 * np.pi)\n",
    "cmip6_random_samples[\"mon_cos\"] = np.cos(cmip6_random_samples[\"mon\"] / 12 * 2 * np.pi)\n",
    "del cmip6_random_samples[\"mon\"]"
   ]
  },
  {
   "cell_type": "markdown",
   "id": "4e61ce11-1e3d-4dab-867b-c73bcb96ea58",
   "metadata": {},
   "source": [
    "#### Transform lat and lon\n",
    "\n",
    "Following Gade et al., 2010: A Non-singular Horizontal Position Representation"
   ]
  },
  {
   "cell_type": "code",
   "execution_count": 28,
   "id": "e01d79f0-d477-4c61-8231-b65ac6c02fdc",
   "metadata": {},
   "outputs": [],
   "source": [
    "cmip6_random_samples[\"nvector1\"] = np.sin(cmip6_random_samples[\"lat\"] / 360 * 2 * np.pi)\n",
    "cmip6_random_samples[\"nvector2\"] = np.sin(cmip6_random_samples[\"lon\"] / 360 * 2 * np.pi)\\\n",
    "* np.cos(cmip6_random_samples[\"lat\"] / 360 * 2 * np.pi)\n",
    "cmip6_random_samples[\"nvector3\"] = - np.cos(cmip6_random_samples[\"lon\"] / 360 * 2 * np.pi)\\\n",
    "* np.cos(cmip6_random_samples[\"lat\"] / 360 * 2 * np.pi)\n",
    "del cmip6_random_samples[\"lon\"]\n",
    "del cmip6_random_samples[\"lat\"]"
   ]
  },
  {
   "cell_type": "code",
   "execution_count": 29,
   "id": "4fec7301-ddfd-4b8b-b08d-25051b1943a1",
   "metadata": {},
   "outputs": [
    {
     "name": "stdout",
     "output_type": "stream",
     "text": [
      "           talkos  dissicos        tos        sos          sios         po4os  \\\n",
      "0        0.002300  0.002075  14.205753  33.903896  1.275010e-05  1.933323e-08   \n",
      "1        0.002299  0.001981  26.818392  34.373871  9.919313e-09  8.624555e-09   \n",
      "2        0.002260  0.001934  27.420202  33.745064  5.357209e-08  7.909007e-08   \n",
      "3        0.002324  0.002038  29.089867  34.708054  7.142363e-06  6.850541e-07   \n",
      "4        0.002287  0.002104   8.901377  33.684261  2.263223e-05  6.110404e-07   \n",
      "...           ...       ...        ...        ...           ...           ...   \n",
      "5999995  0.002195  0.001886  28.419693  33.151085  2.099906e-07  1.963973e-07   \n",
      "5999996  0.002301  0.002002  19.004026  35.086674  6.228225e-07  2.802442e-07   \n",
      "5999997  0.002101  0.001810  28.489004  30.891163  4.541886e-07  9.149397e-10   \n",
      "5999998  0.002292  0.002150  -0.870190  33.540627  8.180652e-05  1.530746e-06   \n",
      "5999999  0.002307  0.001977  24.939692  35.061729  2.198318e-07  2.191912e-07   \n",
      "\n",
      "            mlotst       zos         chlos    siconc        uas       vas  \\\n",
      "0        71.859367  0.123804  2.180653e-07   0.00000   7.911980 -2.426293   \n",
      "1        25.072660  0.605225  2.674401e-08   0.00000  -8.756516  0.629846   \n",
      "2        44.576553  0.683432  6.746804e-08   0.00000  -8.217419 -1.353881   \n",
      "3        21.062185  0.248935  7.666767e-08   0.00000  -6.915337  2.705777   \n",
      "4        69.274551 -0.071390  2.487151e-07   0.00000  11.041113 -5.034307   \n",
      "...            ...       ...           ...       ...        ...       ...   \n",
      "5999995  25.886480  0.829255  8.480865e-08   0.00000   8.153606  3.743509   \n",
      "5999996  14.579651  0.514121  4.353737e-07   0.00000   4.050847 -1.983066   \n",
      "5999997   4.510275  0.034993  1.414935e-08   0.00000  -1.946198  0.809329   \n",
      "5999998  19.528244 -1.887277  5.618315e-07  25.19199  -0.554121  3.573398   \n",
      "5999999  47.898697  0.615753  7.514706e-08   0.00000  -6.422754 -0.740820   \n",
      "\n",
      "               pr        clt         co2   mon_sin       mon_cos  nvector1  \\\n",
      "0        0.000005  55.474339  380.151154  0.866025 -5.000000e-01 -0.675590   \n",
      "1        0.000021  35.480679  384.191711  0.000000  1.000000e+00 -0.382683   \n",
      "2        0.000017  37.974915  388.489227  1.000000  6.123234e-17  0.233445   \n",
      "3        0.000064  46.414597  404.408295  0.866025 -5.000000e-01 -0.043619   \n",
      "4        0.000052  80.045029  383.124359  0.500000  8.660254e-01 -0.771625   \n",
      "...           ...        ...         ...       ...           ...       ...   \n",
      "5999995  0.000239  92.008446  408.647247 -0.866025 -5.000000e-01  0.267238   \n",
      "5999996  0.000009  44.926716  369.612732 -0.866025  5.000000e-01 -0.522499   \n",
      "5999997  0.000158  69.395264  398.190277 -0.500000 -8.660254e-01  0.113203   \n",
      "5999998  0.000009  91.527138  387.266876  0.000000  1.000000e+00 -0.909961   \n",
      "5999999  0.000035  51.225891  393.364624 -0.500000  8.660254e-01  0.382683   \n",
      "\n",
      "         nvector2  nvector3  \n",
      "0       -0.653973 -0.340437  \n",
      "1        0.876137 -0.293151  \n",
      "2       -0.160487  0.959034  \n",
      "3       -0.941744  0.333489  \n",
      "4       -0.635473  0.027745  \n",
      "...           ...       ...  \n",
      "5999995  0.687310  0.675418  \n",
      "5999996  0.169989  0.835523  \n",
      "5999997 -0.696404 -0.708666  \n",
      "5999998 -0.131584 -0.393263  \n",
      "5999999 -0.168364  0.908409  \n",
      "\n",
      "[6000000 rows x 20 columns]\n"
     ]
    }
   ],
   "source": [
    "df = pd.DataFrame(cmip6_random_samples)\n",
    "print(df)"
   ]
  },
  {
   "cell_type": "markdown",
   "id": "230badf6-863f-4b3e-93ce-3c8d8d65e6b4",
   "metadata": {},
   "source": [
    "#### Normalize talkos, dissicos, tos, sos, sios, and po4os"
   ]
  },
  {
   "cell_type": "code",
   "execution_count": 30,
   "id": "509c0f7a-abb1-4b35-b451-7a77014223d2",
   "metadata": {},
   "outputs": [],
   "source": [
    "alk_range = [1000e-6, 3000e-6]\n",
    "dic_range = [1000e-6, 3000e-6]\n",
    "tem_range = [-2, 35]\n",
    "sal_range = [10, 50]\n",
    "sil_range = [0, 134e-6]\n",
    "phos_range = [0, 4e-6]\n",
    "\n",
    "sample_means = {\"talkos\":(alk_range[0] + alk_range[1]) / 2,\n",
    "                 \"dissicos\":dic_range[0] + (dic_range[1] - dic_range[0]) / 4,\n",
    "                 \"tos\":(tem_range[0] + tem_range[1]) / 2,\n",
    "                 \"sos\":(sal_range[0] + sal_range[1]) / 2,\n",
    "                 \"sios\":(sil_range[0] + sil_range[1]) / 2,\n",
    "                 \"po4os\":(phos_range[0] + phos_range[1]) / 2}\n",
    "\n",
    "sample_stds = {\"talkos\":(alk_range[1] - alk_range[0]) / np.sqrt(12),\n",
    "                 \"dissicos\":(dic_range[1] - dic_range[0]) * np.sqrt(7 / 144),\n",
    "                 \"tos\":(tem_range[1] - tem_range[0]) / np.sqrt(12),\n",
    "                 \"sos\":(sal_range[1] - sal_range[0]) / np.sqrt(12),\n",
    "                 \"sios\":(sil_range[1] - sil_range[0]) / np.sqrt(12),\n",
    "                 \"po4os\":(phos_range[1] - phos_range[0]) / np.sqrt(12)}\n",
    "\n",
    "label_keys = [\"talkos\", \"dissicos\", \"sios\", \"po4os\"]\n",
    "for key in label_keys:\n",
    "    cmip6_random_samples[key] = (\n",
    "        cmip6_random_samples[key] - sample_means[key]) / sample_stds[key]"
   ]
  },
  {
   "cell_type": "markdown",
   "id": "0626b9da-5165-4e4d-be1e-2befa8783301",
   "metadata": {},
   "source": [
    "#### Do KS test to see which variables should be log-transformed"
   ]
  },
  {
   "cell_type": "code",
   "execution_count": 31,
   "id": "456a4b74-ed7f-47a4-a176-faed373047a3",
   "metadata": {},
   "outputs": [],
   "source": [
    "feature_keys = [\"tos\", \"sos\", \"mlotst\", \"zos\", \"chlos\", \"siconc\", \"uas\", \"vas\",\n",
    "                \"co2\", \"mon_sin\", \"mon_cos\", \"nvector1\", \"nvector2\", \"nvector3\"]"
   ]
  },
  {
   "cell_type": "code",
   "execution_count": 32,
   "id": "af53e3f3-2b12-4e8c-a7be-6cd2e5a47ad8",
   "metadata": {},
   "outputs": [],
   "source": [
    "def normalize(array):\n",
    "    return (array - np.mean(array)) / np.std(array)"
   ]
  },
  {
   "cell_type": "code",
   "execution_count": 33,
   "id": "9f3a9056-e7df-4748-a3b0-ee9cac97be34",
   "metadata": {},
   "outputs": [
    {
     "name": "stdout",
     "output_type": "stream",
     "text": [
      "mlotst statistic:  0.2567800157729451\n",
      "mlotst statistic with log transform:  0.018253479048485066\n"
     ]
    }
   ],
   "source": [
    "print(\"mlotst statistic: \",\n",
    "      stats.kstest(normalize(cmip6_random_samples[\"mlotst\"]), stats.norm.cdf)[0])\n",
    "print(\"mlotst statistic with log transform: \",\n",
    "      stats.kstest(normalize(np.log(cmip6_random_samples[\"mlotst\"])), stats.norm.cdf)[0])"
   ]
  },
  {
   "cell_type": "code",
   "execution_count": 34,
   "id": "c5dfe135-02a6-4ce0-b3ed-83bbbc945e36",
   "metadata": {},
   "outputs": [
    {
     "name": "stdout",
     "output_type": "stream",
     "text": [
      "chlos statistic:  0.33018389805163467\n",
      "chlos statistic with log transform:  0.06382566488574154\n"
     ]
    }
   ],
   "source": [
    "print(\"chlos statistic: \",\n",
    "      stats.kstest(normalize(cmip6_random_samples[\"chlos\"]), stats.norm.cdf)[0])\n",
    "print(\"chlos statistic with log transform: \",\n",
    "      stats.kstest(normalize(np.log(cmip6_random_samples[\"chlos\"])), stats.norm.cdf)[0])"
   ]
  },
  {
   "cell_type": "code",
   "execution_count": 35,
   "id": "cccdd877-7b3c-4ae4-8bd8-cfaa7fb35592",
   "metadata": {},
   "outputs": [
    {
     "data": {
      "text/plain": [
       "Text(0.5, 1.0, 'mlotst')"
      ]
     },
     "execution_count": 35,
     "metadata": {},
     "output_type": "execute_result"
    },
    {
     "data": {
      "image/png": "[encoded data removed]",
      "text/plain": [
       "<Figure size 640x480 with 1 Axes>"
      ]
     },
     "metadata": {},
     "output_type": "display_data"
    }
   ],
   "source": [
    "plt.hist(normalize(cmip6_random_samples[\"mlotst\"]), 100, density=True, facecolor='blue', alpha=0.5);\n",
    "plt.hist(normalize(np.log(cmip6_random_samples[\"mlotst\"])), 100, density=True, facecolor='green', alpha=0.5);\n",
    "plt.title(\"mlotst\")"
   ]
  },
  {
   "cell_type": "code",
   "execution_count": 36,
   "id": "7fef21a1-2aa3-453e-85b0-6ad9bf010646",
   "metadata": {},
   "outputs": [
    {
     "data": {
      "text/plain": [
       "Text(0.5, 1.0, 'chlos')"
      ]
     },
     "execution_count": 36,
     "metadata": {},
     "output_type": "execute_result"
    },
    {
     "data": {
      "image/png": "[encoded data removed]",
      "text/plain": [
       "<Figure size 640x480 with 1 Axes>"
      ]
     },
     "metadata": {},
     "output_type": "display_data"
    }
   ],
   "source": [
    "plt.hist(normalize(cmip6_random_samples[\"chlos\"]), 100, density=True, facecolor='blue', alpha=0.5);\n",
    "plt.hist(normalize(np.log(cmip6_random_samples[\"chlos\"])), 100, density=True, facecolor='green', alpha=0.5);\n",
    "plt.title(\"chlos\")"
   ]
  },
  {
   "cell_type": "code",
   "execution_count": 37,
   "id": "5c60618c-c457-4e6a-be05-b352a4fdeceb",
   "metadata": {},
   "outputs": [],
   "source": [
    "log_transform_keys = [\"mlotst\", \"chlos\"]\n",
    "for key in log_transform_keys:\n",
    "    cmip6_random_samples[key] = np.log(cmip6_random_samples[key])"
   ]
  },
  {
   "cell_type": "markdown",
   "id": "13ff01ba-b383-45ce-991f-81ee49796ff1",
   "metadata": {},
   "source": [
    "####  Split into training and validation sets,\n",
    "#### normalize data and convert into feature and label arrays"
   ]
  },
  {
   "cell_type": "code",
   "execution_count": 38,
   "id": "55c33a54-a848-4761-a993-1509f7dca9a0",
   "metadata": {},
   "outputs": [],
   "source": [
    "#np.random.seed(0)\n",
    "random.seed(0)\n",
    "nsamples = 6000_000\n",
    "ntrain = 5000_000\n",
    "\n",
    "random_indices = np.arange(nsamples, dtype=int)\n",
    "random.shuffle(random_indices)\n",
    "\n",
    "train_samples = {key: cmip6_random_samples[key][random_indices][:ntrain]\n",
    "                 for key in cmip6_random_samples}\n",
    "valid_samples = {key: cmip6_random_samples[key][random_indices][ntrain:]\n",
    "                 for key in cmip6_random_samples}"
   ]
  },
  {
   "cell_type": "code",
   "execution_count": 39,
   "id": "f90ba100-95b7-4944-9b30-6e48fbb76192",
   "metadata": {},
   "outputs": [],
   "source": [
    "train_feature_means = {key: np.mean(train_samples[key]) for key in feature_keys}\n",
    "train_feature_stds = {key: np.std(train_samples[key]) for key in feature_keys}\n",
    "\n",
    "train_features = np.concatenate([(\n",
    "    train_samples[key][:, np.newaxis] - train_feature_means[key]\n",
    ") / train_feature_stds[key] for key in feature_keys], axis=1)\n",
    "\n",
    "valid_features = np.concatenate([(\n",
    "    valid_samples[key][:, np.newaxis] - train_feature_means[key]\n",
    ") / train_feature_stds[key] for key in feature_keys], axis=1)\n",
    "\n",
    "train_labels = np.concatenate([train_samples[key][:, np.newaxis]\n",
    "                                 for key in label_keys],\n",
    "                                          axis=1)\n",
    "\n",
    "valid_labels = np.concatenate([valid_samples[key][:, np.newaxis]\n",
    "                                 for key in label_keys],\n",
    "                                          axis=1)"
   ]
  },
  {
   "cell_type": "code",
   "execution_count": 42,
   "id": "5fa87061-4e9a-44aa-9504-c3998cdfa1e6",
   "metadata": {},
   "outputs": [],
   "source": [
    "with open('../data/cmip6_base_model_train_feature_means.pkl', 'wb') as f:\n",
    "    pickle.dump(train_feature_means, f)\n",
    "with open('../data/cmip6_base_model_train_feature_stds.pkl', 'wb') as f:\n",
    "    pickle.dump(train_feature_stds, f)"
   ]
  },
  {
   "cell_type": "code",
   "execution_count": 40,
   "id": "0b0c8b21-2d44-4bb4-aadd-1278ab9b36d5",
   "metadata": {},
   "outputs": [
    {
     "name": "stdout",
     "output_type": "stream",
     "text": [
      "(5000000, 14)\n",
      "(1000000, 14)\n",
      "(5000000, 4)\n",
      "(1000000, 4)\n"
     ]
    }
   ],
   "source": [
    "print(train_features.shape)\n",
    "print(valid_features.shape)\n",
    "print(train_labels.shape)\n",
    "print(valid_labels.shape)"
   ]
  },
  {
   "cell_type": "code",
   "execution_count": 41,
   "id": "578eed0f-213a-4668-a50a-939f2c51476c",
   "metadata": {},
   "outputs": [
    {
     "name": "stdout",
     "output_type": "stream",
     "text": [
      "Verify that features are normalized.\n",
      "[-3.46221832e-07 -1.51429291e-05 -3.02020573e-06 -2.64389372e-08\n",
      " -2.76868894e-06 -8.70409142e-08  1.47213594e-08 -1.05415506e-08\n",
      "  4.47240089e-06 -1.48339498e-15  2.20232468e-15  1.61658247e-15\n",
      "  1.73883807e-16  1.69341119e-16]\n",
      "[1.00000018 1.00000023 0.99999999 0.99999995 0.99999973 1.00000001\n",
      " 0.99999974 0.99999991 0.99999971 1.         1.         1.\n",
      " 1.         1.        ]\n",
      "[-0.00115049 -0.00235968 -0.00216672 -0.00143924 -0.00160465  0.00152142\n",
      " -0.00066082  0.00173118 -0.00011664 -0.0012404   0.00135473  0.00077518\n",
      " -0.00042137  0.00055878]\n",
      "[1.00060356 1.00169421 0.99852279 1.00027945 1.00320972 1.00169254\n",
      " 0.99953222 1.00054428 1.00164282 1.00012921 0.99986925 1.00045422\n",
      " 0.99974896 0.99948278]\n"
     ]
    }
   ],
   "source": [
    "print(\"Verify that features are normalized.\")\n",
    "print(np.mean(train_features, axis=0))\n",
    "print(np.std(train_features, axis=0))\n",
    "print(np.mean(valid_features, axis=0))\n",
    "print(np.std(valid_features, axis=0))"
   ]
  },
  {
   "cell_type": "markdown",
   "id": "c7cbb8b1-d67d-4dd3-910b-8fe0b8ee289b",
   "metadata": {},
   "source": [
    "#### Define neural network and training procedure"
   ]
  },
  {
   "cell_type": "code",
   "execution_count": null,
   "id": "0aac6611-d287-471a-aa53-1c19db2bd77e",
   "metadata": {},
   "outputs": [],
   "source": [
    "class MLP(nn.Module):\n",
    "    def __init__(self, input_size, hidden_size_1, hidden_size_2, hidden_size_3, output_size):\n",
    "        super().__init__()\n",
    "        self.device = torch.device(\"cuda\")\n",
    "        self.linear1 = nn.Linear(input_size, hidden_size_1, device=self.device)\n",
    "        self.linear2 = nn.Linear(hidden_size_1, hidden_size_2, device=self.device)\n",
    "        self.linear3 = nn.Linear(hidden_size_2, hidden_size_3, device=self.device)\n",
    "        self.linear4 = nn.Linear(hidden_size_3, output_size, device=self.device)\n",
    "\n",
    "    def forward(self, x):\n",
    "        x = x.to(self.device)\n",
    "        x = F.elu(self.linear1(x))\n",
    "        x = F.elu(self.linear2(x))\n",
    "        x = F.elu(self.linear3(x))\n",
    "        x = self.linear4(x)\n",
    "        return x\n",
    "\n",
    "    def save(self, file_name='model.pth'):\n",
    "        model_folder_path = '../models'\n",
    "        if not os.path.exists(model_folder_path):\n",
    "            os.makedirs(model_folder_path)\n",
    "\n",
    "        file_name = os.path.join(model_folder_path, file_name)\n",
    "        torch.save(self.state_dict(), file_name)"
   ]
  },
  {
   "cell_type": "code",
   "execution_count": null,
   "id": "4edbec6e-011e-4c5c-81ae-a6bea9bc5355",
   "metadata": {},
   "outputs": [],
   "source": [
    "model = MLP(14, 160, 160, 160, 4)\n",
    "print(model)\n",
    "pytorch_total_params = sum(p.numel() for p in model.parameters() if p.requires_grad)\n",
    "print(\"Number of trainable parameters in the model:\", pytorch_total_params)"
   ]
  },
  {
   "cell_type": "code",
   "execution_count": null,
   "id": "5646f76f-f9fb-4ca2-bec6-d448f6dae5bf",
   "metadata": {},
   "outputs": [],
   "source": []
  },
  {
   "cell_type": "code",
   "execution_count": null,
   "id": "2f542869-d2e7-41bf-9f33-7207a3c55875",
   "metadata": {},
   "outputs": [],
   "source": [
    "def training_dataloader(features, labels, batch_size):\n",
    "    ntrain = len(labels)\n",
    "    nbatch = ntrain // batch_size\n",
    "    indices = np.arange(ntrain, dtype=int)\n",
    "    random.shuffle(indices)\n",
    "    batch_indices = np.split(indices[:nbatch * batch_size], nbatch)\n",
    "    batch_data = [(torch.from_numpy(np.take(features, ind, axis=0).astype(\"float32\")),\n",
    "                   torch.from_numpy(np.take(labels, ind, axis=0).astype(\"float32\")))\n",
    "                  for ind in batch_indices]\n",
    "    return batch_data"
   ]
  },
  {
   "cell_type": "code",
   "execution_count": null,
   "id": "0976b7f4-7db9-4381-854a-6c69533318d8",
   "metadata": {},
   "outputs": [],
   "source": [
    "loss_function = nn.MSELoss()"
   ]
  },
  {
   "cell_type": "code",
   "execution_count": null,
   "id": "c1ed2a5e-2638-4ab4-828f-1151b72b083c",
   "metadata": {},
   "outputs": [],
   "source": [
    "def train_one_epoch(optimizer):\n",
    "    running_loss = 0. # running loss over all batches in the epoch\n",
    "    \n",
    "    training_data = training_dataloader(train_features,\n",
    "                                        train_labels, batch_size)\n",
    "    \n",
    "    for batch in training_data:\n",
    "        features, labels = batch\n",
    "        optimizer.zero_grad()\n",
    "        outputs = torch.squeeze(model(features))\n",
    "        loss = loss_function(outputs, labels.to(torch.device(\"cuda\")))\n",
    "        loss.backward()\n",
    "        optimizer.step()\n",
    "        \n",
    "        running_loss += loss.detach().cpu().item()\n",
    "\n",
    "    ntrain = len(train_labels)\n",
    "    nbatch = ntrain // batch_size\n",
    "\n",
    "    return running_loss / nbatch"
   ]
  },
  {
   "cell_type": "code",
   "execution_count": null,
   "id": "c607ad94-f80c-42e4-8e16-cff8511aac40",
   "metadata": {},
   "outputs": [],
   "source": [
    "def calc_gammar(reduction_factor, nepochs):                                                                                                                                                                       \n",
    "    return reduction_factor**(1 / nepochs)\n",
    "\n",
    "def train(batch_size, n_epochs, optimizer, scheduler):\n",
    "    train_stats = {\"train_loss\":[], \"valid_loss\":[], \"learn_rate\":[]}\n",
    "\n",
    "    pbar = tqdm(range(n_epochs), postfix=f'epoch 0/{n_epochs}')\n",
    "    for epoch in pbar:\n",
    "\n",
    "        model.train()\n",
    "\n",
    "        train_loss_epoch = train_one_epoch(optimizer)\n",
    "\n",
    "        model.eval()\n",
    "        with torch.no_grad():\n",
    "            valid_outputs = torch.squeeze(model(\n",
    "                torch.from_numpy(valid_features.astype(\"float32\"))))\n",
    "            valid_loss_epoch = loss_function(\n",
    "                valid_outputs, torch.from_numpy(valid_labels).to(torch.device(\"cuda\"))\n",
    "                                            ).detach().cpu().item()\n",
    "        \n",
    "        train_stats[\"train_loss\"].append(train_loss_epoch)\n",
    "        train_stats[\"valid_loss\"].append(valid_loss_epoch)\n",
    "        \n",
    "        lr = scheduler.get_last_lr()[0]\n",
    "        train_stats[\"learn_rate\"].append(lr)\n",
    "\n",
    "        scheduler.step()\n",
    "\n",
    "        pbar.set_postfix({'epoch': f'{epoch+1}/{n_epochs}',\n",
    "                          'train_loss':f'{train_loss_epoch:.3e}',\n",
    "                          'valid_loss':f'{valid_loss_epoch:.3e}',\n",
    "                          'learn_rate':f'{lr:.3e}'})\n",
    "\n",
    "    return train_stats"
   ]
  },
  {
   "cell_type": "markdown",
   "id": "6a4babaa-ec0a-4ffc-be43-6703e38c6a0a",
   "metadata": {},
   "source": [
    "#### Train neural network with pytorch"
   ]
  },
  {
   "cell_type": "code",
   "execution_count": null,
   "id": "3de30af6-401f-4f18-a9a5-3112ed15216c",
   "metadata": {},
   "outputs": [],
   "source": [
    "batch_size = 1000\n",
    "n_epochs = 10_000\n",
    "\n",
    "base_learning_rate = 1e-3\n",
    "gamma = calc_gammar(0.1, 5000)\n",
    "\n",
    "optimizer = optim.Adam(model.parameters(), lr=base_learning_rate)\n",
    "scheduler = optim.lr_scheduler.ExponentialLR(optimizer,\n",
    "                                                 gamma=gamma)\n",
    "\n",
    "train_stats = train(batch_size, n_epochs, optimizer, scheduler)"
   ]
  },
  {
   "cell_type": "code",
   "execution_count": null,
   "id": "7be183bb-4189-4c51-b296-34ec94d28029",
   "metadata": {},
   "outputs": [],
   "source": [
    "model.save(\"CMIP6_base_model_160x3_elu_10000epo.pth\")"
   ]
  },
  {
   "cell_type": "code",
   "execution_count": 58,
   "id": "7d0c2a5e-c41e-4014-9ebf-9ae2611ac8ba",
   "metadata": {},
   "outputs": [
    {
     "data": {
      "text/plain": [
       "Text(0, 0.5, 'Mean squared error')"
      ]
     },
     "execution_count": 58,
     "metadata": {},
     "output_type": "execute_result"
    },
    {
     "data": {
      "image/png": "[encoded data removed]",
      "text/plain": [
       "<Figure size 640x480 with 1 Axes>"
      ]
     },
     "metadata": {},
     "output_type": "display_data"
    }
   ],
   "source": [
    "plt.plot(train_stats[\"train_loss\"], label=\"training loss\", alpha=0.75)\n",
    "plt.plot(train_stats[\"valid_loss\"], label=\"validation loss\", alpha=0.75)\n",
    "plt.legend()\n",
    "plt.ylim([0, train_stats[\"train_loss\"][-1] * 5])\n",
    "plt.xlabel(\"Epoch\")\n",
    "plt.ylabel(\"Mean squared error\")"
   ]
  },
  {
   "cell_type": "code",
   "execution_count": 59,
   "id": "eef376c2-4703-4441-be66-c3a014900825",
   "metadata": {},
   "outputs": [
    {
     "name": "stdout",
     "output_type": "stream",
     "text": [
      "Valid loss at end of training close to overall minimum: 4.0498e-04\n"
     ]
    }
   ],
   "source": [
    "print(\"Valid loss at end of training close to overall minimum: {:.4e}\".format(\n",
    "    np.min(train_stats[\"valid_loss\"])\n",
    "))\n"
   ]
  },
  {
   "cell_type": "code",
   "execution_count": 60,
   "id": "8249d817-e66e-4d8f-a8d5-2d1a1fbfd6ac",
   "metadata": {},
   "outputs": [],
   "source": [
    "sample_means_array = np.concatenate([np.array(sample_means[key])[np.newaxis]\n",
    "                                     for key in label_keys], axis=0)\n",
    "sample_stds_array = np.concatenate([np.array(sample_stds[key])[np.newaxis]\n",
    "                                    for key in label_keys], axis=0)\n",
    "\n",
    "def denormalize(array):\n",
    "    return array * sample_stds_array + sample_means_array"
   ]
  },
  {
   "cell_type": "code",
   "execution_count": 61,
   "id": "48f2692c-ca92-4be6-acba-826417c2e9c3",
   "metadata": {},
   "outputs": [
    {
     "name": "stdout",
     "output_type": "stream",
     "text": [
      "Some tests of model performance\n",
      "Order: talkos dissicos sios po4os\n",
      "Index:  985772\n",
      "[2.30561315e-03 2.17021428e-03 6.79250350e-05 1.68727287e-06]\n",
      "[2.30169868e-03 2.17253259e-03 6.73909537e-05 1.68623721e-06]\n",
      "-----\n",
      "Index:  305711\n",
      "[2.19498841e-03 1.86650997e-03 1.69328208e-07 3.74803086e-09]\n",
      "[ 2.19496782e-03  1.87097228e-03  1.98960764e-07 -1.47365604e-09]\n",
      "-----\n",
      "Index:  435829\n",
      "[2.25341494e-03 1.94677223e-03 1.97741385e-07 3.05231744e-07]\n",
      "[2.24474883e-03 1.93990670e-03 1.59487954e-07 3.00916339e-07]\n",
      "-----\n",
      "Index:  117952\n",
      "[2.26531213e-03 2.09214382e-03 2.21993638e-05 1.10349151e-06]\n",
      "[2.26599527e-03 2.08868005e-03 2.22994871e-05 1.07546568e-06]\n",
      "-----\n",
      "Index:  963395\n",
      "[2.25223734e-03 2.02239481e-03 7.43236326e-06 2.65633069e-07]\n",
      "[2.25153389e-03 2.01747377e-03 7.50656754e-06 2.61020115e-07]\n",
      "-----\n",
      "Index:  152315\n",
      "[2.18772656e-03 1.87801448e-03 4.48268691e-07 5.04830595e-08]\n",
      "[2.18764239e-03 1.88949630e-03 1.30349851e-06 1.16818547e-07]\n",
      "-----\n",
      "Index:  882371\n",
      "[2.03148686e-03 1.85564504e-03 6.17932401e-07 2.70565951e-09]\n",
      "[2.02998339e-03 1.86259894e-03 6.49573320e-07 9.04770050e-09]\n",
      "-----\n",
      "Index:  359783\n",
      "[2.20079790e-03 1.87357331e-03 2.34052183e-07 2.61820174e-07]\n",
      "[2.19719223e-03 1.87070485e-03 7.84995247e-08 2.41083978e-07]\n",
      "-----\n",
      "Index:  304137\n",
      "[2.27235119e-03 2.01036971e-03 7.38327715e-07 1.18248256e-08]\n",
      "[2.27395286e-03 2.01229835e-03 7.09981475e-07 1.55974119e-08]\n",
      "-----\n",
      "Index:  122579\n",
      "[2.24090643e-03 1.91575540e-03 5.41581502e-06 5.09486209e-08]\n",
      "[2.23845304e-03 1.91700877e-03 4.58071470e-06 6.23581553e-08]\n",
      "-----\n"
     ]
    }
   ],
   "source": [
    "print(\"Some tests of model performance\")\n",
    "print(\"Order:\", \"talkos\", \"dissicos\", \"sios\", \"po4os\")\n",
    "random_indices = np.random.randint(1000_000, size=10, dtype=int)\n",
    "\n",
    "model.eval()\n",
    "with torch.no_grad():\n",
    "    for ind in random_indices:\n",
    "        print(\"Index: \", ind)\n",
    "        print(denormalize(valid_labels[ind]))\n",
    "        print(denormalize(\n",
    "            model(torch.from_numpy(valid_features[ind, :].astype(\"float32\")\n",
    "                                  )).detach().cpu().numpy()))\n",
    "        print(\"-----\")"
   ]
  },
  {
   "cell_type": "code",
   "execution_count": 62,
   "id": "1b319db0-ec21-4270-9e65-cb4c3ea4f1cb",
   "metadata": {},
   "outputs": [],
   "source": [
    "def MSE(x, y):\n",
    "    return np.sum((x - y)**2, axis=0) / len(x)"
   ]
  },
  {
   "cell_type": "code",
   "execution_count": 63,
   "id": "b1d89903-e0d0-49d4-912e-b5c12c902b19",
   "metadata": {},
   "outputs": [],
   "source": [
    "model.eval()\n",
    "with torch.no_grad():\n",
    "    model_output_denormalized = denormalize(model(torch.from_numpy(\n",
    "        valid_features.astype(\"float32\"))).detach().cpu().numpy().squeeze())\n",
    "\n",
    "valid_labels_denormalized = denormalize(valid_labels)"
   ]
  },
  {
   "cell_type": "code",
   "execution_count": 64,
   "id": "281b48ea-e960-4628-8fce-45c39247c090",
   "metadata": {},
   "outputs": [
    {
     "name": "stdout",
     "output_type": "stream",
     "text": [
      "RMSE: talkos: 6.10e-06, dissicos: 6.30e-06, sios: 8.23e-07, po4os: 3.38e-08\n"
     ]
    }
   ],
   "source": [
    "print(\"RMSE: talkos: {:.2e}, dissicos: {:.2e}, sios: {:.2e}, po4os: {:.2e}\".format(\n",
    "    *np.sqrt(MSE(model_output_denormalized, valid_labels_denormalized))))"
   ]
  },
  {
   "cell_type": "code",
   "execution_count": 65,
   "id": "bc95ef15-4ca8-4305-b343-0f3063673792",
   "metadata": {},
   "outputs": [
    {
     "name": "stdout",
     "output_type": "stream",
     "text": [
      "Max deviation: talkos: 4.00e-04, dissicos: 4.34e-04, sios: 3.57e-05, po4os: 1.20e-06\n"
     ]
    }
   ],
   "source": [
    "print(\"Max deviation: talkos: {:.2e}, dissicos: {:.2e}, sios: {:.2e}, po4os: {:.2e}\".format(\n",
    "    *np.max(np.abs(model_output_denormalized - valid_labels_denormalized), axis=0)))"
   ]
  },
  {
   "cell_type": "code",
   "execution_count": null,
   "id": "f71132d4-3895-42a8-9c79-0a033fcc4d65",
   "metadata": {},
   "outputs": [],
   "source": []
  }
 ],
 "metadata": {
  "kernelspec": {
   "display_name": "Python 3 (ipykernel)",
   "language": "python",
   "name": "python3"
  },
  "language_info": {
   "codemirror_mode": {
    "name": "ipython",
    "version": 3
   },
   "file_extension": ".py",
   "mimetype": "text/x-python",
   "name": "python",
   "nbconvert_exporter": "python",
   "pygments_lexer": "ipython3",
   "version": "3.11.7"
  }
 },
 "nbformat": 4,
 "nbformat_minor": 5
}
