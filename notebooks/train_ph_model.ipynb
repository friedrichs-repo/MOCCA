{
 "cells": [
  {
   "cell_type": "markdown",
   "id": "99f1e5dd-99a2-4065-ae58-8b28bdaa523a",
   "metadata": {},
   "source": [
    "#### Load necessary packages"
   ]
  },
  {
   "cell_type": "code",
   "execution_count": 1,
   "id": "27b1bb0a-93ee-43fe-a22a-26fe0c830211",
   "metadata": {},
   "outputs": [],
   "source": [
    "import os\n",
    "import sys\n",
    "sys.path.insert(0,'../../mocsy')"
   ]
  },
  {
   "cell_type": "code",
   "execution_count": 2,
   "id": "f974531b-e417-49ff-9c59-d45f4e31a591",
   "metadata": {},
   "outputs": [],
   "source": [
    "import mocsy\n",
    "from mocsy import mvars\n",
    "import numpy as np\n",
    "import random\n",
    "from tqdm import tqdm\n",
    "import matplotlib.pyplot as plt"
   ]
  },
  {
   "cell_type": "code",
   "execution_count": 3,
   "id": "c27fdcfc-6816-4aa0-88f6-75e5a80d8a97",
   "metadata": {},
   "outputs": [],
   "source": [
    "import torch\n",
    "import torch.nn as nn\n",
    "import torch.optim as optim\n",
    "import torch.nn.functional as F"
   ]
  },
  {
   "cell_type": "markdown",
   "id": "2696a537-4cc5-4088-83da-e853a259c478",
   "metadata": {},
   "source": [
    "#### Create pH training data with mocsy routine "
   ]
  },
  {
   "cell_type": "code",
   "execution_count": 4,
   "id": "ce5c4036-fa74-4a51-9ed4-c0f8fde59940",
   "metadata": {},
   "outputs": [],
   "source": [
    "def extend(number, template):\n",
    "    \"\"\"\n",
    "    helper function allowing calc_pH to work on floats and arrays.\n",
    "    \"\"\"\n",
    "    template_type = \"array\" if isinstance(template, np.ndarray) else \"float\"\n",
    "    if template_type == \"array\":\n",
    "        return number * np.ones(template.shape)\n",
    "    elif template_type == \"float\":\n",
    "        return number\n",
    "\n",
    "def calc_pH(alk, dic, tem, sal, sil, phos):\n",
    "    \"\"\"\n",
    "    input units\n",
    "    alk in mol / kg\n",
    "    dic in mol / kg\n",
    "    tem in °C\n",
    "    sal in PSU\n",
    "    sil in mol / kg\n",
    "    phos in mol / kg\n",
    "    \"\"\"\n",
    "    return mvars(alk=alk,\n",
    "                     dic=dic,\n",
    "                     temp=tem,\n",
    "                     sal=sal,\n",
    "                     sil=sil,\n",
    "                     phos=phos,\n",
    "                     patm=extend(1, alk),\n",
    "                     depth=extend(5, alk),\n",
    "                     lat=extend(np.nan, alk),\n",
    "                     optcon='mol/kg',\n",
    "                     optt='Tpot',\n",
    "                     optp='db',\n",
    "                     optk1k2='l',\n",
    "                     optb='u74',\n",
    "                     optkf='pf',\n",
    "                     opts='Sprc')[0]"
   ]
  },
  {
   "cell_type": "code",
   "execution_count": 5,
   "id": "329f9dc6-8f17-41dc-9ba0-29cbcdd5c82c",
   "metadata": {},
   "outputs": [],
   "source": [
    "np.random.seed(0)\n",
    "samples = {\"alk\":[], \"dic\":[], \"tem\":[], \"sal\":[],\n",
    "           \"sil\":[], \"phos\":[]}\n",
    "sample_size = 6000_000\n",
    "for i in range(sample_size):\n",
    "    # alk between 1700e-6 and 2700e-6 mol kg-1\n",
    "    samples[\"alk\"].append(np.random.uniform(low=1700e-6, high=2700e-6))\n",
    "    # dic between 1700e-6 mol kg-1 and alk\n",
    "    samples[\"dic\"].append(np.random.uniform(low=1700e-6,\n",
    "                                            high=samples[\"alk\"][-1]))\n",
    "    # tem between 2 and 35 °C\n",
    "    samples[\"tem\"].append(np.random.uniform(low=2, high=35))\n",
    "    # sal between 19 and 43 PSU\n",
    "    samples[\"sal\"].append(np.random.uniform(low=19, high=43))\n",
    "    # sil between 0 and 134 mumol kg-1\n",
    "    samples[\"sil\"].append(np.random.uniform(low=0, high=134e-6))\n",
    "    # phos between 0 and 4 mumol kg-1\n",
    "    samples[\"phos\"].append(np.random.uniform(low=0, high=4e-6))\n",
    "\n",
    "for key in samples.keys():\n",
    "    samples[key] = np.array(samples[key])"
   ]
  },
  {
   "cell_type": "code",
   "execution_count": 6,
   "id": "33a458ef-b191-4adf-908f-71409075faa5",
   "metadata": {},
   "outputs": [],
   "source": [
    "sample_ph = calc_pH(samples[\"alk\"], samples[\"dic\"], samples[\"tem\"],\n",
    "                        samples[\"sal\"], samples[\"sil\"], samples[\"phos\"])"
   ]
  },
  {
   "cell_type": "code",
   "execution_count": 7,
   "id": "6553912d-693c-4564-9742-0f30e6497c1b",
   "metadata": {},
   "outputs": [
    {
     "name": "stdout",
     "output_type": "stream",
     "text": [
      "Median of pH across sample:  7.987989387304973\n",
      "Mean of pH across sample:  8.018703560197817\n",
      "Minimum of pH across sample:  7.12461738583745\n",
      "Maximum of pH across sample:  9.443612410073769\n"
     ]
    }
   ],
   "source": [
    "print(\"Median of pH across sample: \", np.median(sample_ph))\n",
    "print(\"Mean of pH across sample: \", np.mean(sample_ph))\n",
    "print(\"Minimum of pH across sample: \", np.min(sample_ph))\n",
    "print(\"Maximum of pH across sample: \", np.max(sample_ph))"
   ]
  },
  {
   "cell_type": "code",
   "execution_count": 8,
   "id": "d62cadd1-7d5b-44f9-b67b-7314ba3e783e",
   "metadata": {},
   "outputs": [],
   "source": [
    "ntrain = 5000_000\n",
    "\n",
    "train_ph, valid_ph = np.split(sample_ph, [ntrain])\n",
    "train_samples = {key: samples[key][:ntrain] for key in samples}\n",
    "valid_samples = {key: samples[key][ntrain:] for key in samples}"
   ]
  },
  {
   "cell_type": "code",
   "execution_count": 9,
   "id": "f9723b9f-5778-4b50-9fab-92bce16129a3",
   "metadata": {},
   "outputs": [
    {
     "name": "stdout",
     "output_type": "stream",
     "text": [
      "Some statistics:\n",
      "Mean for alk samples: 2.200027e-03, expected: 2.200000e-03\n",
      "Std for alk samples: 2.886953e-04, expected: 2.886751e-04\n",
      "-----\n",
      "Mean for dic samples: 1.950093e-03, expected: 1.950000e-03\n",
      "Std for dic samples: 2.205415e-04, expected: 2.204793e-04\n",
      "-----\n",
      "Mean for tem samples: 1.849863e+01, expected: 1.850000e+01\n",
      "Std for tem samples: 9.530802e+00, expected: 9.526279e+00\n",
      "-----\n",
      "Mean for sal samples: 3.099700e+01, expected: 3.100000e+01\n",
      "Std for sal samples: 6.927282e+00, expected: 6.928203e+00\n",
      "-----\n",
      "Mean for sil samples: 6.697189e-05, expected: 6.700000e-05\n",
      "Std for sil samples: 3.870030e-05, expected: 3.868247e-05\n",
      "-----\n",
      "Mean for phos samples: 1.999234e-06, expected: 2.000000e-06\n",
      "Std for phos samples: 1.154432e-06, expected: 1.154701e-06\n",
      "-----\n"
     ]
    }
   ],
   "source": [
    "sample_means = {\"alk\":(1700e-6 + 2700e-6) / 2,\n",
    "                 \"dic\":1700e-6 + (2700e-6 - 1700e-6) / 4,\n",
    "                 \"tem\":(2 + 35) / 2,\n",
    "                 \"sal\":(19 + 43) / 2,\n",
    "                 \"sil\":(134e-6 + 0e-6) / 2,\n",
    "                 \"phos\":(4e-6 + 0e-6) / 2}\n",
    "\n",
    "sample_stds = {\"alk\":(2700e-6 - 1700e-6) / np.sqrt(12),\n",
    "                 \"dic\":(2700e-6 - 1700e-6) * np.sqrt(7 / 144),\n",
    "                 \"tem\":(35 - 2) / np.sqrt(12),\n",
    "                 \"sal\":(43 - 19) / np.sqrt(12),\n",
    "                 \"sil\":(134e-6 - 0e-6) / np.sqrt(12),\n",
    "                 \"phos\":(4e-6 - 0e-6) / np.sqrt(12)}\n",
    "\n",
    "\n",
    "print(\"Some statistics:\")\n",
    "for key in train_samples.keys():\n",
    "    print(\"Mean for {} samples: {:.6e}, expected: {:.6e}\".format(\n",
    "    key, np.mean(train_samples[key]), sample_means[key]))\n",
    "    print(\"Std for {} samples: {:.6e}, expected: {:.6e}\".format(\n",
    "    key, np.std(train_samples[key]), sample_stds[key]))\n",
    "    print(\"-----\")"
   ]
  },
  {
   "cell_type": "markdown",
   "id": "7aaf96fd-d71d-4724-89e3-f50269240345",
   "metadata": {},
   "source": [
    "#### Normalize samples"
   ]
  },
  {
   "cell_type": "code",
   "execution_count": 10,
   "id": "ed0d400c-fb81-4cb2-9453-057fc3f5268c",
   "metadata": {},
   "outputs": [
    {
     "name": "stdout",
     "output_type": "stream",
     "text": [
      "(5000000, 6)\n"
     ]
    }
   ],
   "source": [
    "train_features_normalized = np.concatenate([(train_samples[key][:, np.newaxis]\n",
    "                                             - sample_means[key]) / sample_stds[key]\n",
    "                                 for key in [\"alk\", \"dic\", \"tem\", \"sal\", \"sil\", \"phos\"]],\n",
    "                                          axis=1)\n",
    "\n",
    "valid_features_normalized = np.concatenate([(valid_samples[key][:, np.newaxis]\n",
    "                                             - sample_means[key]) / sample_stds[key]\n",
    "                                 for key in [\"alk\", \"dic\", \"tem\", \"sal\", \"sil\", \"phos\"]],\n",
    "                                          axis=1)\n",
    "    \n",
    "print(train_features_normalized.shape)"
   ]
  },
  {
   "cell_type": "code",
   "execution_count": 11,
   "id": "f36cf192-52e5-4370-beeb-dc28e51c08e8",
   "metadata": {},
   "outputs": [
    {
     "name": "stdout",
     "output_type": "stream",
     "text": [
      "Verify that data is normalized.\n",
      "[ 9.47580989e-05  4.23186847e-04 -1.44276512e-04 -4.32910793e-04\n",
      " -7.26599596e-04 -6.63078680e-04]\n",
      "[1.00006983 1.00028241 1.00047477 0.99986704 1.00046103 0.99976755]\n"
     ]
    }
   ],
   "source": [
    "print(\"Verify that data is normalized.\")\n",
    "print(np.mean(train_features_normalized, axis=0))\n",
    "print(np.std(train_features_normalized, axis=0))"
   ]
  },
  {
   "cell_type": "markdown",
   "id": "29e94c53-4b7f-4f0b-a014-e979f2508c9e",
   "metadata": {},
   "source": [
    "#### Define neural network and training procedure"
   ]
  },
  {
   "cell_type": "code",
   "execution_count": 12,
   "id": "933cfa31-3848-4efe-a686-e90a1bceca70",
   "metadata": {},
   "outputs": [],
   "source": [
    "class MLP(nn.Module):\n",
    "    def __init__(self, input_size, hidden_size_1, hidden_size_2, hidden_size_3, output_size):\n",
    "        super().__init__()\n",
    "        self.device = torch.device(\"cuda\")\n",
    "        self.linear1 = nn.Linear(input_size, hidden_size_1, device=self.device)\n",
    "        self.linear2 = nn.Linear(hidden_size_1, hidden_size_2, device=self.device)\n",
    "        self.linear3 = nn.Linear(hidden_size_2, hidden_size_3, device=self.device)\n",
    "        self.linear4 = nn.Linear(hidden_size_3, output_size, device=self.device)\n",
    "\n",
    "    def forward(self, x):\n",
    "        x = x.to(self.device)\n",
    "        x = F.elu(self.linear1(x))\n",
    "        x = F.elu(self.linear2(x))\n",
    "        x = F.elu(self.linear3(x))\n",
    "        x = F.elu(self.linear4(x))\n",
    "        return x\n",
    "\n",
    "    def save(self, file_name='model.pth'):\n",
    "        model_folder_path = '../models'\n",
    "        if not os.path.exists(model_folder_path):\n",
    "            os.makedirs(model_folder_path)\n",
    "\n",
    "        file_name = os.path.join(model_folder_path, file_name)\n",
    "        torch.save(self.state_dict(), file_name)\n",
    "\n",
    "loss_function = nn.MSELoss()"
   ]
  },
  {
   "cell_type": "code",
   "execution_count": 13,
   "id": "9edbbbae-1c19-42ed-86b4-a55bea37fcd8",
   "metadata": {},
   "outputs": [
    {
     "name": "stdout",
     "output_type": "stream",
     "text": [
      "MLP(\n",
      "  (linear1): Linear(in_features=6, out_features=160, bias=True)\n",
      "  (linear2): Linear(in_features=160, out_features=160, bias=True)\n",
      "  (linear3): Linear(in_features=160, out_features=160, bias=True)\n",
      "  (linear4): Linear(in_features=160, out_features=1, bias=True)\n",
      ")\n",
      "Number of trainable parameters in the model: 52801\n"
     ]
    }
   ],
   "source": [
    "model = MLP(6, 160, 160, 160, 1)\n",
    "print(model)\n",
    "pytorch_total_params = sum(p.numel() for p in model.parameters() if p.requires_grad)\n",
    "print(\"Number of trainable parameters in the model:\", pytorch_total_params)"
   ]
  },
  {
   "cell_type": "code",
   "execution_count": 14,
   "id": "4d143e2a-376d-4563-927c-a280ede841f1",
   "metadata": {},
   "outputs": [],
   "source": [
    "def training_dataloader(features, labels, batch_size):\n",
    "    ntrain = len(labels)\n",
    "    nbatch = ntrain // batch_size\n",
    "    indices = np.arange(ntrain, dtype=int)\n",
    "    random.shuffle(indices)\n",
    "    batch_indices = np.split(indices[:nbatch * batch_size], nbatch)\n",
    "    batch_data = [(torch.from_numpy(np.take(features, ind, axis=0).astype(\"float32\")),\n",
    "                   torch.from_numpy(np.take(labels, ind).astype(\"float32\"))) for ind in batch_indices]\n",
    "    return batch_data"
   ]
  },
  {
   "cell_type": "code",
   "execution_count": 15,
   "id": "166b8204-6654-4bae-8be9-18e25f949319",
   "metadata": {},
   "outputs": [],
   "source": [
    "def train_one_epoch(optimizer):\n",
    "    running_loss = 0. # running loss over all batches in the epoch\n",
    "    \n",
    "    training_data = training_dataloader(train_features_normalized,\n",
    "                                        train_ph, batch_size)\n",
    "    \n",
    "    for batch in training_data:\n",
    "        features, labels = batch\n",
    "        optimizer.zero_grad()\n",
    "        outputs = torch.squeeze(model(features))\n",
    "        loss = loss_function(outputs, labels.to(torch.device(\"cuda\")))\n",
    "        loss.backward()\n",
    "        optimizer.step()\n",
    "        \n",
    "        running_loss += loss.detach().cpu().item()\n",
    "\n",
    "    ntrain = len(train_ph)\n",
    "    nbatch = ntrain // batch_size\n",
    "\n",
    "    return running_loss / nbatch"
   ]
  },
  {
   "cell_type": "code",
   "execution_count": 16,
   "id": "3be416df-7901-4648-8875-1bb7ca52fa09",
   "metadata": {},
   "outputs": [],
   "source": [
    "def train(batch_size, learning_rate, n_epochs):\n",
    "    train_stats = {\"train_loss\":[], \"valid_loss\":[]}\n",
    "\n",
    "    optimizer = optim.Adam(model.parameters(), lr=learning_rate)\n",
    "\n",
    "    pbar = tqdm(range(n_epochs), postfix=f'epoch 0/{n_epochs}')\n",
    "    for epoch in pbar:\n",
    "\n",
    "        model.train()\n",
    "        train_loss_epoch = train_one_epoch(optimizer)\n",
    "\n",
    "        model.eval()\n",
    "        with torch.no_grad():\n",
    "            valid_outputs = torch.squeeze(model(\n",
    "                torch.from_numpy(valid_features_normalized.astype(\"float32\"))))\n",
    "            valid_loss_epoch = loss_function(valid_outputs, \n",
    "                                             torch.from_numpy(valid_ph).to(torch.device(\"cuda\"))\n",
    "                                            ).detach().cpu().item()\n",
    "        \n",
    "        train_stats[\"train_loss\"].append(train_loss_epoch)\n",
    "        train_stats[\"valid_loss\"].append(valid_loss_epoch)\n",
    "\n",
    "        pbar.set_postfix({'epoch': f'{epoch+1}/{n_epochs}',\n",
    "                          'train_loss':f'{train_loss_epoch:.4e}',\n",
    "                          'valid_loss':f'{valid_loss_epoch:.4e}'})\n",
    "\n",
    "    return train_stats"
   ]
  },
  {
   "cell_type": "markdown",
   "id": "0751829c-e310-470b-ab51-c2b4ce9445ba",
   "metadata": {},
   "source": [
    "#### Train neural network with pytorch"
   ]
  },
  {
   "cell_type": "code",
   "execution_count": 17,
   "id": "09e2104f-fbc4-43e1-ad6b-456f6f882b5f",
   "metadata": {},
   "outputs": [
    {
     "name": "stderr",
     "output_type": "stream",
     "text": [
      "100%|██████████████████████████████████████████████████████████████████████████████████████████████████████████████████████████████████| 4000/4000 [5:42:55<00:00,  5.14s/it, epoch=4000/4000, train_loss=2.2690e-06, valid_loss=5.0682e-07]\n"
     ]
    }
   ],
   "source": [
    "train_stats = {\"train_loss\":[], \"valid_loss\":[]}\n",
    "\n",
    "batch_size = 1000\n",
    "learning_rate = 1e-3\n",
    "n_epochs = 4000\n",
    "\n",
    "train_stats_iteration = train(batch_size, learning_rate, n_epochs)\n",
    "train_stats.update({key: train_stats[key] + train_stats_iteration[key]\n",
    "                         for key in train_stats})"
   ]
  },
  {
   "cell_type": "code",
   "execution_count": 18,
   "id": "4462767c-3f29-4625-a5ab-c5f1ac03733c",
   "metadata": {},
   "outputs": [
    {
     "name": "stderr",
     "output_type": "stream",
     "text": [
      "100%|██████████████████████████████████████████████████████████████████████████████████████████████████████████████████████████████████| 2000/2000 [1:24:02<00:00,  2.52s/it, epoch=2000/2000, train_loss=2.7345e-08, valid_loss=7.7608e-09]\n"
     ]
    }
   ],
   "source": [
    "batch_size = 5000\n",
    "learning_rate = 1e-4\n",
    "n_epochs = 2000\n",
    "\n",
    "train_stats_iteration = train(batch_size, learning_rate, n_epochs)\n",
    "train_stats.update({key: train_stats[key] + train_stats_iteration[key]\n",
    "                         for key in train_stats})"
   ]
  },
  {
   "cell_type": "code",
   "execution_count": 19,
   "id": "eaffa59c-1df9-48a1-b472-4759fd4778b1",
   "metadata": {},
   "outputs": [
    {
     "name": "stderr",
     "output_type": "stream",
     "text": [
      "100%|██████████████████████████████████████████████████████████████████████████████████████████████████████████████████████████████████| 2000/2000 [1:09:42<00:00,  2.09s/it, epoch=2000/2000, train_loss=4.5839e-09, valid_loss=4.6430e-09]\n"
     ]
    }
   ],
   "source": [
    "batch_size = 50_000\n",
    "learning_rate = 1e-4\n",
    "n_epochs = 2000\n",
    "\n",
    "train_stats_iteration = train(batch_size, learning_rate, n_epochs)\n",
    "train_stats.update({key: train_stats[key] + train_stats_iteration[key]\n",
    "                         for key in train_stats})"
   ]
  },
  {
   "cell_type": "code",
   "execution_count": 20,
   "id": "26eb7c60-5896-4880-baa1-61a2abc8ff79",
   "metadata": {},
   "outputs": [
    {
     "name": "stderr",
     "output_type": "stream",
     "text": [
      "100%|████████████████████████████████████████████████████████████████████████████████████████████████████████████████████████████████████| 1000/1000 [35:02<00:00,  2.10s/it, epoch=1000/1000, train_loss=1.7998e-08, valid_loss=1.3733e-08]\n"
     ]
    }
   ],
   "source": [
    "batch_size = 500_000\n",
    "learning_rate = 5e-5\n",
    "n_epochs = 1000\n",
    "\n",
    "train_stats_iteration = train(batch_size, learning_rate, n_epochs)\n",
    "train_stats.update({key: train_stats[key] + train_stats_iteration[key]\n",
    "                         for key in train_stats})"
   ]
  },
  {
   "cell_type": "code",
   "execution_count": 21,
   "id": "1e2f33c5-6c34-4734-94c6-989422cc8c87",
   "metadata": {},
   "outputs": [
    {
     "name": "stderr",
     "output_type": "stream",
     "text": [
      "100%|████████████████████████████████████████████████████████████████████████████████████████████████████████████████████████████████████| 1000/1000 [34:50<00:00,  2.09s/it, epoch=1000/1000, train_loss=3.8917e-09, valid_loss=3.9001e-09]\n"
     ]
    }
   ],
   "source": [
    "batch_size = 500_000\n",
    "learning_rate = 1e-5\n",
    "n_epochs = 1000\n",
    "\n",
    "train_stats_iteration = train(batch_size, learning_rate, n_epochs)\n",
    "train_stats.update({key: train_stats[key] + train_stats_iteration[key]\n",
    "                         for key in train_stats})"
   ]
  },
  {
   "cell_type": "code",
   "execution_count": 22,
   "id": "30a78c67-fe00-43cb-83ca-49c20140fc89",
   "metadata": {},
   "outputs": [],
   "source": [
    "model.save(\"pH_model_160x3_elu_10000epo.pth\")"
   ]
  },
  {
   "cell_type": "code",
   "execution_count": 23,
   "id": "bc695536-6ec2-4bfa-b68d-daa5f086b69b",
   "metadata": {},
   "outputs": [
    {
     "data": {
      "text/plain": [
       "Text(0, 0.5, 'Mean squared error')"
      ]
     },
     "execution_count": 23,
     "metadata": {},
     "output_type": "execute_result"
    },
    {
     "data": {
      "image/png": "[encoded data removed]",
      "text/plain": [
       "<Figure size 640x480 with 1 Axes>"
      ]
     },
     "metadata": {},
     "output_type": "display_data"
    }
   ],
   "source": [
    "plt.axvline(x=4000, color='gray', alpha=0.25, linestyle='--')\n",
    "plt.axvline(x=6000, color='gray', alpha=0.25, linestyle='--')\n",
    "plt.axvline(x=8000, color='gray', alpha=0.25, linestyle='--')\n",
    "plt.axvline(x=9000, color='gray', alpha=0.25, linestyle='--')\n",
    "plt.axvline(x=14000, color='gray', alpha=0.25, linestyle='--')\n",
    "plt.plot(train_stats[\"train_loss\"], label=\"training loss\", alpha=0.75)\n",
    "plt.plot(train_stats[\"valid_loss\"], label=\"validation loss\", alpha=0.75)\n",
    "plt.legend()\n",
    "plt.ylim([0, train_stats[\"train_loss\"][-1] * 10])\n",
    "plt.xlabel(\"Epoch\")\n",
    "plt.ylabel(\"Mean squared error\")"
   ]
  },
  {
   "cell_type": "code",
   "execution_count": 24,
   "id": "266af035-331f-4298-9df1-6a945273024c",
   "metadata": {},
   "outputs": [
    {
     "name": "stdout",
     "output_type": "stream",
     "text": [
      "Some tests of model performance\n",
      "Index:  2486469\n",
      "8.8596\n",
      "tensor([8.8596], device='cuda:0')\n",
      "-----\n",
      "Index:  889830\n",
      "7.6697\n",
      "tensor([7.6697], device='cuda:0')\n",
      "-----\n",
      "Index:  1523244\n",
      "7.8910\n",
      "tensor([7.8910], device='cuda:0')\n",
      "-----\n",
      "Index:  4919512\n",
      "7.8398\n",
      "tensor([7.8398], device='cuda:0')\n",
      "-----\n",
      "Index:  772012\n",
      "8.1353\n",
      "tensor([8.1353], device='cuda:0')\n",
      "-----\n",
      "Index:  42812\n",
      "7.4973\n",
      "tensor([7.4974], device='cuda:0')\n",
      "-----\n",
      "Index:  4554809\n",
      "8.0996\n",
      "tensor([8.0997], device='cuda:0')\n",
      "-----\n",
      "Index:  4297866\n",
      "7.4887\n",
      "tensor([7.4887], device='cuda:0')\n",
      "-----\n",
      "Index:  1591483\n",
      "8.7997\n",
      "tensor([8.7996], device='cuda:0')\n",
      "-----\n",
      "Index:  3986147\n",
      "7.6716\n",
      "tensor([7.6716], device='cuda:0')\n",
      "-----\n"
     ]
    }
   ],
   "source": [
    "print(\"Some tests of model performance\")\n",
    "random_indices = np.random.randint(ntrain, size=10, dtype=int)\n",
    "\n",
    "model.eval()\n",
    "with torch.no_grad():\n",
    "    for ind in random_indices:\n",
    "        print(\"Index: \", ind)\n",
    "        print(\"{:.4f}\".format(train_ph[ind]))\n",
    "        print(model(torch.from_numpy(train_features_normalized[ind, :].astype(\"float32\"))))\n",
    "        print(\"-----\")"
   ]
  },
  {
   "cell_type": "code",
   "execution_count": 25,
   "id": "44e8ac07-c9fd-4db6-a995-afb41fc702a0",
   "metadata": {},
   "outputs": [],
   "source": [
    "def MSE(x, y): # define MSE for offline calculations on numpy arrays\n",
    "    return np.sum((x-y)**2)/len(x)"
   ]
  },
  {
   "cell_type": "code",
   "execution_count": 26,
   "id": "1d6fb27d-b958-4d69-90a2-f04edc638037",
   "metadata": {},
   "outputs": [],
   "source": [
    "model.eval()\n",
    "with torch.no_grad():\n",
    "    model_output_after_training = model(torch.from_numpy(\n",
    "        valid_features_normalized.astype(\"float32\"))).detach().cpu().numpy().squeeze()"
   ]
  },
  {
   "cell_type": "code",
   "execution_count": 27,
   "id": "2fa4cc0c-bdcf-4702-bb6d-a354635e505c",
   "metadata": {},
   "outputs": [
    {
     "name": "stdout",
     "output_type": "stream",
     "text": [
      "MSE (for consistency check):  3.900071734679221e-09\n",
      "RMSE:  6.245055431843036e-05\n",
      "Maximum absolute deviation:  0.00233967447806549\n",
      "99.9th percentile of absolute deviation (1000 val's larger):  0.0002927022366102752\n",
      "99.99th percentile of absolute deviation (100 val's larger):  0.00043185795165385615\n",
      "99.999th percentile of absolute deviation (10 val's larger):  0.0008115637080987405\n"
     ]
    }
   ],
   "source": [
    "print(\"MSE (for consistency check): \", MSE(valid_ph, model_output_after_training))\n",
    "print(\"RMSE: \", np.sqrt(MSE(valid_ph, model_output_after_training)))\n",
    "print(\"Maximum absolute deviation: \", np.max(np.abs(model_output_after_training-valid_ph)))\n",
    "print(\"99.9th percentile of absolute deviation (1000 val's larger): \",\n",
    "      np.percentile(np.abs(model_output_after_training-valid_ph), q=99.9))\n",
    "print(\"99.99th percentile of absolute deviation (100 val's larger): \",\n",
    "      np.percentile(np.abs(model_output_after_training-valid_ph), q=99.99))\n",
    "print(\"99.999th percentile of absolute deviation (10 val's larger): \",\n",
    "      np.percentile(np.abs(model_output_after_training-valid_ph), q=99.999))"
   ]
  }
 ],
 "metadata": {
  "kernelspec": {
   "display_name": "Python 3 (ipykernel)",
   "language": "python",
   "name": "python3"
  },
  "language_info": {
   "codemirror_mode": {
    "name": "ipython",
    "version": 3
   },
   "file_extension": ".py",
   "mimetype": "text/x-python",
   "name": "python",
   "nbconvert_exporter": "python",
   "pygments_lexer": "ipython3",
   "version": "3.11.7"
  }
 },
 "nbformat": 4,
 "nbformat_minor": 5
}
